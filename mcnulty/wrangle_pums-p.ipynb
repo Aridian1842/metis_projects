{
 "cells": [
  {
   "cell_type": "code",
   "execution_count": 28,
   "metadata": {
    "collapsed": false
   },
   "outputs": [],
   "source": [
    "import csv\n",
    "import urllib\n",
    "import urllib2\n",
    "import os\n",
    "import pandas as pd\n",
    "import zipfile\n",
    "import fnmatch\n",
    "import shutil\n",
    "import glob\n",
    "import numpy as np"
   ]
  },
  {
   "cell_type": "code",
   "execution_count": 29,
   "metadata": {
    "collapsed": false
   },
   "outputs": [
    {
     "data": {
      "text/html": [
       "<div>\n",
       "<table border=\"1\" class=\"dataframe\">\n",
       "  <thead>\n",
       "    <tr style=\"text-align: right;\">\n",
       "      <th></th>\n",
       "      <th>SERIALNO</th>\n",
       "      <th>ESR</th>\n",
       "      <th>CIT</th>\n",
       "      <th>RAC1P</th>\n",
       "      <th>HISP</th>\n",
       "      <th>SCHL</th>\n",
       "      <th>HICOV</th>\n",
       "      <th>DIS</th>\n",
       "      <th>AGEP</th>\n",
       "    </tr>\n",
       "  </thead>\n",
       "  <tbody>\n",
       "    <tr>\n",
       "      <th>0</th>\n",
       "      <td>315</td>\n",
       "      <td>6.0</td>\n",
       "      <td>4</td>\n",
       "      <td>1</td>\n",
       "      <td>1</td>\n",
       "      <td>19.0</td>\n",
       "      <td>1</td>\n",
       "      <td>2</td>\n",
       "      <td>30</td>\n",
       "    </tr>\n",
       "    <tr>\n",
       "      <th>1</th>\n",
       "      <td>315</td>\n",
       "      <td>1.0</td>\n",
       "      <td>1</td>\n",
       "      <td>1</td>\n",
       "      <td>1</td>\n",
       "      <td>20.0</td>\n",
       "      <td>1</td>\n",
       "      <td>2</td>\n",
       "      <td>34</td>\n",
       "    </tr>\n",
       "    <tr>\n",
       "      <th>2</th>\n",
       "      <td>315</td>\n",
       "      <td>NaN</td>\n",
       "      <td>1</td>\n",
       "      <td>1</td>\n",
       "      <td>1</td>\n",
       "      <td>3.0</td>\n",
       "      <td>1</td>\n",
       "      <td>2</td>\n",
       "      <td>7</td>\n",
       "    </tr>\n",
       "  </tbody>\n",
       "</table>\n",
       "</div>"
      ],
      "text/plain": [
       "   SERIALNO  ESR  CIT  RAC1P  HISP  SCHL  HICOV  DIS  AGEP\n",
       "0       315  6.0    4      1     1  19.0      1    2    30\n",
       "1       315  1.0    1      1     1  20.0      1    2    34\n",
       "2       315  NaN    1      1     1   3.0      1    2     7"
      ]
     },
     "execution_count": 29,
     "metadata": {},
     "output_type": "execute_result"
    }
   ],
   "source": [
    "# read pums-p data\n",
    "df_pums_p = pd.read_hdf('data/pums-p/pums-p.h5', 'd1')\n",
    "df_pums_p = df_pums_p#.head(500)\n",
    "df_pums_p.head(3)"
   ]
  },
  {
   "cell_type": "code",
   "execution_count": 30,
   "metadata": {
    "collapsed": false
   },
   "outputs": [
    {
     "data": {
      "text/plain": [
       "(3164116, 9)"
      ]
     },
     "execution_count": 30,
     "metadata": {},
     "output_type": "execute_result"
    }
   ],
   "source": [
    "df_pums_p.shape"
   ]
  },
  {
   "cell_type": "code",
   "execution_count": 31,
   "metadata": {
    "collapsed": false
   },
   "outputs": [],
   "source": [
    "def classify_from_num_col(df_input, bin_col, bin_cutoffs, bin_labels, out_col):\n",
    "    \"\"\"\n",
    "    returns dataframe that includes new column of qualititative labels from an existing numeric column\n",
    "    \n",
    "    df_input is input dataframe\n",
    "    bin_col is column from df_input that you want to bin\n",
    "    bin_cutoffs is a list of numeric thresholds; note that number of bin_cutoffs must be one more than number of bin_labels\n",
    "    bin_labels are qualitative labels\n",
    "    out_col is desired name of column containing qualitative data\n",
    "    \"\"\"\n",
    "    s_temp     =  pd.cut(df_input[bin_col], bins = bin_cutoffs, labels = bin_labels)\n",
    "    df_temp    =  s_temp.to_frame(name=out_col)\n",
    "    df_out     =  pd.concat((df_input, df_temp[out_col]), axis=1)\n",
    "    return        df_out.drop(bin_col, axis=1)"
   ]
  },
  {
   "cell_type": "code",
   "execution_count": 32,
   "metadata": {
    "collapsed": false
   },
   "outputs": [],
   "source": [
    "# recode age, hispanic/latino, and disabled columns\n",
    "df_pums_p1 = classify_from_num_col(df_pums_p,  'AGEP', [-1, 17, 65, 99], ['child', 'adult', 'senior'], 'age')\n",
    "df_pums_p2 = classify_from_num_col(df_pums_p1, 'HISP', [-1, 1, 2],       [0, 1], 'l_h')\n",
    "df_pums_p3 = classify_from_num_col(df_pums_p2, 'DIS',  [-1, 1, 2],       [1, 0], 'dis')"
   ]
  },
  {
   "cell_type": "code",
   "execution_count": 33,
   "metadata": {
    "collapsed": true
   },
   "outputs": [],
   "source": [
    "# recode high school diploma column\n",
    "df_pums_p3['hs_diploma'] = 'child'\n",
    "df_pums_p3.ix[((df_pums_p3.age =='adult') & (df_pums_p3.SCHL <=17)), 'hs_diploma'] = 'none'\n",
    "df_pums_p3.ix[((df_pums_p3.age =='adult') & (df_pums_p3.SCHL >17)),  'hs_diploma'] = 'diploma'\n",
    "df_pums_p3.drop('SCHL', axis=1, inplace=True)"
   ]
  },
  {
   "cell_type": "code",
   "execution_count": 34,
   "metadata": {
    "collapsed": true
   },
   "outputs": [],
   "source": [
    "# recode race: w=white alone, b=black or aa alone, na=native american alone, a=asian alone, o=other or more than one race\n",
    "df_pums_p3['race'] = 'w'\n",
    "df_pums_p3.ix[(df_pums_p3.RAC1P == 2), 'race'] = 'b'\n",
    "df_pums_p3.ix[(df_pums_p3.RAC1P == 3), 'race'] = 'na'\n",
    "df_pums_p3.ix[(df_pums_p3.RAC1P == 4), 'race'] = 'na'\n",
    "df_pums_p3.ix[(df_pums_p3.RAC1P == 5), 'race'] = 'na'\n",
    "df_pums_p3.ix[(df_pums_p3.RAC1P == 6), 'race'] = 'a'\n",
    "df_pums_p3.ix[(df_pums_p3.RAC1P == 7), 'race'] = 'na'\n",
    "df_pums_p3.ix[(df_pums_p3.RAC1P == 8), 'race'] = 'o'\n",
    "df_pums_p3.ix[(df_pums_p3.RAC1P == 9), 'race'] = 'o'\n",
    "df_pums_p3.drop('RAC1P', axis=1, inplace=True)"
   ]
  },
  {
   "cell_type": "code",
   "execution_count": 35,
   "metadata": {
    "collapsed": true
   },
   "outputs": [],
   "source": [
    "# recode employment status\n",
    "df_pums_p3['employ'] = 'child'\n",
    "df_pums_p3.ix[(df_pums_p3.ESR == 1), 'employ'] = 'employed'\n",
    "df_pums_p3.ix[(df_pums_p3.ESR == 2), 'employ'] = 'employed'\n",
    "df_pums_p3.ix[(df_pums_p3.ESR == 3), 'employ'] = 'unemployed'\n",
    "df_pums_p3.ix[(df_pums_p3.ESR == 4), 'employ'] = 'employed'\n",
    "df_pums_p3.ix[(df_pums_p3.ESR == 5), 'employ'] = 'employed'\n",
    "df_pums_p3.ix[(df_pums_p3.ESR == 6), 'employ'] = 'not in lf'\n",
    "df_pums_p3.drop('ESR', axis=1, inplace=True)"
   ]
  },
  {
   "cell_type": "code",
   "execution_count": 36,
   "metadata": {
    "collapsed": false
   },
   "outputs": [
    {
     "data": {
      "text/html": [
       "<div>\n",
       "<table border=\"1\" class=\"dataframe\">\n",
       "  <thead>\n",
       "    <tr style=\"text-align: right;\">\n",
       "      <th></th>\n",
       "      <th>SERIALNO</th>\n",
       "      <th>CIT</th>\n",
       "      <th>hi</th>\n",
       "      <th>age</th>\n",
       "      <th>l_h</th>\n",
       "      <th>dis</th>\n",
       "      <th>hs_diploma</th>\n",
       "      <th>race</th>\n",
       "      <th>employ</th>\n",
       "    </tr>\n",
       "  </thead>\n",
       "  <tbody>\n",
       "    <tr>\n",
       "      <th>0</th>\n",
       "      <td>315</td>\n",
       "      <td>4</td>\n",
       "      <td>1</td>\n",
       "      <td>adult</td>\n",
       "      <td>0</td>\n",
       "      <td>0</td>\n",
       "      <td>diploma</td>\n",
       "      <td>w</td>\n",
       "      <td>not in lf</td>\n",
       "    </tr>\n",
       "    <tr>\n",
       "      <th>1</th>\n",
       "      <td>315</td>\n",
       "      <td>1</td>\n",
       "      <td>1</td>\n",
       "      <td>adult</td>\n",
       "      <td>0</td>\n",
       "      <td>0</td>\n",
       "      <td>diploma</td>\n",
       "      <td>w</td>\n",
       "      <td>employed</td>\n",
       "    </tr>\n",
       "    <tr>\n",
       "      <th>2</th>\n",
       "      <td>315</td>\n",
       "      <td>1</td>\n",
       "      <td>1</td>\n",
       "      <td>child</td>\n",
       "      <td>0</td>\n",
       "      <td>0</td>\n",
       "      <td>child</td>\n",
       "      <td>w</td>\n",
       "      <td>child</td>\n",
       "    </tr>\n",
       "  </tbody>\n",
       "</table>\n",
       "</div>"
      ],
      "text/plain": [
       "   SERIALNO  CIT  hi    age l_h dis hs_diploma race     employ\n",
       "0       315    4   1  adult   0   0    diploma    w  not in lf\n",
       "1       315    1   1  adult   0   0    diploma    w   employed\n",
       "2       315    1   1  child   0   0      child    w      child"
      ]
     },
     "execution_count": 36,
     "metadata": {},
     "output_type": "execute_result"
    }
   ],
   "source": [
    "# recode health care coverage\n",
    "df_pums_p3.rename(columns={'HICOV':'hi'}, inplace=True)\n",
    "df_pums_p3.ix[(df_pums_p3.hi == 2), 'hi'] = 0\n",
    "df_pums_p3.head(3)"
   ]
  },
  {
   "cell_type": "code",
   "execution_count": 37,
   "metadata": {
    "collapsed": false
   },
   "outputs": [
    {
     "data": {
      "text/html": [
       "<div>\n",
       "<table border=\"1\" class=\"dataframe\">\n",
       "  <thead>\n",
       "    <tr style=\"text-align: right;\">\n",
       "      <th></th>\n",
       "      <th>SERIALNO</th>\n",
       "      <th>cit</th>\n",
       "      <th>hi</th>\n",
       "      <th>age</th>\n",
       "      <th>l_h</th>\n",
       "      <th>dis</th>\n",
       "      <th>hs_diploma</th>\n",
       "      <th>race</th>\n",
       "      <th>employ</th>\n",
       "    </tr>\n",
       "  </thead>\n",
       "  <tbody>\n",
       "    <tr>\n",
       "      <th>0</th>\n",
       "      <td>315</td>\n",
       "      <td>1</td>\n",
       "      <td>1</td>\n",
       "      <td>adult</td>\n",
       "      <td>0</td>\n",
       "      <td>0</td>\n",
       "      <td>diploma</td>\n",
       "      <td>w</td>\n",
       "      <td>not in lf</td>\n",
       "    </tr>\n",
       "    <tr>\n",
       "      <th>1</th>\n",
       "      <td>315</td>\n",
       "      <td>1</td>\n",
       "      <td>1</td>\n",
       "      <td>adult</td>\n",
       "      <td>0</td>\n",
       "      <td>0</td>\n",
       "      <td>diploma</td>\n",
       "      <td>w</td>\n",
       "      <td>employed</td>\n",
       "    </tr>\n",
       "    <tr>\n",
       "      <th>2</th>\n",
       "      <td>315</td>\n",
       "      <td>1</td>\n",
       "      <td>1</td>\n",
       "      <td>child</td>\n",
       "      <td>0</td>\n",
       "      <td>0</td>\n",
       "      <td>child</td>\n",
       "      <td>w</td>\n",
       "      <td>child</td>\n",
       "    </tr>\n",
       "    <tr>\n",
       "      <th>3</th>\n",
       "      <td>315</td>\n",
       "      <td>1</td>\n",
       "      <td>1</td>\n",
       "      <td>child</td>\n",
       "      <td>0</td>\n",
       "      <td>0</td>\n",
       "      <td>child</td>\n",
       "      <td>w</td>\n",
       "      <td>child</td>\n",
       "    </tr>\n",
       "    <tr>\n",
       "      <th>4</th>\n",
       "      <td>315</td>\n",
       "      <td>1</td>\n",
       "      <td>1</td>\n",
       "      <td>child</td>\n",
       "      <td>0</td>\n",
       "      <td>0</td>\n",
       "      <td>child</td>\n",
       "      <td>w</td>\n",
       "      <td>child</td>\n",
       "    </tr>\n",
       "    <tr>\n",
       "      <th>5</th>\n",
       "      <td>1408</td>\n",
       "      <td>1</td>\n",
       "      <td>1</td>\n",
       "      <td>adult</td>\n",
       "      <td>0</td>\n",
       "      <td>0</td>\n",
       "      <td>diploma</td>\n",
       "      <td>w</td>\n",
       "      <td>not in lf</td>\n",
       "    </tr>\n",
       "    <tr>\n",
       "      <th>6</th>\n",
       "      <td>1408</td>\n",
       "      <td>1</td>\n",
       "      <td>1</td>\n",
       "      <td>adult</td>\n",
       "      <td>0</td>\n",
       "      <td>0</td>\n",
       "      <td>diploma</td>\n",
       "      <td>w</td>\n",
       "      <td>employed</td>\n",
       "    </tr>\n",
       "    <tr>\n",
       "      <th>7</th>\n",
       "      <td>1408</td>\n",
       "      <td>1</td>\n",
       "      <td>0</td>\n",
       "      <td>adult</td>\n",
       "      <td>0</td>\n",
       "      <td>0</td>\n",
       "      <td>diploma</td>\n",
       "      <td>w</td>\n",
       "      <td>employed</td>\n",
       "    </tr>\n",
       "    <tr>\n",
       "      <th>8</th>\n",
       "      <td>1508</td>\n",
       "      <td>1</td>\n",
       "      <td>1</td>\n",
       "      <td>adult</td>\n",
       "      <td>0</td>\n",
       "      <td>0</td>\n",
       "      <td>diploma</td>\n",
       "      <td>w</td>\n",
       "      <td>employed</td>\n",
       "    </tr>\n",
       "    <tr>\n",
       "      <th>9</th>\n",
       "      <td>1508</td>\n",
       "      <td>1</td>\n",
       "      <td>1</td>\n",
       "      <td>adult</td>\n",
       "      <td>0</td>\n",
       "      <td>0</td>\n",
       "      <td>diploma</td>\n",
       "      <td>w</td>\n",
       "      <td>employed</td>\n",
       "    </tr>\n",
       "  </tbody>\n",
       "</table>\n",
       "</div>"
      ],
      "text/plain": [
       "   SERIALNO  cit  hi    age l_h dis hs_diploma race     employ\n",
       "0       315    1   1  adult   0   0    diploma    w  not in lf\n",
       "1       315    1   1  adult   0   0    diploma    w   employed\n",
       "2       315    1   1  child   0   0      child    w      child\n",
       "3       315    1   1  child   0   0      child    w      child\n",
       "4       315    1   1  child   0   0      child    w      child\n",
       "5      1408    1   1  adult   0   0    diploma    w  not in lf\n",
       "6      1408    1   1  adult   0   0    diploma    w   employed\n",
       "7      1408    1   0  adult   0   0    diploma    w   employed\n",
       "8      1508    1   1  adult   0   0    diploma    w   employed\n",
       "9      1508    1   1  adult   0   0    diploma    w   employed"
      ]
     },
     "execution_count": 37,
     "metadata": {},
     "output_type": "execute_result"
    }
   ],
   "source": [
    "# recode citizenship\n",
    "df_pums_p3.rename(columns={'CIT':'cit'}, inplace=True)\n",
    "df_pums_p3.ix[(df_pums_p3.cit <= 4), 'cit'] = 1\n",
    "df_pums_p3.ix[(df_pums_p3.cit == 5), 'cit'] = 0\n",
    "df_pums_p3.head(10)"
   ]
  },
  {
   "cell_type": "code",
   "execution_count": 38,
   "metadata": {
    "collapsed": true
   },
   "outputs": [],
   "source": [
    "def binary_to_grp(df, gp_primary_col, gp_secondary_col, dummy_col_name):\n",
    "    \"\"\"\n",
    "    returns percent of x within each household as new column, grouped by household\n",
    "    make sure dummy_col_name is not the same as col_name and is an actual column of dataframe\n",
    "    \"\"\"\n",
    "    gp = df.groupby([gp_primary_col,gp_secondary_col],as_index=True).count()[dummy_col_name].unstack().fillna(0)\n",
    "    gp[gp_secondary_col] = gp[1] / (gp[0] + gp[1])\n",
    "    cols = [0,1]\n",
    "    return gp.drop(gp[cols], axis=1)"
   ]
  },
  {
   "cell_type": "code",
   "execution_count": 39,
   "metadata": {
    "collapsed": false
   },
   "outputs": [],
   "source": [
    "gp_lh = binary_to_grp(df_pums_p3, 'SERIALNO', 'l_h', 'cit') # get percent latino / hispanic"
   ]
  },
  {
   "cell_type": "code",
   "execution_count": 40,
   "metadata": {
    "collapsed": false
   },
   "outputs": [],
   "source": [
    "gp_cit = binary_to_grp(df_pums_p3, 'SERIALNO', 'cit', 'hi') # get percent citizens in hh"
   ]
  },
  {
   "cell_type": "code",
   "execution_count": 41,
   "metadata": {
    "collapsed": true
   },
   "outputs": [],
   "source": [
    "gp_hi = binary_to_grp(df_pums_p3, 'SERIALNO', 'hi', 'cit') # get percent w/ health ins in hh"
   ]
  },
  {
   "cell_type": "code",
   "execution_count": 42,
   "metadata": {
    "collapsed": true
   },
   "outputs": [],
   "source": [
    "gp_dis = binary_to_grp(df_pums_p3, 'SERIALNO', 'dis', 'cit') # get percent disabled"
   ]
  },
  {
   "cell_type": "code",
   "execution_count": 43,
   "metadata": {
    "collapsed": true
   },
   "outputs": [],
   "source": [
    "# total\n",
    "gp_total = pd.DataFrame(data = (df_pums_p3.groupby('SERIALNO', as_index=True).count().ix[:,0]))\n",
    "gp_total.rename(columns={'cit':'total'}, inplace=True)"
   ]
  },
  {
   "cell_type": "code",
   "execution_count": 44,
   "metadata": {
    "collapsed": false
   },
   "outputs": [],
   "source": [
    "# age\n",
    "gp_age = df_pums_p3.groupby(['SERIALNO','age'],as_index=True).count()['cit'].unstack().fillna(0) # adults, children, seniors\n",
    "gp_age['child'] = gp_age['child'] / gp_total['total']\n",
    "gp_age['adult'] = gp_age['adult'] / gp_total['total']\n",
    "gp_age['senior'] = gp_age['senior'] / gp_total['total']"
   ]
  },
  {
   "cell_type": "code",
   "execution_count": 45,
   "metadata": {
    "collapsed": true
   },
   "outputs": [],
   "source": [
    "# high school diplomas\n",
    "gp_hs = df_pums_p3.groupby(['SERIALNO','hs_diploma'],as_index=True).count()['cit'].unstack().fillna(0)\n",
    "gp_hs['hs'] = gp_hs['diploma'] / (gp_hs['diploma'] + gp_hs['none'])\n",
    "gp_hs.drop(['child', 'diploma', 'none'], axis=1, inplace=True)"
   ]
  },
  {
   "cell_type": "code",
   "execution_count": 46,
   "metadata": {
    "collapsed": true
   },
   "outputs": [],
   "source": [
    "# employment\n",
    "gp_emp = df_pums_p3.groupby(['SERIALNO','employ'],as_index=True).count()['cit'].unstack().fillna(0)\n",
    "gp_emp['employ'] = gp_emp['employed'] / (gp_emp['employed'] + gp_emp['unemployed']).fillna(0)\n",
    "gp_emp.drop(['child', 'employed', 'not in lf', 'unemployed'], axis=1, inplace=True)"
   ]
  },
  {
   "cell_type": "code",
   "execution_count": 47,
   "metadata": {
    "collapsed": true
   },
   "outputs": [],
   "source": [
    "# race\n",
    "gp_race = df_pums_p3.groupby(['SERIALNO','race'],as_index=True).count()['cit'].unstack().fillna(0) # white, black, native american / pacific islander / american indian, asian, other\n",
    "gp_race['a'] = gp_race['a']    /    gp_total['total']\n",
    "gp_race['b'] = gp_race['b']    /    gp_total['total']\n",
    "gp_race['na'] = gp_race['na']  /    gp_total['total']\n",
    "gp_race['o'] = gp_race['o']    /    gp_total['total']\n",
    "gp_race['w'] = gp_race['w']    /    gp_total['total']"
   ]
  },
  {
   "cell_type": "code",
   "execution_count": 48,
   "metadata": {
    "collapsed": false
   },
   "outputs": [
    {
     "data": {
      "text/plain": [
       "(1376605, 15)"
      ]
     },
     "execution_count": 48,
     "metadata": {},
     "output_type": "execute_result"
    }
   ],
   "source": [
    "# join tables\n",
    "pums_p = pd.concat((gp_total, gp_age, gp_cit, gp_dis, gp_emp, gp_hi, gp_hs, gp_lh, gp_race), axis=1)\n",
    "pums_p.shape"
   ]
  },
  {
   "cell_type": "code",
   "execution_count": 49,
   "metadata": {
    "collapsed": false
   },
   "outputs": [
    {
     "data": {
      "text/html": [
       "<div>\n",
       "<table border=\"1\" class=\"dataframe\">\n",
       "  <thead>\n",
       "    <tr style=\"text-align: right;\">\n",
       "      <th></th>\n",
       "      <th>total</th>\n",
       "      <th>child</th>\n",
       "      <th>adult</th>\n",
       "      <th>senior</th>\n",
       "      <th>cit</th>\n",
       "      <th>dis</th>\n",
       "      <th>employ</th>\n",
       "      <th>hi</th>\n",
       "      <th>hs</th>\n",
       "      <th>l_h</th>\n",
       "      <th>a</th>\n",
       "      <th>b</th>\n",
       "      <th>na</th>\n",
       "      <th>o</th>\n",
       "      <th>w</th>\n",
       "    </tr>\n",
       "    <tr>\n",
       "      <th>SERIALNO</th>\n",
       "      <th></th>\n",
       "      <th></th>\n",
       "      <th></th>\n",
       "      <th></th>\n",
       "      <th></th>\n",
       "      <th></th>\n",
       "      <th></th>\n",
       "      <th></th>\n",
       "      <th></th>\n",
       "      <th></th>\n",
       "      <th></th>\n",
       "      <th></th>\n",
       "      <th></th>\n",
       "      <th></th>\n",
       "      <th></th>\n",
       "    </tr>\n",
       "  </thead>\n",
       "  <tbody>\n",
       "    <tr>\n",
       "      <th>2</th>\n",
       "      <td>5</td>\n",
       "      <td>0.400000</td>\n",
       "      <td>0.600000</td>\n",
       "      <td>0.000000</td>\n",
       "      <td>1.0</td>\n",
       "      <td>0.0</td>\n",
       "      <td>1.0</td>\n",
       "      <td>0.800000</td>\n",
       "      <td>0.666667</td>\n",
       "      <td>0.0</td>\n",
       "      <td>0.0</td>\n",
       "      <td>0.0</td>\n",
       "      <td>0.0</td>\n",
       "      <td>0.0</td>\n",
       "      <td>1.0</td>\n",
       "    </tr>\n",
       "    <tr>\n",
       "      <th>3</th>\n",
       "      <td>3</td>\n",
       "      <td>0.333333</td>\n",
       "      <td>0.333333</td>\n",
       "      <td>0.333333</td>\n",
       "      <td>1.0</td>\n",
       "      <td>0.0</td>\n",
       "      <td>1.0</td>\n",
       "      <td>0.666667</td>\n",
       "      <td>0.000000</td>\n",
       "      <td>0.0</td>\n",
       "      <td>0.0</td>\n",
       "      <td>0.0</td>\n",
       "      <td>0.0</td>\n",
       "      <td>0.0</td>\n",
       "      <td>1.0</td>\n",
       "    </tr>\n",
       "    <tr>\n",
       "      <th>4</th>\n",
       "      <td>1</td>\n",
       "      <td>0.000000</td>\n",
       "      <td>1.000000</td>\n",
       "      <td>0.000000</td>\n",
       "      <td>1.0</td>\n",
       "      <td>0.0</td>\n",
       "      <td>0.0</td>\n",
       "      <td>1.000000</td>\n",
       "      <td>1.000000</td>\n",
       "      <td>0.0</td>\n",
       "      <td>0.0</td>\n",
       "      <td>1.0</td>\n",
       "      <td>0.0</td>\n",
       "      <td>0.0</td>\n",
       "      <td>0.0</td>\n",
       "    </tr>\n",
       "    <tr>\n",
       "      <th>5</th>\n",
       "      <td>2</td>\n",
       "      <td>0.000000</td>\n",
       "      <td>0.500000</td>\n",
       "      <td>0.500000</td>\n",
       "      <td>1.0</td>\n",
       "      <td>0.0</td>\n",
       "      <td>1.0</td>\n",
       "      <td>1.000000</td>\n",
       "      <td>1.000000</td>\n",
       "      <td>1.0</td>\n",
       "      <td>0.0</td>\n",
       "      <td>0.0</td>\n",
       "      <td>0.0</td>\n",
       "      <td>0.0</td>\n",
       "      <td>1.0</td>\n",
       "    </tr>\n",
       "    <tr>\n",
       "      <th>6</th>\n",
       "      <td>1</td>\n",
       "      <td>0.000000</td>\n",
       "      <td>1.000000</td>\n",
       "      <td>0.000000</td>\n",
       "      <td>1.0</td>\n",
       "      <td>0.0</td>\n",
       "      <td>1.0</td>\n",
       "      <td>1.000000</td>\n",
       "      <td>1.000000</td>\n",
       "      <td>0.0</td>\n",
       "      <td>0.0</td>\n",
       "      <td>0.0</td>\n",
       "      <td>0.0</td>\n",
       "      <td>0.0</td>\n",
       "      <td>1.0</td>\n",
       "    </tr>\n",
       "  </tbody>\n",
       "</table>\n",
       "</div>"
      ],
      "text/plain": [
       "          total     child     adult    senior  cit  dis  employ        hi  \\\n",
       "SERIALNO                                                                    \n",
       "2             5  0.400000  0.600000  0.000000  1.0  0.0     1.0  0.800000   \n",
       "3             3  0.333333  0.333333  0.333333  1.0  0.0     1.0  0.666667   \n",
       "4             1  0.000000  1.000000  0.000000  1.0  0.0     0.0  1.000000   \n",
       "5             2  0.000000  0.500000  0.500000  1.0  0.0     1.0  1.000000   \n",
       "6             1  0.000000  1.000000  0.000000  1.0  0.0     1.0  1.000000   \n",
       "\n",
       "                hs  l_h    a    b   na    o    w  \n",
       "SERIALNO                                          \n",
       "2         0.666667  0.0  0.0  0.0  0.0  0.0  1.0  \n",
       "3         0.000000  0.0  0.0  0.0  0.0  0.0  1.0  \n",
       "4         1.000000  0.0  0.0  1.0  0.0  0.0  0.0  \n",
       "5         1.000000  1.0  0.0  0.0  0.0  0.0  1.0  \n",
       "6         1.000000  0.0  0.0  0.0  0.0  0.0  1.0  "
      ]
     },
     "execution_count": 49,
     "metadata": {},
     "output_type": "execute_result"
    }
   ],
   "source": [
    "pums_p = pums_p.fillna(0)\n",
    "pums_p.head()"
   ]
  },
  {
   "cell_type": "code",
   "execution_count": 50,
   "metadata": {
    "collapsed": false
   },
   "outputs": [],
   "source": [
    "# h5 dataframe (pickling didn't work, perhaps because dataset too large)\n",
    "hdf = pd.HDFStore('data/pums-p/pums-p2.h5')\n",
    "hdf.put('d1', pums_p, format='table', data_columns=True)"
   ]
  }
 ],
 "metadata": {
  "kernelspec": {
   "display_name": "Python 2",
   "language": "python",
   "name": "python2"
  },
  "language_info": {
   "codemirror_mode": {
    "name": "ipython",
    "version": 2
   },
   "file_extension": ".py",
   "mimetype": "text/x-python",
   "name": "python",
   "nbconvert_exporter": "python",
   "pygments_lexer": "ipython2",
   "version": "2.7.11"
  }
 },
 "nbformat": 4,
 "nbformat_minor": 0
}
