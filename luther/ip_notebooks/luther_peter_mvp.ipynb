{
 "cells": [
  {
   "cell_type": "code",
   "execution_count": 7,
   "metadata": {
    "collapsed": false
   },
   "outputs": [],
   "source": [
    "import pandas as pd\n",
    "import matplotlib.pyplot as plt\n",
    "%matplotlib inline\n",
    "from patsy import dmatrices"
   ]
  },
  {
   "cell_type": "code",
   "execution_count": 8,
   "metadata": {
    "collapsed": false
   },
   "outputs": [
    {
     "data": {
      "text/html": [
       "<div>\n",
       "<table border=\"1\" class=\"dataframe\">\n",
       "  <thead>\n",
       "    <tr style=\"text-align: right;\">\n",
       "      <th></th>\n",
       "      <th>Release Date</th>\n",
       "      <th>Release Year</th>\n",
       "      <th>Title</th>\n",
       "      <th>Budget</th>\n",
       "      <th>Dom Box</th>\n",
       "      <th>Dom Box Infl</th>\n",
       "      <th>Int Box</th>\n",
       "      <th>Total Box</th>\n",
       "    </tr>\n",
       "  </thead>\n",
       "  <tbody>\n",
       "    <tr>\n",
       "      <th>0</th>\n",
       "      <td>Dec 31, 1970</td>\n",
       "      <td>1970</td>\n",
       "      <td>The Ballad of Tam Lin</td>\n",
       "      <td>$0</td>\n",
       "      <td>$0</td>\n",
       "      <td>$0</td>\n",
       "      <td>$0</td>\n",
       "      <td>$0</td>\n",
       "    </tr>\n",
       "    <tr>\n",
       "      <th>1</th>\n",
       "      <td>Dec 31, 1971</td>\n",
       "      <td>1971</td>\n",
       "      <td>Sie tötete in Ekstase</td>\n",
       "      <td>$0</td>\n",
       "      <td>$0</td>\n",
       "      <td>$0</td>\n",
       "      <td>$0</td>\n",
       "      <td>$0</td>\n",
       "    </tr>\n",
       "    <tr>\n",
       "      <th>2</th>\n",
       "      <td>Dec 31, 1972</td>\n",
       "      <td>1972</td>\n",
       "      <td>Whoever Slew Auntie Roo?</td>\n",
       "      <td>$0</td>\n",
       "      <td>$0</td>\n",
       "      <td>$0</td>\n",
       "      <td>$0</td>\n",
       "      <td>$0</td>\n",
       "    </tr>\n",
       "    <tr>\n",
       "      <th>3</th>\n",
       "      <td>Dec 26, 1973</td>\n",
       "      <td>1973</td>\n",
       "      <td>The Exorcist</td>\n",
       "      <td>$12,000,000</td>\n",
       "      <td>$204,868,002</td>\n",
       "      <td>$320,298,550</td>\n",
       "      <td>$197,867,132</td>\n",
       "      <td>$402,735,134</td>\n",
       "    </tr>\n",
       "    <tr>\n",
       "      <th>4</th>\n",
       "      <td>Oct 18, 1974</td>\n",
       "      <td>1974</td>\n",
       "      <td>The Texas Chainsaw Massacre</td>\n",
       "      <td>$140,000</td>\n",
       "      <td>$26,572,439</td>\n",
       "      <td>$119,789,120</td>\n",
       "      <td>$0</td>\n",
       "      <td>$26,572,439</td>\n",
       "    </tr>\n",
       "  </tbody>\n",
       "</table>\n",
       "</div>"
      ],
      "text/plain": [
       "   Release Date Release Year                        Title       Budget  \\\n",
       "0  Dec 31, 1970         1970        The Ballad of Tam Lin           $0   \n",
       "1  Dec 31, 1971         1971        Sie tötete in Ekstase           $0   \n",
       "2  Dec 31, 1972         1972     Whoever Slew Auntie Roo?           $0   \n",
       "3  Dec 26, 1973         1973                 The Exorcist  $12,000,000   \n",
       "4  Oct 18, 1974         1974  The Texas Chainsaw Massacre     $140,000   \n",
       "\n",
       "        Dom Box  Dom Box Infl       Int Box     Total Box  \n",
       "0            $0            $0            $0            $0  \n",
       "1            $0            $0            $0            $0  \n",
       "2            $0            $0            $0            $0  \n",
       "3  $204,868,002  $320,298,550  $197,867,132  $402,735,134  \n",
       "4   $26,572,439  $119,789,120            $0   $26,572,439  "
      ]
     },
     "execution_count": 8,
     "metadata": {},
     "output_type": "execute_result"
    }
   ],
   "source": [
    "pickle_name = 'the-numbers/consolidated.pickle'\n",
    "df_movie_data = pd.read_pickle(pickle_name)\n",
    "df_movie_data.head()"
   ]
  },
  {
   "cell_type": "code",
   "execution_count": 11,
   "metadata": {
    "collapsed": false
   },
   "outputs": [
    {
     "ename": "SyntaxError",
     "evalue": "invalid syntax (<unknown>, line 1)",
     "output_type": "error",
     "traceback": [
      "\u001b[0;36m  File \u001b[0;32m\"<unknown>\"\u001b[0;36m, line \u001b[0;32m1\u001b[0m\n\u001b[0;31m    Total Box\u001b[0m\n\u001b[0m            ^\u001b[0m\n\u001b[0;31mSyntaxError\u001b[0m\u001b[0;31m:\u001b[0m invalid syntax\n"
     ]
    }
   ],
   "source": [
    "# Set y and random variable X\n",
    "y, X = dmatrices('Total Box ~ Budget + Release Year', data=df_movie_data, return_type='dataframe')"
   ]
  },
  {
   "cell_type": "code",
   "execution_count": null,
   "metadata": {
    "collapsed": true
   },
   "outputs": [],
   "source": []
  }
 ],
 "metadata": {
  "kernelspec": {
   "display_name": "Python 2",
   "language": "python",
   "name": "python2"
  },
  "language_info": {
   "codemirror_mode": {
    "name": "ipython",
    "version": 2
   },
   "file_extension": ".py",
   "mimetype": "text/x-python",
   "name": "python",
   "nbconvert_exporter": "python",
   "pygments_lexer": "ipython2",
   "version": "2.7.11"
  }
 },
 "nbformat": 4,
 "nbformat_minor": 0
}
