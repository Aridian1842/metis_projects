{
 "cells": [
  {
   "cell_type": "markdown",
   "metadata": {},
   "source": [
    "# Twitter API\n",
    "## Lecture Notes"
   ]
  },
  {
   "cell_type": "markdown",
   "metadata": {},
   "source": [
    "##### Why Twitter ?\n",
    "\n",
    "\"While physics and math may tell us how the universe began, they are not much use in predicting Human Behavior because there are far too many Equations to Solve\" \n",
    "    \n",
    "    -Stephan Hawking\n",
    "    \n",
    "#### Rest API vs Streaming API: \n",
    "\n",
    "REST:  \n",
    "    - Query user accounts using OAuth\n",
    "    - Allows you to access 'historical' tweets\n",
    "\n",
    "STREAM: \n",
    "    - Essentially long-running request (left Open) using OAuth\n",
    "    - Access realtime stream of data"
   ]
  },
  {
   "cell_type": "markdown",
   "metadata": {},
   "source": [
    "---"
   ]
  },
  {
   "cell_type": "markdown",
   "metadata": {},
   "source": [
    "#### Rest API"
   ]
  },
  {
   "cell_type": "code",
   "execution_count": 13,
   "metadata": {
    "collapsed": false
   },
   "outputs": [],
   "source": [
    "import requests\n",
    "from requests_oauthlib import OAuth1\n",
    "\n",
    "#OAuth ~ simple way to to publish & interact with data"
   ]
  },
  {
   "cell_type": "code",
   "execution_count": 14,
   "metadata": {
    "collapsed": false
   },
   "outputs": [
    {
     "data": {
      "text/plain": [
       "'/Users/peter'"
      ]
     },
     "execution_count": 14,
     "metadata": {},
     "output_type": "execute_result"
    }
   ],
   "source": [
    "# Retrieve the home directory so we can find our .twitter_config\n",
    "from os.path import expanduser\n",
    "home = expanduser(\"~\")\n",
    "home"
   ]
  },
  {
   "cell_type": "code",
   "execution_count": 15,
   "metadata": {
    "collapsed": false
   },
   "outputs": [
    {
     "name": "stdout",
     "output_type": "stream",
     "text": [
      "Requirement already satisfied (use --upgrade to upgrade): cnfg in /Users/peter/anaconda/lib/python2.7/site-packages\n",
      "\u001b[33mYou are using pip version 8.1.1, however version 8.1.2 is available.\n",
      "You should consider upgrading via the 'pip install --upgrade pip' command.\u001b[0m\n"
     ]
    }
   ],
   "source": [
    "!pip install cnfg"
   ]
  },
  {
   "cell_type": "markdown",
   "metadata": {},
   "source": [
    "**Ensure that you have set up your `.twitter_config` file**"
   ]
  },
  {
   "cell_type": "code",
   "execution_count": 16,
   "metadata": {
    "collapsed": false
   },
   "outputs": [
    {
     "name": "stdout",
     "output_type": "stream",
     "text": [
      "/Users/peter/.twitter_config\r\n"
     ]
    }
   ],
   "source": [
    "!ls ~/.twitter_config"
   ]
  },
  {
   "cell_type": "code",
   "execution_count": 17,
   "metadata": {
    "collapsed": false
   },
   "outputs": [
    {
     "name": "stdout",
     "output_type": "stream",
     "text": [
      "at > ~/.twitter_config << END\r\n",
      "{\r\n",
      " \"consumer_key\": \"NEYs2FQ18kdUL9BS9iO8wYK7n\",\r\n",
      " \"consumer_secret\": \"1rO47ItN57Amd0S87SZPcGGEZocND0cxFnCEajhrmQCF1Z07ya\",\r\n",
      " \"access_token\": \"387485318-A4aLI9MQxisX94QakbfafnqviEnjabMgfiu4Oj78\",\r\n",
      " \"access_token_secret\": \"NUiAdC4FtfkSnOdGI22UbSJn9AtfbpR6OtHYvYUiJyZwI\"\r\n",
      "}\r\n",
      "END"
     ]
    }
   ],
   "source": [
    "!cat ~/.twitter_config"
   ]
  },
  {
   "cell_type": "code",
   "execution_count": 35,
   "metadata": {
    "collapsed": false
   },
   "outputs": [],
   "source": [
    "oauth = OAuth1(\"NEYs2FQ18kdUL9BS9iO8wYK7n\",\n",
    "               \"1rO47ItN57Amd0S87SZPcGGEZocND0cxFnCEajhrmQCF1Z07ya\",\n",
    "               \"387485318-A4aLI9MQxisX94QakbfafnqviEnjabMgfiu4Oj78\",\n",
    "               \"NUiAdC4FtfkSnOdGI22UbSJn9AtfbpR6OtHYvYUiJyZwI\")"
   ]
  },
  {
   "cell_type": "code",
   "execution_count": 36,
   "metadata": {
    "collapsed": false
   },
   "outputs": [
    {
     "name": "stdout",
     "output_type": "stream",
     "text": [
      "contributors\n",
      "truncated\n",
      "text\n",
      "is_quote_status\n",
      "in_reply_to_status_id\n",
      "id\n",
      "favorite_count\n",
      "source\n",
      "retweeted\n",
      "coordinates\n",
      "entities\n",
      "in_reply_to_screen_name\n",
      "in_reply_to_user_id\n",
      "retweet_count\n",
      "id_str\n",
      "favorited\n",
      "retweeted_status\n",
      "user\n",
      "geo\n",
      "in_reply_to_user_id_str\n",
      "possibly_sensitive\n",
      "lang\n",
      "created_at\n",
      "in_reply_to_status_id_str\n",
      "place\n",
      "extended_entities\n"
     ]
    }
   ],
   "source": [
    "response = requests.get(\"https://api.twitter.com/1.1/statuses/user_timeline.json\",\n",
    "                        auth=oauth)\n",
    "\n",
    "tweets = response.json()\n",
    "\n",
    "for key in tweets[0].keys():\n",
    "    print key\n",
    "    "
   ]
  },
  {
   "cell_type": "code",
   "execution_count": 37,
   "metadata": {
    "collapsed": false
   },
   "outputs": [
    {
     "name": "stdout",
     "output_type": "stream",
     "text": [
      "{u'contributors': None, u'truncated': False, u'text': u'RT @randal_olson: Hilarious modification of an xkcd comic. #webdev #css #programming\\n\\nhttps://t.co/hzixzB672r https://t.co/4r2UksF1ot', u'is_quote_status': False, u'in_reply_to_status_id': None, u'id': 732262776987631616, u'favorite_count': 0, u'source': u'<a href=\"http://twitter.com\" rel=\"nofollow\">Twitter Web Client</a>', u'retweeted': True, u'coordinates': None, u'entities': {u'symbols': [], u'user_mentions': [{u'id': 49413866, u'indices': [3, 16], u'id_str': u'49413866', u'screen_name': u'randal_olson', u'name': u'Randy Olson'}], u'hashtags': [{u'indices': [59, 66], u'text': u'webdev'}, {u'indices': [67, 71], u'text': u'css'}, {u'indices': [72, 84], u'text': u'programming'}], u'urls': [{u'url': u'https://t.co/hzixzB672r', u'indices': [86, 109], u'expanded_url': u'https://www.reddit.com/r/ProgrammerHumor/comments/4jbo5v/xkcd_tar_fixed/', u'display_url': u'reddit.com/r/ProgrammerHu\\u2026'}], u'media': [{u'source_user_id': 49413866, u'source_status_id_str': u'732249314387476480', u'expanded_url': u'http://twitter.com/randal_olson/status/732249314387476480/photo/1', u'display_url': u'pic.twitter.com/4r2UksF1ot', u'url': u'https://t.co/4r2UksF1ot', u'media_url_https': u'https://pbs.twimg.com/media/Cil43xnXEAAUuG-.jpg', u'source_user_id_str': u'49413866', u'source_status_id': 732249314387476480, u'id_str': u'732249314030981120', u'sizes': {u'large': {u'h': 229, u'resize': u'fit', u'w': 713}, u'small': {u'h': 109, u'resize': u'fit', u'w': 340}, u'medium': {u'h': 193, u'resize': u'fit', u'w': 600}, u'thumb': {u'h': 150, u'resize': u'crop', u'w': 150}}, u'indices': [110, 133], u'type': u'photo', u'id': 732249314030981120, u'media_url': u'http://pbs.twimg.com/media/Cil43xnXEAAUuG-.jpg'}]}, u'in_reply_to_screen_name': None, u'in_reply_to_user_id': None, u'retweet_count': 53, u'id_str': u'732262776987631616', u'favorited': False, u'retweeted_status': {u'contributors': None, u'truncated': False, u'text': u'Hilarious modification of an xkcd comic. #webdev #css #programming\\n\\nhttps://t.co/hzixzB672r https://t.co/4r2UksF1ot', u'is_quote_status': False, u'in_reply_to_status_id': None, u'id': 732249314387476480, u'favorite_count': 66, u'source': u'<a href=\"http://www.hootsuite.com\" rel=\"nofollow\">Hootsuite</a>', u'retweeted': True, u'coordinates': None, u'entities': {u'symbols': [], u'user_mentions': [], u'hashtags': [{u'indices': [41, 48], u'text': u'webdev'}, {u'indices': [49, 53], u'text': u'css'}, {u'indices': [54, 66], u'text': u'programming'}], u'urls': [{u'url': u'https://t.co/hzixzB672r', u'indices': [68, 91], u'expanded_url': u'https://www.reddit.com/r/ProgrammerHumor/comments/4jbo5v/xkcd_tar_fixed/', u'display_url': u'reddit.com/r/ProgrammerHu\\u2026'}], u'media': [{u'expanded_url': u'http://twitter.com/randal_olson/status/732249314387476480/photo/1', u'display_url': u'pic.twitter.com/4r2UksF1ot', u'url': u'https://t.co/4r2UksF1ot', u'media_url_https': u'https://pbs.twimg.com/media/Cil43xnXEAAUuG-.jpg', u'id_str': u'732249314030981120', u'sizes': {u'large': {u'h': 229, u'resize': u'fit', u'w': 713}, u'small': {u'h': 109, u'resize': u'fit', u'w': 340}, u'medium': {u'h': 193, u'resize': u'fit', u'w': 600}, u'thumb': {u'h': 150, u'resize': u'crop', u'w': 150}}, u'indices': [92, 115], u'type': u'photo', u'id': 732249314030981120, u'media_url': u'http://pbs.twimg.com/media/Cil43xnXEAAUuG-.jpg'}]}, u'in_reply_to_screen_name': None, u'in_reply_to_user_id': None, u'retweet_count': 53, u'id_str': u'732249314387476480', u'favorited': False, u'user': {u'follow_request_sent': False, u'has_extended_profile': False, u'profile_use_background_image': True, u'default_profile_image': False, u'id': 49413866, u'profile_background_image_url_https': u'https://pbs.twimg.com/profile_background_images/457629516702035968/lKWBWYYG.jpeg', u'verified': False, u'profile_text_color': u'666666', u'profile_image_url_https': u'https://pbs.twimg.com/profile_images/618964235779862528/nLQhBWfq_normal.jpg', u'profile_sidebar_fill_color': u'252429', u'entities': {u'url': {u'urls': [{u'url': u'https://t.co/tpzAYxx9cq', u'indices': [0, 23], u'expanded_url': u'http://www.randalolson.com', u'display_url': u'randalolson.com'}]}, u'description': {u'urls': [{u'url': u'https://t.co/cpRqH03lVP', u'indices': [106, 129], u'expanded_url': u'http://patreon.com/randal_olson', u'display_url': u'patreon.com/randal_olson'}]}}, u'followers_count': 87876, u'profile_sidebar_border_color': u'FFFFFF', u'id_str': u'49413866', u'profile_background_color': u'1A1B1F', u'listed_count': 2673, u'is_translation_enabled': False, u'utc_offset': -14400, u'statuses_count': 12790, u'description': u'#AI & #MachineLearning researcher. Data tinkerer. Community leader for @DataIsBeautiful. Support my blog: https://t.co/cpRqH03lVP', u'friends_count': 96635, u'location': u'Philadelphia, PA', u'profile_link_color': u'3B94D9', u'profile_image_url': u'http://pbs.twimg.com/profile_images/618964235779862528/nLQhBWfq_normal.jpg', u'following': True, u'geo_enabled': True, u'profile_banner_url': u'https://pbs.twimg.com/profile_banners/49413866/1439914461', u'profile_background_image_url': u'http://pbs.twimg.com/profile_background_images/457629516702035968/lKWBWYYG.jpeg', u'screen_name': u'randal_olson', u'lang': u'en', u'profile_background_tile': True, u'favourites_count': 34764, u'name': u'Randy Olson', u'notifications': False, u'url': u'https://t.co/tpzAYxx9cq', u'created_at': u'Sun Jun 21 20:13:18 +0000 2009', u'contributors_enabled': False, u'time_zone': u'Eastern Time (US & Canada)', u'protected': False, u'default_profile': False, u'is_translator': False}, u'geo': None, u'in_reply_to_user_id_str': None, u'possibly_sensitive': False, u'lang': u'en', u'created_at': u'Mon May 16 16:40:15 +0000 2016', u'in_reply_to_status_id_str': None, u'place': None, u'extended_entities': {u'media': [{u'expanded_url': u'http://twitter.com/randal_olson/status/732249314387476480/photo/1', u'display_url': u'pic.twitter.com/4r2UksF1ot', u'url': u'https://t.co/4r2UksF1ot', u'media_url_https': u'https://pbs.twimg.com/media/Cil43xnXEAAUuG-.jpg', u'id_str': u'732249314030981120', u'sizes': {u'large': {u'h': 229, u'resize': u'fit', u'w': 713}, u'small': {u'h': 109, u'resize': u'fit', u'w': 340}, u'medium': {u'h': 193, u'resize': u'fit', u'w': 600}, u'thumb': {u'h': 150, u'resize': u'crop', u'w': 150}}, u'indices': [92, 115], u'type': u'photo', u'id': 732249314030981120, u'media_url': u'http://pbs.twimg.com/media/Cil43xnXEAAUuG-.jpg'}]}}, u'user': {u'follow_request_sent': False, u'has_extended_profile': True, u'profile_use_background_image': True, u'default_profile_image': False, u'id': 387485318, u'profile_background_image_url_https': u'https://abs.twimg.com/images/themes/theme1/bg.png', u'verified': False, u'profile_text_color': u'333333', u'profile_image_url_https': u'https://pbs.twimg.com/profile_images/702998630152724480/K34nUUZm_normal.jpg', u'profile_sidebar_fill_color': u'DDEEF6', u'entities': {u'description': {u'urls': []}}, u'followers_count': 28, u'profile_sidebar_border_color': u'C0DEED', u'id_str': u'387485318', u'profile_background_color': u'C0DEED', u'listed_count': 0, u'is_translation_enabled': False, u'utc_offset': -14400, u'statuses_count': 30, u'description': u'', u'friends_count': 70, u'location': u'Adams Morgan, Washington', u'profile_link_color': u'0084B4', u'profile_image_url': u'http://pbs.twimg.com/profile_images/702998630152724480/K34nUUZm_normal.jpg', u'following': False, u'geo_enabled': True, u'profile_background_image_url': u'http://abs.twimg.com/images/themes/theme1/bg.png', u'screen_name': u'pgr_me', u'lang': u'en', u'profile_background_tile': False, u'favourites_count': 3, u'name': u'Peter Rasmussen', u'notifications': False, u'url': None, u'created_at': u'Sun Oct 09 04:31:28 +0000 2011', u'contributors_enabled': False, u'time_zone': u'Eastern Time (US & Canada)', u'protected': False, u'default_profile': True, u'is_translator': False}, u'geo': None, u'in_reply_to_user_id_str': None, u'possibly_sensitive': False, u'lang': u'en', u'created_at': u'Mon May 16 17:33:45 +0000 2016', u'in_reply_to_status_id_str': None, u'place': None, u'extended_entities': {u'media': [{u'source_user_id': 49413866, u'source_status_id_str': u'732249314387476480', u'expanded_url': u'http://twitter.com/randal_olson/status/732249314387476480/photo/1', u'display_url': u'pic.twitter.com/4r2UksF1ot', u'url': u'https://t.co/4r2UksF1ot', u'media_url_https': u'https://pbs.twimg.com/media/Cil43xnXEAAUuG-.jpg', u'source_user_id_str': u'49413866', u'source_status_id': 732249314387476480, u'id_str': u'732249314030981120', u'sizes': {u'large': {u'h': 229, u'resize': u'fit', u'w': 713}, u'small': {u'h': 109, u'resize': u'fit', u'w': 340}, u'medium': {u'h': 193, u'resize': u'fit', u'w': 600}, u'thumb': {u'h': 150, u'resize': u'crop', u'w': 150}}, u'indices': [110, 133], u'type': u'photo', u'id': 732249314030981120, u'media_url': u'http://pbs.twimg.com/media/Cil43xnXEAAUuG-.jpg'}]}}\n"
     ]
    }
   ],
   "source": [
    "print tweets[0]"
   ]
  },
  {
   "cell_type": "code",
   "execution_count": 38,
   "metadata": {
    "collapsed": false
   },
   "outputs": [
    {
     "name": "stdout",
     "output_type": "stream",
     "text": [
      "RT @randal_olson: Hilarious modification of an xkcd comic. #webdev #css #programming\n",
      "\n",
      "https://t.co/hzixzB672r https://t.co/4r2UksF1ot\n",
      "\n",
      "@CalifiaFarms #loveatfirstsip https://t.co/N8TPcEiYQk\n",
      "\n",
      "The outrageous intrusiveness of body-cavity searches: https://t.co/Wx3ooh74LU\n",
      "\n",
      "#ねこあつめ https://t.co/krSBYf9XNi\n",
      "\n",
      "I feel bad for @marcorubio ... Looks like he's having to fight back tears\n",
      "\n",
      "@realDonaldTrump is weak in the heartland states: Minnesota, Iowa, Kansas, and Oklahoma.\n",
      "\n",
      "I wonder if @ChrisChristie realizes he's become @realDonaldTrump's tool. https://t.co/f0ILR8G5yi #Blind #Tool\n",
      "\n",
      "Quid pro quo could be Attorney General for Christie? https://t.co/vmZaRgIuxF\n",
      "\n",
      "Killer article on American tribalism https://t.co/gGqTARBfrr\n",
      "\n",
      "Sisters Of Mercy - Temple of Love (Original Version): Only the original version will do for me. https://t.co/HL4JPYIsKf\n",
      "\n",
      "The One Weird Trait That Predicts Whether You’re a Trump Supporter https://t.co/IlaiC63Wkm\n",
      "\n",
      "Twitter and the Tragedy of the Commons https://t.co/k0pjMMV1z5\n",
      "\n",
      "Joint Pain, From the Gut https://t.co/3sbqNQaxaA\n",
      "\n",
      "RT @smerconish: Here's a scary thought - is there a Bradley effect for @RealDonaldTrump where his poll # are actually higher because people…\n",
      "\n",
      "Vanishing Point https://t.co/VSFYzka1Hc via newyorker\n",
      "\n",
      "The case for getting rid of borders http://t.co/BAAfCIJH5a\n",
      "\n",
      "Trump is good at xenophobia #GOPDebate\n",
      "\n",
      "RT @billmaher: For the first time in this campaign, Trump is humbled (by Carly) and looked apologetic and not true to what he believes. Sta…\n",
      "\n",
      "RT @AminESPN: Can't remember who said it first but Trump's exactly like the kid who didn't read the book &amp; trying to BS his way thru the or…\n",
      "\n",
      "Trump was unable to answer both foreign policy questions #GOPDebate\n",
      "\n"
     ]
    }
   ],
   "source": [
    "#Note:  these are tweets from my twitter account @reshamas\n",
    "for tweet in tweets:\n",
    "    print tweet['text']\n",
    "    print"
   ]
  },
  {
   "cell_type": "code",
   "execution_count": 39,
   "metadata": {
    "collapsed": false
   },
   "outputs": [
    {
     "name": "stdout",
     "output_type": "stream",
     "text": [
      "{u'completed_in': 0.267,\n",
      " u'count': 20,\n",
      " u'max_id': 732292983773667328,\n",
      " u'max_id_str': u'732292983773667328',\n",
      " u'next_results': u'?max_id=732291824304422912&q=oscars&count=20&include_entities=1',\n",
      " u'query': u'oscars',\n",
      " u'refresh_url': u'?since_id=732292983773667328&q=oscars&include_entities=1',\n",
      " u'since_id': 0,\n",
      " u'since_id_str': u'0'}\n"
     ]
    }
   ],
   "source": [
    "parameters = {\"q\": \"oscars\", \"count\":20}\n",
    "response = requests.get(\"https://api.twitter.com/1.1/search/tweets.json\",\n",
    "                        params = parameters,\n",
    "                        auth=oauth)\n",
    "\n",
    "from pprint import pprint\n",
    "pprint(response.json()['search_metadata'])"
   ]
  },
  {
   "cell_type": "code",
   "execution_count": 40,
   "metadata": {
    "collapsed": false
   },
   "outputs": [
    {
     "name": "stdout",
     "output_type": "stream",
     "text": [
      "PAGE 1\n",
      "732292983773667328 Reese Witherspoon - 2015 Vanity Fair Oscars Party https://t.co/938YTDjUEn #ReeseWitherspoon\n",
      "\n",
      "732292839648968705 RT @todocine: Hace 16 años se estrenó, en el Festival de Cannes, \"Crouching Tiger, Hidden Dragon\". El film ganaría 4 #Oscars #Cine https://…\n",
      "\n",
      "732292714113445888 RT @OneDrecti0nFans: This solo of Niall deserves 58 grammys, 48 oscars, 389 golden globes and a Nobel peace prize\n",
      "\n",
      "https://t.co/mNrcoSKXzo\n",
      "\n",
      "732292688754675716 Zendaya  2015 Oscars Red Carpet in Hollywood https://t.co/0buaOjqxEy #AcademyAwards\n",
      "\n",
      "732292614163189760 RT @SarahJawadKhan: Imran Khan deserves Oscars for establishing the first offshore company of Pakistan and then confidently hiding it https…\n",
      "\n",
      "732292609419423744 RT @empiremagazine: Fassbender! Vikander! Weisz! Oscars?! #TheLightBetweenOceans gets a new trailer: https://t.co/UskGmX2Gpe https://t.co/f…\n",
      "\n",
      "732292593472638977 RT @empiremagazine: Fassbender! Vikander! Weisz! Oscars?! #TheLightBetweenOceans gets a new trailer: https://t.co/UskGmX2Gpe https://t.co/f…\n",
      "\n",
      "732292471581859840 RT @empiremagazine: Fassbender! Vikander! Weisz! Oscars?! #TheLightBetweenOceans gets a new trailer: https://t.co/UskGmX2Gpe https://t.co/f…\n",
      "\n",
      "732292378690760704 Hace 16 años se estrenó, en el Festival de Cannes, \"Crouching Tiger, Hidden Dragon\". El film ganaría 4 #Oscars #Cine https://t.co/K6bEqRDarW\n",
      "\n",
      "732292355496120321 SEE VIDEO! Justin Timberlake and Jessica Biel at Pre-Oscars... https://t.co/j6gQhBHV7o https://t.co/GqoBkSDNfw\n",
      "\n",
      "732292350232416257 RT @NoCiruNo: Grosos @marioriorda y @pabloarielcabas nominados a los #VictoryAwards... que serian algo asi como los Oscars de la consultori…\n",
      "\n",
      "732292324466802688 RT @empiremagazine: Fassbender! Vikander! Weisz! Oscars?! #TheLightBetweenOceans gets a new trailer: https://t.co/UskGmX2Gpe https://t.co/f…\n",
      "\n",
      "732292234641608704 RT @empiremagazine: Fassbender! Vikander! Weisz! Oscars?! #TheLightBetweenOceans gets a new trailer: https://t.co/UskGmX2Gpe https://t.co/f…\n",
      "\n",
      "732292200009216006 Es la primera vez que oigo de Ruth Negga, llevo 24 horas viendo Post de ella.\n",
      "Y hasta los próximos Oscars será? 🤔 #CannesFilmFestival\n",
      "\n",
      "732292098616139777 RT @RaminSetoodeh: The 2016 best actress Oscars race officially kicks off with Ruth Negga in 'Loving.' #Cannes2016\n",
      "\n",
      "732292086184181761 RT @haddyissues: Am I sorry that while Harry is gonna be attending the Oscars next year Louis is gonna be babysitting his second baby? Nope\n",
      "\n",
      "732292062482046976 Fassbender! Vikander! Weisz! Oscars?! #TheLightBetweenOceans gets a new trailer: https://t.co/UskGmX2Gpe https://t.co/fkPPG4RN7Y\n",
      "\n",
      "732291967414075392 RT @RV1026: Tuesday, Dudley Moore (married at the time), and John Travolta at the 1977 Oscars. https://t.co/jQiKZpBpfa\n",
      "\n",
      "732291891107139584 RT @elcosodelapizza: Pequeña diferencia entre los oscars y los Martin fierro. https://t.co/qstC5pUfZF\n",
      "\n",
      "732291824304422913 RT @harrymoonavenue: Anyways Harry is the king and Dunkirk will snatch Oscars. Bye.\n",
      "\n"
     ]
    }
   ],
   "source": [
    "tweets = response.json()['statuses']\n",
    "\n",
    "print 'PAGE 1'\n",
    "for tweet in tweets:\n",
    "    print tweet['id'], tweet['text']\n",
    "    print"
   ]
  },
  {
   "cell_type": "code",
   "execution_count": 41,
   "metadata": {
    "collapsed": false
   },
   "outputs": [
    {
     "name": "stdout",
     "output_type": "stream",
     "text": [
      "PAGE 2\n",
      "Film About History-Making Interracial Couple Sets Cannes Abuzz\n",
      "“Loving,” with Ruth Negga and Joel Edgerton, draws talk of Oscars. Director …\n",
      "\n",
      "RT @EpicHistoryPics: Michael Jackson and Madonna at the Oscars in 1991. https://t.co/d8xYPwuoC5\n",
      "\n",
      "RT @usavsarg: USA THE OSCARS SELFIE vs ARGENTINIAN THE IRON MARTINS SELFIE https://t.co/nmlLPmRmX9\n",
      "\n",
      "#Loving de JeffNichols rend fier d'être métisse et emeut #Cannes2016. La route des Oscars semble certaine.\n",
      "\n",
      "RT @usavsarg: USA THE OSCARS SELFIE vs ARGENTINIAN THE IRON MARTINS SELFIE https://t.co/nmlLPmRmX9\n",
      "\n",
      "RT @Funnytweets_Kr: 2014 Oscars https://t.co/dGIMheoDvy\n",
      "\n",
      "Niggas need oscars they always acting\n",
      "\n",
      "RT @OneDrecti0nFans: This solo of Niall deserves 58 grammys, 48 oscars, 389 golden globes and a Nobel peace prize\n",
      "\n",
      "https://t.co/mNrcoSKXzo\n",
      "\n",
      "Grammys and oscars are on two different type of levels.\n",
      "\n",
      "\"no ví los oscars ayer\" @pepaproserpio G R A C I A S\n",
      "\n",
      "RT @OneDrecti0nFans: This solo of Niall deserves 58 grammys, 48 oscars, 389 golden globes and a Nobel peace prize\n",
      "\n",
      "https://t.co/mNrcoSKXzo\n",
      "\n",
      "RT @TweetLikeAGirI: dude.... what.... everyone just start handing over their Oscars... https://t.co/iJhPZkJPGt\n",
      "\n",
      "RT @THR: The first #Oscars ceremony was held today in 1929 (and took only 15 minutes). Take a look: https://t.co/jm3kt8A5OH https://t.co/AV…\n",
      "\n",
      "RT @bonappetit: And the award for best snacks goes to these 22 recipes https://t.co/zE4oELDMsE https://t.co/Mkr1eCKDeE\n",
      "\n",
      "RT @THR: The first #Oscars ceremony was held today in 1929 (and took only 15 minutes). Take a look: https://t.co/jm3kt8A5OH https://t.co/AV…\n",
      "\n",
      "RT @SimonLiffe: Jeff Nichols' LOVING, quietly moving yarn on 1950's interracial marriage issues. Very classical, like Henry King. Possible…\n",
      "\n",
      "RT @harrymoonavenue: Anyways Harry is the king and Dunkirk will snatch Oscars. Bye.\n",
      "\n",
      "Grosos @marioriorda y @pabloarielcabas nominados a los #VictoryAwards... que serian algo asi como los Oscars de la consultoria politica\n",
      "\n",
      "The first #Oscars ceremony only took 15 minutes?\n",
      "They must have skipped the Documentary Shorts category. https://t.co/gn3j3FUn0b\n",
      "\n",
      "RT @harrymoonavenue: Anyways Harry is the king and Dunkirk will snatch Oscars. Bye.\n",
      "\n"
     ]
    }
   ],
   "source": [
    "search_url = \"https://api.twitter.com/1.1/search/tweets.json\"\n",
    "next_page_url = search_url + response.json()['search_metadata']['next_results']\n",
    "\n",
    "response = requests.get(next_page_url, auth=oauth)\n",
    "\n",
    "print 'PAGE 2'\n",
    "for tweet in response.json()['statuses']:\n",
    "    print tweet['text']\n",
    "    print"
   ]
  },
  {
   "cell_type": "markdown",
   "metadata": {
    "collapsed": false
   },
   "source": [
    "#### STREAMING API ~ [TWEEPY](http://www.tweepy.org/)"
   ]
  },
  {
   "cell_type": "code",
   "execution_count": 44,
   "metadata": {
    "collapsed": false
   },
   "outputs": [
    {
     "name": "stdout",
     "output_type": "stream",
     "text": [
      "Collecting tweepy\n",
      "  Downloading tweepy-3.5.0-py2.py3-none-any.whl\n",
      "Requirement already satisfied (use --upgrade to upgrade): six>=1.7.3 in /Users/peter/anaconda/lib/python2.7/site-packages (from tweepy)\n",
      "Requirement already satisfied (use --upgrade to upgrade): requests>=2.4.3 in /Users/peter/anaconda/lib/python2.7/site-packages (from tweepy)\n",
      "Requirement already satisfied (use --upgrade to upgrade): requests-oauthlib>=0.4.1 in /Users/peter/anaconda/lib/python2.7/site-packages (from tweepy)\n",
      "Requirement already satisfied (use --upgrade to upgrade): oauthlib>=0.6.2 in /Users/peter/anaconda/lib/python2.7/site-packages (from requests-oauthlib>=0.4.1->tweepy)\n",
      "Installing collected packages: tweepy\n",
      "Successfully installed tweepy-3.5.0\n",
      "\u001b[33mYou are using pip version 8.1.1, however version 8.1.2 is available.\n",
      "You should consider upgrading via the 'pip install --upgrade pip' command.\u001b[0m\n"
     ]
    }
   ],
   "source": [
    "!pip install tweepy\n",
    "import tweepy"
   ]
  },
  {
   "cell_type": "code",
   "execution_count": 46,
   "metadata": {
    "collapsed": false
   },
   "outputs": [],
   "source": [
    "\n",
    "auth = tweepy.OAuthHandler(\"NEYs2FQ18kdUL9BS9iO8wYK7n\",\n",
    "                           \"1rO47ItN57Amd0S87SZPcGGEZocND0cxFnCEajhrmQCF1Z07ya\")\n",
    "auth.set_access_token(\"387485318-A4aLI9MQxisX94QakbfafnqviEnjabMgfiu4Oj78\",\n",
    "                      \"NUiAdC4FtfkSnOdGI22UbSJn9AtfbpR6OtHYvYUiJyZwI\")\n",
    "\n",
    "#\"NEYs2FQ18kdUL9BS9iO8wYK7n\",\n",
    "               #\"1rO47ItN57Amd0S87SZPcGGEZocND0cxFnCEajhrmQCF1Z07ya\",\n",
    "               #\"387485318-A4aLI9MQxisX94QakbfafnqviEnjabMgfiu4Oj78\",\n",
    "#               \"NUiAdC4FtfkSnOdGI22UbSJn9AtfbpR6OtHYvYUiJyZwI\"\n",
    "api=tweepy.API(auth)"
   ]
  },
  {
   "cell_type": "code",
   "execution_count": 47,
   "metadata": {
    "collapsed": false
   },
   "outputs": [
    {
     "name": "stdout",
     "output_type": "stream",
     "text": [
      "Status(contributors=None, truncated=False, text=u'RT @JaiBrooks1: it\\u2019s time for leo dicaprio to give up on his acting career and open a coffee shop called Leonardo DiCappuccino', is_quote_status=False, in_reply_to_status_id=None, id=732297168745304064, favorite_count=0, _api=<tweepy.api.API object at 0x104372a90>, author=User(follow_request_sent=False, has_extended_profile=True, profile_use_background_image=True, _json={u'follow_request_sent': False, u'has_extended_profile': True, u'profile_use_background_image': True, u'default_profile_image': False, u'id': 3295211427, u'profile_background_image_url_https': u'https://pbs.twimg.com/profile_background_images/602115035075256322/T3chGB9m.jpg', u'verified': False, u'profile_text_color': u'000000', u'profile_image_url_https': u'https://pbs.twimg.com/profile_images/730742540580880385/GaHbsxep_normal.jpg', u'profile_sidebar_fill_color': u'000000', u'entities': {u'description': {u'urls': []}}, u'followers_count': 9102, u'profile_sidebar_border_color': u'000000', u'id_str': u'3295211427', u'profile_background_color': u'000000', u'listed_count': 23, u'is_translation_enabled': False, u'utc_offset': 7200, u'statuses_count': 48083, u'description': u'jai brooks aka loml', u'friends_count': 274, u'location': u'', u'profile_link_color': u'000000', u'profile_image_url': u'http://pbs.twimg.com/profile_images/730742540580880385/GaHbsxep_normal.jpg', u'following': False, u'geo_enabled': False, u'profile_banner_url': u'https://pbs.twimg.com/profile_banners/3295211427/1456493894', u'profile_background_image_url': u'http://pbs.twimg.com/profile_background_images/602115035075256322/T3chGB9m.jpg', u'screen_name': u'fab4jai', u'lang': u'fr', u'profile_background_tile': True, u'favourites_count': 22384, u'name': u'yasmine', u'notifications': False, u'url': None, u'created_at': u'Sat May 23 13:44:46 +0000 2015', u'contributors_enabled': False, u'time_zone': u'Paris', u'protected': False, u'default_profile': False, u'is_translator': False}, time_zone=u'Paris', id=3295211427, _api=<tweepy.api.API object at 0x104372a90>, verified=False, profile_text_color=u'000000', profile_image_url_https=u'https://pbs.twimg.com/profile_images/730742540580880385/GaHbsxep_normal.jpg', profile_sidebar_fill_color=u'000000', is_translator=False, geo_enabled=False, entities={u'description': {u'urls': []}}, followers_count=9102, protected=False, id_str=u'3295211427', default_profile_image=False, listed_count=23, lang=u'fr', utc_offset=7200, statuses_count=48083, description=u'jai brooks aka loml', friends_count=274, profile_link_color=u'000000', profile_image_url=u'http://pbs.twimg.com/profile_images/730742540580880385/GaHbsxep_normal.jpg', notifications=False, profile_background_image_url_https=u'https://pbs.twimg.com/profile_background_images/602115035075256322/T3chGB9m.jpg', profile_background_color=u'000000', profile_banner_url=u'https://pbs.twimg.com/profile_banners/3295211427/1456493894', profile_background_image_url=u'http://pbs.twimg.com/profile_background_images/602115035075256322/T3chGB9m.jpg', name=u'yasmine', is_translation_enabled=False, profile_background_tile=True, favourites_count=22384, screen_name=u'fab4jai', url=None, created_at=datetime.datetime(2015, 5, 23, 13, 44, 46), contributors_enabled=False, location=u'', profile_sidebar_border_color=u'000000', default_profile=False, following=False), _json={u'contributors': None, u'truncated': False, u'text': u'RT @JaiBrooks1: it\\u2019s time for leo dicaprio to give up on his acting career and open a coffee shop called Leonardo DiCappuccino', u'is_quote_status': False, u'in_reply_to_status_id': None, u'id': 732297168745304064, u'favorite_count': 0, u'entities': {u'symbols': [], u'user_mentions': [{u'id': 435525090, u'indices': [3, 14], u'id_str': u'435525090', u'screen_name': u'JaiBrooks1', u'name': u'Jai Brooks'}], u'hashtags': [], u'urls': []}, u'retweeted': False, u'coordinates': None, u'source': u'<a href=\"http://twitter.com/download/iphone\" rel=\"nofollow\">Twitter for iPhone</a>', u'in_reply_to_screen_name': None, u'in_reply_to_user_id': None, u'retweet_count': 4355, u'id_str': u'732297168745304064', u'favorited': False, u'retweeted_status': {u'contributors': None, u'truncated': False, u'text': u'it\\u2019s time for leo dicaprio to give up on his acting career and open a coffee shop called Leonardo DiCappuccino', u'is_quote_status': False, u'in_reply_to_status_id': None, u'id': 328451917539864576, u'favorite_count': 3827, u'entities': {u'symbols': [], u'user_mentions': [], u'hashtags': [], u'urls': []}, u'retweeted': False, u'coordinates': None, u'source': u'<a href=\"http://twitter.com/download/iphone\" rel=\"nofollow\">Twitter for iPhone</a>', u'in_reply_to_screen_name': None, u'in_reply_to_user_id': None, u'retweet_count': 4355, u'id_str': u'328451917539864576', u'favorited': False, u'user': {u'follow_request_sent': False, u'has_extended_profile': False, u'profile_use_background_image': True, u'default_profile_image': False, u'id': 435525090, u'profile_background_image_url_https': u'https://abs.twimg.com/images/themes/theme14/bg.gif', u'verified': True, u'profile_text_color': u'333333', u'profile_image_url_https': u'https://pbs.twimg.com/profile_images/697547892999921664/sKhnbCau_normal.jpg', u'profile_sidebar_fill_color': u'EFEFEF', u'entities': {u'url': {u'urls': [{u'url': u'https://t.co/7nRvUpWYvj', u'indices': [0, 23], u'expanded_url': u'http://youtube.com/janoskians', u'display_url': u'youtube.com/janoskians'}]}, u'description': {u'urls': []}}, u'followers_count': 1961936, u'profile_sidebar_border_color': u'EEEEEE', u'id_str': u'435525090', u'profile_background_color': u'131516', u'listed_count': 10835, u'is_translation_enabled': True, u'utc_offset': 39600, u'statuses_count': 15672, u'description': u'21, Aussie @Janoskians , MELBOURNE', u'friends_count': 42576, u'location': u'', u'profile_link_color': u'300099', u'profile_image_url': u'http://pbs.twimg.com/profile_images/697547892999921664/sKhnbCau_normal.jpg', u'following': False, u'geo_enabled': True, u'profile_banner_url': u'https://pbs.twimg.com/profile_banners/435525090/1446002989', u'profile_background_image_url': u'http://abs.twimg.com/images/themes/theme14/bg.gif', u'screen_name': u'JaiBrooks1', u'lang': u'en', u'profile_background_tile': True, u'favourites_count': 2562, u'name': u'Jai Brooks', u'notifications': False, u'url': u'https://t.co/7nRvUpWYvj', u'created_at': u'Tue Dec 13 04:48:49 +0000 2011', u'contributors_enabled': False, u'time_zone': u'New Caledonia', u'protected': False, u'default_profile': False, u'is_translator': False}, u'geo': None, u'in_reply_to_user_id_str': None, u'lang': u'en', u'created_at': u'Sun Apr 28 10:13:34 +0000 2013', u'in_reply_to_status_id_str': None, u'place': None, u'metadata': {u'iso_language_code': u'en', u'result_type': u'recent'}}, u'user': {u'follow_request_sent': False, u'has_extended_profile': True, u'profile_use_background_image': True, u'default_profile_image': False, u'id': 3295211427, u'profile_background_image_url_https': u'https://pbs.twimg.com/profile_background_images/602115035075256322/T3chGB9m.jpg', u'verified': False, u'profile_text_color': u'000000', u'profile_image_url_https': u'https://pbs.twimg.com/profile_images/730742540580880385/GaHbsxep_normal.jpg', u'profile_sidebar_fill_color': u'000000', u'entities': {u'description': {u'urls': []}}, u'followers_count': 9102, u'profile_sidebar_border_color': u'000000', u'id_str': u'3295211427', u'profile_background_color': u'000000', u'listed_count': 23, u'is_translation_enabled': False, u'utc_offset': 7200, u'statuses_count': 48083, u'description': u'jai brooks aka loml', u'friends_count': 274, u'location': u'', u'profile_link_color': u'000000', u'profile_image_url': u'http://pbs.twimg.com/profile_images/730742540580880385/GaHbsxep_normal.jpg', u'following': False, u'geo_enabled': False, u'profile_banner_url': u'https://pbs.twimg.com/profile_banners/3295211427/1456493894', u'profile_background_image_url': u'http://pbs.twimg.com/profile_background_images/602115035075256322/T3chGB9m.jpg', u'screen_name': u'fab4jai', u'lang': u'fr', u'profile_background_tile': True, u'favourites_count': 22384, u'name': u'yasmine', u'notifications': False, u'url': None, u'created_at': u'Sat May 23 13:44:46 +0000 2015', u'contributors_enabled': False, u'time_zone': u'Paris', u'protected': False, u'default_profile': False, u'is_translator': False}, u'geo': None, u'in_reply_to_user_id_str': None, u'lang': u'en', u'created_at': u'Mon May 16 19:50:25 +0000 2016', u'in_reply_to_status_id_str': None, u'place': None, u'metadata': {u'iso_language_code': u'en', u'result_type': u'recent'}}, coordinates=None, entities={u'symbols': [], u'user_mentions': [{u'id': 435525090, u'indices': [3, 14], u'id_str': u'435525090', u'screen_name': u'JaiBrooks1', u'name': u'Jai Brooks'}], u'hashtags': [], u'urls': []}, in_reply_to_screen_name=None, id_str=u'732297168745304064', retweet_count=4355, in_reply_to_user_id=None, favorited=False, retweeted_status=Status(contributors=None, truncated=False, text=u'it\\u2019s time for leo dicaprio to give up on his acting career and open a coffee shop called Leonardo DiCappuccino', is_quote_status=False, in_reply_to_status_id=None, id=328451917539864576, favorite_count=3827, _api=<tweepy.api.API object at 0x104372a90>, author=User(follow_request_sent=False, has_extended_profile=False, profile_use_background_image=True, _json={u'follow_request_sent': False, u'has_extended_profile': False, u'profile_use_background_image': True, u'default_profile_image': False, u'id': 435525090, u'profile_background_image_url_https': u'https://abs.twimg.com/images/themes/theme14/bg.gif', u'verified': True, u'profile_text_color': u'333333', u'profile_image_url_https': u'https://pbs.twimg.com/profile_images/697547892999921664/sKhnbCau_normal.jpg', u'profile_sidebar_fill_color': u'EFEFEF', u'entities': {u'url': {u'urls': [{u'url': u'https://t.co/7nRvUpWYvj', u'indices': [0, 23], u'expanded_url': u'http://youtube.com/janoskians', u'display_url': u'youtube.com/janoskians'}]}, u'description': {u'urls': []}}, u'followers_count': 1961936, u'profile_sidebar_border_color': u'EEEEEE', u'id_str': u'435525090', u'profile_background_color': u'131516', u'listed_count': 10835, u'is_translation_enabled': True, u'utc_offset': 39600, u'statuses_count': 15672, u'description': u'21, Aussie @Janoskians , MELBOURNE', u'friends_count': 42576, u'location': u'', u'profile_link_color': u'300099', u'profile_image_url': u'http://pbs.twimg.com/profile_images/697547892999921664/sKhnbCau_normal.jpg', u'following': False, u'geo_enabled': True, u'profile_banner_url': u'https://pbs.twimg.com/profile_banners/435525090/1446002989', u'profile_background_image_url': u'http://abs.twimg.com/images/themes/theme14/bg.gif', u'screen_name': u'JaiBrooks1', u'lang': u'en', u'profile_background_tile': True, u'favourites_count': 2562, u'name': u'Jai Brooks', u'notifications': False, u'url': u'https://t.co/7nRvUpWYvj', u'created_at': u'Tue Dec 13 04:48:49 +0000 2011', u'contributors_enabled': False, u'time_zone': u'New Caledonia', u'protected': False, u'default_profile': False, u'is_translator': False}, time_zone=u'New Caledonia', id=435525090, _api=<tweepy.api.API object at 0x104372a90>, verified=True, profile_text_color=u'333333', profile_image_url_https=u'https://pbs.twimg.com/profile_images/697547892999921664/sKhnbCau_normal.jpg', profile_sidebar_fill_color=u'EFEFEF', is_translator=False, geo_enabled=True, entities={u'url': {u'urls': [{u'url': u'https://t.co/7nRvUpWYvj', u'indices': [0, 23], u'expanded_url': u'http://youtube.com/janoskians', u'display_url': u'youtube.com/janoskians'}]}, u'description': {u'urls': []}}, followers_count=1961936, protected=False, id_str=u'435525090', default_profile_image=False, listed_count=10835, lang=u'en', utc_offset=39600, statuses_count=15672, description=u'21, Aussie @Janoskians , MELBOURNE', friends_count=42576, profile_link_color=u'300099', profile_image_url=u'http://pbs.twimg.com/profile_images/697547892999921664/sKhnbCau_normal.jpg', notifications=False, profile_background_image_url_https=u'https://abs.twimg.com/images/themes/theme14/bg.gif', profile_background_color=u'131516', profile_banner_url=u'https://pbs.twimg.com/profile_banners/435525090/1446002989', profile_background_image_url=u'http://abs.twimg.com/images/themes/theme14/bg.gif', name=u'Jai Brooks', is_translation_enabled=True, profile_background_tile=True, favourites_count=2562, screen_name=u'JaiBrooks1', url=u'https://t.co/7nRvUpWYvj', created_at=datetime.datetime(2011, 12, 13, 4, 48, 49), contributors_enabled=False, location=u'', profile_sidebar_border_color=u'EEEEEE', default_profile=False, following=False), _json={u'contributors': None, u'truncated': False, u'text': u'it\\u2019s time for leo dicaprio to give up on his acting career and open a coffee shop called Leonardo DiCappuccino', u'is_quote_status': False, u'in_reply_to_status_id': None, u'id': 328451917539864576, u'favorite_count': 3827, u'entities': {u'symbols': [], u'user_mentions': [], u'hashtags': [], u'urls': []}, u'retweeted': False, u'coordinates': None, u'source': u'<a href=\"http://twitter.com/download/iphone\" rel=\"nofollow\">Twitter for iPhone</a>', u'in_reply_to_screen_name': None, u'in_reply_to_user_id': None, u'retweet_count': 4355, u'id_str': u'328451917539864576', u'favorited': False, u'user': {u'follow_request_sent': False, u'has_extended_profile': False, u'profile_use_background_image': True, u'default_profile_image': False, u'id': 435525090, u'profile_background_image_url_https': u'https://abs.twimg.com/images/themes/theme14/bg.gif', u'verified': True, u'profile_text_color': u'333333', u'profile_image_url_https': u'https://pbs.twimg.com/profile_images/697547892999921664/sKhnbCau_normal.jpg', u'profile_sidebar_fill_color': u'EFEFEF', u'entities': {u'url': {u'urls': [{u'url': u'https://t.co/7nRvUpWYvj', u'indices': [0, 23], u'expanded_url': u'http://youtube.com/janoskians', u'display_url': u'youtube.com/janoskians'}]}, u'description': {u'urls': []}}, u'followers_count': 1961936, u'profile_sidebar_border_color': u'EEEEEE', u'id_str': u'435525090', u'profile_background_color': u'131516', u'listed_count': 10835, u'is_translation_enabled': True, u'utc_offset': 39600, u'statuses_count': 15672, u'description': u'21, Aussie @Janoskians , MELBOURNE', u'friends_count': 42576, u'location': u'', u'profile_link_color': u'300099', u'profile_image_url': u'http://pbs.twimg.com/profile_images/697547892999921664/sKhnbCau_normal.jpg', u'following': False, u'geo_enabled': True, u'profile_banner_url': u'https://pbs.twimg.com/profile_banners/435525090/1446002989', u'profile_background_image_url': u'http://abs.twimg.com/images/themes/theme14/bg.gif', u'screen_name': u'JaiBrooks1', u'lang': u'en', u'profile_background_tile': True, u'favourites_count': 2562, u'name': u'Jai Brooks', u'notifications': False, u'url': u'https://t.co/7nRvUpWYvj', u'created_at': u'Tue Dec 13 04:48:49 +0000 2011', u'contributors_enabled': False, u'time_zone': u'New Caledonia', u'protected': False, u'default_profile': False, u'is_translator': False}, u'geo': None, u'in_reply_to_user_id_str': None, u'lang': u'en', u'created_at': u'Sun Apr 28 10:13:34 +0000 2013', u'in_reply_to_status_id_str': None, u'place': None, u'metadata': {u'iso_language_code': u'en', u'result_type': u'recent'}}, coordinates=None, entities={u'symbols': [], u'user_mentions': [], u'hashtags': [], u'urls': []}, in_reply_to_screen_name=None, id_str=u'328451917539864576', retweet_count=4355, in_reply_to_user_id=None, favorited=False, source_url=u'http://twitter.com/download/iphone', user=User(follow_request_sent=False, has_extended_profile=False, profile_use_background_image=True, _json={u'follow_request_sent': False, u'has_extended_profile': False, u'profile_use_background_image': True, u'default_profile_image': False, u'id': 435525090, u'profile_background_image_url_https': u'https://abs.twimg.com/images/themes/theme14/bg.gif', u'verified': True, u'profile_text_color': u'333333', u'profile_image_url_https': u'https://pbs.twimg.com/profile_images/697547892999921664/sKhnbCau_normal.jpg', u'profile_sidebar_fill_color': u'EFEFEF', u'entities': {u'url': {u'urls': [{u'url': u'https://t.co/7nRvUpWYvj', u'indices': [0, 23], u'expanded_url': u'http://youtube.com/janoskians', u'display_url': u'youtube.com/janoskians'}]}, u'description': {u'urls': []}}, u'followers_count': 1961936, u'profile_sidebar_border_color': u'EEEEEE', u'id_str': u'435525090', u'profile_background_color': u'131516', u'listed_count': 10835, u'is_translation_enabled': True, u'utc_offset': 39600, u'statuses_count': 15672, u'description': u'21, Aussie @Janoskians , MELBOURNE', u'friends_count': 42576, u'location': u'', u'profile_link_color': u'300099', u'profile_image_url': u'http://pbs.twimg.com/profile_images/697547892999921664/sKhnbCau_normal.jpg', u'following': False, u'geo_enabled': True, u'profile_banner_url': u'https://pbs.twimg.com/profile_banners/435525090/1446002989', u'profile_background_image_url': u'http://abs.twimg.com/images/themes/theme14/bg.gif', u'screen_name': u'JaiBrooks1', u'lang': u'en', u'profile_background_tile': True, u'favourites_count': 2562, u'name': u'Jai Brooks', u'notifications': False, u'url': u'https://t.co/7nRvUpWYvj', u'created_at': u'Tue Dec 13 04:48:49 +0000 2011', u'contributors_enabled': False, u'time_zone': u'New Caledonia', u'protected': False, u'default_profile': False, u'is_translator': False}, time_zone=u'New Caledonia', id=435525090, _api=<tweepy.api.API object at 0x104372a90>, verified=True, profile_text_color=u'333333', profile_image_url_https=u'https://pbs.twimg.com/profile_images/697547892999921664/sKhnbCau_normal.jpg', profile_sidebar_fill_color=u'EFEFEF', is_translator=False, geo_enabled=True, entities={u'url': {u'urls': [{u'url': u'https://t.co/7nRvUpWYvj', u'indices': [0, 23], u'expanded_url': u'http://youtube.com/janoskians', u'display_url': u'youtube.com/janoskians'}]}, u'description': {u'urls': []}}, followers_count=1961936, protected=False, id_str=u'435525090', default_profile_image=False, listed_count=10835, lang=u'en', utc_offset=39600, statuses_count=15672, description=u'21, Aussie @Janoskians , MELBOURNE', friends_count=42576, profile_link_color=u'300099', profile_image_url=u'http://pbs.twimg.com/profile_images/697547892999921664/sKhnbCau_normal.jpg', notifications=False, profile_background_image_url_https=u'https://abs.twimg.com/images/themes/theme14/bg.gif', profile_background_color=u'131516', profile_banner_url=u'https://pbs.twimg.com/profile_banners/435525090/1446002989', profile_background_image_url=u'http://abs.twimg.com/images/themes/theme14/bg.gif', name=u'Jai Brooks', is_translation_enabled=True, profile_background_tile=True, favourites_count=2562, screen_name=u'JaiBrooks1', url=u'https://t.co/7nRvUpWYvj', created_at=datetime.datetime(2011, 12, 13, 4, 48, 49), contributors_enabled=False, location=u'', profile_sidebar_border_color=u'EEEEEE', default_profile=False, following=False), geo=None, in_reply_to_user_id_str=None, lang=u'en', created_at=datetime.datetime(2013, 4, 28, 10, 13, 34), in_reply_to_status_id_str=None, place=None, source=u'Twitter for iPhone', retweeted=False, metadata={u'iso_language_code': u'en', u'result_type': u'recent'}), source_url=u'http://twitter.com/download/iphone', user=User(follow_request_sent=False, has_extended_profile=True, profile_use_background_image=True, _json={u'follow_request_sent': False, u'has_extended_profile': True, u'profile_use_background_image': True, u'default_profile_image': False, u'id': 3295211427, u'profile_background_image_url_https': u'https://pbs.twimg.com/profile_background_images/602115035075256322/T3chGB9m.jpg', u'verified': False, u'profile_text_color': u'000000', u'profile_image_url_https': u'https://pbs.twimg.com/profile_images/730742540580880385/GaHbsxep_normal.jpg', u'profile_sidebar_fill_color': u'000000', u'entities': {u'description': {u'urls': []}}, u'followers_count': 9102, u'profile_sidebar_border_color': u'000000', u'id_str': u'3295211427', u'profile_background_color': u'000000', u'listed_count': 23, u'is_translation_enabled': False, u'utc_offset': 7200, u'statuses_count': 48083, u'description': u'jai brooks aka loml', u'friends_count': 274, u'location': u'', u'profile_link_color': u'000000', u'profile_image_url': u'http://pbs.twimg.com/profile_images/730742540580880385/GaHbsxep_normal.jpg', u'following': False, u'geo_enabled': False, u'profile_banner_url': u'https://pbs.twimg.com/profile_banners/3295211427/1456493894', u'profile_background_image_url': u'http://pbs.twimg.com/profile_background_images/602115035075256322/T3chGB9m.jpg', u'screen_name': u'fab4jai', u'lang': u'fr', u'profile_background_tile': True, u'favourites_count': 22384, u'name': u'yasmine', u'notifications': False, u'url': None, u'created_at': u'Sat May 23 13:44:46 +0000 2015', u'contributors_enabled': False, u'time_zone': u'Paris', u'protected': False, u'default_profile': False, u'is_translator': False}, time_zone=u'Paris', id=3295211427, _api=<tweepy.api.API object at 0x104372a90>, verified=False, profile_text_color=u'000000', profile_image_url_https=u'https://pbs.twimg.com/profile_images/730742540580880385/GaHbsxep_normal.jpg', profile_sidebar_fill_color=u'000000', is_translator=False, geo_enabled=False, entities={u'description': {u'urls': []}}, followers_count=9102, protected=False, id_str=u'3295211427', default_profile_image=False, listed_count=23, lang=u'fr', utc_offset=7200, statuses_count=48083, description=u'jai brooks aka loml', friends_count=274, profile_link_color=u'000000', profile_image_url=u'http://pbs.twimg.com/profile_images/730742540580880385/GaHbsxep_normal.jpg', notifications=False, profile_background_image_url_https=u'https://pbs.twimg.com/profile_background_images/602115035075256322/T3chGB9m.jpg', profile_background_color=u'000000', profile_banner_url=u'https://pbs.twimg.com/profile_banners/3295211427/1456493894', profile_background_image_url=u'http://pbs.twimg.com/profile_background_images/602115035075256322/T3chGB9m.jpg', name=u'yasmine', is_translation_enabled=False, profile_background_tile=True, favourites_count=22384, screen_name=u'fab4jai', url=None, created_at=datetime.datetime(2015, 5, 23, 13, 44, 46), contributors_enabled=False, location=u'', profile_sidebar_border_color=u'000000', default_profile=False, following=False), geo=None, in_reply_to_user_id_str=None, lang=u'en', created_at=datetime.datetime(2016, 5, 16, 19, 50, 25), in_reply_to_status_id_str=None, place=None, source=u'Twitter for iPhone', retweeted=False, metadata={u'iso_language_code': u'en', u'result_type': u'recent'})\n"
     ]
    }
   ],
   "source": [
    "\n",
    "max_tweets=1\n",
    "\n",
    "#Tweepy Cursor handles pagination .. \n",
    "\n",
    "for tweet in tweepy.Cursor(api.search,q=\"Leonardo DiCaprio\").items(max_tweets):\n",
    "    print tweet"
   ]
  },
  {
   "cell_type": "code",
   "execution_count": 48,
   "metadata": {
    "collapsed": false
   },
   "outputs": [],
   "source": [
    "results=[]\n",
    "\n",
    "for tweet in tweepy.Cursor(api.search,q=\"Leonardo DiCaprio\").items(10):\n",
    "    results.append(tweet)"
   ]
  },
  {
   "cell_type": "markdown",
   "metadata": {},
   "source": [
    "#### Import tweets into Pandas"
   ]
  },
  {
   "cell_type": "code",
   "execution_count": 49,
   "metadata": {
    "collapsed": true
   },
   "outputs": [],
   "source": [
    "import pandas as pd"
   ]
  },
  {
   "cell_type": "code",
   "execution_count": 50,
   "metadata": {
    "collapsed": false
   },
   "outputs": [],
   "source": [
    "def structure_results(results):\n",
    "    id_list=[tweet.id for tweet in results]\n",
    "    data=pd.DataFrame(id_list,columns=['id'])\n",
    "    \n",
    "    data[\"text\"]= [tweet.text.encode('utf-8') for tweet in results]\n",
    "    data[\"datetime\"]=[tweet.created_at for tweet in results]\n",
    "    data[\"Location\"]=[tweet.place for tweet in results]\n",
    "    \n",
    "    return data"
   ]
  },
  {
   "cell_type": "code",
   "execution_count": 51,
   "metadata": {
    "collapsed": false
   },
   "outputs": [
    {
     "data": {
      "text/html": [
       "<div>\n",
       "<table border=\"1\" class=\"dataframe\">\n",
       "  <thead>\n",
       "    <tr style=\"text-align: right;\">\n",
       "      <th></th>\n",
       "      <th>id</th>\n",
       "      <th>text</th>\n",
       "      <th>datetime</th>\n",
       "      <th>Location</th>\n",
       "    </tr>\n",
       "  </thead>\n",
       "  <tbody>\n",
       "    <tr>\n",
       "      <th>0</th>\n",
       "      <td>732297168745304064</td>\n",
       "      <td>RT @JaiBrooks1: it’s time for leo dicaprio to ...</td>\n",
       "      <td>2016-05-16 19:50:25</td>\n",
       "      <td>None</td>\n",
       "    </tr>\n",
       "    <tr>\n",
       "      <th>1</th>\n",
       "      <td>732297148553822208</td>\n",
       "      <td>RT @Week_people: #LeonardoDiCaprio est bien ar...</td>\n",
       "      <td>2016-05-16 19:50:20</td>\n",
       "      <td>None</td>\n",
       "    </tr>\n",
       "    <tr>\n",
       "      <th>2</th>\n",
       "      <td>732296965354979328</td>\n",
       "      <td>Leonardo DiCaprio Height And Weight https://t....</td>\n",
       "      <td>2016-05-16 19:49:36</td>\n",
       "      <td>None</td>\n",
       "    </tr>\n",
       "    <tr>\n",
       "      <th>3</th>\n",
       "      <td>732296936099696641</td>\n",
       "      <td>RT @9GAG: Leonardo DiCaprio on Worrying and Fa...</td>\n",
       "      <td>2016-05-16 19:49:29</td>\n",
       "      <td>None</td>\n",
       "    </tr>\n",
       "    <tr>\n",
       "      <th>4</th>\n",
       "      <td>732296843959242752</td>\n",
       "      <td>@natalie_mrz my name is SAM ^_~ Leonardo DiCap...</td>\n",
       "      <td>2016-05-16 19:49:07</td>\n",
       "      <td>None</td>\n",
       "    </tr>\n",
       "  </tbody>\n",
       "</table>\n",
       "</div>"
      ],
      "text/plain": [
       "                   id                                               text  \\\n",
       "0  732297168745304064  RT @JaiBrooks1: it’s time for leo dicaprio to ...   \n",
       "1  732297148553822208  RT @Week_people: #LeonardoDiCaprio est bien ar...   \n",
       "2  732296965354979328  Leonardo DiCaprio Height And Weight https://t....   \n",
       "3  732296936099696641  RT @9GAG: Leonardo DiCaprio on Worrying and Fa...   \n",
       "4  732296843959242752  @natalie_mrz my name is SAM ^_~ Leonardo DiCap...   \n",
       "\n",
       "             datetime Location  \n",
       "0 2016-05-16 19:50:25     None  \n",
       "1 2016-05-16 19:50:20     None  \n",
       "2 2016-05-16 19:49:36     None  \n",
       "3 2016-05-16 19:49:29     None  \n",
       "4 2016-05-16 19:49:07     None  "
      ]
     },
     "execution_count": 51,
     "metadata": {},
     "output_type": "execute_result"
    }
   ],
   "source": [
    "data=structure_results(results)\n",
    "data.head()"
   ]
  },
  {
   "cell_type": "markdown",
   "metadata": {},
   "source": [
    "#### Import Tweets into MongoDB"
   ]
  },
  {
   "cell_type": "markdown",
   "metadata": {},
   "source": [
    "Note:  Make sure mongodb is running in the background"
   ]
  },
  {
   "cell_type": "code",
   "execution_count": 64,
   "metadata": {
    "collapsed": false
   },
   "outputs": [],
   "source": [
    "import json\n",
    "from pymongo import MongoClient\n",
    "\n",
    "client = MongoClient()\n",
    "\n",
    "# database\n",
    "db = client.example\n",
    "\n",
    "# collection\n",
    "tweets = db.tweets"
   ]
  },
  {
   "cell_type": "code",
   "execution_count": 65,
   "metadata": {
    "collapsed": false
   },
   "outputs": [],
   "source": [
    "for tweet in results:\n",
    "    data={}\n",
    "    data['tweet']=tweet.text.encode('utf-8') \n",
    "    data['datetime']=tweet.created_at\n",
    "    tweets.insert_one(data)"
   ]
  },
  {
   "cell_type": "code",
   "execution_count": 66,
   "metadata": {
    "collapsed": false
   },
   "outputs": [
    {
     "data": {
      "text/plain": [
       "{u'_id': ObjectId('573a252cdfdd20062b84111f'),\n",
       " u'datetime': datetime.datetime(2016, 5, 16, 19, 50, 25),\n",
       " u'tweet': u'RT @JaiBrooks1: it\\u2019s time for leo dicaprio to give up on his acting career and open a coffee shop called Leonardo DiCappuccino'}"
      ]
     },
     "execution_count": 66,
     "metadata": {},
     "output_type": "execute_result"
    }
   ],
   "source": [
    "tweets.find_one()"
   ]
  },
  {
   "cell_type": "code",
   "execution_count": 63,
   "metadata": {
    "collapsed": false
   },
   "outputs": [
    {
     "data": {
      "text/plain": [
       "pymongo.collection.Collection"
      ]
     },
     "execution_count": 63,
     "metadata": {},
     "output_type": "execute_result"
    }
   ],
   "source": [
    "type(tweets)"
   ]
  },
  {
   "cell_type": "code",
   "execution_count": 59,
   "metadata": {
    "collapsed": false
   },
   "outputs": [
    {
     "data": {
      "text/plain": [
       "pymongo.database.Database"
      ]
     },
     "execution_count": 59,
     "metadata": {},
     "output_type": "execute_result"
    }
   ],
   "source": [
    "type(db)"
   ]
  },
  {
   "cell_type": "code",
   "execution_count": null,
   "metadata": {
    "collapsed": true
   },
   "outputs": [],
   "source": []
  }
 ],
 "metadata": {
  "kernelspec": {
   "display_name": "Python 2",
   "language": "python",
   "name": "python2"
  },
  "language_info": {
   "codemirror_mode": {
    "name": "ipython",
    "version": 2
   },
   "file_extension": ".py",
   "mimetype": "text/x-python",
   "name": "python",
   "nbconvert_exporter": "python",
   "pygments_lexer": "ipython2",
   "version": "2.7.11"
  }
 },
 "nbformat": 4,
 "nbformat_minor": 0
}
