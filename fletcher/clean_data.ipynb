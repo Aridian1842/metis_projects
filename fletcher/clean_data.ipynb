{
 "cells": [
  {
   "cell_type": "code",
   "execution_count": null,
   "metadata": {
    "collapsed": false
   },
   "outputs": [],
   "source": [
    "import pandas as pd\n",
    "import pickle\n",
    "\n",
    "from library.clean import ascii_a_col, ascii_cols, lower_case_columns, rid_punctuation, slice_and_dice_col, str_to_date"
   ]
  },
  {
   "cell_type": "code",
   "execution_count": null,
   "metadata": {
    "collapsed": false
   },
   "outputs": [],
   "source": [
    "l = pd.read_pickle('data/consolidated_flat.pickle')\n",
    "df = pd.DataFrame(l, columns=['nyt_id', 'date_pub', 'org', 'hl', 'lead'])\n",
    "df.head(3)"
   ]
  },
  {
   "cell_type": "code",
   "execution_count": null,
   "metadata": {
    "collapsed": false
   },
   "outputs": [],
   "source": [
    "# load and clean data\n",
    "\n",
    "l = pd.read_pickle('data/consolidated_flat.pickle')\n",
    "df = pd.DataFrame(l, columns=['nyt_id', 'date_pub', 'org', 'hl', 'lead'])\n",
    "df.drop_duplicates(inplace=True)\n",
    "df.dropna(inplace=True)\n",
    "#df = df.fillna(u'none')\n",
    "\n",
    "df = ascii_cols(df, ['nyt_id', 'hl', 'lead', 'date_pub'])\n",
    "df = lower_case_columns(df)\n",
    "df = rid_punctuation(df)\n",
    "df = slice_and_dice_col(df, 'date_pub', 0, 8)\n",
    "df = str_to_date(df, 'date_pub')\n",
    "\n",
    "pd.DataFrame.mask = mask\n",
    "\n",
    "df.head(100)"
   ]
  },
  {
   "cell_type": "code",
   "execution_count": null,
   "metadata": {
    "collapsed": false
   },
   "outputs": [],
   "source": [
    "# write to file\n",
    "\n",
    "df.to_pickle('data/cleaned/clean.pickle')"
   ]
  }
 ],
 "metadata": {
  "kernelspec": {
   "display_name": "Python 2",
   "language": "python",
   "name": "python2"
  },
  "language_info": {
   "codemirror_mode": {
    "name": "ipython",
    "version": 2
   },
   "file_extension": ".py",
   "mimetype": "text/x-python",
   "name": "python",
   "nbconvert_exporter": "python",
   "pygments_lexer": "ipython2",
   "version": "2.7.11"
  }
 },
 "nbformat": 4,
 "nbformat_minor": 0
}
