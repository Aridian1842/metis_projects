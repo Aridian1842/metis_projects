{
 "cells": [
  {
   "cell_type": "code",
   "execution_count": 3,
   "metadata": {
    "collapsed": false
   },
   "outputs": [],
   "source": [
    "import pandas as pd\n",
    "import pickle\n",
    "\n",
    "from library.clean import lower_case_columns, rid_punctuation, slice_and_dice_col, str_to_date, stringify_data"
   ]
  },
  {
   "cell_type": "code",
   "execution_count": 9,
   "metadata": {
    "collapsed": false
   },
   "outputs": [
    {
     "data": {
      "text/html": [
       "<div>\n",
       "<table border=\"1\" class=\"dataframe\">\n",
       "  <thead>\n",
       "    <tr style=\"text-align: right;\">\n",
       "      <th></th>\n",
       "      <th>nyt_id</th>\n",
       "      <th>org</th>\n",
       "      <th>hl</th>\n",
       "      <th>lead</th>\n",
       "      <th>date_pub</th>\n",
       "    </tr>\n",
       "  </thead>\n",
       "  <tbody>\n",
       "    <tr>\n",
       "      <th>3</th>\n",
       "      <td>4fc0a09745c1498b0d3ba216</td>\n",
       "      <td>none</td>\n",
       "      <td>MARIJUANA SMOKING IS REPORTED SAFE Hemp Leaves...</td>\n",
       "      <td>PANAMA Nov 14  A Panaman Judge recently senten...</td>\n",
       "      <td>1926-11-21</td>\n",
       "    </tr>\n",
       "    <tr>\n",
       "      <th>9</th>\n",
       "      <td>4fc1d8e345c1498b0d4ccb9f</td>\n",
       "      <td>none</td>\n",
       "      <td>USE OF MARIJUANA SPREADING IN WEST Poisonous W...</td>\n",
       "      <td>DENVER Sept 13  Although as appalling in its e...</td>\n",
       "      <td>1934-09-16</td>\n",
       "    </tr>\n",
       "    <tr>\n",
       "      <th>12</th>\n",
       "      <td>4fc1ebab45c1498b0d528e5b</td>\n",
       "      <td>The Associated Press</td>\n",
       "      <td>RHODE ISLAND TO END WEED AS DRUG SOURCE State ...</td>\n",
       "      <td>PROVIDENCE RI Jan 19 Rhode Island authorities ...</td>\n",
       "      <td>1935-01-20</td>\n",
       "    </tr>\n",
       "  </tbody>\n",
       "</table>\n",
       "</div>"
      ],
      "text/plain": [
       "                      nyt_id                   org  \\\n",
       "3   4fc0a09745c1498b0d3ba216                  none   \n",
       "9   4fc1d8e345c1498b0d4ccb9f                  none   \n",
       "12  4fc1ebab45c1498b0d528e5b  The Associated Press   \n",
       "\n",
       "                                                   hl  \\\n",
       "3   MARIJUANA SMOKING IS REPORTED SAFE Hemp Leaves...   \n",
       "9   USE OF MARIJUANA SPREADING IN WEST Poisonous W...   \n",
       "12  RHODE ISLAND TO END WEED AS DRUG SOURCE State ...   \n",
       "\n",
       "                                                 lead   date_pub  \n",
       "3   PANAMA Nov 14  A Panaman Judge recently senten... 1926-11-21  \n",
       "9   DENVER Sept 13  Although as appalling in its e... 1934-09-16  \n",
       "12  PROVIDENCE RI Jan 19 Rhode Island authorities ... 1935-01-20  "
      ]
     },
     "execution_count": 9,
     "metadata": {},
     "output_type": "execute_result"
    }
   ],
   "source": [
    "# load data\n",
    "\n",
    "l = pd.read_pickle('data/re_merge/consolidated_flat.pickle')\n",
    "df = pd.DataFrame(l, columns=['nyt_id', 'date_pub', 'org', 'hl', 'lead'])\n",
    "df.drop_duplicates(inplace=True)\n",
    "df.dropna(inplace=True)\n",
    "df = stringify_data(df)\n",
    "df = rid_punctuation(df)\n",
    "df = slice_and_dice_col(df, 'date_pub', 0, 8)\n",
    "df = str_to_date(df, 'date_pub')\n",
    "df = df[df['lead'].str.contains('marijuana')]\n",
    "df.to_pickle('data/re_merge/clean.pickle')\n",
    "df.head(3)"
   ]
  },
  {
   "cell_type": "code",
   "execution_count": 10,
   "metadata": {
    "collapsed": false
   },
   "outputs": [
    {
     "data": {
      "text/plain": [
       "(5542, 5)"
      ]
     },
     "execution_count": 10,
     "metadata": {},
     "output_type": "execute_result"
    }
   ],
   "source": [
    "df.shape"
   ]
  },
  {
   "cell_type": "code",
   "execution_count": null,
   "metadata": {
    "collapsed": true
   },
   "outputs": [],
   "source": []
  }
 ],
 "metadata": {
  "kernelspec": {
   "display_name": "Python 2",
   "language": "python",
   "name": "python2"
  },
  "language_info": {
   "codemirror_mode": {
    "name": "ipython",
    "version": 2
   },
   "file_extension": ".py",
   "mimetype": "text/x-python",
   "name": "python",
   "nbconvert_exporter": "python",
   "pygments_lexer": "ipython2",
   "version": "2.7.11"
  }
 },
 "nbformat": 4,
 "nbformat_minor": 0
}
