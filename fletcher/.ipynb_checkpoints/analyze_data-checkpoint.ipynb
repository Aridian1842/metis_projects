{
 "cells": [
  {
   "cell_type": "code",
   "execution_count": 1,
   "metadata": {
    "collapsed": true
   },
   "outputs": [],
   "source": [
    "import pandas as pd"
   ]
  },
  {
   "cell_type": "code",
   "execution_count": 2,
   "metadata": {
    "collapsed": false
   },
   "outputs": [
    {
     "data": {
      "text/html": [
       "<div>\n",
       "<table border=\"1\" class=\"dataframe\">\n",
       "  <thead>\n",
       "    <tr style=\"text-align: right;\">\n",
       "      <th></th>\n",
       "      <th>org</th>\n",
       "      <th>nyt_id</th>\n",
       "      <th>hl</th>\n",
       "      <th>lead</th>\n",
       "      <th>date_pub</th>\n",
       "    </tr>\n",
       "  </thead>\n",
       "  <tbody>\n",
       "    <tr>\n",
       "      <th>1</th>\n",
       "      <td>none</td>\n",
       "      <td>4fc0a09745c1498b0d3ba216</td>\n",
       "      <td>marijuana smoking is reported safe hemp leaves...</td>\n",
       "      <td>panama nov 14  a panaman judge recently senten...</td>\n",
       "      <td>1926-11-21</td>\n",
       "    </tr>\n",
       "    <tr>\n",
       "      <th>3</th>\n",
       "      <td>none</td>\n",
       "      <td>4fc1d8e145c1498b0d4cc76e</td>\n",
       "      <td>his appetite betrayed kansas second messiah</td>\n",
       "      <td>frontenac kan march 15  arthur trott selfstyle...</td>\n",
       "      <td>1934-03-18</td>\n",
       "    </tr>\n",
       "    <tr>\n",
       "      <th>4</th>\n",
       "      <td>none</td>\n",
       "      <td>4fc1d8e445c1498b0d4ccd32</td>\n",
       "      <td>mexico bars action on johnson speech embassy i...</td>\n",
       "      <td>washington july 14 ap  the mexican embassy was...</td>\n",
       "      <td>1934-07-15</td>\n",
       "    </tr>\n",
       "  </tbody>\n",
       "</table>\n",
       "</div>"
      ],
      "text/plain": [
       "    org                    nyt_id  \\\n",
       "1  none  4fc0a09745c1498b0d3ba216   \n",
       "3  none  4fc1d8e145c1498b0d4cc76e   \n",
       "4  none  4fc1d8e445c1498b0d4ccd32   \n",
       "\n",
       "                                                  hl  \\\n",
       "1  marijuana smoking is reported safe hemp leaves...   \n",
       "3        his appetite betrayed kansas second messiah   \n",
       "4  mexico bars action on johnson speech embassy i...   \n",
       "\n",
       "                                                lead   date_pub  \n",
       "1  panama nov 14  a panaman judge recently senten... 1926-11-21  \n",
       "3  frontenac kan march 15  arthur trott selfstyle... 1934-03-18  \n",
       "4  washington july 14 ap  the mexican embassy was... 1934-07-15  "
      ]
     },
     "execution_count": 2,
     "metadata": {},
     "output_type": "execute_result"
    }
   ],
   "source": [
    "df = pd.read_pickle('data/cleaned/clean.pickle')\n",
    "df.head(3)"
   ]
  },
  {
   "cell_type": "code",
   "execution_count": null,
   "metadata": {
    "collapsed": true
   },
   "outputs": [],
   "source": []
  }
 ],
 "metadata": {
  "kernelspec": {
   "display_name": "Python 2",
   "language": "python",
   "name": "python2"
  },
  "language_info": {
   "codemirror_mode": {
    "name": "ipython",
    "version": 2
   },
   "file_extension": ".py",
   "mimetype": "text/x-python",
   "name": "python",
   "nbconvert_exporter": "python",
   "pygments_lexer": "ipython2",
   "version": "2.7.11"
  }
 },
 "nbformat": 4,
 "nbformat_minor": 0
}
