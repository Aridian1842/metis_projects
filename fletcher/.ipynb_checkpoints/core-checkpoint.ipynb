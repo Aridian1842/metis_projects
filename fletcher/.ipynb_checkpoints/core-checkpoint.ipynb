{
 "cells": [
  {
   "cell_type": "code",
   "execution_count": null,
   "metadata": {
    "collapsed": false
   },
   "outputs": [],
   "source": [
    "import requests\n",
    "from nytimesarticle import articleAPI\n",
    "import collections\n",
    "import math\n",
    "import pymongo\n",
    "import datetime\n",
    "import re\n",
    "from bson.binary import Binary\n",
    "import pickle\n",
    "import json"
   ]
  },
  {
   "cell_type": "code",
   "execution_count": null,
   "metadata": {
    "collapsed": false
   },
   "outputs": [],
   "source": [
    "prasmuss = '7b4597b0dc6845688a8f90c00f3e60b6'\n",
    "peter_gray_rasmussen = '67391c8a5c6c2d8926eb3d9c5d136c59:7:72273330'\n",
    "proton = 'f8c34c7cda7848f997a9c273815d28a9'\n",
    "api = articleAPI(proton)\n"
   ]
  },
  {
   "cell_type": "code",
   "execution_count": null,
   "metadata": {
    "collapsed": true
   },
   "outputs": [],
   "source": [
    "def convert(data):\n",
    "    '''\n",
    "    this function encodes dictionary of unicode entries into utf8\n",
    "    from http://stackoverflow.com/questions/1254454/fastest-way-to-convert-a-dicts-keys-values-from-unicode-to-str\n",
    "    '''\n",
    "    \n",
    "    if isinstance(data, basestring):\n",
    "        return str(data)\n",
    "    elif isinstance(data, collections.Mapping):\n",
    "        return dict(map(convert, data.iteritems()))\n",
    "    elif isinstance(data, collections.Iterable):\n",
    "        return type(data)(map(convert, data))\n",
    "    else:\n",
    "        return data"
   ]
  },
  {
   "cell_type": "code",
   "execution_count": null,
   "metadata": {
    "collapsed": false
   },
   "outputs": [],
   "source": [
    "def get_nyt_article_stats(articles_and_meta):\n",
    "    '''\n",
    "    this function returns the number of hits, number of hits in 100 pages, and hits per page\n",
    "    '''\n",
    "    num_hits = articles_and_meta['response']['meta']['hits'] # total number of articles for query\n",
    "    hits_per_query_set = articles_and_meta['response']['meta']['offset'] # each query gets up to 100 pages\n",
    "    hits_per_page = len(articles_and_meta['response']['docs']) # hits per page\n",
    "    pages = hits_per_query_set / hits_per_page\n",
    "    queries = int(math.ceil(num_hits/float(hits_per_page)))\n",
    "    return num_hits, hits_per_query_set, pages, hits_per_page, queries\n",
    "\n",
    "get_nyt_article_stats(articles_and_meta)"
   ]
  },
  {
   "cell_type": "code",
   "execution_count": null,
   "metadata": {
    "collapsed": false
   },
   "outputs": [],
   "source": [
    "# get date of last article\n",
    "def get_last_date_plus_one(articles_and_meta):\n",
    "    date_li = articles_and_meta['response']['docs'][-1]['pub_date'].split('T')[0].split('-')\n",
    "    date_str = ''.join(date_li)\n",
    "    date_date = datetime.datetime.strptime(date_str, '%Y%m%d').date()\n",
    "    date_date_plus_one = str(date_date + datetime.timedelta(days=1))\n",
    "    #date_date_plus_one_str = [str(d) for d in date_date_plus_one][:2]\n",
    "    output = re.sub('-', '', date_date_plus_one)\n",
    "    return output"
   ]
  },
  {
   "cell_type": "code",
   "execution_count": null,
   "metadata": {
    "collapsed": false
   },
   "outputs": [],
   "source": [
    "def extract_to_mongod(query, date_begin, date_end, mdb):\n",
    "    \n",
    "    # get total number of pings needed\n",
    "    data_converted = None\n",
    "    while data_converted is None:\n",
    "        try:\n",
    "            data = api.search(q=query, begin_date=date_begin, end_date='20160430', sort='oldest')    \n",
    "            data_converted = convert(data)  # convert unicode to strings\n",
    "            \n",
    "        except:\n",
    "            pass\n",
    "        date_date = datetime.datetime.strptime(date_str, '%Y%m%d').date()\n",
    "        date_date_plus_one = str(date_date + datetime.timedelta(days=1))\n",
    "        date_begin = re.sub('-', '', date_date_plus_one)\n",
    "    \n",
    "    stats = get_nyt_article_stats(data_converted)  # outputs key stats from first ping\n",
    "    pings = stats[-1]  # number of pings required\n",
    "    pings_list = range(0, pings-1)\n",
    "    d_begin = date_begin\n",
    "    for ping in pings_list:\n",
    "        print d_begin\n",
    "        \n",
    "        # get data from api\n",
    "        try:\n",
    "            data2 = api.search(q=query, begin_date=d_begin, end_date='20160430', sort='oldest')\n",
    "            #print data2\n",
    "            data_converted2 = convert(data2)  # convert unicode to strings\n",
    "\n",
    "            #print data_converted2\n",
    "            #print data_converted2\n",
    "            last_date_plus_one = get_last_date_plus_one(data_converted2)\n",
    "            #print type(data2)\n",
    "            # write to mongodb ###BUG###\n",
    "            mdb.insert_one(data_converted2) # insert one set of articles into db\n",
    "\n",
    "            # update date\n",
    "            d_begin = last_date_plus_one\n",
    "            #print data2\n",
    "        except:\n",
    "            date_date = datetime.datetime.strptime(d_begin, '%Y%m%d').date()\n",
    "            date_date_plus_one = str(date_date + datetime.timedelta(days=1))\n",
    "            d_begin = re.sub('-', '', date_date_plus_one)\n",
    "        \n",
    "    return 'success'"
   ]
  },
  {
   "cell_type": "code",
   "execution_count": null,
   "metadata": {
    "collapsed": true
   },
   "outputs": [],
   "source": [
    "#client = pymongo.MongoClient()\n",
    "#nyt = client.nyt_db\n",
    "#collection4 = nyt.collection4"
   ]
  },
  {
   "cell_type": "code",
   "execution_count": null,
   "metadata": {
    "collapsed": false
   },
   "outputs": [],
   "source": [
    "#extract_to_mongod('marijuana', '19960120', '20160430', collection4)"
   ]
  },
  {
   "cell_type": "code",
   "execution_count": null,
   "metadata": {
    "collapsed": false
   },
   "outputs": [],
   "source": [
    "#data2 = api.search(q=query, begin_date='20100202', end_date='20100203', sort='oldest')"
   ]
  },
  {
   "cell_type": "code",
   "execution_count": null,
   "metadata": {
    "collapsed": false
   },
   "outputs": [],
   "source": [
    "def pickle_mongo(collection_name, filename):\n",
    "    cur = collection_name.find()\n",
    "    a_list = []\n",
    "    for doc in cur:\n",
    "        l.append(doc)\n",
    "    file_name = filename + '.pickle'\n",
    "    with open (file_name, 'wb') as f:\n",
    "        pickle.dump(l, f)"
   ]
  },
  {
   "cell_type": "code",
   "execution_count": null,
   "metadata": {
    "collapsed": false
   },
   "outputs": [],
   "source": [
    "#pickle_mongo(collection4, 'marijuana_19960120_to_something')"
   ]
  }
 ],
 "metadata": {
  "kernelspec": {
   "display_name": "Python 2",
   "language": "python",
   "name": "python2"
  },
  "language_info": {
   "codemirror_mode": {
    "name": "ipython",
    "version": 2
   },
   "file_extension": ".py",
   "mimetype": "text/x-python",
   "name": "python",
   "nbconvert_exporter": "python",
   "pygments_lexer": "ipython2",
   "version": "2.7.11"
  }
 },
 "nbformat": 4,
 "nbformat_minor": 0
}
