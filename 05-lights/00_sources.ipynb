{
 "cells": [
  {
   "cell_type": "markdown",
   "metadata": {},
   "source": [
    "#### We need to get the data sources to do the analysis\n",
    "* import modules"
   ]
  },
  {
   "cell_type": "code",
   "execution_count": 15,
   "metadata": {
    "collapsed": false
   },
   "outputs": [],
   "source": [
    "import os\n",
    "from urllib2 import urlopen\n",
    "from zipfile import ZipFile\n",
    "import geopandas as gpd\n",
    "\n",
    "from library.get import *"
   ]
  },
  {
   "cell_type": "markdown",
   "metadata": {},
   "source": [
    "#### Get the countries data from Natural Earth"
   ]
  },
  {
   "cell_type": "code",
   "execution_count": 16,
   "metadata": {
    "collapsed": false
   },
   "outputs": [],
   "source": [
    "# make / specify directory\n",
    "dir_ = 'data/geo/countries' \n",
    "fn_zip = 'ne.zip'\n",
    "dst_zip = os.path.join(dir_, fn_zip)\n",
    "fn_shp = 'ne.shp'\n",
    "dst_shp = os.path.join(dir_, fn_shp)\n",
    "mkdir(dir_)\n",
    "\n",
    "# make / specify directory, specify url and destination\n",
    "url = 'http://www.naturalearthdata.com/http//www.naturalearthdata.com/download/10m/cultural/ne_10m_admin_0_countries.zip'\n",
    "#dst = 'data/countries/shp/ne.zip'\n",
    "\n",
    "# download zip file\n",
    "request = urlopen(url)\n",
    "\n",
    "# save zip file\n",
    "output = open(dst_zip, \"w\")\n",
    "output.write(request.read())\n",
    "output.close()\n",
    "\n",
    "# unzip zip file\n",
    "with ZipFile(dst_zip) as the_zip:\n",
    "    the_zip.extractall(dir_)\n",
    "    \n",
    "# read in unzipped shapefile\n",
    "geo = gpd.read_file(os.path.join(dir_, 'ne_10m_admin_0_countries.shp'))\n",
    "\n",
    "# filter out countries that don't have iso a3 code\n",
    "geo = geo[geo.ISO_A3 != '-99']\n",
    "\n",
    "# reset index to iso country codes\n",
    "geo.set_index('ISO_A3', inplace=True)\n",
    "\n",
    "# drop col causing problems\n",
    "geo.drop('POP_EST', inplace=True, axis=1)\n",
    "\n",
    "# overwrite filtered list of countries\n",
    "geo.to_file(dst_shp)\n",
    "\n",
    "# pickle geodataframe\n",
    "geo.to_pickle(os.path.join(dir_, 'ne.pickle'))"
   ]
  },
  {
   "cell_type": "markdown",
   "metadata": {},
   "source": [
    "#### Get the image data from NOAA"
   ]
  },
  {
   "cell_type": "code",
   "execution_count": 20,
   "metadata": {
    "collapsed": true
   },
   "outputs": [],
   "source": [
    "mkdir('data/geo/images')"
   ]
  },
  {
   "cell_type": "code",
   "execution_count": 21,
   "metadata": {
    "collapsed": true
   },
   "outputs": [],
   "source": [
    "# Download the data from the first table provided in the url below\n",
    "# save files in data/geo/images\n",
    "# unzip each tif file\n",
    "# http://ngdc.noaa.gov/eog/dmsp/downloadV4composites.html"
   ]
  }
 ],
 "metadata": {
  "kernelspec": {
   "display_name": "Python 2",
   "language": "python",
   "name": "python2"
  },
  "language_info": {
   "codemirror_mode": {
    "name": "ipython",
    "version": 2
   },
   "file_extension": ".py",
   "mimetype": "text/x-python",
   "name": "python",
   "nbconvert_exporter": "python",
   "pygments_lexer": "ipython2",
   "version": "2.7.11"
  }
 },
 "nbformat": 4,
 "nbformat_minor": 0
}
