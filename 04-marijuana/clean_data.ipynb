{
 "cells": [
  {
   "cell_type": "code",
   "execution_count": 1,
   "metadata": {
    "collapsed": true
   },
   "outputs": [],
   "source": [
    "#!/usr/bin/env python\n",
    "# -*- coding: latin-1 -*-"
   ]
  },
  {
   "cell_type": "code",
   "execution_count": 2,
   "metadata": {
    "collapsed": false
   },
   "outputs": [],
   "source": [
    "import pandas as pd\n",
    "import pickle\n",
    "import re\n",
    "\n",
    "from library.clean import replace_string, lower_case_columns, rid_punctuation, slice_and_dice_col, str_to_date, stringify_data"
   ]
  },
  {
   "cell_type": "code",
   "execution_count": 4,
   "metadata": {
    "collapsed": false
   },
   "outputs": [
    {
     "data": {
      "text/html": [
       "<div>\n",
       "<table border=\"1\" class=\"dataframe\">\n",
       "  <thead>\n",
       "    <tr style=\"text-align: right;\">\n",
       "      <th></th>\n",
       "      <th>nyt_id</th>\n",
       "      <th>org</th>\n",
       "      <th>hl</th>\n",
       "      <th>lead</th>\n",
       "      <th>date_pub</th>\n",
       "    </tr>\n",
       "  </thead>\n",
       "  <tbody>\n",
       "    <tr>\n",
       "      <th>3</th>\n",
       "      <td>4fc0a09745c1498b0d3ba216</td>\n",
       "      <td>none</td>\n",
       "      <td>marijuana smoking is reported safe hemp leaves...</td>\n",
       "      <td>a panaman judge recently sentenced an american...</td>\n",
       "      <td>1926-11-21</td>\n",
       "    </tr>\n",
       "    <tr>\n",
       "      <th>9</th>\n",
       "      <td>4fc1d8e345c1498b0d4ccb9f</td>\n",
       "      <td>none</td>\n",
       "      <td>use of marijuana spreading in west poisonous w...</td>\n",
       "      <td>although as appalling in its effects on the hu...</td>\n",
       "      <td>1934-09-16</td>\n",
       "    </tr>\n",
       "    <tr>\n",
       "      <th>12</th>\n",
       "      <td>4fc1ebab45c1498b0d528e5b</td>\n",
       "      <td>the associated press</td>\n",
       "      <td>rhode island to end weed as drug source state ...</td>\n",
       "      <td>providence ri jan 19 rhode island authorities ...</td>\n",
       "      <td>1935-01-20</td>\n",
       "    </tr>\n",
       "  </tbody>\n",
       "</table>\n",
       "</div>"
      ],
      "text/plain": [
       "                      nyt_id                   org  \\\n",
       "3   4fc0a09745c1498b0d3ba216                  none   \n",
       "9   4fc1d8e345c1498b0d4ccb9f                  none   \n",
       "12  4fc1ebab45c1498b0d528e5b  the associated press   \n",
       "\n",
       "                                                   hl  \\\n",
       "3   marijuana smoking is reported safe hemp leaves...   \n",
       "9   use of marijuana spreading in west poisonous w...   \n",
       "12  rhode island to end weed as drug source state ...   \n",
       "\n",
       "                                                 lead   date_pub  \n",
       "3   a panaman judge recently sentenced an american... 1926-11-21  \n",
       "9   although as appalling in its effects on the hu... 1934-09-16  \n",
       "12  providence ri jan 19 rhode island authorities ... 1935-01-20  "
      ]
     },
     "execution_count": 4,
     "metadata": {},
     "output_type": "execute_result"
    }
   ],
   "source": [
    "# load data and clean data\n",
    "\n",
    "l = pd.read_pickle('data/re_merge/consolidated_flat.pickle')\n",
    "df = pd.DataFrame(l, columns=['nyt_id', 'date_pub', 'org', 'hl', 'lead'])\n",
    "df.drop_duplicates(inplace=True)\n",
    "df.dropna(inplace=True)\n",
    "df = stringify_data(df)\n",
    "\n",
    "pattern = re.compile(\"^([^-]*)-- *\")\n",
    "df['lead'] = [replace_string(x, pattern) for x in df['lead']]\n",
    "\n",
    "df = rid_punctuation(df, ['date_pub', 'hl', 'lead'])\n",
    "df = slice_and_dice_col(df, 'date_pub', 0, 8)\n",
    "df = lower_case_columns(df)\n",
    "df = str_to_date(df, 'date_pub')\n",
    "df = df[df['lead'].str.contains('marijuana')]\n",
    "df.to_pickle('data/re_merge/clean.pickle')\n",
    "df.head(3)"
   ]
  },
  {
   "cell_type": "code",
   "execution_count": null,
   "metadata": {
    "collapsed": true
   },
   "outputs": [],
   "source": []
  }
 ],
 "metadata": {
  "kernelspec": {
   "display_name": "Python 2",
   "language": "python",
   "name": "python2"
  },
  "language_info": {
   "codemirror_mode": {
    "name": "ipython",
    "version": 2
   },
   "file_extension": ".py",
   "mimetype": "text/x-python",
   "name": "python",
   "nbconvert_exporter": "python",
   "pygments_lexer": "ipython2",
   "version": "2.7.11"
  }
 },
 "nbformat": 4,
 "nbformat_minor": 0
}
