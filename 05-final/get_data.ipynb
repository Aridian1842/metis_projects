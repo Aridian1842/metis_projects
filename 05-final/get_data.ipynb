{
 "cells": [
  {
   "cell_type": "code",
   "execution_count": 1,
   "metadata": {
    "collapsed": false
   },
   "outputs": [],
   "source": [
    "import urllib2\n",
    "from bs4 import BeautifulSoup\n",
    "import pickle\n",
    "import pandas as pd"
   ]
  },
  {
   "cell_type": "code",
   "execution_count": 2,
   "metadata": {
    "collapsed": false
   },
   "outputs": [],
   "source": [
    "def get_utility_ids(path):\n",
    "    with open (path, 'r') as f:\n",
    "        reader = f.read()\n",
    "    soup = BeautifulSoup(reader, 'lxml')\n",
    "    soup_list = soup.find_all('a', href=True)\n",
    "    ids_list = []\n",
    "    for idx, some_soup in enumerate(soup_list):\n",
    "        utility_id = soup_list[idx]['href'].encode('latin-1', errors='replace').split('tariffId=')[1].split('&countryId=0')[0]\n",
    "        ids_list.append(utility_id)\n",
    "    return list(set(ids_list))\n",
    "\n",
    "def get_data(utility_ids, url_begin, url_end):\n",
    "    for an_id in utility_ids:    \n",
    "        url = url_begin + an_id + url_end\n",
    "        page = urllib2.urlopen(url).read()\n",
    "        soup = BeautifulSoup(page, 'lxml')\n",
    "        path = 'data/utilities/' + an_id + '.pickle'\n",
    "        with open(path, 'wb') as f:\n",
    "            pickle.dump(soup, f)"
   ]
  },
  {
   "cell_type": "code",
   "execution_count": 3,
   "metadata": {
    "collapsed": false
   },
   "outputs": [],
   "source": [
    "utility_ids = get_utility_ids('data/tariff_ids.html')"
   ]
  },
  {
   "cell_type": "code",
   "execution_count": 24,
   "metadata": {
    "collapsed": false
   },
   "outputs": [
    {
     "data": {
      "text/plain": [
       "['2469',\n",
       " '120',\n",
       " '121',\n",
       " '122',\n",
       " '123',\n",
       " '125',\n",
       " '126',\n",
       " '127',\n",
       " '128',\n",
       " '129',\n",
       " '520',\n",
       " '1295',\n",
       " '2068',\n",
       " '2060',\n",
       " '2061',\n",
       " '2062',\n",
       " '2063',\n",
       " '2064',\n",
       " '2065',\n",
       " '2066',\n",
       " '2067',\n",
       " '521',\n",
       " '2666',\n",
       " '2667',\n",
       " '2664',\n",
       " '2665',\n",
       " '2663',\n",
       " '2660',\n",
       " '2661',\n",
       " '722',\n",
       " '2668',\n",
       " '2669',\n",
       " '2938',\n",
       " '2939',\n",
       " '2936',\n",
       " '2937',\n",
       " '2934',\n",
       " '2935',\n",
       " '2932',\n",
       " '2933',\n",
       " '2930',\n",
       " '2931',\n",
       " '1645',\n",
       " '1644',\n",
       " '1647',\n",
       " '1646',\n",
       " '1640',\n",
       " '1643',\n",
       " '1396',\n",
       " '1835',\n",
       " '1649',\n",
       " '1648',\n",
       " '728',\n",
       " '1743',\n",
       " '579',\n",
       " '578']"
      ]
     },
     "execution_count": 24,
     "metadata": {},
     "output_type": "execute_result"
    }
   ],
   "source": [
    "# 2648\n",
    "utility_ids[2644:2700]"
   ]
  },
  {
   "cell_type": "code",
   "execution_count": 25,
   "metadata": {
    "collapsed": false
   },
   "outputs": [],
   "source": [
    "url_begin = 'https://tariffs.ib-net.org/ViewTariff?tariffId='\n",
    "url_end   = '&countryId=0'\n",
    "get_data(utility_ids[2644:], url_begin, url_end)"
   ]
  },
  {
   "cell_type": "code",
   "execution_count": null,
   "metadata": {
    "collapsed": true
   },
   "outputs": [],
   "source": []
  }
 ],
 "metadata": {
  "kernelspec": {
   "display_name": "Python 2",
   "language": "python",
   "name": "python2"
  },
  "language_info": {
   "codemirror_mode": {
    "name": "ipython",
    "version": 2
   },
   "file_extension": ".py",
   "mimetype": "text/x-python",
   "name": "python",
   "nbconvert_exporter": "python",
   "pygments_lexer": "ipython2",
   "version": "2.7.11"
  }
 },
 "nbformat": 4,
 "nbformat_minor": 0
}
