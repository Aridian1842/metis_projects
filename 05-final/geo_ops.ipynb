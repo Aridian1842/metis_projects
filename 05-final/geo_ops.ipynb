{
 "cells": [
  {
   "cell_type": "code",
   "execution_count": 65,
   "metadata": {
    "collapsed": true
   },
   "outputs": [],
   "source": [
    "import fiona\n",
    "from fiona.crs import to_string\n",
    "import pprint\n",
    "import shapely\n",
    "from shapely.geometry import Polygon\n",
    "import geopandas as gpd\n",
    "from rasterstats import zonal_stats\n",
    "import pandas as pd"
   ]
  },
  {
   "cell_type": "code",
   "execution_count": 30,
   "metadata": {
    "collapsed": false
   },
   "outputs": [
    {
     "data": {
      "text/plain": [
       "('driver: ESRI Shapefile',\n",
       " 'crs: +init=epsg:4326',\n",
       " 'records: 255',\n",
       " (-179.9999999999999, -90.0, 180.0000000000002, 83.63410065300012))"
      ]
     },
     "execution_count": 30,
     "metadata": {},
     "output_type": "execute_result"
    }
   ],
   "source": [
    "c = fiona.open('data/geo/countries/countries.shp')\n",
    "'driver: %s' % c.driver.encode('latin-1'), 'crs: %s' % to_string(c.crs), 'records: %s' % len(c), c.bounds"
   ]
  },
  {
   "cell_type": "code",
   "execution_count": 31,
   "metadata": {
    "collapsed": false
   },
   "outputs": [
    {
     "name": "stdout",
     "output_type": "stream",
     "text": [
      "{'geometry': 'Polygon',\n",
      " 'properties': OrderedDict([(u'scalerank', 'int:4'), (u'featurecla', 'str:30'), (u'LABELRANK', 'float:6.2'), (u'SOVEREIGNT', 'str:32'), (u'SOV_A3', 'str:3'), (u'ADM0_DIF', 'float:4.2'), (u'LEVEL', 'float:4.2'), (u'TYPE', 'str:17'), (u'ADMIN', 'str:40'), (u'ADM0_A3', 'str:3'), (u'GEOU_DIF', 'float:4.2'), (u'GEOUNIT', 'str:40'), (u'GU_A3', 'str:3'), (u'SU_DIF', 'float:4.2'), (u'SUBUNIT', 'str:40'), (u'SU_A3', 'str:3'), (u'BRK_DIFF', 'float:4.2'), (u'NAME', 'str:36'), (u'NAME_LONG', 'str:40'), (u'BRK_A3', 'str:3'), (u'BRK_NAME', 'str:36'), (u'BRK_GROUP', 'str:30'), (u'ABBREV', 'str:13'), (u'POSTAL', 'str:4'), (u'FORMAL_EN', 'str:52'), (u'FORMAL_FR', 'str:35'), (u'NOTE_ADM0', 'str:22'), (u'NOTE_BRK', 'str:164'), (u'NAME_SORT', 'str:36'), (u'NAME_ALT', 'str:38'), (u'MAPCOLOR7', 'float:4.2'), (u'MAPCOLOR8', 'float:4.2'), (u'MAPCOLOR9', 'float:4.2'), (u'MAPCOLOR13', 'float:6.2'), (u'POP_EST', 'float:13.2'), (u'GDP_MD_EST', 'float:11.2'), (u'POP_YEAR', 'float:7.2'), (u'LASTCENSUS', 'float:7.2'), (u'GDP_YEAR', 'float:7.2'), (u'ECONOMY', 'str:26'), (u'INCOME_GRP', 'str:23'), (u'WIKIPEDIA', 'float:6.2'), (u'FIPS_10_', 'str:3'), (u'ISO_A2', 'str:5'), (u'ISO_A3', 'str:3'), (u'ISO_N3', 'str:3'), (u'UN_A3', 'str:4'), (u'WB_A2', 'str:3'), (u'WB_A3', 'str:3'), (u'WOE_ID', 'float:11.2'), (u'WOE_ID_EH', 'float:11.2'), (u'WOE_NOTE', 'str:190'), (u'ADM0_A3_IS', 'str:3'), (u'ADM0_A3_US', 'str:3'), (u'ADM0_A3_UN', 'float:6.2'), (u'ADM0_A3_WB', 'float:6.2'), (u'CONTINENT', 'str:23'), (u'REGION_UN', 'str:23'), (u'SUBREGION', 'str:25'), (u'REGION_WB', 'str:26'), (u'NAME_LEN', 'float:5.2'), (u'LONG_LEN', 'float:5.2'), (u'ABBREV_LEN', 'float:5.2'), (u'TINY', 'float:6.2'), (u'HOMEPART', 'float:6.2')])}\n"
     ]
    }
   ],
   "source": [
    "rec = next(c)\n",
    "set(rec.keys()) - set(c.schema.keys())\n",
    "pprint.pprint(c.schema)"
   ]
  },
  {
   "cell_type": "code",
   "execution_count": 64,
   "metadata": {
    "collapsed": false
   },
   "outputs": [
    {
     "data": {
      "text/html": [
       "<div>\n",
       "<table border=\"1\" class=\"dataframe\">\n",
       "  <thead>\n",
       "    <tr style=\"text-align: right;\">\n",
       "      <th></th>\n",
       "      <th>ADMIN</th>\n",
       "      <th>CONTINENT</th>\n",
       "      <th>ISO_A3</th>\n",
       "      <th>REGION_UN</th>\n",
       "      <th>REGION_WB</th>\n",
       "      <th>SUBREGION</th>\n",
       "      <th>WB_A3</th>\n",
       "      <th>geometry</th>\n",
       "    </tr>\n",
       "  </thead>\n",
       "  <tbody>\n",
       "    <tr>\n",
       "      <th>0</th>\n",
       "      <td>Aruba</td>\n",
       "      <td>North America</td>\n",
       "      <td>ABW</td>\n",
       "      <td>Americas</td>\n",
       "      <td>Latin America &amp; Caribbean</td>\n",
       "      <td>Caribbean</td>\n",
       "      <td>ABW</td>\n",
       "      <td>POLYGON ((-69.99693762899992 12.57758209800004...</td>\n",
       "    </tr>\n",
       "    <tr>\n",
       "      <th>1</th>\n",
       "      <td>Afghanistan</td>\n",
       "      <td>Asia</td>\n",
       "      <td>AFG</td>\n",
       "      <td>Asia</td>\n",
       "      <td>South Asia</td>\n",
       "      <td>Southern Asia</td>\n",
       "      <td>AFG</td>\n",
       "      <td>POLYGON ((71.04980228700009 38.40866445000009,...</td>\n",
       "    </tr>\n",
       "    <tr>\n",
       "      <th>2</th>\n",
       "      <td>Angola</td>\n",
       "      <td>Africa</td>\n",
       "      <td>AGO</td>\n",
       "      <td>Africa</td>\n",
       "      <td>Sub-Saharan Africa</td>\n",
       "      <td>Middle Africa</td>\n",
       "      <td>AGO</td>\n",
       "      <td>(POLYGON ((11.73751945100014 -16.6925779829998...</td>\n",
       "    </tr>\n",
       "  </tbody>\n",
       "</table>\n",
       "</div>"
      ],
      "text/plain": [
       "         ADMIN      CONTINENT ISO_A3 REGION_UN                  REGION_WB  \\\n",
       "0        Aruba  North America    ABW  Americas  Latin America & Caribbean   \n",
       "1  Afghanistan           Asia    AFG      Asia                 South Asia   \n",
       "2       Angola         Africa    AGO    Africa         Sub-Saharan Africa   \n",
       "\n",
       "       SUBREGION WB_A3                                           geometry  \n",
       "0      Caribbean   ABW  POLYGON ((-69.99693762899992 12.57758209800004...  \n",
       "1  Southern Asia   AFG  POLYGON ((71.04980228700009 38.40866445000009,...  \n",
       "2  Middle Africa   AGO  (POLYGON ((11.73751945100014 -16.6925779829998...  "
      ]
     },
     "execution_count": 64,
     "metadata": {},
     "output_type": "execute_result"
    }
   ],
   "source": [
    "shp = 'data/geo/countries/countries_nf2.shp'\n",
    "gdf = gpd.GeoDataFrame.from_file(shp); gdf.head(3)"
   ]
  },
  {
   "cell_type": "code",
   "execution_count": 59,
   "metadata": {
    "collapsed": false
   },
   "outputs": [
    {
     "name": "stderr",
     "output_type": "stream",
     "text": [
      "/Users/peter/anaconda/lib/python2.7/site-packages/rasterstats/io.py:292: UserWarning: Setting nodata to -999; specify nodata explicitly\n",
      "  warnings.warn(\"Setting nodata to -999; specify nodata explicitly\")\n",
      "/Users/peter/anaconda/lib/python2.7/site-packages/rasterstats/io.py:299: VisibleDeprecationWarning: using a non-integer number instead of an integer will result in an error in the future\n",
      "  new_array = self.src.read(self.band, window=win, boundless=True, masked=masked)\n"
     ]
    },
    {
     "data": {
      "text/plain": [
       "['count', 'max', 'mean', 'min']"
      ]
     },
     "execution_count": 59,
     "metadata": {},
     "output_type": "execute_result"
    }
   ],
   "source": [
    "raster = 'data/geo/images/F142002.v4b_web.stable_lights.avg_vis.tif'\n",
    "shp = 'data/geo/countries/countries_nf2.shp'\n",
    "stats = zonal_stats(shp, raster)\n",
    "stats[1].keys()"
   ]
  },
  {
   "cell_type": "code",
   "execution_count": 74,
   "metadata": {
    "collapsed": false
   },
   "outputs": [
    {
     "data": {
      "text/plain": [
       "[34.333333333333336, 0.03426151517975618, 0.03442736150843421]"
      ]
     },
     "execution_count": 74,
     "metadata": {},
     "output_type": "execute_result"
    }
   ],
   "source": [
    "li_stats = []\n",
    "for i in range(len(stats)):\n",
    "    li_stats.append(stats[i]['mean'])\n",
    "li_stats[:3]"
   ]
  },
  {
   "cell_type": "code",
   "execution_count": 78,
   "metadata": {
    "collapsed": false
   },
   "outputs": [
    {
     "data": {
      "text/plain": [
       "0    34.333333\n",
       "1     0.034262\n",
       "2     0.034427\n",
       "Name: light, dtype: float64"
      ]
     },
     "execution_count": 78,
     "metadata": {},
     "output_type": "execute_result"
    }
   ],
   "source": [
    "s_stats = pd.Series(li_stats, name='light'); s_stats.head(3)"
   ]
  },
  {
   "cell_type": "code",
   "execution_count": 82,
   "metadata": {
    "collapsed": false
   },
   "outputs": [
    {
     "data": {
      "text/html": [
       "<div>\n",
       "<table border=\"1\" class=\"dataframe\">\n",
       "  <thead>\n",
       "    <tr style=\"text-align: right;\">\n",
       "      <th></th>\n",
       "      <th>ADMIN</th>\n",
       "      <th>CONTINENT</th>\n",
       "      <th>ISO_A3</th>\n",
       "      <th>REGION_UN</th>\n",
       "      <th>REGION_WB</th>\n",
       "      <th>SUBREGION</th>\n",
       "      <th>WB_A3</th>\n",
       "      <th>geometry</th>\n",
       "      <th>light</th>\n",
       "    </tr>\n",
       "  </thead>\n",
       "  <tbody>\n",
       "    <tr>\n",
       "      <th>0</th>\n",
       "      <td>Aruba</td>\n",
       "      <td>North America</td>\n",
       "      <td>ABW</td>\n",
       "      <td>Americas</td>\n",
       "      <td>Latin America &amp; Caribbean</td>\n",
       "      <td>Caribbean</td>\n",
       "      <td>ABW</td>\n",
       "      <td>POLYGON ((-69.99693762899992 12.57758209800004...</td>\n",
       "      <td>34.333333</td>\n",
       "    </tr>\n",
       "    <tr>\n",
       "      <th>1</th>\n",
       "      <td>Afghanistan</td>\n",
       "      <td>Asia</td>\n",
       "      <td>AFG</td>\n",
       "      <td>Asia</td>\n",
       "      <td>South Asia</td>\n",
       "      <td>Southern Asia</td>\n",
       "      <td>AFG</td>\n",
       "      <td>POLYGON ((71.04980228700009 38.40866445000009,...</td>\n",
       "      <td>0.034262</td>\n",
       "    </tr>\n",
       "    <tr>\n",
       "      <th>2</th>\n",
       "      <td>Angola</td>\n",
       "      <td>Africa</td>\n",
       "      <td>AGO</td>\n",
       "      <td>Africa</td>\n",
       "      <td>Sub-Saharan Africa</td>\n",
       "      <td>Middle Africa</td>\n",
       "      <td>AGO</td>\n",
       "      <td>(POLYGON ((11.73751945100014 -16.6925779829998...</td>\n",
       "      <td>0.034427</td>\n",
       "    </tr>\n",
       "  </tbody>\n",
       "</table>\n",
       "</div>"
      ],
      "text/plain": [
       "         ADMIN      CONTINENT ISO_A3 REGION_UN                  REGION_WB  \\\n",
       "0        Aruba  North America    ABW  Americas  Latin America & Caribbean   \n",
       "1  Afghanistan           Asia    AFG      Asia                 South Asia   \n",
       "2       Angola         Africa    AGO    Africa         Sub-Saharan Africa   \n",
       "\n",
       "       SUBREGION WB_A3                                           geometry  \\\n",
       "0      Caribbean   ABW  POLYGON ((-69.99693762899992 12.57758209800004...   \n",
       "1  Southern Asia   AFG  POLYGON ((71.04980228700009 38.40866445000009,...   \n",
       "2  Middle Africa   AGO  (POLYGON ((11.73751945100014 -16.6925779829998...   \n",
       "\n",
       "       light  \n",
       "0  34.333333  \n",
       "1   0.034262  \n",
       "2   0.034427  "
      ]
     },
     "execution_count": 82,
     "metadata": {},
     "output_type": "execute_result"
    }
   ],
   "source": [
    "gdf = gdf.join(s_stats); gdf.head(3)"
   ]
  },
  {
   "cell_type": "code",
   "execution_count": null,
   "metadata": {
    "collapsed": true
   },
   "outputs": [],
   "source": []
  }
 ],
 "metadata": {
  "kernelspec": {
   "display_name": "Python 2",
   "language": "python",
   "name": "python2"
  },
  "language_info": {
   "codemirror_mode": {
    "name": "ipython",
    "version": 2
   },
   "file_extension": ".py",
   "mimetype": "text/x-python",
   "name": "python",
   "nbconvert_exporter": "python",
   "pygments_lexer": "ipython2",
   "version": "2.7.11"
  }
 },
 "nbformat": 4,
 "nbformat_minor": 0
}
