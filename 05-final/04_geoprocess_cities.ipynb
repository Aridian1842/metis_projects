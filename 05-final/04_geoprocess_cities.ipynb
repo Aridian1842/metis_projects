{
 "cells": [
  {
   "cell_type": "code",
   "execution_count": 5,
   "metadata": {
    "collapsed": false
   },
   "outputs": [],
   "source": [
    "import geopandas as gpd\n",
    "import shutil\n",
    "import rasterio\n",
    "from rasterio import features\n",
    "from rasterio.features import shapes\n",
    "from shapely.geometry import mapping, shape\n",
    "\n",
    "from osgeo import gdal, gdalnumeric, ogr, osr\n",
    "from gdalconst import *\n",
    "from PIL import Image, ImageDraw\n",
    "import os\n",
    "import numpy as np\n",
    "import subprocess\n",
    "\n",
    "%matplotlib inline\n",
    "import matplotlib.mlab as mlab\n",
    "import matplotlib.pyplot as plt\n",
    "\n",
    "from library.geoprocess import rm_and_mkdir, shp_to_shps, raster_to_rasters"
   ]
  },
  {
   "cell_type": "markdown",
   "metadata": {},
   "source": [
    "#### Create individual shapefiles of each country from shapefile of all countries\n",
    "* load shapefile of all admin areas / countries as geodataframe\n",
    "* filter out countries not internationally recognized\n",
    "* loop through rows of geodataframe and save each row as a country-specific shapefile"
   ]
  },
  {
   "cell_type": "code",
   "execution_count": 6,
   "metadata": {
    "collapsed": false
   },
   "outputs": [
    {
     "name": "stderr",
     "output_type": "stream",
     "text": [
      "/Users/peter/anaconda/lib/python2.7/site-packages/geopandas/geodataframe.py:376: UserWarning: Boolean Series key will be reindexed to match DataFrame index.\n",
      "  result = super(GeoDataFrame, self).__getitem__(key)\n"
     ]
    }
   ],
   "source": [
    "# load shapefile of all admin areas / countries as geodataframe\n",
    "gdf = gpd.read_file('data/geo/countries/countries_nf2.shp'); gdf.head(3)\n",
    "\n",
    "# filter out countries not internationally recognized\n",
    "country_filter1 = gdf['WB_A3'] != '-99'\n",
    "gdf = gdf.drop_duplicates(subset='WB_A3')\n",
    "gdf = gdf[country_filter1].set_index('WB_A3')\n",
    "\n",
    "# loop through rows of geodataframe and save each row as a country-specific shapefile in newly created dir\n",
    "shp_to_shps('data/geo/countries/shp', gdf)"
   ]
  },
  {
   "cell_type": "markdown",
   "metadata": {},
   "source": [
    "#### Generate city boundaries\n",
    "* Clip master raster from 2013 by each country shapefile, creating country-specific rasters\n",
    "* Use subprocess module to run gdal commands in terminal to do this\n",
    "* Polygonize each country raster\n",
    "* Select subset of polygons that have light intensity greater than selected thresh\n",
    "* Union remaining polygons to get contiguous city boundaries\n",
    "* Intersect with populated places to eliminate non-key cities\n",
    "* Save outputs to cities directory"
   ]
  },
  {
   "cell_type": "code",
   "execution_count": 7,
   "metadata": {
    "collapsed": false
   },
   "outputs": [],
   "source": [
    "# clip master raster from 2013 by each country shapefile to create country-level rasters\n",
    "input_tif_path = 'data/geo/images/F182013.v4c_web.stable_lights.avg_vis.tif'\n",
    "input_shp_dir = 'data/geo/countries/shp'\n",
    "output_tif_dir = 'data/geo/countries/tif'\n",
    "countries = [x.encode('UTF-8') for x in gdf.index.values]\n",
    "raster_to_rasters(countries, input_tif_path, input_shp_dir, output_tif_dir)"
   ]
  },
  {
   "cell_type": "code",
   "execution_count": null,
   "metadata": {
    "collapsed": false
   },
   "outputs": [],
   "source": [
    "# polygonize rasters and save to target directory\n",
    "def polygonize(input_tif_dir, output_shp_dir, countries):\n",
    "    \n",
    "    rm_and_mkdir(output_shp_dir)\n",
    "    for country in countries:\n",
    "        #country = 'TTO'\n",
    "        shp_filename = country + '.shp'\n",
    "        output_shp_path = os.path.join(output_shp_dir, shp_filename)\n",
    "        tif_filename = country + '.tif'\n",
    "        input_tif_path = os.path.join(input_tif_dir, tif_filename)\n",
    "        \n",
    "        with rasterio.open(input_tif_path) as src:\n",
    "            band = src.read(1)\n",
    "\n",
    "        mask = band != 255\n",
    "        shapes = features.shapes(band, mask=mask, transform=src.transform)\n",
    "        geomvals = list(shapes)\n",
    "\n",
    "        geom_val_trios = []\n",
    "        for idx, geom_val in enumerate(geomvals):\n",
    "            shapely_geom = shape(geomvals[idx][0])\n",
    "            shapely_val = geomvals[idx][1]\n",
    "            geom_val_trio = [shapely_geom, shapely_val, country]\n",
    "            geom_val_trios.append(geom_val_trio)\n",
    "        gdf = gpd.GeoDataFrame(geom_val_trios, columns={'geometry', 'val', 'country'})\n",
    "        gdf.crs = {'init': 'epsg:4326', 'no_defs': True}\n",
    "        gdf.to_file(output_shp_path)"
   ]
  },
  {
   "cell_type": "code",
   "execution_count": null,
   "metadata": {
    "collapsed": false
   },
   "outputs": [],
   "source": [
    "input_tif_dir = 'data/geo/countries/tif'\n",
    "output_shp_dir = 'data/geo/countries/poly'\n",
    "polygonize(input_tif_dir, output_shp_dir, countries)"
   ]
  },
  {
   "cell_type": "markdown",
   "metadata": {},
   "source": [
    "#### Other processing"
   ]
  },
  {
   "cell_type": "code",
   "execution_count": null,
   "metadata": {
    "collapsed": false
   },
   "outputs": [],
   "source": [
    "pixel_vals = eth[0].flatten()  # flatten pixels\n",
    "\n",
    "def filter_nodata(vals, no_data_val):  # filter function to remove zeros and nodata values from numpified raster values\n",
    "    return vals != no_data_val\n",
    "bool_arr_1 = np.array([filter_nodata(val, 255) for val in pixel_vals])\n",
    "pixel_vals_nd_1 = pixel_vals[bool_arr_1]\n",
    "\n",
    "bool_arr_2 = np.array([filter_nodata(val, 0) for val in pixel_vals_nd_1]) \n",
    "pixel_vals_nd_2 = pixel_vals_nd_1[bool_arr_2]"
   ]
  },
  {
   "cell_type": "code",
   "execution_count": null,
   "metadata": {
    "collapsed": false
   },
   "outputs": [],
   "source": [
    "# see what resulting histogram of data looks like\n",
    "n, bins, patches = plt.hist(pixel_vals_nd_2, 50, normed=1, facecolor='green', alpha=0.75)"
   ]
  },
  {
   "cell_type": "code",
   "execution_count": null,
   "metadata": {
    "collapsed": false
   },
   "outputs": [],
   "source": [
    "from scipy.stats import expon\n",
    "import math"
   ]
  },
  {
   "cell_type": "code",
   "execution_count": null,
   "metadata": {
    "collapsed": false
   },
   "outputs": [],
   "source": [
    "np.mean(pixel_vals_nd_2)"
   ]
  },
  {
   "cell_type": "code",
   "execution_count": null,
   "metadata": {
    "collapsed": false
   },
   "outputs": [],
   "source": [
    "# fit exponential curve to data, inspect raster data in qgis\n",
    "# see what percent of non-zero pixels constitute cities at given cutoff threshold\n",
    "params = expon.fit(pixel_vals_nd_2)\n",
    "the_mean = params[1]\n",
    "the_lambda = 1 / the_mean\n",
    "thresh = 25\n",
    "1 - math.exp(-thresh*the_lambda)"
   ]
  },
  {
   "cell_type": "code",
   "execution_count": null,
   "metadata": {
    "collapsed": true
   },
   "outputs": [],
   "source": []
  }
 ],
 "metadata": {
  "kernelspec": {
   "display_name": "Python 2",
   "language": "python",
   "name": "python2"
  },
  "language_info": {
   "codemirror_mode": {
    "name": "ipython",
    "version": 2
   },
   "file_extension": ".py",
   "mimetype": "text/x-python",
   "name": "python",
   "nbconvert_exporter": "python",
   "pygments_lexer": "ipython2",
   "version": "2.7.11"
  }
 },
 "nbformat": 4,
 "nbformat_minor": 0
}
