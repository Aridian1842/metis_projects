{
 "cells": [
  {
   "cell_type": "code",
   "execution_count": 106,
   "metadata": {
    "collapsed": false
   },
   "outputs": [],
   "source": [
    "import geopandas as gpd\n",
    "import shutil\n",
    "\n",
    "from osgeo import gdal, gdalnumeric, ogr, osr\n",
    "from gdalconst import *\n",
    "from PIL import Image, ImageDraw\n",
    "import os\n",
    "import numpy as np\n",
    "import subprocess\n",
    "\n",
    "\n",
    "%matplotlib inline\n",
    "import matplotlib.mlab as mlab\n",
    "import matplotlib.pyplot as plt\n",
    "\n",
    "from library._04_geoprocess_cities import clip_raster"
   ]
  },
  {
   "cell_type": "markdown",
   "metadata": {},
   "source": [
    "#### Create individual shapefiles of each country from shapefile of all countries\n",
    "* load shapefile of all admin areas / countries as geodataframe\n",
    "* filter out countries not internationally recognized\n",
    "* loop through rows of geodataframe and save each row as a country-specific shapefile"
   ]
  },
  {
   "cell_type": "code",
   "execution_count": 116,
   "metadata": {
    "collapsed": false
   },
   "outputs": [
    {
     "data": {
      "text/html": [
       "<div>\n",
       "<table border=\"1\" class=\"dataframe\">\n",
       "  <thead>\n",
       "    <tr style=\"text-align: right;\">\n",
       "      <th></th>\n",
       "      <th>ADMIN</th>\n",
       "      <th>CONTINENT</th>\n",
       "      <th>ISO_A3</th>\n",
       "      <th>REGION_UN</th>\n",
       "      <th>REGION_WB</th>\n",
       "      <th>SUBREGION</th>\n",
       "      <th>geometry</th>\n",
       "    </tr>\n",
       "    <tr>\n",
       "      <th>WB_A3</th>\n",
       "      <th></th>\n",
       "      <th></th>\n",
       "      <th></th>\n",
       "      <th></th>\n",
       "      <th></th>\n",
       "      <th></th>\n",
       "      <th></th>\n",
       "    </tr>\n",
       "  </thead>\n",
       "  <tbody>\n",
       "    <tr>\n",
       "      <th>ABW</th>\n",
       "      <td>Aruba</td>\n",
       "      <td>North America</td>\n",
       "      <td>ABW</td>\n",
       "      <td>Americas</td>\n",
       "      <td>Latin America &amp; Caribbean</td>\n",
       "      <td>Caribbean</td>\n",
       "      <td>POLYGON ((-69.99693762899992 12.57758209800004...</td>\n",
       "    </tr>\n",
       "    <tr>\n",
       "      <th>AFG</th>\n",
       "      <td>Afghanistan</td>\n",
       "      <td>Asia</td>\n",
       "      <td>AFG</td>\n",
       "      <td>Asia</td>\n",
       "      <td>South Asia</td>\n",
       "      <td>Southern Asia</td>\n",
       "      <td>POLYGON ((71.04980228700009 38.40866445000009,...</td>\n",
       "    </tr>\n",
       "    <tr>\n",
       "      <th>AGO</th>\n",
       "      <td>Angola</td>\n",
       "      <td>Africa</td>\n",
       "      <td>AGO</td>\n",
       "      <td>Africa</td>\n",
       "      <td>Sub-Saharan Africa</td>\n",
       "      <td>Middle Africa</td>\n",
       "      <td>(POLYGON ((11.73751945100014 -16.6925779829998...</td>\n",
       "    </tr>\n",
       "  </tbody>\n",
       "</table>\n",
       "</div>"
      ],
      "text/plain": [
       "             ADMIN      CONTINENT ISO_A3 REGION_UN                  REGION_WB  \\\n",
       "WB_A3                                                                           \n",
       "ABW          Aruba  North America    ABW  Americas  Latin America & Caribbean   \n",
       "AFG    Afghanistan           Asia    AFG      Asia                 South Asia   \n",
       "AGO         Angola         Africa    AGO    Africa         Sub-Saharan Africa   \n",
       "\n",
       "           SUBREGION                                           geometry  \n",
       "WB_A3                                                                    \n",
       "ABW        Caribbean  POLYGON ((-69.99693762899992 12.57758209800004...  \n",
       "AFG    Southern Asia  POLYGON ((71.04980228700009 38.40866445000009,...  \n",
       "AGO    Middle Africa  (POLYGON ((11.73751945100014 -16.6925779829998...  "
      ]
     },
     "execution_count": 116,
     "metadata": {},
     "output_type": "execute_result"
    }
   ],
   "source": [
    "# load shapefile of all admin areas / countries as geodataframe\n",
    "gdf = gpd.read_file('data/geo/countries/countries_nf2.shp'); gdf.head(3)\n",
    "\n",
    "# filter out countries not internationally recognized\n",
    "country_filter1 = gdf['WB_A3'] != '-99'\n",
    "gdf = gdf.drop_duplicates(subset='WB_A3')\n",
    "gdf = gdf[country_filter1][country_filter2].set_index('WB_A3')\n",
    "\n",
    "# create path to write shapefiles to\n",
    "cwd = os.path.abspath('')\n",
    "countries_dir = cwd + '/data/geo/countries/ungrouped'\n",
    "\n",
    "# remove pre-existing directory and shapefiles\n",
    "if os.path.exists(countries_dir):\n",
    "    shutil.rmtree('data/geo/countries/ungrouped')\n",
    "\n",
    "# create directory to write individual country shapefiles to\n",
    "if not os.path.exists(countries_dir):\n",
    "    os.makedirs(countries_dir)\n",
    "\n",
    "# loop through rows of geodataframe and save each row as a country-specific shapefile\n",
    "countries = gdf.index.values\n",
    "for country in countries:\n",
    "    gdf_country = gpd.GeoDataFrame(gdf.loc[country]).transpose()\n",
    "    path = countries_dir + '/' + country + '.shp'\n",
    "    gdf_country.to_file(path)"
   ]
  },
  {
   "cell_type": "code",
   "execution_count": 118,
   "metadata": {
    "collapsed": false
   },
   "outputs": [],
   "source": []
  },
  {
   "cell_type": "markdown",
   "metadata": {},
   "source": [
    "#### Generate city boundaries\n",
    "* Clip master raster from 2013 by each country shapefile, creating country-specific rasters\n",
    "* Use subprocess module to run gdal commands in terminal to do this\n",
    "* Polygonize each country raster\n",
    "* Select subset of polygons that have light intensity greater than selected thresh\n",
    "* Union remaining polygons to get contiguous city boundaries\n",
    "* Intersect with populated places to eliminate non-key cities\n",
    "* Save outputs to cities directory"
   ]
  },
  {
   "cell_type": "markdown",
   "metadata": {},
   "source": []
  },
  {
   "cell_type": "markdown",
   "metadata": {},
   "source": [
    "#### "
   ]
  },
  {
   "cell_type": "code",
   "execution_count": null,
   "metadata": {
    "collapsed": true
   },
   "outputs": [],
   "source": [
    "# create individual shapefiles of each country from shapefile of all countries\n",
    "# process: load shapefile as geodataframe\n",
    "# filter out countries not internationally recognized\n",
    "# loop through rows of geodataframe and save each row - which represents country - to directory\n",
    "\n",
    "\n",
    "\n"
   ]
  },
  {
   "cell_type": "code",
   "execution_count": null,
   "metadata": {
    "collapsed": true
   },
   "outputs": [],
   "source": [
    "# load shapefile as"
   ]
  },
  {
   "cell_type": "code",
   "execution_count": 14,
   "metadata": {
    "collapsed": false
   },
   "outputs": [],
   "source": [
    "# create cities directory to write cities boundary data to\n",
    "cities_dir = cwd + '/data/geo/cities'\n",
    "if not os.path.exists(cities_dir):\n",
    "    os.makedirs(cities_dir)"
   ]
  },
  {
   "cell_type": "code",
   "execution_count": null,
   "metadata": {
    "collapsed": true
   },
   "outputs": [],
   "source": [
    "# \n",
    "input_shp = cwd + '/Users/peter/Dropbox/ds/gh/metis_projects/05-final/test/eth.shp'\n",
    "input_tif = '/Users/peter/Dropbox/ds/gh/metis_projects/05-final/test/_1992.tif'\n",
    "output_tif = '/Users/peter/Dropbox/ds/gh/metis_projects/05-final/test/output.tif'"
   ]
  },
  {
   "cell_type": "code",
   "execution_count": 133,
   "metadata": {
    "collapsed": false
   },
   "outputs": [
    {
     "data": {
      "text/plain": [
       "0"
      ]
     },
     "execution_count": 133,
     "metadata": {},
     "output_type": "execute_result"
    }
   ],
   "source": [
    "# use this in the for loop to build path to io files: input_shp = os.path.abspath('test') + '/eth.shp'; input_shp\n",
    "subprocess.check_call(['gdalwarp', '-dstnodata', '255', '-q', '-cutline', input_shp, '-crop_to_cutline', '-of', 'GTiff', input_tif, output_tif])"
   ]
  },
  {
   "cell_type": "code",
   "execution_count": 2,
   "metadata": {
    "collapsed": false
   },
   "outputs": [
    {
     "ename": "NameError",
     "evalue": "name 'pwd' is not defined",
     "output_type": "error",
     "traceback": [
      "\u001b[0;31m---------------------------------------------------------------------------\u001b[0m",
      "\u001b[0;31mNameError\u001b[0m                                 Traceback (most recent call last)",
      "\u001b[0;32m<ipython-input-2-4b6e8f12dc15>\u001b[0m in \u001b[0;36m<module>\u001b[0;34m()\u001b[0m\n\u001b[0;32m----> 1\u001b[0;31m \u001b[0mstr\u001b[0m\u001b[0;34m(\u001b[0m\u001b[0mpwd\u001b[0m\u001b[0;34m)\u001b[0m\u001b[0;34m\u001b[0m\u001b[0m\n\u001b[0m",
      "\u001b[0;31mNameError\u001b[0m: name 'pwd' is not defined"
     ]
    }
   ],
   "source": [
    "pwd)"
   ]
  },
  {
   "cell_type": "code",
   "execution_count": 7,
   "metadata": {
    "collapsed": false
   },
   "outputs": [
    {
     "data": {
      "text/plain": [
       "'/Users/peter/Dropbox/ds/gh/metis_projects/05-final'"
      ]
     },
     "execution_count": 7,
     "metadata": {},
     "output_type": "execute_result"
    }
   ],
   "source": []
  },
  {
   "cell_type": "code",
   "execution_count": 2,
   "metadata": {
    "collapsed": false
   },
   "outputs": [
    {
     "data": {
      "text/plain": [
       "(array([[255, 255, 255, ..., 255, 255, 255],\n",
       "        [255, 255, 255, ..., 255, 255, 255],\n",
       "        [255, 255, 255, ..., 255, 255, 255],\n",
       "        ..., \n",
       "        [255, 255, 255, ..., 255, 255, 255],\n",
       "        [255, 255, 255, ..., 255, 255, 255],\n",
       "        [255, 255, 255, ..., 255, 255, 255]], dtype=uint8),\n",
       " 25559,\n",
       " 7214,\n",
       " [32.98979984500011,\n",
       "  0.0083333333,\n",
       "  0.0,\n",
       "  14.879532166000061,\n",
       "  0.0,\n",
       "  -0.0083333333])"
      ]
     },
     "execution_count": 2,
     "metadata": {},
     "output_type": "execute_result"
    }
   ],
   "source": [
    "# clip raster with country shapefile\n",
    "rast = gdal.Open('_1992.tif', GA_ReadOnly)\n",
    "shp_path = 'data/geo/countries/eth.shp'\n",
    "eth = clip_raster(rast, shp_path); eth"
   ]
  },
  {
   "cell_type": "code",
   "execution_count": 196,
   "metadata": {
    "collapsed": false
   },
   "outputs": [],
   "source": [
    "pixel_vals = eth[0].flatten()  # flatten pixels\n",
    "\n",
    "def filter_nodata(vals, no_data_val):  # filter function to remove zeros and nodata values from numpified raster values\n",
    "    return vals != no_data_val\n",
    "bool_arr_1 = np.array([filter_nodata(val, 255) for val in pixel_vals])\n",
    "pixel_vals_nd_1 = pixel_vals[bool_arr_1]\n",
    "\n",
    "bool_arr_2 = np.array([filter_nodata(val, 0) for val in pixel_vals_nd_1]) \n",
    "pixel_vals_nd_2 = pixel_vals_nd_1[bool_arr_2]"
   ]
  },
  {
   "cell_type": "code",
   "execution_count": 198,
   "metadata": {
    "collapsed": false
   },
   "outputs": [
    {
     "data": {
      "image/png": "[encoded data removed]",
      "text/plain": [
       "<matplotlib.figure.Figure at 0x113fc84d0>"
      ]
     },
     "metadata": {},
     "output_type": "display_data"
    }
   ],
   "source": [
    "# see what resulting histogram of data looks like\n",
    "n, bins, patches = plt.hist(pixel_vals_nd_2, 50, normed=1, facecolor='green', alpha=0.75)"
   ]
  },
  {
   "cell_type": "code",
   "execution_count": 166,
   "metadata": {
    "collapsed": false
   },
   "outputs": [],
   "source": [
    "from scipy.stats import expon\n",
    "import math"
   ]
  },
  {
   "cell_type": "code",
   "execution_count": 200,
   "metadata": {
    "collapsed": false
   },
   "outputs": [
    {
     "data": {
      "text/plain": [
       "9.6963288108539505"
      ]
     },
     "execution_count": 200,
     "metadata": {},
     "output_type": "execute_result"
    }
   ],
   "source": [
    "np.mean(pixel_vals_nd_2)"
   ]
  },
  {
   "cell_type": "code",
   "execution_count": 212,
   "metadata": {
    "collapsed": false
   },
   "outputs": [
    {
     "data": {
      "text/plain": [
       "0.9760881747105427"
      ]
     },
     "execution_count": 212,
     "metadata": {},
     "output_type": "execute_result"
    }
   ],
   "source": [
    "# fit exponential curve to data, inspect raster data in qgis\n",
    "# see what percent of non-zero pixels constitute cities at given cutoff threshold\n",
    "params = expon.fit(pixel_vals_nd_2)\n",
    "the_mean = params[1]\n",
    "the_lambda = 1 / the_mean\n",
    "thresh = 25\n",
    "1 - math.exp(-thresh*the_lambda)"
   ]
  },
  {
   "cell_type": "code",
   "execution_count": null,
   "metadata": {
    "collapsed": true
   },
   "outputs": [],
   "source": []
  }
 ],
 "metadata": {
  "kernelspec": {
   "display_name": "Python 2",
   "language": "python",
   "name": "python2"
  },
  "language_info": {
   "codemirror_mode": {
    "name": "ipython",
    "version": 2
   },
   "file_extension": ".py",
   "mimetype": "text/x-python",
   "name": "python",
   "nbconvert_exporter": "python",
   "pygments_lexer": "ipython2",
   "version": "2.7.11"
  }
 },
 "nbformat": 4,
 "nbformat_minor": 0
}
