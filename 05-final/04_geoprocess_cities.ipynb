{
 "cells": [
  {
   "cell_type": "code",
   "execution_count": 147,
   "metadata": {
    "collapsed": false
   },
   "outputs": [],
   "source": [
    "from osgeo import gdal, gdalnumeric, ogr, osr\n",
    "from gdalconst import *\n",
    "from PIL import Image, ImageDraw\n",
    "import os\n",
    "import numpy as np\n",
    "import subprocess\n",
    "\n",
    "%matplotlib inline\n",
    "import matplotlib.mlab as mlab\n",
    "import matplotlib.pyplot as plt\n",
    "\n",
    "from library._04_geoprocess_cities import clip_raster"
   ]
  },
  {
   "cell_type": "code",
   "execution_count": null,
   "metadata": {
    "collapsed": true
   },
   "outputs": [],
   "source": [
    "input_shp = '/Users/peter/Dropbox/ds/gh/metis_projects/05-final/test/eth.shp'\n",
    "input_tif = '/Users/peter/Dropbox/ds/gh/metis_projects/05-final/test/_1992.tif'\n",
    "output_tif = '/Users/peter/Dropbox/ds/gh/metis_projects/05-final/test/output.tif'"
   ]
  },
  {
   "cell_type": "markdown",
   "metadata": {},
   "source": [
    "# Test has been moved to geo folder\n",
    "## remember to polygonize"
   ]
  },
  {
   "cell_type": "code",
   "execution_count": 133,
   "metadata": {
    "collapsed": false
   },
   "outputs": [
    {
     "data": {
      "text/plain": [
       "0"
      ]
     },
     "execution_count": 133,
     "metadata": {},
     "output_type": "execute_result"
    }
   ],
   "source": [
    "# use this in the for loop to build path to io files: input_shp = os.path.abspath('test') + '/eth.shp'; input_shp\n",
    "subprocess.check_call(['gdalwarp', '-dstnodata', '255', '-q', '-cutline', input_shp, '-crop_to_cutline', '-of', 'GTiff', input_tif, output_tif])"
   ]
  },
  {
   "cell_type": "code",
   "execution_count": 2,
   "metadata": {
    "collapsed": false
   },
   "outputs": [
    {
     "data": {
      "text/plain": [
       "(array([[255, 255, 255, ..., 255, 255, 255],\n",
       "        [255, 255, 255, ..., 255, 255, 255],\n",
       "        [255, 255, 255, ..., 255, 255, 255],\n",
       "        ..., \n",
       "        [255, 255, 255, ..., 255, 255, 255],\n",
       "        [255, 255, 255, ..., 255, 255, 255],\n",
       "        [255, 255, 255, ..., 255, 255, 255]], dtype=uint8),\n",
       " 25559,\n",
       " 7214,\n",
       " [32.98979984500011,\n",
       "  0.0083333333,\n",
       "  0.0,\n",
       "  14.879532166000061,\n",
       "  0.0,\n",
       "  -0.0083333333])"
      ]
     },
     "execution_count": 2,
     "metadata": {},
     "output_type": "execute_result"
    }
   ],
   "source": [
    "# clip raster with country shapefile\n",
    "rast = gdal.Open('_1992.tif', GA_ReadOnly)\n",
    "shp_path = 'data/geo/countries/eth.shp'\n",
    "eth = clip_raster(rast, shp_path); eth"
   ]
  },
  {
   "cell_type": "code",
   "execution_count": 196,
   "metadata": {
    "collapsed": false
   },
   "outputs": [],
   "source": [
    "pixel_vals = eth[0].flatten()  # flatten pixels\n",
    "\n",
    "def filter_nodata(vals, no_data_val):  # filter function to remove zeros and nodata values from numpified raster values\n",
    "    return vals != no_data_val\n",
    "bool_arr_1 = np.array([filter_nodata(val, 255) for val in pixel_vals])\n",
    "pixel_vals_nd_1 = pixel_vals[bool_arr_1]\n",
    "\n",
    "bool_arr_2 = np.array([filter_nodata(val, 0) for val in pixel_vals_nd_1]) \n",
    "pixel_vals_nd_2 = pixel_vals_nd_1[bool_arr_2]"
   ]
  },
  {
   "cell_type": "code",
   "execution_count": 198,
   "metadata": {
    "collapsed": false
   },
   "outputs": [
    {
     "data": {
      "image/png": "[encoded data removed]",
      "text/plain": [
       "<matplotlib.figure.Figure at 0x113fc84d0>"
      ]
     },
     "metadata": {},
     "output_type": "display_data"
    }
   ],
   "source": [
    "# see what resulting histogram of data looks like\n",
    "n, bins, patches = plt.hist(pixel_vals_nd_2, 50, normed=1, facecolor='green', alpha=0.75)"
   ]
  },
  {
   "cell_type": "code",
   "execution_count": 166,
   "metadata": {
    "collapsed": false
   },
   "outputs": [],
   "source": [
    "from scipy.stats import expon\n",
    "import math"
   ]
  },
  {
   "cell_type": "code",
   "execution_count": 200,
   "metadata": {
    "collapsed": false
   },
   "outputs": [
    {
     "data": {
      "text/plain": [
       "9.6963288108539505"
      ]
     },
     "execution_count": 200,
     "metadata": {},
     "output_type": "execute_result"
    }
   ],
   "source": [
    "np.mean(pixel_vals_nd_2)"
   ]
  },
  {
   "cell_type": "code",
   "execution_count": 212,
   "metadata": {
    "collapsed": false
   },
   "outputs": [
    {
     "data": {
      "text/plain": [
       "0.9760881747105427"
      ]
     },
     "execution_count": 212,
     "metadata": {},
     "output_type": "execute_result"
    }
   ],
   "source": [
    "# fit exponential curve to data, inspect raster data in qgis\n",
    "# see what percent of non-zero pixels constitute cities at given cutoff threshold\n",
    "params = expon.fit(pixel_vals_nd_2)\n",
    "the_mean = params[1]\n",
    "the_lambda = 1 / the_mean\n",
    "thresh = 25\n",
    "1 - math.exp(-thresh*the_lambda)"
   ]
  },
  {
   "cell_type": "code",
   "execution_count": 17,
   "metadata": {
    "collapsed": false
   },
   "outputs": [
    {
     "data": {
      "text/plain": [
       "0"
      ]
     },
     "execution_count": 17,
     "metadata": {},
     "output_type": "execute_result"
    }
   ],
   "source": [
    "# OLD, DOES NOT WORK\n",
    "\n",
    "# register all of the GDAL drivers\n",
    "gdal.AllRegister()\n",
    "\n",
    "# Write clip outputs to geotiff\n",
    "nrows, ncols = np.shape(eth[0])\n",
    "array = eth[0]\n",
    "x_ul = eth[3][0]\n",
    "y_ul = eth[3][3]\n",
    "x_res = eth[3][1]\n",
    "y_res = eth[3][-1]\n",
    "geotransform = (x_ul, x_res, 0, y_ul, 0, y_res)\n",
    "\n",
    "output_raster = gdal.GetDriverByName('GTiff').Create('new.tif', ncols, nrows, 1, gdal.GDT_Float32)  # Open the file\n",
    "output_raster.SetGeoTransform(geotransform)  # Specify its coordinates\n",
    "\n",
    "srs = osr.SpatialReference()                 # Establish its coordinate encoding\n",
    "srs.ImportFromEPSG(4326)                     # This one specifies WGS84 lat long.\n",
    "output_raster.SetProjection( srs.ExportToWkt() )   # Exports the coordinate system \n",
    "                                                   # to the file\n",
    "output_raster.GetRasterBand(1).SetNoDataValue(255)\n",
    "output_raster.GetRasterBand(1).WriteArray(array)   # Writes my array to the raster\n",
    "\n",
    "# polygonize geotiff\n",
    "!gdal_polygonize.py myraster.tif -f 'ESRI Shapefile' mypoly.shp"
   ]
  },
  {
   "cell_type": "code",
   "execution_count": null,
   "metadata": {
    "collapsed": true
   },
   "outputs": [],
   "source": []
  }
 ],
 "metadata": {
  "kernelspec": {
   "display_name": "Python 2",
   "language": "python",
   "name": "python2"
  },
  "language_info": {
   "codemirror_mode": {
    "name": "ipython",
    "version": 2
   },
   "file_extension": ".py",
   "mimetype": "text/x-python",
   "name": "python",
   "nbconvert_exporter": "python",
   "pygments_lexer": "ipython2",
   "version": "2.7.11"
  }
 },
 "nbformat": 4,
 "nbformat_minor": 0
}
