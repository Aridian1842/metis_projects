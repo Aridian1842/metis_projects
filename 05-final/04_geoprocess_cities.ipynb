{
 "cells": [
  {
   "cell_type": "code",
   "execution_count": 1,
   "metadata": {
    "collapsed": false
   },
   "outputs": [],
   "source": [
    "import geopandas as gpd\n",
    "\n",
    "import fiona\n",
    "import rasterio\n",
    "from rasterio import features\n",
    "from rasterio.features import shapes\n",
    "from shapely.geometry import mapping, shape\n",
    "from osgeo import gdal, gdalnumeric, ogr, osr\n",
    "from gdalconst import *\n",
    "from PIL import Image, ImageDraw\n",
    "\n",
    "import os\n",
    "import shutil\n",
    "import numpy as np\n",
    "import subprocess\n",
    "\n",
    "%matplotlib inline\n",
    "import matplotlib.mlab as mlab\n",
    "import matplotlib.pyplot as plt\n",
    "\n",
    "from library.geoprocess import rm_and_mkdir, shp_to_shps, raster_to_rasters, polygonize"
   ]
  },
  {
   "cell_type": "markdown",
   "metadata": {},
   "source": [
    "#### Create individual shapefiles of each country from shapefile of all countries\n",
    "* load shapefile of all admin areas / countries as geodataframe\n",
    "* filter out countries not internationally recognized\n",
    "* loop through rows of geodataframe and save each row as a country-specific shapefile"
   ]
  },
  {
   "cell_type": "code",
   "execution_count": 2,
   "metadata": {
    "collapsed": false
   },
   "outputs": [
    {
     "name": "stderr",
     "output_type": "stream",
     "text": [
      "/Users/peter/anaconda/lib/python2.7/site-packages/geopandas/geodataframe.py:376: UserWarning: Boolean Series key will be reindexed to match DataFrame index.\n",
      "  result = super(GeoDataFrame, self).__getitem__(key)\n"
     ]
    }
   ],
   "source": [
    "# load shapefile of all admin areas / countries as geodataframe\n",
    "gdf = gpd.read_file('data/geo/countries/countries_nf2.shp'); gdf.head(3)\n",
    "\n",
    "# filter out countries not internationally recognized\n",
    "country_filter1 = gdf['WB_A3'] != '-99'\n",
    "gdf = gdf.drop_duplicates(subset='WB_A3')\n",
    "gdf = gdf[country_filter1].set_index('WB_A3')\n",
    "\n",
    "# loop through rows of geodataframe and save each row as a country-specific shapefile in newly created dir\n",
    "# shp_to_shps('data/geo/countries/shp', gdf)"
   ]
  },
  {
   "cell_type": "markdown",
   "metadata": {},
   "source": [
    "#### Generate city boundaries\n",
    "* Clip master raster from 2013 by each country shapefile, creating country-specific rasters\n",
    "* Use subprocess module to run gdal commands in terminal to do this\n",
    "* Polygonize each country raster\n",
    "* Select subset of polygons that have light intensity greater than selected thresh\n",
    "* Union remaining polygons to get contiguous city boundaries\n",
    "* Intersect with populated places to eliminate non-key cities\n",
    "* Save outputs to cities directory"
   ]
  },
  {
   "cell_type": "code",
   "execution_count": 3,
   "metadata": {
    "collapsed": false
   },
   "outputs": [],
   "source": [
    "# clip master raster from 2013 by each country shapefile to create country-level rasters\n",
    "input_tif_path = 'data/geo/images/F182013.v4c_web.stable_lights.avg_vis.tif'\n",
    "input_shp_dir = 'data/geo/countries/shp'\n",
    "output_tif_dir = 'data/geo/countries/tif'\n",
    "countries = [x.encode('UTF-8') for x in gdf.index.values]\n",
    "# raster_to_rasters(countries, input_tif_path, input_shp_dir, output_tif_dir)"
   ]
  },
  {
   "cell_type": "code",
   "execution_count": 4,
   "metadata": {
    "collapsed": false
   },
   "outputs": [],
   "source": [
    "# polygonize rasters and save to target directory\n",
    "input_tif_dir = 'data/geo/countries/tif'\n",
    "output_shp_dir = 'data/geo/countries/poly'\n",
    "# polygonize(input_tif_dir, output_shp_dir, countries)"
   ]
  },
  {
   "cell_type": "code",
   "execution_count": 50,
   "metadata": {
    "collapsed": false
   },
   "outputs": [
    {
     "data": {
      "text/html": [
       "<div>\n",
       "<table border=\"1\" class=\"dataframe\">\n",
       "  <thead>\n",
       "    <tr style=\"text-align: right;\">\n",
       "      <th></th>\n",
       "      <th>country</th>\n",
       "      <th>geometry</th>\n",
       "    </tr>\n",
       "  </thead>\n",
       "  <tbody>\n",
       "    <tr>\n",
       "      <th>0</th>\n",
       "      <td>AGO</td>\n",
       "      <td>(POLYGON ((15.91128450449845 -17.3814745598568...</td>\n",
       "    </tr>\n",
       "  </tbody>\n",
       "</table>\n",
       "</div>"
      ],
      "text/plain": [
       "  country                                           geometry\n",
       "0     AGO  (POLYGON ((15.91128450449845 -17.3814745598568..."
      ]
     },
     "execution_count": 50,
     "metadata": {},
     "output_type": "execute_result"
    }
   ],
   "source": [
    "# Loop through each shapefile, filter out values less than 20, and union and dissolve the rest\n",
    "country = 'AGO'\n",
    "input_country_filename = country + '.shp'\n",
    "input_shp_dir = 'data/geo/countries/poly'\n",
    "input_shp_path = os.path.join(input_shp_dir, input_country_filename)\n",
    "gdf_country = gpd.read_file(input_shp_path)\n",
    "gdf_country.rename(columns={'country': 'val', 'val': 'country'}, inplace=True)\n",
    "thresh = 25\n",
    "gdf_country = gdf_country[gdf_country['val'] >= thresh]\n",
    "polys = gdf_country.geometry\n",
    "poly = polys.unary_union; type(poly)\n",
    "poly_country = [country, poly]; poly_country\n",
    "gdf_poly_country = gpd.GeoDataFrame(poly_country).T.rename(columns={0: 'country', 1: 'geometry'}); gdf_poly_country"
   ]
  },
  {
   "cell_type": "code",
   "execution_count": 53,
   "metadata": {
    "collapsed": false
   },
   "outputs": [],
   "source": [
    "gdf_poly_country.crs = {'init': 'epsg:4326', 'no_defs': True}\n",
    "\n",
    "# make temp folder to hold multi-polygon unioned shapes\n",
    "# ADD\n",
    "\n",
    "# write multi-polygon shapefile to temp foldf\n",
    "gdf_poly_country.to_file('test.shp')\n",
    "\n",
    "# split multi-polygons into polygons and write to new folder\n",
    "\n",
    "# create new folder \n",
    "# open the original MultiPolygon file\n",
    "with fiona.open('test.shp') as input:\n",
    "    # create the new file: the driver, crs and schema are the same\n",
    "    with fiona.open('output.shp','w',driver=input.driver, crs=input.crs, schema=input.schema) as output:\n",
    "        # read the input file\n",
    "        for multi in input:\n",
    "            # extract each Polygon feature\n",
    "            for poly in shape(multi['geometry']):\n",
    "                # write the Polygon feature\n",
    "                output.write({'properties': multi['properties'],'geometry': mapping(poly)})"
   ]
  },
  {
   "cell_type": "code",
   "execution_count": 54,
   "metadata": {
    "collapsed": false
   },
   "outputs": [],
   "source": []
  },
  {
   "cell_type": "code",
   "execution_count": 36,
   "metadata": {
    "collapsed": false
   },
   "outputs": [
    {
     "ename": "AttributeError",
     "evalue": "'NoneType' object has no attribute 'CreateLayer'",
     "output_type": "error",
     "traceback": [
      "\u001b[0;31m---------------------------------------------------------------------------\u001b[0m",
      "\u001b[0;31mAttributeError\u001b[0m                            Traceback (most recent call last)",
      "\u001b[0;32m<ipython-input-36-48d55b5cf7f5>\u001b[0m in \u001b[0;36m<module>\u001b[0;34m()\u001b[0m\n\u001b[1;32m      8\u001b[0m \u001b[0mdriver\u001b[0m \u001b[0;34m=\u001b[0m \u001b[0mogr\u001b[0m\u001b[0;34m.\u001b[0m\u001b[0mGetDriverByName\u001b[0m\u001b[0;34m(\u001b[0m\u001b[0;34m'Esri Shapefile'\u001b[0m\u001b[0;34m)\u001b[0m\u001b[0;34m\u001b[0m\u001b[0m\n\u001b[1;32m      9\u001b[0m \u001b[0mds\u001b[0m \u001b[0;34m=\u001b[0m \u001b[0mdriver\u001b[0m\u001b[0;34m.\u001b[0m\u001b[0mCreateDataSource\u001b[0m\u001b[0;34m(\u001b[0m\u001b[0;34m'my.shp'\u001b[0m\u001b[0;34m)\u001b[0m\u001b[0;34m\u001b[0m\u001b[0m\n\u001b[0;32m---> 10\u001b[0;31m \u001b[0mlayer\u001b[0m \u001b[0;34m=\u001b[0m \u001b[0mds\u001b[0m\u001b[0;34m.\u001b[0m\u001b[0mCreateLayer\u001b[0m\u001b[0;34m(\u001b[0m\u001b[0;34m''\u001b[0m\u001b[0;34m,\u001b[0m \u001b[0mNone\u001b[0m\u001b[0;34m,\u001b[0m \u001b[0mogr\u001b[0m\u001b[0;34m.\u001b[0m\u001b[0mwkbPolygon\u001b[0m\u001b[0;34m)\u001b[0m\u001b[0;34m\u001b[0m\u001b[0m\n\u001b[0m\u001b[1;32m     11\u001b[0m \u001b[0;31m# Add one attribute\u001b[0m\u001b[0;34m\u001b[0m\u001b[0;34m\u001b[0m\u001b[0m\n\u001b[1;32m     12\u001b[0m \u001b[0mlayer\u001b[0m\u001b[0;34m.\u001b[0m\u001b[0mCreateField\u001b[0m\u001b[0;34m(\u001b[0m\u001b[0mogr\u001b[0m\u001b[0;34m.\u001b[0m\u001b[0mFieldDefn\u001b[0m\u001b[0;34m(\u001b[0m\u001b[0;34m'id'\u001b[0m\u001b[0;34m,\u001b[0m \u001b[0mogr\u001b[0m\u001b[0;34m.\u001b[0m\u001b[0mOFTInteger\u001b[0m\u001b[0;34m)\u001b[0m\u001b[0;34m)\u001b[0m\u001b[0;34m\u001b[0m\u001b[0m\n",
      "\u001b[0;31mAttributeError\u001b[0m: 'NoneType' object has no attribute 'CreateLayer'"
     ]
    }
   ],
   "source": [
    "from osgeo import ogr\n",
    "from shapely.geometry import Polygon\n",
    "\n",
    "# Here's an example Shapely geometry\n",
    "#poly = Polygon([(0, 0), (0, 1), (1, 1), (0, 0)])\n",
    "\n",
    "# Now convert it to a shapefile with OGR    \n",
    "driver = ogr.GetDriverByName('Esri Shapefile')\n",
    "ds = driver.CreateDataSource('my.shp')\n",
    "layer = ds.CreateLayer('', None, ogr.wkbPolygon)\n",
    "# Add one attribute\n",
    "layer.CreateField(ogr.FieldDefn('id', ogr.OFTInteger))\n",
    "defn = layer.GetLayerDefn()\n",
    "\n",
    "## If there are multiple geometries, put the \"for\" loop here\n",
    "\n",
    "# Create a new feature (attribute and geometry)\n",
    "feat = ogr.Feature(defn)\n",
    "feat.SetField('id', 123)\n",
    "\n",
    "# Make a geometry, from Shapely object\n",
    "geom = ogr.CreateGeometryFromWkb(poly.wkb)\n",
    "feat.SetGeometry(geom)\n",
    "\n",
    "layer.CreateFeature(feat)\n",
    "feat = geom = None  # destroy these\n",
    "\n",
    "# Save and close everything\n",
    "ds = layer = feat = geom = None\n"
   ]
  },
  {
   "cell_type": "markdown",
   "metadata": {},
   "source": []
  },
  {
   "cell_type": "code",
   "execution_count": null,
   "metadata": {
    "collapsed": false
   },
   "outputs": [],
   "source": [
    "pixel_vals = eth[0].flatten()  # flatten pixels\n",
    "\n",
    "def filter_nodata(vals, no_data_val):  # filter function to remove zeros and nodata values from numpified raster values\n",
    "    return vals != no_data_val\n",
    "bool_arr_1 = np.array([filter_nodata(val, 255) for val in pixel_vals])\n",
    "pixel_vals_nd_1 = pixel_vals[bool_arr_1]\n",
    "\n",
    "bool_arr_2 = np.array([filter_nodata(val, 0) for val in pixel_vals_nd_1]) \n",
    "pixel_vals_nd_2 = pixel_vals_nd_1[bool_arr_2]"
   ]
  },
  {
   "cell_type": "code",
   "execution_count": null,
   "metadata": {
    "collapsed": false
   },
   "outputs": [],
   "source": [
    "# see what resulting histogram of data looks like\n",
    "n, bins, patches = plt.hist(pixel_vals_nd_2, 50, normed=1, facecolor='green', alpha=0.75)"
   ]
  },
  {
   "cell_type": "code",
   "execution_count": null,
   "metadata": {
    "collapsed": false
   },
   "outputs": [],
   "source": [
    "from scipy.stats import expon\n",
    "import math"
   ]
  },
  {
   "cell_type": "code",
   "execution_count": null,
   "metadata": {
    "collapsed": false
   },
   "outputs": [],
   "source": [
    "np.mean(pixel_vals_nd_2)"
   ]
  },
  {
   "cell_type": "code",
   "execution_count": null,
   "metadata": {
    "collapsed": false
   },
   "outputs": [],
   "source": [
    "# fit exponential curve to data, inspect raster data in qgis\n",
    "# see what percent of non-zero pixels constitute cities at given cutoff threshold\n",
    "params = expon.fit(pixel_vals_nd_2)\n",
    "the_mean = params[1]\n",
    "the_lambda = 1 / the_mean\n",
    "thresh = 25\n",
    "1 - math.exp(-thresh*the_lambda)"
   ]
  },
  {
   "cell_type": "code",
   "execution_count": null,
   "metadata": {
    "collapsed": true
   },
   "outputs": [],
   "source": []
  }
 ],
 "metadata": {
  "kernelspec": {
   "display_name": "Python 2",
   "language": "python",
   "name": "python2"
  },
  "language_info": {
   "codemirror_mode": {
    "name": "ipython",
    "version": 2
   },
   "file_extension": ".py",
   "mimetype": "text/x-python",
   "name": "python",
   "nbconvert_exporter": "python",
   "pygments_lexer": "ipython2",
   "version": "2.7.11"
  }
 },
 "nbformat": 4,
 "nbformat_minor": 0
}
