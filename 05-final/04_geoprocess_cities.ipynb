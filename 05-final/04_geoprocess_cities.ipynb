{
 "cells": [
  {
   "cell_type": "code",
   "execution_count": 29,
   "metadata": {
    "collapsed": false
   },
   "outputs": [],
   "source": [
    "import os\n",
    "import shutil\n",
    "import numpy as np\n",
    "import subprocess\n",
    "import glob\n",
    "from urllib import urlretrieve\n",
    "import zipfile\n",
    "\n",
    "import geopandas as gpd\n",
    "import fiona\n",
    "import rasterio\n",
    "from rasterio import features\n",
    "from rasterio.features import shapes\n",
    "from shapely.geometry import mapping, shape\n",
    "from osgeo import gdal, gdalnumeric, ogr, osr\n",
    "from gdalconst import *\n",
    "from PIL import Image, ImageDraw\n",
    "\n",
    "\n",
    "%matplotlib inline\n",
    "import matplotlib.mlab as mlab\n",
    "import matplotlib.pyplot as plt\n",
    "\n",
    "from library.geoprocess import rm_and_mkdir, shp_to_shps, raster_to_rasters, polygonize, union_and_filter, get_countries, split_multi_to_single_poly, merge_shapefiles"
   ]
  },
  {
   "cell_type": "markdown",
   "metadata": {},
   "source": [
    "#### Create individual shapefiles of each country from shapefile of all countries\n",
    "* load shapefile of all admin areas / countries as geodataframe\n",
    "* filter out countries not internationally recognized\n",
    "* loop through rows of geodataframe and save each row as a country-specific shapefile"
   ]
  },
  {
   "cell_type": "code",
   "execution_count": 2,
   "metadata": {
    "collapsed": false
   },
   "outputs": [
    {
     "name": "stderr",
     "output_type": "stream",
     "text": [
      "/Users/peter/anaconda/lib/python2.7/site-packages/geopandas/geodataframe.py:376: UserWarning: Boolean Series key will be reindexed to match DataFrame index.\n",
      "  result = super(GeoDataFrame, self).__getitem__(key)\n"
     ]
    }
   ],
   "source": [
    "# load shapefile of all admin areas / countries as geodataframe\n",
    "gdf = gpd.read_file('data/geo/countries/countries_nf2.shp'); gdf.head(3)\n",
    "\n",
    "# filter out countries not internationally recognized\n",
    "country_filter1 = gdf['WB_A3'] != '-99'\n",
    "gdf = gdf.drop_duplicates(subset='WB_A3')\n",
    "gdf = gdf[country_filter1].set_index('WB_A3')\n",
    "\n",
    "# loop through rows of geodataframe and save each row as a country-specific shapefile in newly created dir\n",
    "# shp_to_shps('data/geo/countries/shp', gdf)"
   ]
  },
  {
   "cell_type": "markdown",
   "metadata": {},
   "source": [
    "#### Generate city boundaries\n",
    "* Clip master raster from 2013 by each country shapefile, creating country-specific rasters\n",
    "* Use subprocess module to run gdal commands in terminal to do this\n",
    "* Polygonize each country raster\n",
    "* Select subset of polygons that have light intensity greater than selected thresh\n",
    "* Union remaining polygons to get contiguous city boundaries\n",
    "* Intersect with populated places to eliminate non-key cities\n",
    "* Save outputs to cities directory"
   ]
  },
  {
   "cell_type": "code",
   "execution_count": 3,
   "metadata": {
    "collapsed": false
   },
   "outputs": [],
   "source": [
    "# clip master raster from 2013 by each country shapefile to create country-level rasters\n",
    "input_tif_path = 'data/geo/images/F182013.v4c_web.stable_lights.avg_vis.tif'\n",
    "input_shp_dir = 'data/geo/countries/shp'\n",
    "output_tif_dir = 'data/geo/countries/tif'\n",
    "countries = [x.encode('UTF-8') for x in gdf.index.values]\n",
    "# raster_to_rasters(countries, input_tif_path, input_shp_dir, output_tif_dir)"
   ]
  },
  {
   "cell_type": "code",
   "execution_count": 4,
   "metadata": {
    "collapsed": false
   },
   "outputs": [],
   "source": [
    "# polygonize rasters and save to target directory\n",
    "input_tif_dir = 'data/geo/countries/tif'\n",
    "output_shp_dir = 'data/geo/countries/poly'\n",
    "# polygonize(input_tif_dir, output_shp_dir, countries)"
   ]
  },
  {
   "cell_type": "code",
   "execution_count": 5,
   "metadata": {
    "collapsed": false
   },
   "outputs": [],
   "source": [
    "# filter and union countries, save to target directory\n",
    "input_dir = 'data/geo/countries/poly'\n",
    "output_dir = 'data/geo/cities/union'\n",
    "# union_and_filter(input_dir, output_dir, countries)"
   ]
  },
  {
   "cell_type": "code",
   "execution_count": 6,
   "metadata": {
    "collapsed": false
   },
   "outputs": [],
   "source": [
    "# split multi-polygons into polygons\n",
    "input_dir = 'data/geo/cities/union'\n",
    "output_dir = 'data/geo/cities/split'\n",
    "# split_multi_to_single_poly(input_dir, output_dir)"
   ]
  },
  {
   "cell_type": "code",
   "execution_count": 7,
   "metadata": {
    "collapsed": false
   },
   "outputs": [
    {
     "name": "stdout",
     "output_type": "stream",
     "text": [
      "ABW.shp\n",
      "ADO.shp\n",
      "AFG.shp\n",
      "AGO.shp\n",
      "ALB.shp\n",
      "ARE.shp\n",
      "ARG.shp\n",
      "ARM.shp\n",
      "ASM.shp\n",
      "ATG.shp\n",
      "AUS.shp\n",
      "AUT.shp\n",
      "AZE.shp\n",
      "BDI.shp\n",
      "BEL.shp\n",
      "BEN.shp\n",
      "BFA.shp\n",
      "BGD.shp\n",
      "BGR.shp\n",
      "BHR.shp\n",
      "BHS.shp\n",
      "BIH.shp\n",
      "BLR.shp\n",
      "BLZ.shp\n",
      "BMU.shp\n",
      "BOL.shp\n",
      "BRA.shp\n",
      "BRB.shp\n",
      "BRN.shp\n",
      "BTN.shp\n",
      "BWA.shp\n",
      "CAF.shp\n",
      "CAN.shp\n",
      "CHE.shp\n",
      "CHI.shp\n",
      "CHL.shp\n",
      "CHN.shp\n",
      "CIV.shp\n",
      "CMR.shp\n",
      "COG.shp\n",
      "COL.shp\n",
      "CPV.shp\n",
      "CRI.shp\n",
      "CUB.shp\n",
      "CUW.shp\n",
      "CYM.shp\n",
      "CYP.shp\n",
      "CZE.shp\n",
      "DEU.shp\n",
      "DJI.shp\n",
      "DMA.shp\n",
      "DNK.shp\n",
      "DOM.shp\n",
      "DZA.shp\n",
      "ECU.shp\n",
      "EGY.shp\n",
      "ERI.shp\n",
      "ESP.shp\n",
      "EST.shp\n",
      "ETH.shp\n",
      "FIN.shp\n",
      "FJI.shp\n",
      "FRA.shp\n",
      "FRO.shp\n",
      "GAB.shp\n",
      "GBR.shp\n",
      "GEO.shp\n",
      "GHA.shp\n",
      "GIN.shp\n",
      "GMB.shp\n",
      "GNB.shp\n",
      "GNQ.shp\n",
      "GRC.shp\n",
      "GRD.shp\n",
      "GRL.shp\n",
      "GTM.shp\n",
      "GUM.shp\n",
      "GUY.shp\n",
      "HKG.shp\n",
      "HND.shp\n",
      "HRV.shp\n",
      "HTI.shp\n",
      "HUN.shp\n",
      "IDN.shp\n",
      "IMY.shp\n",
      "IND.shp\n",
      "IRL.shp\n",
      "IRN.shp\n",
      "IRQ.shp\n",
      "ISL.shp\n",
      "ISR.shp\n",
      "ITA.shp\n",
      "JAM.shp\n",
      "JOR.shp\n",
      "JPN.shp\n",
      "KAZ.shp\n",
      "KEN.shp\n",
      "KGZ.shp\n",
      "KHM.shp\n",
      "KNA.shp\n",
      "KOR.shp\n",
      "KSV.shp\n",
      "KWT.shp\n",
      "LAO.shp\n",
      "LBN.shp\n",
      "LBR.shp\n",
      "LBY.shp\n",
      "LCA.shp\n",
      "LIE.shp\n",
      "LKA.shp\n",
      "LSO.shp\n",
      "LTU.shp\n",
      "LUX.shp\n",
      "LVA.shp\n",
      "MAC.shp\n",
      "MAF.shp\n",
      "MAR.shp\n",
      "MCO.shp\n",
      "MDA.shp\n",
      "MDG.shp\n",
      "MDV.shp\n",
      "MEX.shp\n",
      "MHL.shp\n",
      "MKD.shp\n",
      "MLI.shp\n",
      "MLT.shp\n",
      "MMR.shp\n",
      "MNE.shp\n",
      "MNG.shp\n",
      "MNP.shp\n",
      "MOZ.shp\n",
      "MRT.shp\n",
      "MUS.shp\n",
      "MWI.shp\n",
      "MYS.shp\n",
      "NAM.shp\n",
      "NCL.shp\n",
      "NER.shp\n",
      "NGA.shp\n",
      "NIC.shp\n",
      "NLD.shp\n",
      "NPL.shp\n",
      "NZL.shp\n",
      "OMN.shp\n",
      "PAK.shp\n",
      "PAN.shp\n",
      "PER.shp\n",
      "PHL.shp\n",
      "PLW.shp\n",
      "PNG.shp\n",
      "POL.shp\n",
      "PRI.shp\n",
      "PRK.shp\n",
      "PRT.shp\n",
      "PRY.shp\n",
      "PYF.shp\n",
      "QAT.shp\n",
      "ROM.shp\n",
      "RUS.shp\n",
      "RWA.shp\n",
      "SAU.shp\n",
      "SDN.shp\n",
      "SEN.shp\n",
      "SGP.shp\n",
      "SLB.shp\n",
      "SLE.shp\n",
      "SLV.shp\n",
      "SMR.shp\n",
      "SOM.shp\n",
      "SRB.shp\n",
      "SSD.shp\n",
      "STP.shp\n",
      "SUR.shp\n",
      "SVK.shp\n",
      "SVN.shp\n",
      "SWE.shp\n",
      "SWZ.shp\n",
      "SXM.shp\n",
      "SYC.shp\n",
      "SYR.shp\n",
      "TCA.shp\n",
      "TCD.shp\n",
      "TGO.shp\n",
      "THA.shp\n",
      "TJK.shp\n",
      "TKM.shp\n",
      "TMP.shp\n",
      "TON.shp\n",
      "TTO.shp\n",
      "TUN.shp\n",
      "TUR.shp\n",
      "TZA.shp\n",
      "UGA.shp\n",
      "UKR.shp\n",
      "URY.shp\n",
      "USA.shp\n",
      "UZB.shp\n",
      "VCT.shp\n",
      "VEN.shp\n",
      "VIR.shp\n",
      "VNM.shp\n",
      "VUT.shp\n",
      "WBG.shp\n",
      "WSM.shp\n",
      "YEM.shp\n",
      "ZAF.shp\n",
      "ZAR.shp\n",
      "ZMB.shp\n",
      "ZWE.shp\n"
     ]
    }
   ],
   "source": [
    "# Merge shapefiles in directory\n",
    "input_dir = 'data/geo/cities/split'\n",
    "output_dir = 'data/geo/cities/merge'\n",
    "output_filename = 'merged.shp'\n",
    "merge_shapefiles(input_dir, output_dir, output_filename)"
   ]
  },
  {
   "cell_type": "code",
   "execution_count": 9,
   "metadata": {
    "collapsed": false
   },
   "outputs": [
    {
     "data": {
      "text/html": [
       "<div>\n",
       "<table border=\"1\" class=\"dataframe\">\n",
       "  <thead>\n",
       "    <tr style=\"text-align: right;\">\n",
       "      <th></th>\n",
       "      <th>FID</th>\n",
       "      <th>geometry</th>\n",
       "    </tr>\n",
       "  </thead>\n",
       "  <tbody>\n",
       "    <tr>\n",
       "      <th>0</th>\n",
       "      <td>0.0</td>\n",
       "      <td>POLYGON ((61.90316872520486 30.96225290982025,...</td>\n",
       "    </tr>\n",
       "    <tr>\n",
       "      <th>1</th>\n",
       "      <td>1.0</td>\n",
       "      <td>POLYGON ((61.79485647729509 31.13732486357805,...</td>\n",
       "    </tr>\n",
       "    <tr>\n",
       "      <th>2</th>\n",
       "      <td>2.0</td>\n",
       "      <td>POLYGON ((64.06108197202268 31.08730430536153,...</td>\n",
       "    </tr>\n",
       "  </tbody>\n",
       "</table>\n",
       "</div>"
      ],
      "text/plain": [
       "   FID                                           geometry\n",
       "0  0.0  POLYGON ((61.90316872520486 30.96225290982025,...\n",
       "1  1.0  POLYGON ((61.79485647729509 31.13732486357805,...\n",
       "2  2.0  POLYGON ((64.06108197202268 31.08730430536153,..."
      ]
     },
     "execution_count": 9,
     "metadata": {},
     "output_type": "execute_result"
    }
   ],
   "source": [
    "# set CRS of merged shapefile\n",
    "input_path = 'data/geo/cities/merge/merged.shp'\n",
    "gdf_merged = gpd.read_file(input_path)\n",
    "gdf_merged.crs = {'init': 'epsg:4326', 'no_defs': True}\n",
    "output_shp_path = os.path.join(output_dir, 'merged_crs.shp')\n",
    "gdf_merged.to_file(output_shp_path)\n",
    "gdf_merged.head(3)"
   ]
  },
  {
   "cell_type": "code",
   "execution_count": 28,
   "metadata": {
    "collapsed": false
   },
   "outputs": [],
   "source": [
    "# save pop_places shapefile into new directory called pop_places\n",
    "# http://www.naturalearthdata.com/http//www.naturalearthdata.com/download/10m/cultural/ne_10m_populated_places_simple.zip\n",
    "\n",
    "output_dir = 'data/geo/cities/pop_places' # copied pop places and merged shapefiles into same dir\n",
    "rm_and_mkdir(output_dir)\n",
    "zip_filename = 'pops.zip'\n",
    "zip_path = os.path.join(output_dir, zip_filename)\n",
    "url = 'http://www.naturalearthdata.com/http//www.naturalearthdata.com/download/10m/cultural/ne_10m_populated_places_simple.zip'\n",
    "req = urlretrieve(url, 'data/geo/cities/pop_places/pops.zip')\n",
    "zip_ref = zipfile.ZipFile(zip_path, 'r')\n",
    "zip_ref.extractall(directory_to_extract_to)\n",
    "zip_ref.close()"
   ]
  },
  {
   "cell_type": "code",
   "execution_count": 17,
   "metadata": {
    "collapsed": false
   },
   "outputs": [],
   "source": [
    "# intersect populated places with shp\n",
    "polygons_collection = fiona.open('data/geo/cities/merge/merged_crs.shp')\n",
    "polygons_next = polygons_collection.next()\n",
    "polygons = shape(polygons_next['geometry'])\n",
    "\n",
    "points_collection = fiona.open('data/geo/cities/pop_places/pop_places.shp')\n",
    "points_next = points_collection.next()\n",
    "points = shape(points_next['geometry'])"
   ]
  },
  {
   "cell_type": "code",
   "execution_count": 21,
   "metadata": {
    "collapsed": false
   },
   "outputs": [
    {
     "ename": "RuntimeError",
     "evalue": "In ExecuteSQL(): sqlite3_prepare(    SELECT ST_Intersection(A.geometry, B.geometry) AS geometry, A.*, B.*\n    FROM nyct2010 A, h1_buf B\n    WHERE ST_Intersects(A.geometry, B.geometry);\n):\n  no such table: nyct2010",
     "output_type": "error",
     "traceback": [
      "\u001b[0;31m---------------------------------------------------------------------------\u001b[0m",
      "\u001b[0;31mRuntimeError\u001b[0m                              Traceback (most recent call last)",
      "\u001b[0;32m<ipython-input-21-b804cf4de31d>\u001b[0m in \u001b[0;36m<module>\u001b[0;34m()\u001b[0m\n\u001b[1;32m      6\u001b[0m     \u001b[0mWHERE\u001b[0m \u001b[0mST_Intersects\u001b[0m\u001b[0;34m(\u001b[0m\u001b[0mA\u001b[0m\u001b[0;34m.\u001b[0m\u001b[0mgeometry\u001b[0m\u001b[0;34m,\u001b[0m \u001b[0mB\u001b[0m\u001b[0;34m.\u001b[0m\u001b[0mgeometry\u001b[0m\u001b[0;34m)\u001b[0m\u001b[0;34m;\u001b[0m\u001b[0;34m\u001b[0m\u001b[0m\n\u001b[1;32m      7\u001b[0m \"\"\"\n\u001b[0;32m----> 8\u001b[0;31m \u001b[0mlayer\u001b[0m \u001b[0;34m=\u001b[0m \u001b[0mogr_ds\u001b[0m\u001b[0;34m.\u001b[0m\u001b[0mExecuteSQL\u001b[0m\u001b[0;34m(\u001b[0m\u001b[0mSQL\u001b[0m\u001b[0;34m,\u001b[0m \u001b[0mdialect\u001b[0m\u001b[0;34m=\u001b[0m\u001b[0;34m'SQLITE'\u001b[0m\u001b[0;34m)\u001b[0m\u001b[0;34m\u001b[0m\u001b[0m\n\u001b[0m\u001b[1;32m      9\u001b[0m \u001b[0;31m# copy result back to datasource as a new shapefile\u001b[0m\u001b[0;34m\u001b[0m\u001b[0;34m\u001b[0m\u001b[0m\n\u001b[1;32m     10\u001b[0m \u001b[0mlayer2\u001b[0m \u001b[0;34m=\u001b[0m \u001b[0mogr_ds\u001b[0m\u001b[0;34m.\u001b[0m\u001b[0mCopyLayer\u001b[0m\u001b[0;34m(\u001b[0m\u001b[0mlayer\u001b[0m\u001b[0;34m,\u001b[0m \u001b[0;34m'h1_buf_int_ct3'\u001b[0m\u001b[0;34m)\u001b[0m\u001b[0;34m\u001b[0m\u001b[0m\n",
      "\u001b[0;32m/usr/local/lib/python2.7/site-packages/osgeo/ogr.pyc\u001b[0m in \u001b[0;36mExecuteSQL\u001b[0;34m(self, *args, **kwargs)\u001b[0m\n\u001b[1;32m    744\u001b[0m         \u001b[0mDeallocate\u001b[0m \u001b[0;32mwith\u001b[0m \u001b[0mOGR_DS_ReleaseResultSet\u001b[0m\u001b[0;34m(\u001b[0m\u001b[0;34m)\u001b[0m\u001b[0;34m.\u001b[0m\u001b[0;34m\u001b[0m\u001b[0m\n\u001b[1;32m    745\u001b[0m         \"\"\"\n\u001b[0;32m--> 746\u001b[0;31m         \u001b[0;32mreturn\u001b[0m \u001b[0m_ogr\u001b[0m\u001b[0;34m.\u001b[0m\u001b[0mDataSource_ExecuteSQL\u001b[0m\u001b[0;34m(\u001b[0m\u001b[0mself\u001b[0m\u001b[0;34m,\u001b[0m \u001b[0;34m*\u001b[0m\u001b[0margs\u001b[0m\u001b[0;34m,\u001b[0m \u001b[0;34m**\u001b[0m\u001b[0mkwargs\u001b[0m\u001b[0;34m)\u001b[0m\u001b[0;34m\u001b[0m\u001b[0m\n\u001b[0m\u001b[1;32m    747\u001b[0m \u001b[0;34m\u001b[0m\u001b[0m\n\u001b[1;32m    748\u001b[0m     \u001b[0;32mdef\u001b[0m \u001b[0mReleaseResultSet\u001b[0m\u001b[0;34m(\u001b[0m\u001b[0mself\u001b[0m\u001b[0;34m,\u001b[0m \u001b[0;34m*\u001b[0m\u001b[0margs\u001b[0m\u001b[0;34m)\u001b[0m\u001b[0;34m:\u001b[0m\u001b[0;34m\u001b[0m\u001b[0m\n",
      "\u001b[0;31mRuntimeError\u001b[0m: In ExecuteSQL(): sqlite3_prepare(    SELECT ST_Intersection(A.geometry, B.geometry) AS geometry, A.*, B.*\n    FROM nyct2010 A, h1_buf B\n    WHERE ST_Intersects(A.geometry, B.geometry);\n):\n  no such table: nyct2010"
     ]
    }
   ],
   "source": [
    "\n",
    "output_shp_path = os.path.join(output_dir, 'merged_crs.shp')\n",
    "gdf_merged.to_file(output_shp_path) # copy merged_crs.shp to pop_places dir\n",
    "\n",
    "from osgeo import ogr\n",
    "ogr.UseExceptions()\n",
    "ogr_ds = ogr.Open('data/geo/cities/pop_places', True)\n",
    "SQL = \"\"\"\\\n",
    "    SELECT ST_Intersection(A.geometry, B.geometry) AS geometry, A.*, B.*\n",
    "    FROM merged_crs, pop_places B\n",
    "    WHERE ST_Intersects(A.geometry, B.geometry);\n",
    "\"\"\"\n",
    "layer = ogr_ds.ExecuteSQL(SQL, dialect='SQLITE')\n",
    "# copy result back to datasource as a new shapefile\n",
    "layer2 = ogr_ds.CopyLayer(layer, 'h1_buf_int_ct3')\n",
    "# save, close\n",
    "layer = layer2 = ogr_ds = None"
   ]
  },
  {
   "cell_type": "code",
   "execution_count": null,
   "metadata": {
    "collapsed": true
   },
   "outputs": [],
   "source": []
  }
 ],
 "metadata": {
  "kernelspec": {
   "display_name": "Python 2",
   "language": "python",
   "name": "python2"
  },
  "language_info": {
   "codemirror_mode": {
    "name": "ipython",
    "version": 2
   },
   "file_extension": ".py",
   "mimetype": "text/x-python",
   "name": "python",
   "nbconvert_exporter": "python",
   "pygments_lexer": "ipython2",
   "version": "2.7.11"
  }
 },
 "nbformat": 4,
 "nbformat_minor": 0
}
