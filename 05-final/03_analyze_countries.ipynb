{
 "cells": [
  {
   "cell_type": "code",
   "execution_count": 5,
   "metadata": {
    "collapsed": false
   },
   "outputs": [],
   "source": [
    "import geopandas as gpd\n",
    "import pandas as pd\n",
    "import pickle\n",
    "\n",
    "from sklearn.linear_model import LinearRegression\n",
    "import statsmodels.api as sm\n",
    "import statsmodels.formula.api as smf\n",
    "\n",
    "from library._03_analyze import countries_regressions"
   ]
  },
  {
   "cell_type": "code",
   "execution_count": 14,
   "metadata": {
    "collapsed": false
   },
   "outputs": [
    {
     "data": {
      "text/html": [
       "<div>\n",
       "<table border=\"1\" class=\"dataframe\">\n",
       "  <thead>\n",
       "    <tr style=\"text-align: right;\">\n",
       "      <th></th>\n",
       "      <th>F101992</th>\n",
       "      <th>F101993</th>\n",
       "      <th>F101994</th>\n",
       "      <th>F121994</th>\n",
       "      <th>F121995</th>\n",
       "      <th>F121996</th>\n",
       "      <th>F121997</th>\n",
       "      <th>F121998</th>\n",
       "      <th>F121999</th>\n",
       "      <th>F141997</th>\n",
       "      <th>...</th>\n",
       "      <th>2004</th>\n",
       "      <th>2005</th>\n",
       "      <th>2006</th>\n",
       "      <th>2007</th>\n",
       "      <th>2008</th>\n",
       "      <th>2009</th>\n",
       "      <th>2010</th>\n",
       "      <th>2011</th>\n",
       "      <th>2012</th>\n",
       "      <th>2013</th>\n",
       "    </tr>\n",
       "    <tr>\n",
       "      <th>WB_A3</th>\n",
       "      <th></th>\n",
       "      <th></th>\n",
       "      <th></th>\n",
       "      <th></th>\n",
       "      <th></th>\n",
       "      <th></th>\n",
       "      <th></th>\n",
       "      <th></th>\n",
       "      <th></th>\n",
       "      <th></th>\n",
       "      <th></th>\n",
       "      <th></th>\n",
       "      <th></th>\n",
       "      <th></th>\n",
       "      <th></th>\n",
       "      <th></th>\n",
       "      <th></th>\n",
       "      <th></th>\n",
       "      <th></th>\n",
       "      <th></th>\n",
       "      <th></th>\n",
       "    </tr>\n",
       "  </thead>\n",
       "  <tbody>\n",
       "    <tr>\n",
       "      <th>ALB</th>\n",
       "      <td>1.0</td>\n",
       "      <td>2.628394</td>\n",
       "      <td>3.087411</td>\n",
       "      <td>4.743126</td>\n",
       "      <td>5.511153</td>\n",
       "      <td>4.825264</td>\n",
       "      <td>5.901003</td>\n",
       "      <td>6.095106</td>\n",
       "      <td>6.328117</td>\n",
       "      <td>2.821373</td>\n",
       "      <td>...</td>\n",
       "      <td>2.171891</td>\n",
       "      <td>2.296141</td>\n",
       "      <td>2.420845</td>\n",
       "      <td>2.563675</td>\n",
       "      <td>2.756720</td>\n",
       "      <td>2.849070</td>\n",
       "      <td>2.954770</td>\n",
       "      <td>3.030117</td>\n",
       "      <td>3.073145</td>\n",
       "      <td>3.107257</td>\n",
       "    </tr>\n",
       "    <tr>\n",
       "      <th>DZA</th>\n",
       "      <td>1.0</td>\n",
       "      <td>1.027205</td>\n",
       "      <td>1.034877</td>\n",
       "      <td>0.943117</td>\n",
       "      <td>1.220886</td>\n",
       "      <td>1.189387</td>\n",
       "      <td>1.340228</td>\n",
       "      <td>1.477018</td>\n",
       "      <td>1.291055</td>\n",
       "      <td>1.008942</td>\n",
       "      <td>...</td>\n",
       "      <td>1.451161</td>\n",
       "      <td>1.536779</td>\n",
       "      <td>1.562906</td>\n",
       "      <td>1.616043</td>\n",
       "      <td>1.648364</td>\n",
       "      <td>1.674737</td>\n",
       "      <td>1.735030</td>\n",
       "      <td>1.783610</td>\n",
       "      <td>1.842472</td>\n",
       "      <td>1.894061</td>\n",
       "    </tr>\n",
       "    <tr>\n",
       "      <th>ATG</th>\n",
       "      <td>1.0</td>\n",
       "      <td>1.259259</td>\n",
       "      <td>1.249585</td>\n",
       "      <td>1.457435</td>\n",
       "      <td>1.457159</td>\n",
       "      <td>1.487562</td>\n",
       "      <td>1.636816</td>\n",
       "      <td>1.753179</td>\n",
       "      <td>1.917358</td>\n",
       "      <td>1.343007</td>\n",
       "      <td>...</td>\n",
       "      <td>1.525237</td>\n",
       "      <td>1.618020</td>\n",
       "      <td>1.834453</td>\n",
       "      <td>2.008707</td>\n",
       "      <td>2.010135</td>\n",
       "      <td>1.768195</td>\n",
       "      <td>1.641893</td>\n",
       "      <td>1.612447</td>\n",
       "      <td>1.677260</td>\n",
       "      <td>1.671452</td>\n",
       "    </tr>\n",
       "  </tbody>\n",
       "</table>\n",
       "<p>3 rows × 56 columns</p>\n",
       "</div>"
      ],
      "text/plain": [
       "       F101992   F101993   F101994   F121994   F121995   F121996   F121997  \\\n",
       "WB_A3                                                                        \n",
       "ALB        1.0  2.628394  3.087411  4.743126  5.511153  4.825264  5.901003   \n",
       "DZA        1.0  1.027205  1.034877  0.943117  1.220886  1.189387  1.340228   \n",
       "ATG        1.0  1.259259  1.249585  1.457435  1.457159  1.487562  1.636816   \n",
       "\n",
       "        F121998   F121999   F141997    ...         2004      2005      2006  \\\n",
       "WB_A3                                  ...                                    \n",
       "ALB    6.095106  6.328117  2.821373    ...     2.171891  2.296141  2.420845   \n",
       "DZA    1.477018  1.291055  1.008942    ...     1.451161  1.536779  1.562906   \n",
       "ATG    1.753179  1.917358  1.343007    ...     1.525237  1.618020  1.834453   \n",
       "\n",
       "           2007      2008      2009      2010      2011      2012      2013  \n",
       "WB_A3                                                                        \n",
       "ALB    2.563675  2.756720  2.849070  2.954770  3.030117  3.073145  3.107257  \n",
       "DZA    1.616043  1.648364  1.674737  1.735030  1.783610  1.842472  1.894061  \n",
       "ATG    2.008707  2.010135  1.768195  1.641893  1.612447  1.677260  1.671452  \n",
       "\n",
       "[3 rows x 56 columns]"
      ]
     },
     "execution_count": 14,
     "metadata": {},
     "output_type": "execute_result"
    }
   ],
   "source": [
    "# import cleaned dataframe\n",
    "df = pd.read_pickle('data/geo/pickles/zonal_stats_c_norm.pickle'); df.head(3)"
   ]
  },
  {
   "cell_type": "code",
   "execution_count": 15,
   "metadata": {
    "collapsed": false
   },
   "outputs": [
    {
     "data": {
      "text/html": [
       "<div>\n",
       "<table border=\"1\" class=\"dataframe\">\n",
       "  <thead>\n",
       "    <tr style=\"text-align: right;\">\n",
       "      <th></th>\n",
       "      <th>beta</th>\n",
       "      <th>intercept</th>\n",
       "      <th>r</th>\n",
       "      <th>r_adj</th>\n",
       "      <th>p_beta</th>\n",
       "      <th>p_int</th>\n",
       "      <th>c_beta_low</th>\n",
       "      <th>c_beta_high</th>\n",
       "      <th>c_int_low</th>\n",
       "      <th>c_int_high</th>\n",
       "    </tr>\n",
       "    <tr>\n",
       "      <th>country</th>\n",
       "      <th></th>\n",
       "      <th></th>\n",
       "      <th></th>\n",
       "      <th></th>\n",
       "      <th></th>\n",
       "      <th></th>\n",
       "      <th></th>\n",
       "      <th></th>\n",
       "      <th></th>\n",
       "      <th></th>\n",
       "    </tr>\n",
       "  </thead>\n",
       "  <tbody>\n",
       "    <tr>\n",
       "      <th>CHN</th>\n",
       "      <td>2.106011</td>\n",
       "      <td>-1.055173</td>\n",
       "      <td>0.910429</td>\n",
       "      <td>0.907630</td>\n",
       "      <td>2.510763e-18</td>\n",
       "      <td>1.611164e-04</td>\n",
       "      <td>1.868149</td>\n",
       "      <td>2.343872</td>\n",
       "      <td>-1.558022</td>\n",
       "      <td>-0.552324</td>\n",
       "    </tr>\n",
       "    <tr>\n",
       "      <th>ETH</th>\n",
       "      <td>0.762989</td>\n",
       "      <td>0.156017</td>\n",
       "      <td>0.897381</td>\n",
       "      <td>0.894174</td>\n",
       "      <td>2.226825e-17</td>\n",
       "      <td>2.175655e-01</td>\n",
       "      <td>0.670082</td>\n",
       "      <td>0.855895</td>\n",
       "      <td>-0.096643</td>\n",
       "      <td>0.408677</td>\n",
       "    </tr>\n",
       "    <tr>\n",
       "      <th>OMN</th>\n",
       "      <td>0.260797</td>\n",
       "      <td>0.905775</td>\n",
       "      <td>0.896847</td>\n",
       "      <td>0.893623</td>\n",
       "      <td>2.420280e-17</td>\n",
       "      <td>3.397654e-23</td>\n",
       "      <td>0.228948</td>\n",
       "      <td>0.292645</td>\n",
       "      <td>0.835377</td>\n",
       "      <td>0.976172</td>\n",
       "    </tr>\n",
       "  </tbody>\n",
       "</table>\n",
       "</div>"
      ],
      "text/plain": [
       "             beta  intercept         r     r_adj        p_beta         p_int  \\\n",
       "country                                                                        \n",
       "CHN      2.106011  -1.055173  0.910429  0.907630  2.510763e-18  1.611164e-04   \n",
       "ETH      0.762989   0.156017  0.897381  0.894174  2.226825e-17  2.175655e-01   \n",
       "OMN      0.260797   0.905775  0.896847  0.893623  2.420280e-17  3.397654e-23   \n",
       "\n",
       "         c_beta_low  c_beta_high  c_int_low  c_int_high  \n",
       "country                                                  \n",
       "CHN        1.868149     2.343872  -1.558022   -0.552324  \n",
       "ETH        0.670082     0.855895  -0.096643    0.408677  \n",
       "OMN        0.228948     0.292645   0.835377    0.976172  "
      ]
     },
     "execution_count": 15,
     "metadata": {},
     "output_type": "execute_result"
    }
   ],
   "source": [
    "# calculate regression stats for each country\n",
    "df_regression = countries_regressions(df).sort_values(by='r', ascending=False); df_regression.head(3)"
   ]
  },
  {
   "cell_type": "code",
   "execution_count": 16,
   "metadata": {
    "collapsed": false
   },
   "outputs": [],
   "source": [
    "# save outputs to csv\n",
    "df_regression.to_csv('data/country_stats.csv')"
   ]
  },
  {
   "cell_type": "code",
   "execution_count": 18,
   "metadata": {
    "collapsed": false
   },
   "outputs": [
    {
     "data": {
      "text/plain": [
       "beta           1.484300\n",
       "intercept      0.086446\n",
       "r              0.466433\n",
       "r_adj          0.449759\n",
       "p_beta         0.000009\n",
       "p_int          0.785678\n",
       "c_beta_low     0.912659\n",
       "c_beta_high    2.055941\n",
       "c_int_low     -0.555686\n",
       "c_int_high     0.728578\n",
       "Name: NGA, dtype: float64"
      ]
     },
     "execution_count": 18,
     "metadata": {},
     "output_type": "execute_result"
    }
   ],
   "source": [
    "df_regression.loc['NGA']"
   ]
  },
  {
   "cell_type": "code",
   "execution_count": null,
   "metadata": {
    "collapsed": true
   },
   "outputs": [],
   "source": []
  }
 ],
 "metadata": {
  "kernelspec": {
   "display_name": "Python 2",
   "language": "python",
   "name": "python2"
  },
  "language_info": {
   "codemirror_mode": {
    "name": "ipython",
    "version": 2
   },
   "file_extension": ".py",
   "mimetype": "text/x-python",
   "name": "python",
   "nbconvert_exporter": "python",
   "pygments_lexer": "ipython2",
   "version": "2.7.11"
  }
 },
 "nbformat": 4,
 "nbformat_minor": 0
}
