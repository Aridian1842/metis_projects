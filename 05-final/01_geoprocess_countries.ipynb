{
 "cells": [
  {
   "cell_type": "code",
   "execution_count": 1,
   "metadata": {
    "collapsed": false
   },
   "outputs": [],
   "source": [
    "import fiona\n",
    "import geopandas as gpd\n",
    "import glob\n",
    "from rasterstats import zonal_stats\n",
    "import pandas as pd\n",
    "import pickle\n",
    "\n",
    "from library.geoprocess import get_tif_ids, zonal_to_shp"
   ]
  },
  {
   "cell_type": "code",
   "execution_count": 110,
   "metadata": {
    "collapsed": false
   },
   "outputs": [
    {
     "data": {
      "text/html": [
       "<div>\n",
       "<table border=\"1\" class=\"dataframe\">\n",
       "  <thead>\n",
       "    <tr style=\"text-align: right;\">\n",
       "      <th></th>\n",
       "      <th>ADMIN</th>\n",
       "      <th>CONTINENT</th>\n",
       "      <th>ISO_A3</th>\n",
       "      <th>REGION_UN</th>\n",
       "      <th>REGION_WB</th>\n",
       "      <th>SUBREGION</th>\n",
       "      <th>WB_A3</th>\n",
       "      <th>geometry</th>\n",
       "    </tr>\n",
       "  </thead>\n",
       "  <tbody>\n",
       "    <tr>\n",
       "      <th>0</th>\n",
       "      <td>Aruba</td>\n",
       "      <td>North America</td>\n",
       "      <td>ABW</td>\n",
       "      <td>Americas</td>\n",
       "      <td>Latin America &amp; Caribbean</td>\n",
       "      <td>Caribbean</td>\n",
       "      <td>ABW</td>\n",
       "      <td>POLYGON ((-69.99693762899992 12.57758209800004...</td>\n",
       "    </tr>\n",
       "    <tr>\n",
       "      <th>1</th>\n",
       "      <td>Afghanistan</td>\n",
       "      <td>Asia</td>\n",
       "      <td>AFG</td>\n",
       "      <td>Asia</td>\n",
       "      <td>South Asia</td>\n",
       "      <td>Southern Asia</td>\n",
       "      <td>AFG</td>\n",
       "      <td>POLYGON ((71.04980228700009 38.40866445000009,...</td>\n",
       "    </tr>\n",
       "    <tr>\n",
       "      <th>2</th>\n",
       "      <td>Angola</td>\n",
       "      <td>Africa</td>\n",
       "      <td>AGO</td>\n",
       "      <td>Africa</td>\n",
       "      <td>Sub-Saharan Africa</td>\n",
       "      <td>Middle Africa</td>\n",
       "      <td>AGO</td>\n",
       "      <td>(POLYGON ((11.73751945100014 -16.6925779829998...</td>\n",
       "    </tr>\n",
       "  </tbody>\n",
       "</table>\n",
       "</div>"
      ],
      "text/plain": [
       "         ADMIN      CONTINENT ISO_A3 REGION_UN                  REGION_WB  \\\n",
       "0        Aruba  North America    ABW  Americas  Latin America & Caribbean   \n",
       "1  Afghanistan           Asia    AFG      Asia                 South Asia   \n",
       "2       Angola         Africa    AGO    Africa         Sub-Saharan Africa   \n",
       "\n",
       "       SUBREGION WB_A3                                           geometry  \n",
       "0      Caribbean   ABW  POLYGON ((-69.99693762899992 12.57758209800004...  \n",
       "1  Southern Asia   AFG  POLYGON ((71.04980228700009 38.40866445000009,...  \n",
       "2  Middle Africa   AGO  (POLYGON ((11.73751945100014 -16.6925779829998...  "
      ]
     },
     "execution_count": 110,
     "metadata": {},
     "output_type": "execute_result"
    }
   ],
   "source": [
    "shp = 'data/geo/countries/countries_nf2.shp'\n",
    "gdf = gpd.GeoDataFrame.from_file(shp); gdf.head(3)"
   ]
  },
  {
   "cell_type": "code",
   "execution_count": 112,
   "metadata": {
    "collapsed": false
   },
   "outputs": [
    {
     "data": {
      "text/plain": [
       "['count', 'max', 'mean', 'min']"
      ]
     },
     "execution_count": 112,
     "metadata": {},
     "output_type": "execute_result"
    }
   ],
   "source": [
    "get_tif_ids('data/geo/images')\n",
    "raster = 'data/geo/images/F142002.v4b_web.stable_lights.avg_vis.tif'\n",
    "shp = 'data/geo/countries/countries_nf2.shp'\n",
    "stats = zonal_stats(shp, raster)\n",
    "li_stats = []\n",
    "for i in range(len(stats)):\n",
    "    li_stats.append(stats[i]['mean'])\n",
    "s_stats = pd.Series(li_stats, name='light'); s_stats.head(3)"
   ]
  },
  {
   "cell_type": "code",
   "execution_count": 82,
   "metadata": {
    "collapsed": false
   },
   "outputs": [
    {
     "data": {
      "text/html": [
       "<div>\n",
       "<table border=\"1\" class=\"dataframe\">\n",
       "  <thead>\n",
       "    <tr style=\"text-align: right;\">\n",
       "      <th></th>\n",
       "      <th>ADMIN</th>\n",
       "      <th>CONTINENT</th>\n",
       "      <th>ISO_A3</th>\n",
       "      <th>REGION_UN</th>\n",
       "      <th>REGION_WB</th>\n",
       "      <th>SUBREGION</th>\n",
       "      <th>WB_A3</th>\n",
       "      <th>geometry</th>\n",
       "      <th>light</th>\n",
       "    </tr>\n",
       "  </thead>\n",
       "  <tbody>\n",
       "    <tr>\n",
       "      <th>0</th>\n",
       "      <td>Aruba</td>\n",
       "      <td>North America</td>\n",
       "      <td>ABW</td>\n",
       "      <td>Americas</td>\n",
       "      <td>Latin America &amp; Caribbean</td>\n",
       "      <td>Caribbean</td>\n",
       "      <td>ABW</td>\n",
       "      <td>POLYGON ((-69.99693762899992 12.57758209800004...</td>\n",
       "      <td>34.333333</td>\n",
       "    </tr>\n",
       "    <tr>\n",
       "      <th>1</th>\n",
       "      <td>Afghanistan</td>\n",
       "      <td>Asia</td>\n",
       "      <td>AFG</td>\n",
       "      <td>Asia</td>\n",
       "      <td>South Asia</td>\n",
       "      <td>Southern Asia</td>\n",
       "      <td>AFG</td>\n",
       "      <td>POLYGON ((71.04980228700009 38.40866445000009,...</td>\n",
       "      <td>0.034262</td>\n",
       "    </tr>\n",
       "    <tr>\n",
       "      <th>2</th>\n",
       "      <td>Angola</td>\n",
       "      <td>Africa</td>\n",
       "      <td>AGO</td>\n",
       "      <td>Africa</td>\n",
       "      <td>Sub-Saharan Africa</td>\n",
       "      <td>Middle Africa</td>\n",
       "      <td>AGO</td>\n",
       "      <td>(POLYGON ((11.73751945100014 -16.6925779829998...</td>\n",
       "      <td>0.034427</td>\n",
       "    </tr>\n",
       "  </tbody>\n",
       "</table>\n",
       "</div>"
      ],
      "text/plain": [
       "         ADMIN      CONTINENT ISO_A3 REGION_UN                  REGION_WB  \\\n",
       "0        Aruba  North America    ABW  Americas  Latin America & Caribbean   \n",
       "1  Afghanistan           Asia    AFG      Asia                 South Asia   \n",
       "2       Angola         Africa    AGO    Africa         Sub-Saharan Africa   \n",
       "\n",
       "       SUBREGION WB_A3                                           geometry  \\\n",
       "0      Caribbean   ABW  POLYGON ((-69.99693762899992 12.57758209800004...   \n",
       "1  Southern Asia   AFG  POLYGON ((71.04980228700009 38.40866445000009,...   \n",
       "2  Middle Africa   AGO  (POLYGON ((11.73751945100014 -16.6925779829998...   \n",
       "\n",
       "       light  \n",
       "0  34.333333  \n",
       "1   0.034262  \n",
       "2   0.034427  "
      ]
     },
     "execution_count": 82,
     "metadata": {},
     "output_type": "execute_result"
    }
   ],
   "source": [
    "gdf = gdf.join(s_stats); gdf.head(3)"
   ]
  },
  {
   "cell_type": "code",
   "execution_count": 114,
   "metadata": {
    "collapsed": false
   },
   "outputs": [],
   "source": [
    "gdf = zonal_to_shp('data/geo/images', 'data/geo/countries/countries_nf2.shp')"
   ]
  },
  {
   "cell_type": "code",
   "execution_count": 129,
   "metadata": {
    "collapsed": false
   },
   "outputs": [],
   "source": [
    "with open('data/geo/pickles/zonal_stats_c.pickle', 'wb') as f:\n",
    "    pickle.dump(gdf, f)"
   ]
  },
  {
   "cell_type": "code",
   "execution_count": 146,
   "metadata": {
    "collapsed": false
   },
   "outputs": [
    {
     "data": {
      "text/plain": [
       "(248, 28)"
      ]
     },
     "execution_count": 146,
     "metadata": {},
     "output_type": "execute_result"
    }
   ],
   "source": [
    "wb = pd.read_csv('data/econ/wb.csv')\n",
    "wb_const = wb[wb['Series Name'] == 'GDP at market prices (constant 2005 US$)']; wb_const.shape"
   ]
  }
 ],
 "metadata": {
  "kernelspec": {
   "display_name": "Python 2",
   "language": "python",
   "name": "python2"
  },
  "language_info": {
   "codemirror_mode": {
    "name": "ipython",
    "version": 2
   },
   "file_extension": ".py",
   "mimetype": "text/x-python",
   "name": "python",
   "nbconvert_exporter": "python",
   "pygments_lexer": "ipython2",
   "version": "2.7.11"
  }
 },
 "nbformat": 4,
 "nbformat_minor": 0
}
