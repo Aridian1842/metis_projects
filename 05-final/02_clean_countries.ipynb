{
 "cells": [
  {
   "cell_type": "code",
   "execution_count": 6,
   "metadata": {
    "collapsed": false
   },
   "outputs": [],
   "source": [
    "import geopandas as gpd\n",
    "import pandas as pd\n",
    "import pickle"
   ]
  },
  {
   "cell_type": "markdown",
   "metadata": {},
   "source": [
    "#### Data cleaning steps\n",
    "* Load, clean, and normalize country-level lights data\n",
    "* Load, clean, and normalize World Bank data\n",
    "* Join lights and World Bank dataframes\n",
    "* Pickle joined dataframe"
   ]
  },
  {
   "cell_type": "code",
   "execution_count": 12,
   "metadata": {
    "collapsed": false
   },
   "outputs": [],
   "source": [
    "# load, clean, and normalize country-level lights data\n",
    "with open('data/geo/pickles/zonal_stats_c.pickle') as f:\n",
    "    gdf = pickle.load(f)\n",
    "gdf = pd.DataFrame(gdf)\n",
    "gdf = gdf.drop_duplicates(subset='WB_A3')\n",
    "gdf = gdf.set_index('WB_A3')\n",
    "gdf.drop(['ADMIN', 'CONTINENT', 'ISO_A3', 'REGION_UN', 'REGION_WB', 'SUBREGION', 'geometry'], axis=1, inplace=True)\n",
    "gdf_normalizer = (gdf.F101992).as_matrix()\n",
    "gdf_normed = gdf.divide(gdf_normalizer, axis=0)\n",
    "\n",
    "# Load, clean, and normalize wb data\n",
    "wb = pd.read_csv('data/econ/wb.csv')\n",
    "label = 'GDP, PPP (constant 2011 international $)'\n",
    "wb = wb[wb['Series Name'] == label]\n",
    "wb.drop(['Country Name', 'Series Name', 'Series Code', '2014', '2015'], axis=1, inplace=True)\n",
    "wb.rename(columns={'Country Code': 'WB_A3'}, inplace=True)\n",
    "wb.dropna(axis=0, inplace=True)\n",
    "wb = wb.set_index('WB_A3')\n",
    "wb_normalizer = (wb['1992']).as_matrix()\n",
    "wb_normed = wb.divide(wb_normalizer, axis=0)\n",
    "\n",
    "# join lights and wb datasets\n",
    "df = gdf_normed.join(wb_normed, how='inner')\n",
    "\n",
    "# pickle joined dataframe\n",
    "df.to_pickle('data/geo/pickles/zonal_stats_c_norm.pickle')\n",
    "wb.to_pickle('data/geo/pickles/wb_data.pickle')"
   ]
  }
 ],
 "metadata": {
  "kernelspec": {
   "display_name": "Python 2",
   "language": "python",
   "name": "python2"
  },
  "language_info": {
   "codemirror_mode": {
    "name": "ipython",
    "version": 2
   },
   "file_extension": ".py",
   "mimetype": "text/x-python",
   "name": "python",
   "nbconvert_exporter": "python",
   "pygments_lexer": "ipython2",
   "version": "2.7.11"
  }
 },
 "nbformat": 4,
 "nbformat_minor": 0
}
