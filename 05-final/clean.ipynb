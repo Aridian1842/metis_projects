{
 "cells": [
  {
   "cell_type": "code",
   "execution_count": 588,
   "metadata": {
    "collapsed": false
   },
   "outputs": [
    {
     "name": "stdout",
     "output_type": "stream",
     "text": [
      "ClusterPy: Library of spatially constrained clustering algorithms\n"
     ]
    }
   ],
   "source": [
    "%matplotlib inline\n",
    "\n",
    "import geopandas as gpd\n",
    "import pandas as pd\n",
    "import pickle\n",
    "import numpy as np\n",
    "\n",
    "import matplotlib.pyplot as plt\n",
    "\n",
    "from sklearn.linear_model import LinearRegression\n",
    "import statsmodels.api as sm\n",
    "import statsmodels.formula.api as smf\n",
    "\n",
    "import clusterpy\n",
    "\n",
    "from library.regression import countries_regressions"
   ]
  },
  {
   "cell_type": "code",
   "execution_count": 571,
   "metadata": {
    "collapsed": true
   },
   "outputs": [],
   "source": [
    "# load, clean, and normalize country-level lights data\n",
    "with open('data/geo/pickles/zonal_stats_c.pickle') as f:\n",
    "    gdf = pickle.load(f)\n",
    "gdf = pd.DataFrame(gdf)\n",
    "gdf = gdf.drop_duplicates(subset='WB_A3')\n",
    "gdf = gdf.set_index('WB_A3')\n",
    "gdf.drop(['ADMIN', 'CONTINENT', 'ISO_A3', 'REGION_UN', 'REGION_WB', 'SUBREGION', 'geometry'], axis=1, inplace=True)\n",
    "gdf_normalizer = (gdf.F101992).as_matrix()\n",
    "gdf_normed = gdf.divide(gdf_normalizer, axis=0)\n",
    "\n",
    "# Load, clean, and normalize wb data\n",
    "wb = pd.read_csv('data/econ/wb.csv')\n",
    "\n",
    "# wb = wb[wb['Series Name'] == 'GDP at market prices (constant 2005 US$)']\n",
    "label = 'GDP, PPP (constant 2011 international $)'\n",
    "wb = wb[wb['Series Name'] == label]\n",
    "wb.drop(['Country Name', 'Series Name', 'Series Code', '2014', '2015'], axis=1, inplace=True)\n",
    "wb.rename(columns={'Country Code': 'WB_A3'}, inplace=True)\n",
    "wb.dropna(axis=0, inplace=True)\n",
    "wb = wb.set_index('WB_A3')\n",
    "wb_normalizer = (wb['1992']).as_matrix()\n",
    "wb_normed = wb.divide(wb_normalizer, axis=0)\n",
    "\n",
    "# join lights and wb datasets\n",
    "df = gdf_normed.join(wb_normed, how='inner')\n",
    "\n",
    "# pickle joined dataframe\n",
    "df.to_pickle('data/cleaned_df.pickle')"
   ]
  },
  {
   "cell_type": "code",
   "execution_count": 579,
   "metadata": {
    "collapsed": false
   },
   "outputs": [
    {
     "data": {
      "text/html": [
       "<div>\n",
       "<table border=\"1\" class=\"dataframe\">\n",
       "  <thead>\n",
       "    <tr style=\"text-align: right;\">\n",
       "      <th></th>\n",
       "      <th>F101992</th>\n",
       "      <th>F101993</th>\n",
       "      <th>F101994</th>\n",
       "      <th>F121994</th>\n",
       "      <th>F121995</th>\n",
       "      <th>F121996</th>\n",
       "      <th>F121997</th>\n",
       "      <th>F121998</th>\n",
       "      <th>F121999</th>\n",
       "      <th>F141997</th>\n",
       "      <th>...</th>\n",
       "      <th>2004</th>\n",
       "      <th>2005</th>\n",
       "      <th>2006</th>\n",
       "      <th>2007</th>\n",
       "      <th>2008</th>\n",
       "      <th>2009</th>\n",
       "      <th>2010</th>\n",
       "      <th>2011</th>\n",
       "      <th>2012</th>\n",
       "      <th>2013</th>\n",
       "    </tr>\n",
       "    <tr>\n",
       "      <th>WB_A3</th>\n",
       "      <th></th>\n",
       "      <th></th>\n",
       "      <th></th>\n",
       "      <th></th>\n",
       "      <th></th>\n",
       "      <th></th>\n",
       "      <th></th>\n",
       "      <th></th>\n",
       "      <th></th>\n",
       "      <th></th>\n",
       "      <th></th>\n",
       "      <th></th>\n",
       "      <th></th>\n",
       "      <th></th>\n",
       "      <th></th>\n",
       "      <th></th>\n",
       "      <th></th>\n",
       "      <th></th>\n",
       "      <th></th>\n",
       "      <th></th>\n",
       "      <th></th>\n",
       "    </tr>\n",
       "  </thead>\n",
       "  <tbody>\n",
       "    <tr>\n",
       "      <th>ALB</th>\n",
       "      <td>1.0</td>\n",
       "      <td>2.628394</td>\n",
       "      <td>3.087411</td>\n",
       "      <td>4.743126</td>\n",
       "      <td>5.511153</td>\n",
       "      <td>4.825264</td>\n",
       "      <td>5.901003</td>\n",
       "      <td>6.095106</td>\n",
       "      <td>6.328117</td>\n",
       "      <td>2.821373</td>\n",
       "      <td>...</td>\n",
       "      <td>2.171891</td>\n",
       "      <td>2.296141</td>\n",
       "      <td>2.420845</td>\n",
       "      <td>2.563675</td>\n",
       "      <td>2.756720</td>\n",
       "      <td>2.849070</td>\n",
       "      <td>2.954770</td>\n",
       "      <td>3.030117</td>\n",
       "      <td>3.073145</td>\n",
       "      <td>3.107257</td>\n",
       "    </tr>\n",
       "    <tr>\n",
       "      <th>DZA</th>\n",
       "      <td>1.0</td>\n",
       "      <td>1.027205</td>\n",
       "      <td>1.034877</td>\n",
       "      <td>0.943117</td>\n",
       "      <td>1.220886</td>\n",
       "      <td>1.189387</td>\n",
       "      <td>1.340228</td>\n",
       "      <td>1.477018</td>\n",
       "      <td>1.291055</td>\n",
       "      <td>1.008942</td>\n",
       "      <td>...</td>\n",
       "      <td>1.451161</td>\n",
       "      <td>1.536779</td>\n",
       "      <td>1.562906</td>\n",
       "      <td>1.616043</td>\n",
       "      <td>1.648364</td>\n",
       "      <td>1.674737</td>\n",
       "      <td>1.735030</td>\n",
       "      <td>1.783610</td>\n",
       "      <td>1.842472</td>\n",
       "      <td>1.894061</td>\n",
       "    </tr>\n",
       "    <tr>\n",
       "      <th>ATG</th>\n",
       "      <td>1.0</td>\n",
       "      <td>1.259259</td>\n",
       "      <td>1.249585</td>\n",
       "      <td>1.457435</td>\n",
       "      <td>1.457159</td>\n",
       "      <td>1.487562</td>\n",
       "      <td>1.636816</td>\n",
       "      <td>1.753179</td>\n",
       "      <td>1.917358</td>\n",
       "      <td>1.343007</td>\n",
       "      <td>...</td>\n",
       "      <td>1.525237</td>\n",
       "      <td>1.618020</td>\n",
       "      <td>1.834453</td>\n",
       "      <td>2.008707</td>\n",
       "      <td>2.010135</td>\n",
       "      <td>1.768195</td>\n",
       "      <td>1.641893</td>\n",
       "      <td>1.612447</td>\n",
       "      <td>1.677260</td>\n",
       "      <td>1.671452</td>\n",
       "    </tr>\n",
       "  </tbody>\n",
       "</table>\n",
       "<p>3 rows × 56 columns</p>\n",
       "</div>"
      ],
      "text/plain": [
       "       F101992   F101993   F101994   F121994   F121995   F121996   F121997  \\\n",
       "WB_A3                                                                        \n",
       "ALB        1.0  2.628394  3.087411  4.743126  5.511153  4.825264  5.901003   \n",
       "DZA        1.0  1.027205  1.034877  0.943117  1.220886  1.189387  1.340228   \n",
       "ATG        1.0  1.259259  1.249585  1.457435  1.457159  1.487562  1.636816   \n",
       "\n",
       "        F121998   F121999   F141997    ...         2004      2005      2006  \\\n",
       "WB_A3                                  ...                                    \n",
       "ALB    6.095106  6.328117  2.821373    ...     2.171891  2.296141  2.420845   \n",
       "DZA    1.477018  1.291055  1.008942    ...     1.451161  1.536779  1.562906   \n",
       "ATG    1.753179  1.917358  1.343007    ...     1.525237  1.618020  1.834453   \n",
       "\n",
       "           2007      2008      2009      2010      2011      2012      2013  \n",
       "WB_A3                                                                        \n",
       "ALB    2.563675  2.756720  2.849070  2.954770  3.030117  3.073145  3.107257  \n",
       "DZA    1.616043  1.648364  1.674737  1.735030  1.783610  1.842472  1.894061  \n",
       "ATG    2.008707  2.010135  1.768195  1.641893  1.612447  1.677260  1.671452  \n",
       "\n",
       "[3 rows x 56 columns]"
      ]
     },
     "execution_count": 579,
     "metadata": {},
     "output_type": "execute_result"
    }
   ],
   "source": [
    "# import cleaned dataframe\n",
    "df = pd.read_pickle('data/cleaned_df.pickle'); df.head(3)"
   ]
  },
  {
   "cell_type": "code",
   "execution_count": 583,
   "metadata": {
    "collapsed": false
   },
   "outputs": [
    {
     "data": {
      "text/html": [
       "<div>\n",
       "<table border=\"1\" class=\"dataframe\">\n",
       "  <thead>\n",
       "    <tr style=\"text-align: right;\">\n",
       "      <th></th>\n",
       "      <th>beta</th>\n",
       "      <th>intercept</th>\n",
       "      <th>r</th>\n",
       "      <th>r_adj</th>\n",
       "      <th>p_beta</th>\n",
       "      <th>p_int</th>\n",
       "      <th>c_beta_low</th>\n",
       "      <th>c_beta_high</th>\n",
       "      <th>c_int_low</th>\n",
       "      <th>c_int_high</th>\n",
       "    </tr>\n",
       "    <tr>\n",
       "      <th>country</th>\n",
       "      <th></th>\n",
       "      <th></th>\n",
       "      <th></th>\n",
       "      <th></th>\n",
       "      <th></th>\n",
       "      <th></th>\n",
       "      <th></th>\n",
       "      <th></th>\n",
       "      <th></th>\n",
       "      <th></th>\n",
       "    </tr>\n",
       "  </thead>\n",
       "  <tbody>\n",
       "    <tr>\n",
       "      <th>CHN</th>\n",
       "      <td>2.106015</td>\n",
       "      <td>-1.055181</td>\n",
       "      <td>0.910429</td>\n",
       "      <td>0.907630</td>\n",
       "      <td>2.510666e-18</td>\n",
       "      <td>1.611028e-04</td>\n",
       "      <td>1.868154</td>\n",
       "      <td>2.343877</td>\n",
       "      <td>-1.558030</td>\n",
       "      <td>-0.552332</td>\n",
       "    </tr>\n",
       "    <tr>\n",
       "      <th>ETH</th>\n",
       "      <td>0.763003</td>\n",
       "      <td>0.155990</td>\n",
       "      <td>0.897381</td>\n",
       "      <td>0.894175</td>\n",
       "      <td>2.226664e-17</td>\n",
       "      <td>2.176451e-01</td>\n",
       "      <td>0.670095</td>\n",
       "      <td>0.855911</td>\n",
       "      <td>-0.096672</td>\n",
       "      <td>0.408653</td>\n",
       "    </tr>\n",
       "    <tr>\n",
       "      <th>OMN</th>\n",
       "      <td>0.260783</td>\n",
       "      <td>0.905796</td>\n",
       "      <td>0.896843</td>\n",
       "      <td>0.893619</td>\n",
       "      <td>2.421829e-17</td>\n",
       "      <td>3.393900e-23</td>\n",
       "      <td>0.228935</td>\n",
       "      <td>0.292630</td>\n",
       "      <td>0.835400</td>\n",
       "      <td>0.976193</td>\n",
       "    </tr>\n",
       "  </tbody>\n",
       "</table>\n",
       "</div>"
      ],
      "text/plain": [
       "             beta  intercept         r     r_adj        p_beta         p_int  \\\n",
       "country                                                                        \n",
       "CHN      2.106015  -1.055181  0.910429  0.907630  2.510666e-18  1.611028e-04   \n",
       "ETH      0.763003   0.155990  0.897381  0.894175  2.226664e-17  2.176451e-01   \n",
       "OMN      0.260783   0.905796  0.896843  0.893619  2.421829e-17  3.393900e-23   \n",
       "\n",
       "         c_beta_low  c_beta_high  c_int_low  c_int_high  \n",
       "country                                                  \n",
       "CHN        1.868154     2.343877  -1.558030   -0.552332  \n",
       "ETH        0.670095     0.855911  -0.096672    0.408653  \n",
       "OMN        0.228935     0.292630   0.835400    0.976193  "
      ]
     },
     "execution_count": 583,
     "metadata": {},
     "output_type": "execute_result"
    }
   ],
   "source": [
    "df_regression = countries_regressions(df).sort_values(by='r', ascending=False); df_regression.head(3)"
   ]
  },
  {
   "cell_type": "code",
   "execution_count": 584,
   "metadata": {
    "collapsed": true
   },
   "outputs": [],
   "source": [
    "df_regression.to_csv('data/cty_stats.csv')"
   ]
  },
  {
   "cell_type": "code",
   "execution_count": null,
   "metadata": {
    "collapsed": true
   },
   "outputs": [],
   "source": [
    "#country_lights = df.ix['KEN'][0:34].tolist()\n",
    "#X_t = X.T\n",
    "\n",
    "#coefficients = np.linalg.inv(X.T.dot(X)).dot(X.T.dot(y))    #use the classic formula\n",
    "#X_t.shape\n",
    "\n",
    "#plt.figure(figsize = (20,10))    #initiate the plot\n",
    "#plt.plot(X['Ind_Variable_1'],y,'bs',lw=4)    #generate the plot\n",
    "#plt.plot(X,y,'bs',lw=4)    #generate the plot\n",
    "#plt.xlabel(r'$x_1$',fontsize=10)    #add an x label\n",
    "#plt.ylabel(r'$y$',fontsize=10)    #add a y label"
   ]
  },
  {
   "cell_type": "code",
   "execution_count": 284,
   "metadata": {
    "collapsed": false
   },
   "outputs": [
    {
     "data": {
      "text/plain": [
       "(numpy.ndarray, numpy.ndarray)"
      ]
     },
     "execution_count": 284,
     "metadata": {},
     "output_type": "execute_result"
    }
   ],
   "source": [
    "#estimating coefficients using sklearnL\n",
    "#model = LinearRegression()    #define which model to apply\n",
    "#model.fit(X, y)    #fit the model\n",
    "type(np.asarray(y)), type(y)"
   ]
  },
  {
   "cell_type": "code",
   "execution_count": 587,
   "metadata": {
    "collapsed": false
   },
   "outputs": [
    {
     "name": "stdout",
     "output_type": "stream",
     "text": [
      "Collecting clusterpy\n",
      "  Downloading clusterPy-0.9.9.tar.gz (61kB)\n",
      "\u001b[K    100% |████████████████████████████████| 71kB 1.2MB/s \n",
      "\u001b[?25hBuilding wheels for collected packages: clusterpy\n",
      "  Running setup.py bdist_wheel for clusterpy ... \u001b[?25l-\b \b\\\b \bdone\n",
      "\u001b[?25h  Stored in directory: /Users/peter/Library/Caches/pip/wheels/0e/4a/49/bb814e1f06991407523169eaa058c35d66b227e8f381f03350\n",
      "Successfully built clusterpy\n",
      "Installing collected packages: clusterpy\n",
      "Successfully installed clusterpy-0.9.9\n",
      "\u001b[33mYou are using pip version 8.1.1, however version 8.1.2 is available.\n",
      "You should consider upgrading via the 'pip install --upgrade pip' command.\u001b[0m\n"
     ]
    }
   ],
   "source": [
    "!pip install clusterpy"
   ]
  },
  {
   "cell_type": "code",
   "execution_count": 249,
   "metadata": {
    "collapsed": false
   },
   "outputs": [
    {
     "data": {
      "image/png": "[encoded data removed]",
      "text/plain": [
       "<matplotlib.figure.Figure at 0x14e0c71d0>"
      ]
     },
     "metadata": {},
     "output_type": "display_data"
    }
   ],
   "source": [
    "fig = plt.figure()\n",
    "numBins = 10\n",
    "ax = fig.add_subplot(111)\n",
    "ax.hist(y,numBins,color='green',alpha=0.8)\n",
    "plt.show()"
   ]
  }
 ],
 "metadata": {
  "kernelspec": {
   "display_name": "Python 2",
   "language": "python",
   "name": "python2"
  },
  "language_info": {
   "codemirror_mode": {
    "name": "ipython",
    "version": 2
   },
   "file_extension": ".py",
   "mimetype": "text/x-python",
   "name": "python",
   "nbconvert_exporter": "python",
   "pygments_lexer": "ipython2",
   "version": "2.7.11"
  }
 },
 "nbformat": 4,
 "nbformat_minor": 0
}
