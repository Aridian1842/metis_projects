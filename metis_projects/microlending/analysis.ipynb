{
 "cells": [
  {
   "cell_type": "markdown",
   "metadata": {},
   "source": [
    "# Executive Summary\n",
    "* A startup that operates in the microlending space would like to understand what types of people make microloans\n",
    "* Relevant information on microlenders is publically available through an API provided by Kiva, the world's largest microlending service\n",
    "* A startup asked me to mine Kiva data to identify, characterize, and quantify key microlender segments\n",
    "* Using the outputs from this analysis, this startup will map customer profiles to consumption patterns\n",
    "* Results of this analysis showed xxx"
   ]
  },
  {
   "cell_type": "markdown",
   "metadata": {},
   "source": [
    "# Methodology\n",
    "1. Download json files of all public lenders that provides name, occupation, location, number of loans, and other information\n",
    "  * Join all datafiles into one readable file\n",
    "2. Estimate subset of public lenders needed for a sufficiently representative sample\n",
    "3. Wrangle lender data\n",
    "4. Join loan data to lender data to create one flat table\n",
    "5. Clean up and standardize data\n",
    "6. Analyze data to identify key customer attributes and from that create customer segments"
   ]
  },
  {
   "cell_type": "markdown",
   "metadata": {},
   "source": [
    "# Kiva Data Sources / API Call Examples\n",
    "* Snapshot of lender data http://build.kiva.org/docs/data/snapshots\n",
    "* Call lender loans http://api.kivaws.org/v1/lenders/jeremy/loans.json"
   ]
  },
  {
   "cell_type": "markdown",
   "metadata": {},
   "source": [
    "# Assumptions\n",
    "* Alpha = 5% (threshold for p-value)"
   ]
  },
  {
   "cell_type": "markdown",
   "metadata": {},
   "source": [
    "# Modules"
   ]
  },
  {
   "cell_type": "code",
   "execution_count": 3,
   "metadata": {
    "collapsed": false,
    "scrolled": true
   },
   "outputs": [
    {
     "name": "stderr",
     "output_type": "stream",
     "text": [
      "/Users/peter/anaconda/lib/python2.7/site-packages/pandas/computation/__init__.py:19: UserWarning: The installed version of numexpr 2.4.4 is not supported in pandas and will be not be used\n",
      "\n",
      "  UserWarning)\n"
     ]
    }
   ],
   "source": [
    "import pandas as pd\n",
    "import json\n",
    "import requests\n",
    "import re\n",
    "import os\n",
    "import math\n",
    "import random\n",
    "import numpy as np\n",
    "from datetime import datetime\n",
    "import time\n",
    "from dateutil.relativedelta import relativedelta\n",
    "import matplotlib.pyplot as plt\n",
    "%matplotlib inline\n",
    "from patsy import dmatrices"
   ]
  },
  {
   "cell_type": "markdown",
   "metadata": {},
   "source": [
    "# 1. Download list of json files\n",
    "* Snapshot of lender data http://build.kiva.org/docs/data/snapshots\n",
    "* Retrieved 2016-04-06"
   ]
  },
  {
   "cell_type": "markdown",
   "metadata": {},
   "source": [
    "# 2. Estimate sample size\n",
    "* Formula per https://www.unc.edu/~rls/s151-2010/class23.pdf\n",
    "* Sample Size = std_dev * (1-std_dev) * (z_score / error)^2\n",
    "* Assume 99% confidence (z score of 2.576), standard deviation of 0.5, and a margin of error of 1%"
   ]
  },
  {
   "cell_type": "code",
   "execution_count": 4,
   "metadata": {
    "collapsed": true
   },
   "outputs": [],
   "source": [
    "# Sample size inputs\n",
    "\n",
    "z_score = 2.576 # 1.96 for 95% confidence, 2.576 for 99% confidence\n",
    "std_dev = 0.5 # Do not know standard deviation so selected conservative estimate\n",
    "error = 0.01 # 5% margin of error "
   ]
  },
  {
   "cell_type": "code",
   "execution_count": 5,
   "metadata": {
    "collapsed": false
   },
   "outputs": [
    {
     "data": {
      "text/plain": [
       "16590"
      ]
     },
     "execution_count": 5,
     "metadata": {},
     "output_type": "execute_result"
    }
   ],
   "source": [
    "def nec_sample_size(z_score, std_dev, error):\n",
    "    nec_sample_size = std_dev * (1-std_dev) * (z_score/error)**2\n",
    "    return nec_sample_size\n",
    "\n",
    "sample_size = int(math.ceil(nec_sample_size(z_score, std_dev, error)))\n",
    "sample_size"
   ]
  },
  {
   "cell_type": "markdown",
   "metadata": {},
   "source": [
    "# 3. Wrangle lender data"
   ]
  },
  {
   "cell_type": "code",
   "execution_count": 6,
   "metadata": {
    "collapsed": true
   },
   "outputs": [],
   "source": [
    "# Fix json data\n",
    "#path = '/Users/peter/ds/metis/notebooks/projects/investigation 1/lenders'\n",
    "#json_data = ''\n",
    "#base = 94\n",
    "#for path, dirs, files in os.walk(path):\n",
    "#    for file_name in files:\n",
    "#        if file_name[-4:] == 'json':\n",
    "#            fullpath = os.path.join(path, file_name)\n",
    "#            with open(fullpath, 'r') as f:\n",
    "#                 file_number = int(file_name[:-5])\n",
    "#                 json_data = f.read()\n",
    "#            offset = int(math.log(file_number,10))\n",
    "#            start_point = base + offset\n",
    "#            json_data = json_data[start_point:]\n",
    "#            json_data = json_data[:-1]\n",
    "#            with open(fullpath, 'w') as f:\n",
    "#                f.write(json_data)"
   ]
  },
  {
   "cell_type": "code",
   "execution_count": 7,
   "metadata": {
    "collapsed": false,
    "scrolled": true
   },
   "outputs": [
    {
     "data": {
      "text/plain": [
       "[('833', 397),\n",
       " ('541', 813),\n",
       " ('31', 786),\n",
       " ('337', 575),\n",
       " ('210', 106),\n",
       " ('711', 754),\n",
       " ('647', 635),\n",
       " ('244', 262),\n",
       " ('696', 306),\n",
       " ('25', 674)]"
      ]
     },
     "execution_count": 7,
     "metadata": {},
     "output_type": "execute_result"
    }
   ],
   "source": [
    "# Use random number generator to sample json files\n",
    "# Number of json files equals sample size\n",
    "json_files = 1860/2 # This is the number of Kiva users in the json files divided by two\n",
    "entries_per_json_file = 1000\n",
    "selected_files = np.random.randint(1,json_files, sample_size)\n",
    "selected_files = map(str, selected_files)\n",
    "selected_entries = np.random.choice(entries_per_json_file, sample_size)\n",
    "files_entries = zip(selected_files, selected_entries)\n",
    "files_entries[:10]"
   ]
  },
  {
   "cell_type": "code",
   "execution_count": 8,
   "metadata": {
    "collapsed": false
   },
   "outputs": [],
   "source": [
    "# Make a list of sampled persons\n",
    "the_list = []\n",
    "json_data = ''\n",
    "for the_tuple in files_entries:\n",
    "    file_name = 'lenders/' + the_tuple[0] + '.json'    \n",
    "    with open(file_name) as json_file:\n",
    "        d = []\n",
    "        d = list(json.load(json_file))\n",
    "        the_entry = d[the_tuple[1]]\n",
    "        the_list.append(the_entry)"
   ]
  },
  {
   "cell_type": "code",
   "execution_count": 9,
   "metadata": {
    "collapsed": false
   },
   "outputs": [],
   "source": [
    "# Convert list to dataframe and remove image column\n",
    "df = pd.DataFrame(the_list)\n",
    "df.drop(df.columns[1], axis=1, inplace=True)"
   ]
  },
  {
   "cell_type": "code",
   "execution_count": 10,
   "metadata": {
    "collapsed": false
   },
   "outputs": [],
   "source": [
    "# Get rid of unicode characters\n",
    "df['member_start'] =df['member_since'].astype(str).str.split(',')"
   ]
  },
  {
   "cell_type": "code",
   "execution_count": 11,
   "metadata": {
    "collapsed": false
   },
   "outputs": [
    {
     "data": {
      "text/html": [
       "<div>\n",
       "<table border=\"1\" class=\"dataframe\">\n",
       "  <thead>\n",
       "    <tr style=\"text-align: right;\">\n",
       "      <th></th>\n",
       "      <th>country_code</th>\n",
       "      <th>invitee_count</th>\n",
       "      <th>inviter_id</th>\n",
       "      <th>lender_id</th>\n",
       "      <th>loan_because</th>\n",
       "      <th>loan_count</th>\n",
       "      <th>member_since</th>\n",
       "      <th>name</th>\n",
       "      <th>occupation</th>\n",
       "      <th>occupational_info</th>\n",
       "      <th>personal_url</th>\n",
       "      <th>uid</th>\n",
       "      <th>whereabouts</th>\n",
       "      <th>member_start</th>\n",
       "      <th>join_year</th>\n",
       "    </tr>\n",
       "  </thead>\n",
       "  <tbody>\n",
       "    <tr>\n",
       "      <th>0</th>\n",
       "      <td>US</td>\n",
       "      <td>0</td>\n",
       "      <td>None</td>\n",
       "      <td>kristin2273</td>\n",
       "      <td></td>\n",
       "      <td>2</td>\n",
       "      <td>2011-08-06T20:16:03Z</td>\n",
       "      <td>Kristin</td>\n",
       "      <td></td>\n",
       "      <td></td>\n",
       "      <td></td>\n",
       "      <td>kristin2273</td>\n",
       "      <td>Washington District of Columbia</td>\n",
       "      <td>[2011-08-06T20:16:03Z]</td>\n",
       "      <td>2011.683105</td>\n",
       "    </tr>\n",
       "    <tr>\n",
       "      <th>1</th>\n",
       "      <td>US</td>\n",
       "      <td>1</td>\n",
       "      <td>None</td>\n",
       "      <td>charles7164</td>\n",
       "      <td></td>\n",
       "      <td>0</td>\n",
       "      <td>2009-12-23T18:59:33Z</td>\n",
       "      <td>Charles</td>\n",
       "      <td>Student</td>\n",
       "      <td></td>\n",
       "      <td></td>\n",
       "      <td>charles7164</td>\n",
       "      <td>Charlottesville VA</td>\n",
       "      <td>[2009-12-23T18:59:33Z]</td>\n",
       "      <td>2010.063014</td>\n",
       "    </tr>\n",
       "    <tr>\n",
       "      <th>2</th>\n",
       "      <td>US</td>\n",
       "      <td>0</td>\n",
       "      <td>None</td>\n",
       "      <td>katharine2239</td>\n",
       "      <td></td>\n",
       "      <td>41</td>\n",
       "      <td>2007-03-18T15:24:40Z</td>\n",
       "      <td>Katharine</td>\n",
       "      <td></td>\n",
       "      <td></td>\n",
       "      <td></td>\n",
       "      <td>katharine2239</td>\n",
       "      <td>Chicago IL</td>\n",
       "      <td>[2007-03-18T15:24:40Z]</td>\n",
       "      <td>2007.299315</td>\n",
       "    </tr>\n",
       "  </tbody>\n",
       "</table>\n",
       "</div>"
      ],
      "text/plain": [
       "  country_code  invitee_count inviter_id      lender_id loan_because  \\\n",
       "0           US              0       None    kristin2273                \n",
       "1           US              1       None    charles7164                \n",
       "2           US              0       None  katharine2239                \n",
       "\n",
       "   loan_count          member_since       name occupation occupational_info  \\\n",
       "0           2  2011-08-06T20:16:03Z    Kristin                                \n",
       "1           0  2009-12-23T18:59:33Z    Charles    Student                     \n",
       "2          41  2007-03-18T15:24:40Z  Katharine                                \n",
       "\n",
       "  personal_url            uid                      whereabouts  \\\n",
       "0                 kristin2273  Washington District of Columbia   \n",
       "1                 charles7164               Charlottesville VA   \n",
       "2               katharine2239                       Chicago IL   \n",
       "\n",
       "             member_start    join_year  \n",
       "0  [2011-08-06T20:16:03Z]  2011.683105  \n",
       "1  [2009-12-23T18:59:33Z]  2010.063014  \n",
       "2  [2007-03-18T15:24:40Z]  2007.299315  "
      ]
     },
     "execution_count": 11,
     "metadata": {},
     "output_type": "execute_result"
    }
   ],
   "source": [
    "# Add the date column\n",
    "join_date = []\n",
    "for i in df.member_start:\n",
    "    join_date.append(i[0][:10])\n",
    "\n",
    "for i in join_date:\n",
    "    i = datetime.strptime(i, '%Y-%m-%d')\n",
    "\n",
    "join_date = map(lambda x: datetime.strptime(x, '%Y-%m-%d'), join_date)\n",
    "join_year = map(lambda x: x.year + float(x.month)/12 + float(x.day)/365, join_date)\n",
    "join_year = pd.Series(join_year, name='join_year')\n",
    "df['join_year'] = join_year\n",
    "df.head(3)"
   ]
  },
  {
   "cell_type": "code",
   "execution_count": 12,
   "metadata": {
    "collapsed": true
   },
   "outputs": [],
   "source": [
    "# Encode as unicode strings\n",
    "# https://docs.python.org/2/library/codecs.html\n",
    "\n",
    "df['name']=[unicode(s).encode(\"utf-8\") for s in df['name']]\n",
    "df['country_code']=[unicode(s).encode(\"utf-8\") for s in df['country_code']]\n",
    "df['whereabouts']=[unicode(s).encode(\"utf-8\") for s in df['whereabouts']]\n",
    "df['occupation']=[unicode(s).encode(\"utf-8\") for s in df['occupation']]\n",
    "df['occupational_info']=[unicode(s).encode(\"utf-8\") for s in df['occupational_info']]\n",
    "df['inviter_id']=[unicode(s).encode(\"utf-8\") for s in df['inviter_id']]\n",
    "df['loan_because']=[unicode(s).encode(\"utf-8\") for s in df['loan_because']]"
   ]
  },
  {
   "cell_type": "code",
   "execution_count": 13,
   "metadata": {
    "collapsed": false
   },
   "outputs": [
    {
     "data": {
      "text/html": [
       "<div>\n",
       "<table border=\"1\" class=\"dataframe\">\n",
       "  <thead>\n",
       "    <tr style=\"text-align: right;\">\n",
       "      <th></th>\n",
       "      <th>country_code</th>\n",
       "      <th>invitee_count</th>\n",
       "      <th>inviter_id</th>\n",
       "      <th>lender_id</th>\n",
       "      <th>loan_because</th>\n",
       "      <th>loan_count</th>\n",
       "      <th>member_since</th>\n",
       "      <th>name</th>\n",
       "      <th>occupation</th>\n",
       "      <th>occupational_info</th>\n",
       "      <th>personal_url</th>\n",
       "      <th>uid</th>\n",
       "      <th>whereabouts</th>\n",
       "      <th>member_start</th>\n",
       "      <th>join_year</th>\n",
       "    </tr>\n",
       "  </thead>\n",
       "  <tbody>\n",
       "    <tr>\n",
       "      <th>0</th>\n",
       "      <td>us</td>\n",
       "      <td>0</td>\n",
       "      <td>none</td>\n",
       "      <td>kristin2273</td>\n",
       "      <td></td>\n",
       "      <td>2</td>\n",
       "      <td>2011-08-06T20:16:03Z</td>\n",
       "      <td>kristin</td>\n",
       "      <td></td>\n",
       "      <td></td>\n",
       "      <td></td>\n",
       "      <td>kristin2273</td>\n",
       "      <td>washington district of columbia</td>\n",
       "      <td>[2011-08-06T20:16:03Z]</td>\n",
       "      <td>2011.683105</td>\n",
       "    </tr>\n",
       "    <tr>\n",
       "      <th>1</th>\n",
       "      <td>us</td>\n",
       "      <td>1</td>\n",
       "      <td>none</td>\n",
       "      <td>charles7164</td>\n",
       "      <td></td>\n",
       "      <td>0</td>\n",
       "      <td>2009-12-23T18:59:33Z</td>\n",
       "      <td>charles</td>\n",
       "      <td>student</td>\n",
       "      <td></td>\n",
       "      <td></td>\n",
       "      <td>charles7164</td>\n",
       "      <td>charlottesville va</td>\n",
       "      <td>[2009-12-23T18:59:33Z]</td>\n",
       "      <td>2010.063014</td>\n",
       "    </tr>\n",
       "    <tr>\n",
       "      <th>2</th>\n",
       "      <td>us</td>\n",
       "      <td>0</td>\n",
       "      <td>none</td>\n",
       "      <td>katharine2239</td>\n",
       "      <td></td>\n",
       "      <td>41</td>\n",
       "      <td>2007-03-18T15:24:40Z</td>\n",
       "      <td>katharine</td>\n",
       "      <td></td>\n",
       "      <td></td>\n",
       "      <td></td>\n",
       "      <td>katharine2239</td>\n",
       "      <td>chicago il</td>\n",
       "      <td>[2007-03-18T15:24:40Z]</td>\n",
       "      <td>2007.299315</td>\n",
       "    </tr>\n",
       "  </tbody>\n",
       "</table>\n",
       "</div>"
      ],
      "text/plain": [
       "  country_code  invitee_count inviter_id      lender_id loan_because  \\\n",
       "0           us              0       none    kristin2273                \n",
       "1           us              1       none    charles7164                \n",
       "2           us              0       none  katharine2239                \n",
       "\n",
       "   loan_count          member_since       name occupation occupational_info  \\\n",
       "0           2  2011-08-06T20:16:03Z    kristin                                \n",
       "1           0  2009-12-23T18:59:33Z    charles    student                     \n",
       "2          41  2007-03-18T15:24:40Z  katharine                                \n",
       "\n",
       "  personal_url            uid                      whereabouts  \\\n",
       "0                 kristin2273  washington district of columbia   \n",
       "1                 charles7164               charlottesville va   \n",
       "2               katharine2239                       chicago il   \n",
       "\n",
       "             member_start    join_year  \n",
       "0  [2011-08-06T20:16:03Z]  2011.683105  \n",
       "1  [2009-12-23T18:59:33Z]  2010.063014  \n",
       "2  [2007-03-18T15:24:40Z]  2007.299315  "
      ]
     },
     "execution_count": 13,
     "metadata": {},
     "output_type": "execute_result"
    }
   ],
   "source": [
    "# Lower case key string columns\n",
    "\n",
    "df.name = df.name.str.lower()\n",
    "df.country_code = df.country_code.str.lower()\n",
    "df.whereabouts = df.whereabouts.str.lower()\n",
    "df.occupation = df.occupation.str.lower()\n",
    "df.occupational_info = df.occupational_info.str.lower()\n",
    "df.inviter_id = df.inviter_id.str.lower()\n",
    "df.loan_because = df.loan_because.str.lower()\n",
    "df.head(3)"
   ]
  },
  {
   "cell_type": "code",
   "execution_count": 14,
   "metadata": {
    "collapsed": false
   },
   "outputs": [
    {
     "data": {
      "text/html": [
       "<div>\n",
       "<table border=\"1\" class=\"dataframe\">\n",
       "  <thead>\n",
       "    <tr style=\"text-align: right;\">\n",
       "      <th></th>\n",
       "      <th>country_code</th>\n",
       "      <th>invitee_count</th>\n",
       "      <th>inviter_id</th>\n",
       "      <th>lender_id</th>\n",
       "      <th>loan_because</th>\n",
       "      <th>loan_count</th>\n",
       "      <th>member_since</th>\n",
       "      <th>name</th>\n",
       "      <th>occupation</th>\n",
       "      <th>occupational_info</th>\n",
       "      <th>personal_url</th>\n",
       "      <th>uid</th>\n",
       "      <th>whereabouts</th>\n",
       "      <th>member_start</th>\n",
       "      <th>join_year</th>\n",
       "      <th>years_active</th>\n",
       "    </tr>\n",
       "  </thead>\n",
       "  <tbody>\n",
       "    <tr>\n",
       "      <th>0</th>\n",
       "      <td>us</td>\n",
       "      <td>0</td>\n",
       "      <td>none</td>\n",
       "      <td>kristin2273</td>\n",
       "      <td></td>\n",
       "      <td>2</td>\n",
       "      <td>2011-08-06T20:16:03Z</td>\n",
       "      <td>kristin</td>\n",
       "      <td></td>\n",
       "      <td></td>\n",
       "      <td></td>\n",
       "      <td>kristin2273</td>\n",
       "      <td>washington district of columbia</td>\n",
       "      <td>[2011-08-06T20:16:03Z]</td>\n",
       "      <td>2011.683105</td>\n",
       "      <td>4.569635</td>\n",
       "    </tr>\n",
       "    <tr>\n",
       "      <th>1</th>\n",
       "      <td>us</td>\n",
       "      <td>1</td>\n",
       "      <td>none</td>\n",
       "      <td>charles7164</td>\n",
       "      <td></td>\n",
       "      <td>0</td>\n",
       "      <td>2009-12-23T18:59:33Z</td>\n",
       "      <td>charles</td>\n",
       "      <td>student</td>\n",
       "      <td></td>\n",
       "      <td></td>\n",
       "      <td>charles7164</td>\n",
       "      <td>charlottesville va</td>\n",
       "      <td>[2009-12-23T18:59:33Z]</td>\n",
       "      <td>2010.063014</td>\n",
       "      <td>6.189726</td>\n",
       "    </tr>\n",
       "    <tr>\n",
       "      <th>2</th>\n",
       "      <td>us</td>\n",
       "      <td>0</td>\n",
       "      <td>none</td>\n",
       "      <td>katharine2239</td>\n",
       "      <td></td>\n",
       "      <td>41</td>\n",
       "      <td>2007-03-18T15:24:40Z</td>\n",
       "      <td>katharine</td>\n",
       "      <td></td>\n",
       "      <td></td>\n",
       "      <td></td>\n",
       "      <td>katharine2239</td>\n",
       "      <td>chicago il</td>\n",
       "      <td>[2007-03-18T15:24:40Z]</td>\n",
       "      <td>2007.299315</td>\n",
       "      <td>8.953425</td>\n",
       "    </tr>\n",
       "  </tbody>\n",
       "</table>\n",
       "</div>"
      ],
      "text/plain": [
       "  country_code  invitee_count inviter_id      lender_id loan_because  \\\n",
       "0           us              0       none    kristin2273                \n",
       "1           us              1       none    charles7164                \n",
       "2           us              0       none  katharine2239                \n",
       "\n",
       "   loan_count          member_since       name occupation occupational_info  \\\n",
       "0           2  2011-08-06T20:16:03Z    kristin                                \n",
       "1           0  2009-12-23T18:59:33Z    charles    student                     \n",
       "2          41  2007-03-18T15:24:40Z  katharine                                \n",
       "\n",
       "  personal_url            uid                      whereabouts  \\\n",
       "0                 kristin2273  washington district of columbia   \n",
       "1                 charles7164               charlottesville va   \n",
       "2               katharine2239                       chicago il   \n",
       "\n",
       "             member_start    join_year  years_active  \n",
       "0  [2011-08-06T20:16:03Z]  2011.683105      4.569635  \n",
       "1  [2009-12-23T18:59:33Z]  2010.063014      6.189726  \n",
       "2  [2007-03-18T15:24:40Z]  2007.299315      8.953425  "
      ]
     },
     "execution_count": 14,
     "metadata": {},
     "output_type": "execute_result"
    }
   ],
   "source": [
    "# Add years that user has been part of Kiva\n",
    "#import datetime # import datetime again\n",
    "year_retrieved = 2016.0 + 3.0/12 + 1.0/365\n",
    "df['years_active'] = year_retrieved - df['join_year']\n",
    "df.head(3)"
   ]
  },
  {
   "cell_type": "code",
   "execution_count": 15,
   "metadata": {
    "collapsed": false
   },
   "outputs": [
    {
     "data": {
      "text/html": [
       "<div>\n",
       "<table border=\"1\" class=\"dataframe\">\n",
       "  <thead>\n",
       "    <tr style=\"text-align: right;\">\n",
       "      <th></th>\n",
       "      <th>country_code</th>\n",
       "      <th>invitee_count</th>\n",
       "      <th>inviter_id</th>\n",
       "      <th>lender_id</th>\n",
       "      <th>loan_because</th>\n",
       "      <th>loan_count</th>\n",
       "      <th>member_since</th>\n",
       "      <th>name</th>\n",
       "      <th>occupation</th>\n",
       "      <th>occupational_info</th>\n",
       "      <th>personal_url</th>\n",
       "      <th>uid</th>\n",
       "      <th>whereabouts</th>\n",
       "      <th>member_start</th>\n",
       "      <th>join_year</th>\n",
       "      <th>years_active</th>\n",
       "      <th>loans_year</th>\n",
       "    </tr>\n",
       "  </thead>\n",
       "  <tbody>\n",
       "    <tr>\n",
       "      <th>0</th>\n",
       "      <td>us</td>\n",
       "      <td>0</td>\n",
       "      <td>none</td>\n",
       "      <td>kristin2273</td>\n",
       "      <td></td>\n",
       "      <td>2</td>\n",
       "      <td>2011-08-06T20:16:03Z</td>\n",
       "      <td>kristin</td>\n",
       "      <td></td>\n",
       "      <td></td>\n",
       "      <td></td>\n",
       "      <td>kristin2273</td>\n",
       "      <td>washington district of columbia</td>\n",
       "      <td>[2011-08-06T20:16:03Z]</td>\n",
       "      <td>2011.683105</td>\n",
       "      <td>4.569635</td>\n",
       "      <td>0.437672</td>\n",
       "    </tr>\n",
       "    <tr>\n",
       "      <th>1</th>\n",
       "      <td>us</td>\n",
       "      <td>1</td>\n",
       "      <td>none</td>\n",
       "      <td>charles7164</td>\n",
       "      <td></td>\n",
       "      <td>0</td>\n",
       "      <td>2009-12-23T18:59:33Z</td>\n",
       "      <td>charles</td>\n",
       "      <td>student</td>\n",
       "      <td></td>\n",
       "      <td></td>\n",
       "      <td>charles7164</td>\n",
       "      <td>charlottesville va</td>\n",
       "      <td>[2009-12-23T18:59:33Z]</td>\n",
       "      <td>2010.063014</td>\n",
       "      <td>6.189726</td>\n",
       "      <td>0.000000</td>\n",
       "    </tr>\n",
       "    <tr>\n",
       "      <th>2</th>\n",
       "      <td>us</td>\n",
       "      <td>0</td>\n",
       "      <td>none</td>\n",
       "      <td>katharine2239</td>\n",
       "      <td></td>\n",
       "      <td>41</td>\n",
       "      <td>2007-03-18T15:24:40Z</td>\n",
       "      <td>katharine</td>\n",
       "      <td></td>\n",
       "      <td></td>\n",
       "      <td></td>\n",
       "      <td>katharine2239</td>\n",
       "      <td>chicago il</td>\n",
       "      <td>[2007-03-18T15:24:40Z]</td>\n",
       "      <td>2007.299315</td>\n",
       "      <td>8.953425</td>\n",
       "      <td>4.579253</td>\n",
       "    </tr>\n",
       "  </tbody>\n",
       "</table>\n",
       "</div>"
      ],
      "text/plain": [
       "  country_code  invitee_count inviter_id      lender_id loan_because  \\\n",
       "0           us              0       none    kristin2273                \n",
       "1           us              1       none    charles7164                \n",
       "2           us              0       none  katharine2239                \n",
       "\n",
       "   loan_count          member_since       name occupation occupational_info  \\\n",
       "0           2  2011-08-06T20:16:03Z    kristin                                \n",
       "1           0  2009-12-23T18:59:33Z    charles    student                     \n",
       "2          41  2007-03-18T15:24:40Z  katharine                                \n",
       "\n",
       "  personal_url            uid                      whereabouts  \\\n",
       "0                 kristin2273  washington district of columbia   \n",
       "1                 charles7164               charlottesville va   \n",
       "2               katharine2239                       chicago il   \n",
       "\n",
       "             member_start    join_year  years_active  loans_year  \n",
       "0  [2011-08-06T20:16:03Z]  2011.683105      4.569635    0.437672  \n",
       "1  [2009-12-23T18:59:33Z]  2010.063014      6.189726    0.000000  \n",
       "2  [2007-03-18T15:24:40Z]  2007.299315      8.953425    4.579253  "
      ]
     },
     "execution_count": 15,
     "metadata": {},
     "output_type": "execute_result"
    }
   ],
   "source": [
    "# Calculate loan activity as quotient of loans and years active\n",
    "df['loans_year'] =(df.loan_count) / (df.years_active)\n",
    "df.head(3)"
   ]
  },
  {
   "cell_type": "code",
   "execution_count": 16,
   "metadata": {
    "collapsed": false
   },
   "outputs": [
    {
     "data": {
      "text/html": [
       "<div>\n",
       "<table border=\"1\" class=\"dataframe\">\n",
       "  <thead>\n",
       "    <tr style=\"text-align: right;\">\n",
       "      <th></th>\n",
       "      <th>country_code</th>\n",
       "      <th>invitee_count</th>\n",
       "      <th>inviter_id</th>\n",
       "      <th>lender_id</th>\n",
       "      <th>loan_because</th>\n",
       "      <th>loan_count</th>\n",
       "      <th>member_since</th>\n",
       "      <th>name</th>\n",
       "      <th>occupation</th>\n",
       "      <th>occupational_info</th>\n",
       "      <th>personal_url</th>\n",
       "      <th>uid</th>\n",
       "      <th>whereabouts</th>\n",
       "      <th>member_start</th>\n",
       "      <th>join_year</th>\n",
       "      <th>years_active</th>\n",
       "      <th>loans_year</th>\n",
       "      <th>invites_year</th>\n",
       "    </tr>\n",
       "  </thead>\n",
       "  <tbody>\n",
       "    <tr>\n",
       "      <th>0</th>\n",
       "      <td>us</td>\n",
       "      <td>0</td>\n",
       "      <td>none</td>\n",
       "      <td>kristin2273</td>\n",
       "      <td></td>\n",
       "      <td>2</td>\n",
       "      <td>2011-08-06T20:16:03Z</td>\n",
       "      <td>kristin</td>\n",
       "      <td></td>\n",
       "      <td></td>\n",
       "      <td></td>\n",
       "      <td>kristin2273</td>\n",
       "      <td>washington district of columbia</td>\n",
       "      <td>[2011-08-06T20:16:03Z]</td>\n",
       "      <td>2011.683105</td>\n",
       "      <td>4.569635</td>\n",
       "      <td>0.437672</td>\n",
       "      <td>0.000000</td>\n",
       "    </tr>\n",
       "    <tr>\n",
       "      <th>1</th>\n",
       "      <td>us</td>\n",
       "      <td>1</td>\n",
       "      <td>none</td>\n",
       "      <td>charles7164</td>\n",
       "      <td></td>\n",
       "      <td>0</td>\n",
       "      <td>2009-12-23T18:59:33Z</td>\n",
       "      <td>charles</td>\n",
       "      <td>student</td>\n",
       "      <td></td>\n",
       "      <td></td>\n",
       "      <td>charles7164</td>\n",
       "      <td>charlottesville va</td>\n",
       "      <td>[2009-12-23T18:59:33Z]</td>\n",
       "      <td>2010.063014</td>\n",
       "      <td>6.189726</td>\n",
       "      <td>0.000000</td>\n",
       "      <td>0.161558</td>\n",
       "    </tr>\n",
       "    <tr>\n",
       "      <th>2</th>\n",
       "      <td>us</td>\n",
       "      <td>0</td>\n",
       "      <td>none</td>\n",
       "      <td>katharine2239</td>\n",
       "      <td></td>\n",
       "      <td>41</td>\n",
       "      <td>2007-03-18T15:24:40Z</td>\n",
       "      <td>katharine</td>\n",
       "      <td></td>\n",
       "      <td></td>\n",
       "      <td></td>\n",
       "      <td>katharine2239</td>\n",
       "      <td>chicago il</td>\n",
       "      <td>[2007-03-18T15:24:40Z]</td>\n",
       "      <td>2007.299315</td>\n",
       "      <td>8.953425</td>\n",
       "      <td>4.579253</td>\n",
       "      <td>0.000000</td>\n",
       "    </tr>\n",
       "  </tbody>\n",
       "</table>\n",
       "</div>"
      ],
      "text/plain": [
       "  country_code  invitee_count inviter_id      lender_id loan_because  \\\n",
       "0           us              0       none    kristin2273                \n",
       "1           us              1       none    charles7164                \n",
       "2           us              0       none  katharine2239                \n",
       "\n",
       "   loan_count          member_since       name occupation occupational_info  \\\n",
       "0           2  2011-08-06T20:16:03Z    kristin                                \n",
       "1           0  2009-12-23T18:59:33Z    charles    student                     \n",
       "2          41  2007-03-18T15:24:40Z  katharine                                \n",
       "\n",
       "  personal_url            uid                      whereabouts  \\\n",
       "0                 kristin2273  washington district of columbia   \n",
       "1                 charles7164               charlottesville va   \n",
       "2               katharine2239                       chicago il   \n",
       "\n",
       "             member_start    join_year  years_active  loans_year  invites_year  \n",
       "0  [2011-08-06T20:16:03Z]  2011.683105      4.569635    0.437672      0.000000  \n",
       "1  [2009-12-23T18:59:33Z]  2010.063014      6.189726    0.000000      0.161558  \n",
       "2  [2007-03-18T15:24:40Z]  2007.299315      8.953425    4.579253      0.000000  "
      ]
     },
     "execution_count": 16,
     "metadata": {},
     "output_type": "execute_result"
    }
   ],
   "source": [
    "# Calculate invitation activity as quotient of invitations and years active\n",
    "df['invites_year'] =(df.invitee_count) / (df.years_active)\n",
    "df.head(3)"
   ]
  },
  {
   "cell_type": "code",
   "execution_count": 17,
   "metadata": {
    "collapsed": false
   },
   "outputs": [
    {
     "data": {
      "text/html": [
       "<div>\n",
       "<table border=\"1\" class=\"dataframe\">\n",
       "  <thead>\n",
       "    <tr style=\"text-align: right;\">\n",
       "      <th></th>\n",
       "      <th>country_code</th>\n",
       "      <th>invitee_count</th>\n",
       "      <th>inviter_id</th>\n",
       "      <th>lender_id</th>\n",
       "      <th>loan_because</th>\n",
       "      <th>loan_count</th>\n",
       "      <th>member_since</th>\n",
       "      <th>name</th>\n",
       "      <th>occupation</th>\n",
       "      <th>occupational_info</th>\n",
       "      <th>personal_url</th>\n",
       "      <th>uid</th>\n",
       "      <th>whereabouts</th>\n",
       "      <th>member_start</th>\n",
       "      <th>join_year</th>\n",
       "      <th>years_active</th>\n",
       "      <th>loans_year</th>\n",
       "      <th>invites_year</th>\n",
       "      <th>invited</th>\n",
       "    </tr>\n",
       "  </thead>\n",
       "  <tbody>\n",
       "    <tr>\n",
       "      <th>0</th>\n",
       "      <td>us</td>\n",
       "      <td>0</td>\n",
       "      <td>none</td>\n",
       "      <td>kristin2273</td>\n",
       "      <td></td>\n",
       "      <td>2</td>\n",
       "      <td>2011-08-06T20:16:03Z</td>\n",
       "      <td>kristin</td>\n",
       "      <td></td>\n",
       "      <td></td>\n",
       "      <td></td>\n",
       "      <td>kristin2273</td>\n",
       "      <td>washington district of columbia</td>\n",
       "      <td>[2011-08-06T20:16:03Z]</td>\n",
       "      <td>2011.683105</td>\n",
       "      <td>4.569635</td>\n",
       "      <td>0.437672</td>\n",
       "      <td>0.000000</td>\n",
       "      <td>0</td>\n",
       "    </tr>\n",
       "    <tr>\n",
       "      <th>1</th>\n",
       "      <td>us</td>\n",
       "      <td>1</td>\n",
       "      <td>none</td>\n",
       "      <td>charles7164</td>\n",
       "      <td></td>\n",
       "      <td>0</td>\n",
       "      <td>2009-12-23T18:59:33Z</td>\n",
       "      <td>charles</td>\n",
       "      <td>student</td>\n",
       "      <td></td>\n",
       "      <td></td>\n",
       "      <td>charles7164</td>\n",
       "      <td>charlottesville va</td>\n",
       "      <td>[2009-12-23T18:59:33Z]</td>\n",
       "      <td>2010.063014</td>\n",
       "      <td>6.189726</td>\n",
       "      <td>0.000000</td>\n",
       "      <td>0.161558</td>\n",
       "      <td>0</td>\n",
       "    </tr>\n",
       "    <tr>\n",
       "      <th>2</th>\n",
       "      <td>us</td>\n",
       "      <td>0</td>\n",
       "      <td>none</td>\n",
       "      <td>katharine2239</td>\n",
       "      <td></td>\n",
       "      <td>41</td>\n",
       "      <td>2007-03-18T15:24:40Z</td>\n",
       "      <td>katharine</td>\n",
       "      <td></td>\n",
       "      <td></td>\n",
       "      <td></td>\n",
       "      <td>katharine2239</td>\n",
       "      <td>chicago il</td>\n",
       "      <td>[2007-03-18T15:24:40Z]</td>\n",
       "      <td>2007.299315</td>\n",
       "      <td>8.953425</td>\n",
       "      <td>4.579253</td>\n",
       "      <td>0.000000</td>\n",
       "      <td>0</td>\n",
       "    </tr>\n",
       "  </tbody>\n",
       "</table>\n",
       "</div>"
      ],
      "text/plain": [
       "  country_code  invitee_count inviter_id      lender_id loan_because  \\\n",
       "0           us              0       none    kristin2273                \n",
       "1           us              1       none    charles7164                \n",
       "2           us              0       none  katharine2239                \n",
       "\n",
       "   loan_count          member_since       name occupation occupational_info  \\\n",
       "0           2  2011-08-06T20:16:03Z    kristin                                \n",
       "1           0  2009-12-23T18:59:33Z    charles    student                     \n",
       "2          41  2007-03-18T15:24:40Z  katharine                                \n",
       "\n",
       "  personal_url            uid                      whereabouts  \\\n",
       "0                 kristin2273  washington district of columbia   \n",
       "1                 charles7164               charlottesville va   \n",
       "2               katharine2239                       chicago il   \n",
       "\n",
       "             member_start    join_year  years_active  loans_year  \\\n",
       "0  [2011-08-06T20:16:03Z]  2011.683105      4.569635    0.437672   \n",
       "1  [2009-12-23T18:59:33Z]  2010.063014      6.189726    0.000000   \n",
       "2  [2007-03-18T15:24:40Z]  2007.299315      8.953425    4.579253   \n",
       "\n",
       "   invites_year  invited  \n",
       "0      0.000000        0  \n",
       "1      0.161558        0  \n",
       "2      0.000000        0  "
      ]
     },
     "execution_count": 17,
     "metadata": {},
     "output_type": "execute_result"
    }
   ],
   "source": [
    "# Calculate whether person was invited\n",
    "df['invited'] = 0\n",
    "df.loc[df['inviter_id'] != 'none', 'invited'] = 1\n",
    "df.head(3)"
   ]
  },
  {
   "cell_type": "code",
   "execution_count": 18,
   "metadata": {
    "collapsed": false
   },
   "outputs": [
    {
     "data": {
      "text/html": [
       "<div>\n",
       "<table border=\"1\" class=\"dataframe\">\n",
       "  <thead>\n",
       "    <tr style=\"text-align: right;\">\n",
       "      <th></th>\n",
       "      <th>country_code</th>\n",
       "      <th>invitee_count</th>\n",
       "      <th>inviter_id</th>\n",
       "      <th>lender_id</th>\n",
       "      <th>loan_because</th>\n",
       "      <th>loan_count</th>\n",
       "      <th>member_since</th>\n",
       "      <th>name</th>\n",
       "      <th>occupation</th>\n",
       "      <th>occupational_info</th>\n",
       "      <th>personal_url</th>\n",
       "      <th>uid</th>\n",
       "      <th>whereabouts</th>\n",
       "      <th>member_start</th>\n",
       "      <th>join_year</th>\n",
       "      <th>years_active</th>\n",
       "      <th>loans_year</th>\n",
       "      <th>invites_year</th>\n",
       "      <th>invited</th>\n",
       "      <th>lending_reason</th>\n",
       "    </tr>\n",
       "  </thead>\n",
       "  <tbody>\n",
       "    <tr>\n",
       "      <th>0</th>\n",
       "      <td>us</td>\n",
       "      <td>0</td>\n",
       "      <td>none</td>\n",
       "      <td>kristin2273</td>\n",
       "      <td></td>\n",
       "      <td>2</td>\n",
       "      <td>2011-08-06T20:16:03Z</td>\n",
       "      <td>kristin</td>\n",
       "      <td></td>\n",
       "      <td></td>\n",
       "      <td></td>\n",
       "      <td>kristin2273</td>\n",
       "      <td>washington district of columbia</td>\n",
       "      <td>[2011-08-06T20:16:03Z]</td>\n",
       "      <td>2011.683105</td>\n",
       "      <td>4.569635</td>\n",
       "      <td>0.437672</td>\n",
       "      <td>0.000000</td>\n",
       "      <td>0</td>\n",
       "      <td>0</td>\n",
       "    </tr>\n",
       "    <tr>\n",
       "      <th>1</th>\n",
       "      <td>us</td>\n",
       "      <td>1</td>\n",
       "      <td>none</td>\n",
       "      <td>charles7164</td>\n",
       "      <td></td>\n",
       "      <td>0</td>\n",
       "      <td>2009-12-23T18:59:33Z</td>\n",
       "      <td>charles</td>\n",
       "      <td>student</td>\n",
       "      <td></td>\n",
       "      <td></td>\n",
       "      <td>charles7164</td>\n",
       "      <td>charlottesville va</td>\n",
       "      <td>[2009-12-23T18:59:33Z]</td>\n",
       "      <td>2010.063014</td>\n",
       "      <td>6.189726</td>\n",
       "      <td>0.000000</td>\n",
       "      <td>0.161558</td>\n",
       "      <td>0</td>\n",
       "      <td>0</td>\n",
       "    </tr>\n",
       "    <tr>\n",
       "      <th>2</th>\n",
       "      <td>us</td>\n",
       "      <td>0</td>\n",
       "      <td>none</td>\n",
       "      <td>katharine2239</td>\n",
       "      <td></td>\n",
       "      <td>41</td>\n",
       "      <td>2007-03-18T15:24:40Z</td>\n",
       "      <td>katharine</td>\n",
       "      <td></td>\n",
       "      <td></td>\n",
       "      <td></td>\n",
       "      <td>katharine2239</td>\n",
       "      <td>chicago il</td>\n",
       "      <td>[2007-03-18T15:24:40Z]</td>\n",
       "      <td>2007.299315</td>\n",
       "      <td>8.953425</td>\n",
       "      <td>4.579253</td>\n",
       "      <td>0.000000</td>\n",
       "      <td>0</td>\n",
       "      <td>0</td>\n",
       "    </tr>\n",
       "  </tbody>\n",
       "</table>\n",
       "</div>"
      ],
      "text/plain": [
       "  country_code  invitee_count inviter_id      lender_id loan_because  \\\n",
       "0           us              0       none    kristin2273                \n",
       "1           us              1       none    charles7164                \n",
       "2           us              0       none  katharine2239                \n",
       "\n",
       "   loan_count          member_since       name occupation occupational_info  \\\n",
       "0           2  2011-08-06T20:16:03Z    kristin                                \n",
       "1           0  2009-12-23T18:59:33Z    charles    student                     \n",
       "2          41  2007-03-18T15:24:40Z  katharine                                \n",
       "\n",
       "  personal_url            uid                      whereabouts  \\\n",
       "0                 kristin2273  washington district of columbia   \n",
       "1                 charles7164               charlottesville va   \n",
       "2               katharine2239                       chicago il   \n",
       "\n",
       "             member_start    join_year  years_active  loans_year  \\\n",
       "0  [2011-08-06T20:16:03Z]  2011.683105      4.569635    0.437672   \n",
       "1  [2009-12-23T18:59:33Z]  2010.063014      6.189726    0.000000   \n",
       "2  [2007-03-18T15:24:40Z]  2007.299315      8.953425    4.579253   \n",
       "\n",
       "   invites_year  invited  lending_reason  \n",
       "0      0.000000        0               0  \n",
       "1      0.161558        0               0  \n",
       "2      0.000000        0               0  "
      ]
     },
     "execution_count": 18,
     "metadata": {},
     "output_type": "execute_result"
    }
   ],
   "source": [
    "# Calculate whether lender entered a reason for lending\n",
    "df['lending_reason'] = df['loan_because'].str.len()\n",
    "df.head(3)"
   ]
  },
  {
   "cell_type": "code",
   "execution_count": 19,
   "metadata": {
    "collapsed": false
   },
   "outputs": [
    {
     "data": {
      "text/html": [
       "<div>\n",
       "<table border=\"1\" class=\"dataframe\">\n",
       "  <thead>\n",
       "    <tr style=\"text-align: right;\">\n",
       "      <th></th>\n",
       "      <th>name</th>\n",
       "      <th>gender</th>\n",
       "    </tr>\n",
       "  </thead>\n",
       "  <tbody>\n",
       "    <tr>\n",
       "      <th>0</th>\n",
       "      <td>aaden</td>\n",
       "      <td>male</td>\n",
       "    </tr>\n",
       "    <tr>\n",
       "      <th>1</th>\n",
       "      <td>aaliyah</td>\n",
       "      <td>female</td>\n",
       "    </tr>\n",
       "    <tr>\n",
       "      <th>2</th>\n",
       "      <td>aarav</td>\n",
       "      <td>male</td>\n",
       "    </tr>\n",
       "  </tbody>\n",
       "</table>\n",
       "</div>"
      ],
      "text/plain": [
       "      name  gender\n",
       "0    aaden    male\n",
       "1  aaliyah  female\n",
       "2    aarav    male"
      ]
     },
     "execution_count": 19,
     "metadata": {},
     "output_type": "execute_result"
    }
   ],
   "source": [
    "# Assign gender to each record\n",
    "# Import csv of names and associated genders\n",
    "df_gender = pd.DataFrame.from_csv('names.csv')\n",
    "df_gender=df_gender.reset_index()\n",
    "df_gender['name'] = df_gender['name'].str.lower()\n",
    "df_gender.head(3)"
   ]
  },
  {
   "cell_type": "code",
   "execution_count": 20,
   "metadata": {
    "collapsed": false
   },
   "outputs": [
    {
     "data": {
      "text/html": [
       "<div>\n",
       "<table border=\"1\" class=\"dataframe\">\n",
       "  <thead>\n",
       "    <tr style=\"text-align: right;\">\n",
       "      <th></th>\n",
       "      <th>country_code</th>\n",
       "      <th>region</th>\n",
       "    </tr>\n",
       "  </thead>\n",
       "  <tbody>\n",
       "    <tr>\n",
       "      <th>0</th>\n",
       "      <td>af</td>\n",
       "      <td>Rest of World</td>\n",
       "    </tr>\n",
       "    <tr>\n",
       "      <th>1</th>\n",
       "      <td>al</td>\n",
       "      <td>Rest of World</td>\n",
       "    </tr>\n",
       "    <tr>\n",
       "      <th>2</th>\n",
       "      <td>dz</td>\n",
       "      <td>Rest of World</td>\n",
       "    </tr>\n",
       "  </tbody>\n",
       "</table>\n",
       "</div>"
      ],
      "text/plain": [
       "  country_code         region\n",
       "0           af  Rest of World\n",
       "1           al  Rest of World\n",
       "2           dz  Rest of World"
      ]
     },
     "execution_count": 20,
     "metadata": {},
     "output_type": "execute_result"
    }
   ],
   "source": [
    "# Assign region to each record\n",
    "# Import csv of iso codes and associated regions\n",
    "df_region = pd.DataFrame.from_csv('iso_countries.csv')\n",
    "df_region=df_region.reset_index()\n",
    "df_region['country_code'] = df_region['country_code'].str.lower()\n",
    "df_region.head(3)"
   ]
  },
  {
   "cell_type": "code",
   "execution_count": 21,
   "metadata": {
    "collapsed": false
   },
   "outputs": [
    {
     "data": {
      "text/html": [
       "<div>\n",
       "<table border=\"1\" class=\"dataframe\">\n",
       "  <thead>\n",
       "    <tr style=\"text-align: right;\">\n",
       "      <th></th>\n",
       "      <th>country_code</th>\n",
       "      <th>invitee_count</th>\n",
       "      <th>inviter_id</th>\n",
       "      <th>lender_id</th>\n",
       "      <th>loan_because</th>\n",
       "      <th>loan_count</th>\n",
       "      <th>member_since</th>\n",
       "      <th>name</th>\n",
       "      <th>occupation</th>\n",
       "      <th>occupational_info</th>\n",
       "      <th>...</th>\n",
       "      <th>whereabouts</th>\n",
       "      <th>member_start</th>\n",
       "      <th>join_year</th>\n",
       "      <th>years_active</th>\n",
       "      <th>loans_year</th>\n",
       "      <th>invites_year</th>\n",
       "      <th>invited</th>\n",
       "      <th>lending_reason</th>\n",
       "      <th>gender</th>\n",
       "      <th>region</th>\n",
       "    </tr>\n",
       "  </thead>\n",
       "  <tbody>\n",
       "    <tr>\n",
       "      <th>0</th>\n",
       "      <td>us</td>\n",
       "      <td>0</td>\n",
       "      <td>none</td>\n",
       "      <td>kristin2273</td>\n",
       "      <td></td>\n",
       "      <td>2</td>\n",
       "      <td>2011-08-06T20:16:03Z</td>\n",
       "      <td>kristin</td>\n",
       "      <td></td>\n",
       "      <td></td>\n",
       "      <td>...</td>\n",
       "      <td>washington district of columbia</td>\n",
       "      <td>[2011-08-06T20:16:03Z]</td>\n",
       "      <td>2011.683105</td>\n",
       "      <td>4.569635</td>\n",
       "      <td>0.437672</td>\n",
       "      <td>0.000000</td>\n",
       "      <td>0</td>\n",
       "      <td>0</td>\n",
       "      <td>male</td>\n",
       "      <td>US &amp; Canada</td>\n",
       "    </tr>\n",
       "    <tr>\n",
       "      <th>1</th>\n",
       "      <td>us</td>\n",
       "      <td>1</td>\n",
       "      <td>none</td>\n",
       "      <td>charles7164</td>\n",
       "      <td></td>\n",
       "      <td>0</td>\n",
       "      <td>2009-12-23T18:59:33Z</td>\n",
       "      <td>charles</td>\n",
       "      <td>student</td>\n",
       "      <td></td>\n",
       "      <td>...</td>\n",
       "      <td>charlottesville va</td>\n",
       "      <td>[2009-12-23T18:59:33Z]</td>\n",
       "      <td>2010.063014</td>\n",
       "      <td>6.189726</td>\n",
       "      <td>0.000000</td>\n",
       "      <td>0.161558</td>\n",
       "      <td>0</td>\n",
       "      <td>0</td>\n",
       "      <td>male</td>\n",
       "      <td>US &amp; Canada</td>\n",
       "    </tr>\n",
       "    <tr>\n",
       "      <th>2</th>\n",
       "      <td>us</td>\n",
       "      <td>0</td>\n",
       "      <td>none</td>\n",
       "      <td>katharine2239</td>\n",
       "      <td></td>\n",
       "      <td>41</td>\n",
       "      <td>2007-03-18T15:24:40Z</td>\n",
       "      <td>katharine</td>\n",
       "      <td></td>\n",
       "      <td></td>\n",
       "      <td>...</td>\n",
       "      <td>chicago il</td>\n",
       "      <td>[2007-03-18T15:24:40Z]</td>\n",
       "      <td>2007.299315</td>\n",
       "      <td>8.953425</td>\n",
       "      <td>4.579253</td>\n",
       "      <td>0.000000</td>\n",
       "      <td>0</td>\n",
       "      <td>0</td>\n",
       "      <td>female</td>\n",
       "      <td>US &amp; Canada</td>\n",
       "    </tr>\n",
       "  </tbody>\n",
       "</table>\n",
       "<p>3 rows × 22 columns</p>\n",
       "</div>"
      ],
      "text/plain": [
       "  country_code  invitee_count inviter_id      lender_id loan_because  \\\n",
       "0           us              0       none    kristin2273                \n",
       "1           us              1       none    charles7164                \n",
       "2           us              0       none  katharine2239                \n",
       "\n",
       "   loan_count          member_since       name occupation occupational_info  \\\n",
       "0           2  2011-08-06T20:16:03Z    kristin                                \n",
       "1           0  2009-12-23T18:59:33Z    charles    student                     \n",
       "2          41  2007-03-18T15:24:40Z  katharine                                \n",
       "\n",
       "      ...                           whereabouts            member_start  \\\n",
       "0     ...       washington district of columbia  [2011-08-06T20:16:03Z]   \n",
       "1     ...                    charlottesville va  [2009-12-23T18:59:33Z]   \n",
       "2     ...                            chicago il  [2007-03-18T15:24:40Z]   \n",
       "\n",
       "     join_year years_active  loans_year  invites_year  invited  \\\n",
       "0  2011.683105     4.569635    0.437672      0.000000        0   \n",
       "1  2010.063014     6.189726    0.000000      0.161558        0   \n",
       "2  2007.299315     8.953425    4.579253      0.000000        0   \n",
       "\n",
       "   lending_reason  gender       region  \n",
       "0               0    male  US & Canada  \n",
       "1               0    male  US & Canada  \n",
       "2               0  female  US & Canada  \n",
       "\n",
       "[3 rows x 22 columns]"
      ]
     },
     "execution_count": 21,
     "metadata": {},
     "output_type": "execute_result"
    }
   ],
   "source": [
    "# Merge gender and region\n",
    "\n",
    "#type(df_gender['name'][0])\n",
    "df = pd.merge(df, df_gender, how='left', on='name')\n",
    "df = pd.merge(df, df_region, how='left', on='country_code')\n",
    "df.head(3)"
   ]
  },
  {
   "cell_type": "code",
   "execution_count": 22,
   "metadata": {
    "collapsed": false
   },
   "outputs": [
    {
     "data": {
      "text/html": [
       "<div>\n",
       "<table border=\"1\" class=\"dataframe\">\n",
       "  <thead>\n",
       "    <tr style=\"text-align: right;\">\n",
       "      <th></th>\n",
       "      <th>country_code</th>\n",
       "      <th>invitee_count</th>\n",
       "      <th>inviter_id</th>\n",
       "      <th>lender_id</th>\n",
       "      <th>loan_because</th>\n",
       "      <th>loan_count</th>\n",
       "      <th>member_since</th>\n",
       "      <th>name</th>\n",
       "      <th>occupation</th>\n",
       "      <th>occupational_info</th>\n",
       "      <th>...</th>\n",
       "      <th>whereabouts</th>\n",
       "      <th>member_start</th>\n",
       "      <th>join_year</th>\n",
       "      <th>years_active</th>\n",
       "      <th>loans_year</th>\n",
       "      <th>invites_year</th>\n",
       "      <th>invited</th>\n",
       "      <th>lending_reason</th>\n",
       "      <th>gender</th>\n",
       "      <th>region</th>\n",
       "    </tr>\n",
       "  </thead>\n",
       "  <tbody>\n",
       "    <tr>\n",
       "      <th>0</th>\n",
       "      <td>us</td>\n",
       "      <td>0</td>\n",
       "      <td>none</td>\n",
       "      <td>kristin2273</td>\n",
       "      <td></td>\n",
       "      <td>2</td>\n",
       "      <td>2011-08-06T20:16:03Z</td>\n",
       "      <td>kristin</td>\n",
       "      <td></td>\n",
       "      <td></td>\n",
       "      <td>...</td>\n",
       "      <td>washington district of columbia</td>\n",
       "      <td>[2011-08-06T20:16:03Z]</td>\n",
       "      <td>2011.683105</td>\n",
       "      <td>4.569635</td>\n",
       "      <td>0.437672</td>\n",
       "      <td>0.000000</td>\n",
       "      <td>0</td>\n",
       "      <td>0</td>\n",
       "      <td>male</td>\n",
       "      <td>US &amp; Canada</td>\n",
       "    </tr>\n",
       "    <tr>\n",
       "      <th>1</th>\n",
       "      <td>us</td>\n",
       "      <td>1</td>\n",
       "      <td>none</td>\n",
       "      <td>charles7164</td>\n",
       "      <td></td>\n",
       "      <td>0</td>\n",
       "      <td>2009-12-23T18:59:33Z</td>\n",
       "      <td>charles</td>\n",
       "      <td>student</td>\n",
       "      <td></td>\n",
       "      <td>...</td>\n",
       "      <td>charlottesville va</td>\n",
       "      <td>[2009-12-23T18:59:33Z]</td>\n",
       "      <td>2010.063014</td>\n",
       "      <td>6.189726</td>\n",
       "      <td>0.000000</td>\n",
       "      <td>0.161558</td>\n",
       "      <td>0</td>\n",
       "      <td>0</td>\n",
       "      <td>male</td>\n",
       "      <td>US &amp; Canada</td>\n",
       "    </tr>\n",
       "    <tr>\n",
       "      <th>2</th>\n",
       "      <td>us</td>\n",
       "      <td>0</td>\n",
       "      <td>none</td>\n",
       "      <td>katharine2239</td>\n",
       "      <td></td>\n",
       "      <td>41</td>\n",
       "      <td>2007-03-18T15:24:40Z</td>\n",
       "      <td>katharine</td>\n",
       "      <td></td>\n",
       "      <td></td>\n",
       "      <td>...</td>\n",
       "      <td>chicago il</td>\n",
       "      <td>[2007-03-18T15:24:40Z]</td>\n",
       "      <td>2007.299315</td>\n",
       "      <td>8.953425</td>\n",
       "      <td>4.579253</td>\n",
       "      <td>0.000000</td>\n",
       "      <td>0</td>\n",
       "      <td>0</td>\n",
       "      <td>female</td>\n",
       "      <td>US &amp; Canada</td>\n",
       "    </tr>\n",
       "  </tbody>\n",
       "</table>\n",
       "<p>3 rows × 22 columns</p>\n",
       "</div>"
      ],
      "text/plain": [
       "  country_code  invitee_count inviter_id      lender_id loan_because  \\\n",
       "0           us              0       none    kristin2273                \n",
       "1           us              1       none    charles7164                \n",
       "2           us              0       none  katharine2239                \n",
       "\n",
       "   loan_count          member_since       name occupation occupational_info  \\\n",
       "0           2  2011-08-06T20:16:03Z    kristin                                \n",
       "1           0  2009-12-23T18:59:33Z    charles    student                     \n",
       "2          41  2007-03-18T15:24:40Z  katharine                                \n",
       "\n",
       "      ...                           whereabouts            member_start  \\\n",
       "0     ...       washington district of columbia  [2011-08-06T20:16:03Z]   \n",
       "1     ...                    charlottesville va  [2009-12-23T18:59:33Z]   \n",
       "2     ...                            chicago il  [2007-03-18T15:24:40Z]   \n",
       "\n",
       "     join_year years_active  loans_year  invites_year  invited  \\\n",
       "0  2011.683105     4.569635    0.437672      0.000000        0   \n",
       "1  2010.063014     6.189726    0.000000      0.161558        0   \n",
       "2  2007.299315     8.953425    4.579253      0.000000        0   \n",
       "\n",
       "   lending_reason  gender       region  \n",
       "0               0    male  US & Canada  \n",
       "1               0    male  US & Canada  \n",
       "2               0  female  US & Canada  \n",
       "\n",
       "[3 rows x 22 columns]"
      ]
     },
     "execution_count": 22,
     "metadata": {},
     "output_type": "execute_result"
    }
   ],
   "source": [
    "# Filter out NaN genders\n",
    "gender_filter = df['gender'].notnull()\n",
    "df = df[gender_filter]\n",
    "df.head(3)"
   ]
  },
  {
   "cell_type": "code",
   "execution_count": 23,
   "metadata": {
    "collapsed": false,
    "scrolled": true
   },
   "outputs": [
    {
     "data": {
      "text/html": [
       "<div>\n",
       "<table border=\"1\" class=\"dataframe\">\n",
       "  <thead>\n",
       "    <tr style=\"text-align: right;\">\n",
       "      <th></th>\n",
       "      <th>occupation</th>\n",
       "      <th>tech_science</th>\n",
       "      <th>ngo</th>\n",
       "      <th>retiree</th>\n",
       "    </tr>\n",
       "  </thead>\n",
       "  <tbody>\n",
       "    <tr>\n",
       "      <th>0</th>\n",
       "      <td>under</td>\n",
       "      <td>no</td>\n",
       "      <td>no</td>\n",
       "      <td>no</td>\n",
       "    </tr>\n",
       "    <tr>\n",
       "      <th>1</th>\n",
       "      <td>unemploy</td>\n",
       "      <td>no</td>\n",
       "      <td>no</td>\n",
       "      <td>no</td>\n",
       "    </tr>\n",
       "    <tr>\n",
       "      <th>2</th>\n",
       "      <td>retire</td>\n",
       "      <td>no</td>\n",
       "      <td>no</td>\n",
       "      <td>yes</td>\n",
       "    </tr>\n",
       "  </tbody>\n",
       "</table>\n",
       "</div>"
      ],
      "text/plain": [
       "  occupation tech_science ngo retiree\n",
       "0      under           no  no      no\n",
       "1   unemploy           no  no      no\n",
       "2     retire           no  no     yes"
      ]
     },
     "execution_count": 23,
     "metadata": {},
     "output_type": "execute_result"
    }
   ],
   "source": [
    "# Import csv of vocations\n",
    "df_vocation = pd.DataFrame.from_csv('vocations.1.csv')\n",
    "df_vocation=df_vocation.reset_index()\n",
    "df_vocation['tech_science'] = df_vocation['tech_science'].str.lower()\n",
    "df_vocation['ngo'] = df_vocation['ngo'].str.lower()\n",
    "df_vocation['retiree'] = df_vocation['retiree'].str.lower()\n",
    "df_vocation.head(3)"
   ]
  },
  {
   "cell_type": "code",
   "execution_count": 24,
   "metadata": {
    "collapsed": false
   },
   "outputs": [],
   "source": [
    "def zip_lists(df, col_name1, col_name2):\n",
    "    return_list = zip(df[col_name1],df[col_name2])\n",
    "    return return_list\n",
    "\n",
    "occupation_tech_list = zip_lists(df_vocation, 'occupation', 'tech_science')\n",
    "occupation_ngo_list = zip_lists(df_vocation, 'occupation', 'ngo')\n",
    "occupation_retiree_list = zip_lists(df_vocation, 'occupation', 'retiree')"
   ]
  },
  {
   "cell_type": "code",
   "execution_count": 25,
   "metadata": {
    "collapsed": false
   },
   "outputs": [
    {
     "data": {
      "text/html": [
       "<div>\n",
       "<table border=\"1\" class=\"dataframe\">\n",
       "  <thead>\n",
       "    <tr style=\"text-align: right;\">\n",
       "      <th></th>\n",
       "      <th>country_code</th>\n",
       "      <th>invitee_count</th>\n",
       "      <th>inviter_id</th>\n",
       "      <th>lender_id</th>\n",
       "      <th>loan_because</th>\n",
       "      <th>loan_count</th>\n",
       "      <th>member_since</th>\n",
       "      <th>name</th>\n",
       "      <th>occupation</th>\n",
       "      <th>occupational_info</th>\n",
       "      <th>...</th>\n",
       "      <th>years_active</th>\n",
       "      <th>loans_year</th>\n",
       "      <th>invites_year</th>\n",
       "      <th>invited</th>\n",
       "      <th>lending_reason</th>\n",
       "      <th>gender</th>\n",
       "      <th>region</th>\n",
       "      <th>tech_science</th>\n",
       "      <th>ngo</th>\n",
       "      <th>retiree</th>\n",
       "    </tr>\n",
       "  </thead>\n",
       "  <tbody>\n",
       "    <tr>\n",
       "      <th>0</th>\n",
       "      <td>us</td>\n",
       "      <td>0</td>\n",
       "      <td>none</td>\n",
       "      <td>kristin2273</td>\n",
       "      <td></td>\n",
       "      <td>2</td>\n",
       "      <td>2011-08-06T20:16:03Z</td>\n",
       "      <td>kristin</td>\n",
       "      <td></td>\n",
       "      <td></td>\n",
       "      <td>...</td>\n",
       "      <td>4.569635</td>\n",
       "      <td>0.437672</td>\n",
       "      <td>0.000000</td>\n",
       "      <td>0</td>\n",
       "      <td>0</td>\n",
       "      <td>male</td>\n",
       "      <td>US &amp; Canada</td>\n",
       "      <td></td>\n",
       "      <td></td>\n",
       "      <td></td>\n",
       "    </tr>\n",
       "    <tr>\n",
       "      <th>1</th>\n",
       "      <td>us</td>\n",
       "      <td>1</td>\n",
       "      <td>none</td>\n",
       "      <td>charles7164</td>\n",
       "      <td></td>\n",
       "      <td>0</td>\n",
       "      <td>2009-12-23T18:59:33Z</td>\n",
       "      <td>charles</td>\n",
       "      <td>student</td>\n",
       "      <td></td>\n",
       "      <td>...</td>\n",
       "      <td>6.189726</td>\n",
       "      <td>0.000000</td>\n",
       "      <td>0.161558</td>\n",
       "      <td>0</td>\n",
       "      <td>0</td>\n",
       "      <td>male</td>\n",
       "      <td>US &amp; Canada</td>\n",
       "      <td>no</td>\n",
       "      <td>no</td>\n",
       "      <td>no</td>\n",
       "    </tr>\n",
       "    <tr>\n",
       "      <th>2</th>\n",
       "      <td>us</td>\n",
       "      <td>0</td>\n",
       "      <td>none</td>\n",
       "      <td>katharine2239</td>\n",
       "      <td></td>\n",
       "      <td>41</td>\n",
       "      <td>2007-03-18T15:24:40Z</td>\n",
       "      <td>katharine</td>\n",
       "      <td></td>\n",
       "      <td></td>\n",
       "      <td>...</td>\n",
       "      <td>8.953425</td>\n",
       "      <td>4.579253</td>\n",
       "      <td>0.000000</td>\n",
       "      <td>0</td>\n",
       "      <td>0</td>\n",
       "      <td>female</td>\n",
       "      <td>US &amp; Canada</td>\n",
       "      <td>no</td>\n",
       "      <td>no</td>\n",
       "      <td>no</td>\n",
       "    </tr>\n",
       "  </tbody>\n",
       "</table>\n",
       "<p>3 rows × 25 columns</p>\n",
       "</div>"
      ],
      "text/plain": [
       "  country_code  invitee_count inviter_id      lender_id loan_because  \\\n",
       "0           us              0       none    kristin2273                \n",
       "1           us              1       none    charles7164                \n",
       "2           us              0       none  katharine2239                \n",
       "\n",
       "   loan_count          member_since       name occupation occupational_info  \\\n",
       "0           2  2011-08-06T20:16:03Z    kristin                                \n",
       "1           0  2009-12-23T18:59:33Z    charles    student                     \n",
       "2          41  2007-03-18T15:24:40Z  katharine                                \n",
       "\n",
       "    ...    years_active loans_year invites_year invited  lending_reason  \\\n",
       "0   ...        4.569635   0.437672     0.000000       0               0   \n",
       "1   ...        6.189726   0.000000     0.161558       0               0   \n",
       "2   ...        8.953425   4.579253     0.000000       0               0   \n",
       "\n",
       "   gender       region  tech_science  ngo  retiree  \n",
       "0    male  US & Canada                              \n",
       "1    male  US & Canada            no   no       no  \n",
       "2  female  US & Canada            no   no       no  \n",
       "\n",
       "[3 rows x 25 columns]"
      ]
     },
     "execution_count": 25,
     "metadata": {},
     "output_type": "execute_result"
    }
   ],
   "source": [
    "# map join attributes on occupation\n",
    "\n",
    "def str_contain(string, pattern):\n",
    "    compiled_pattern = re.compile(pattern)\n",
    "    return compiled_pattern.search(string)\n",
    "\n",
    "def map_list_2_df(df, df_col_name_2_map, list_2_map, df_col_2_create):\n",
    "    word = ''\n",
    "    appended_list = []\n",
    "    for occupation in df[df_col_name_2_map].iteritems():\n",
    "        for the_tuple in list_2_map:\n",
    "            if str_contain(occupation[1], the_tuple[0]):\n",
    "                word = the_tuple[1]\n",
    "        appended_list.append(word)\n",
    "    the_series = pd.Series(appended_list)\n",
    "    df.loc[:,df_col_2_create]=pd.Series(appended_list, index=df.index)        \n",
    "\n",
    "map_list_2_df(df, 'occupation', occupation_tech_list, 'tech_science')\n",
    "map_list_2_df(df, 'occupation', occupation_ngo_list, 'ngo')\n",
    "map_list_2_df(df, 'occupation', occupation_retiree_list, 'retiree')\n",
    "\n",
    "df.head(3)"
   ]
  },
  {
   "cell_type": "code",
   "execution_count": 26,
   "metadata": {
    "collapsed": false
   },
   "outputs": [
    {
     "data": {
      "text/html": [
       "<div>\n",
       "<table border=\"1\" class=\"dataframe\">\n",
       "  <thead>\n",
       "    <tr style=\"text-align: right;\">\n",
       "      <th></th>\n",
       "      <th>country_code</th>\n",
       "      <th>invitee_count</th>\n",
       "      <th>inviter_id</th>\n",
       "      <th>lender_id</th>\n",
       "      <th>loan_because</th>\n",
       "      <th>loan_count</th>\n",
       "      <th>member_since</th>\n",
       "      <th>name</th>\n",
       "      <th>occupation</th>\n",
       "      <th>occupational_info</th>\n",
       "      <th>...</th>\n",
       "      <th>years_active</th>\n",
       "      <th>loans_year</th>\n",
       "      <th>invites_year</th>\n",
       "      <th>invited</th>\n",
       "      <th>lending_reason</th>\n",
       "      <th>gender</th>\n",
       "      <th>region</th>\n",
       "      <th>tech_science</th>\n",
       "      <th>ngo</th>\n",
       "      <th>retiree</th>\n",
       "    </tr>\n",
       "  </thead>\n",
       "  <tbody>\n",
       "    <tr>\n",
       "      <th>1</th>\n",
       "      <td>us</td>\n",
       "      <td>1</td>\n",
       "      <td>none</td>\n",
       "      <td>charles7164</td>\n",
       "      <td></td>\n",
       "      <td>0</td>\n",
       "      <td>2009-12-23T18:59:33Z</td>\n",
       "      <td>charles</td>\n",
       "      <td>student</td>\n",
       "      <td></td>\n",
       "      <td>...</td>\n",
       "      <td>6.189726</td>\n",
       "      <td>0.000000</td>\n",
       "      <td>0.161558</td>\n",
       "      <td>0</td>\n",
       "      <td>0</td>\n",
       "      <td>male</td>\n",
       "      <td>US &amp; Canada</td>\n",
       "      <td>no</td>\n",
       "      <td>no</td>\n",
       "      <td>no</td>\n",
       "    </tr>\n",
       "    <tr>\n",
       "      <th>13</th>\n",
       "      <td>us</td>\n",
       "      <td>0</td>\n",
       "      <td>none</td>\n",
       "      <td>rachel6305</td>\n",
       "      <td></td>\n",
       "      <td>31</td>\n",
       "      <td>2007-12-24T16:59:42Z</td>\n",
       "      <td>rachel</td>\n",
       "      <td>student</td>\n",
       "      <td></td>\n",
       "      <td>...</td>\n",
       "      <td>8.186986</td>\n",
       "      <td>3.786497</td>\n",
       "      <td>0.000000</td>\n",
       "      <td>0</td>\n",
       "      <td>0</td>\n",
       "      <td>male</td>\n",
       "      <td>US &amp; Canada</td>\n",
       "      <td>no</td>\n",
       "      <td>no</td>\n",
       "      <td>no</td>\n",
       "    </tr>\n",
       "    <tr>\n",
       "      <th>19</th>\n",
       "      <td>us</td>\n",
       "      <td>1</td>\n",
       "      <td>none</td>\n",
       "      <td>william8839</td>\n",
       "      <td></td>\n",
       "      <td>28</td>\n",
       "      <td>2009-03-09T02:30:25Z</td>\n",
       "      <td>william</td>\n",
       "      <td>construction</td>\n",
       "      <td></td>\n",
       "      <td>...</td>\n",
       "      <td>6.978082</td>\n",
       "      <td>4.012564</td>\n",
       "      <td>0.143306</td>\n",
       "      <td>0</td>\n",
       "      <td>0</td>\n",
       "      <td>male</td>\n",
       "      <td>US &amp; Canada</td>\n",
       "      <td>no</td>\n",
       "      <td>no</td>\n",
       "      <td>no</td>\n",
       "    </tr>\n",
       "  </tbody>\n",
       "</table>\n",
       "<p>3 rows × 25 columns</p>\n",
       "</div>"
      ],
      "text/plain": [
       "   country_code  invitee_count inviter_id    lender_id loan_because  \\\n",
       "1            us              1       none  charles7164                \n",
       "13           us              0       none   rachel6305                \n",
       "19           us              1       none  william8839                \n",
       "\n",
       "    loan_count          member_since     name    occupation occupational_info  \\\n",
       "1            0  2009-12-23T18:59:33Z  charles       student                     \n",
       "13          31  2007-12-24T16:59:42Z   rachel       student                     \n",
       "19          28  2009-03-09T02:30:25Z  william  construction                     \n",
       "\n",
       "     ...    years_active loans_year invites_year invited  lending_reason  \\\n",
       "1    ...        6.189726   0.000000     0.161558       0               0   \n",
       "13   ...        8.186986   3.786497     0.000000       0               0   \n",
       "19   ...        6.978082   4.012564     0.143306       0               0   \n",
       "\n",
       "    gender       region  tech_science  ngo  retiree  \n",
       "1     male  US & Canada            no   no       no  \n",
       "13    male  US & Canada            no   no       no  \n",
       "19    male  US & Canada            no   no       no  \n",
       "\n",
       "[3 rows x 25 columns]"
      ]
     },
     "execution_count": 26,
     "metadata": {},
     "output_type": "execute_result"
    }
   ],
   "source": [
    "def filter_not_equal(df, df_col, criterion):\n",
    "    the_filter = df[df_col] != criterion\n",
    "    df = df[the_filter]\n",
    "    return df\n",
    "\n",
    "def filter_not_contains(df, df_col, criterion):\n",
    "    the_filter = ~df[df_col].str.contains(criterion)\n",
    "    df = df[the_filter]\n",
    "    return df\n",
    "\n",
    "\n",
    "df = filter_not_equal(df, 'country_code', 'none')\n",
    "df = filter_not_equal(df, 'country_code', '')\n",
    "\n",
    "df = filter_not_equal(df, 'name', '')\n",
    "df = filter_not_contains(df, 'name', ' and ')\n",
    "df = filter_not_contains(df, 'name', 'fund')\n",
    "df = filter_not_contains(df, 'name', '&')\n",
    "df['name'] = df['name'].str.split(' ').str.get(0)\n",
    "\n",
    "df = filter_not_equal(df, 'occupation', '')\n",
    "df = filter_not_equal(df, 'occupation', 'other')\n",
    "\n",
    "\n",
    "df = filter_not_equal(df, 'gender', '')\n",
    "\n",
    "df = filter_not_equal(df, 'region', '')\n",
    "\n",
    "df = filter_not_equal(df, 'tech_science', '')\n",
    "#df = filter_not_equal(df, 'ngo', '')\n",
    "df = filter_not_equal(df, 'retiree', '')\n",
    "\n",
    "df.dropna(thresh=1)\n",
    "\n",
    "df.head(3)"
   ]
  },
  {
   "cell_type": "code",
   "execution_count": 27,
   "metadata": {
    "collapsed": false
   },
   "outputs": [
    {
     "data": {
      "text/html": [
       "<div>\n",
       "<table border=\"1\" class=\"dataframe\">\n",
       "  <thead>\n",
       "    <tr style=\"text-align: right;\">\n",
       "      <th></th>\n",
       "      <th>loans_year</th>\n",
       "      <th>invites_year</th>\n",
       "      <th>lending_reason</th>\n",
       "      <th>gender</th>\n",
       "      <th>region</th>\n",
       "      <th>tech_science</th>\n",
       "      <th>ngo</th>\n",
       "      <th>retiree</th>\n",
       "    </tr>\n",
       "  </thead>\n",
       "  <tbody>\n",
       "    <tr>\n",
       "      <th>1</th>\n",
       "      <td>0.000000</td>\n",
       "      <td>0.161558</td>\n",
       "      <td>0</td>\n",
       "      <td>male</td>\n",
       "      <td>US &amp; Canada</td>\n",
       "      <td>no</td>\n",
       "      <td>no</td>\n",
       "      <td>no</td>\n",
       "    </tr>\n",
       "    <tr>\n",
       "      <th>13</th>\n",
       "      <td>3.786497</td>\n",
       "      <td>0.000000</td>\n",
       "      <td>0</td>\n",
       "      <td>male</td>\n",
       "      <td>US &amp; Canada</td>\n",
       "      <td>no</td>\n",
       "      <td>no</td>\n",
       "      <td>no</td>\n",
       "    </tr>\n",
       "    <tr>\n",
       "      <th>19</th>\n",
       "      <td>4.012564</td>\n",
       "      <td>0.143306</td>\n",
       "      <td>0</td>\n",
       "      <td>male</td>\n",
       "      <td>US &amp; Canada</td>\n",
       "      <td>no</td>\n",
       "      <td>no</td>\n",
       "      <td>no</td>\n",
       "    </tr>\n",
       "    <tr>\n",
       "      <th>29</th>\n",
       "      <td>3.898339</td>\n",
       "      <td>0.000000</td>\n",
       "      <td>0</td>\n",
       "      <td>male</td>\n",
       "      <td>US &amp; Canada</td>\n",
       "      <td>yes</td>\n",
       "      <td>no</td>\n",
       "      <td>no</td>\n",
       "    </tr>\n",
       "    <tr>\n",
       "      <th>31</th>\n",
       "      <td>0.000000</td>\n",
       "      <td>0.000000</td>\n",
       "      <td>67</td>\n",
       "      <td>male</td>\n",
       "      <td>US &amp; Canada</td>\n",
       "      <td>yes</td>\n",
       "      <td>no</td>\n",
       "      <td>no</td>\n",
       "    </tr>\n",
       "  </tbody>\n",
       "</table>\n",
       "</div>"
      ],
      "text/plain": [
       "    loans_year  invites_year  lending_reason gender       region tech_science  \\\n",
       "1     0.000000      0.161558               0   male  US & Canada           no   \n",
       "13    3.786497      0.000000               0   male  US & Canada           no   \n",
       "19    4.012564      0.143306               0   male  US & Canada           no   \n",
       "29    3.898339      0.000000               0   male  US & Canada          yes   \n",
       "31    0.000000      0.000000              67   male  US & Canada          yes   \n",
       "\n",
       "   ngo retiree  \n",
       "1   no      no  \n",
       "13  no      no  \n",
       "19  no      no  \n",
       "29  no      no  \n",
       "31  no      no  "
      ]
     },
     "execution_count": 27,
     "metadata": {},
     "output_type": "execute_result"
    }
   ],
   "source": [
    "# Remove unnecessary columns\n",
    "df = df.drop('invited', 1)\n",
    "df = df.drop('invitee_count', 1)\n",
    "df = df.drop('inviter_id', 1)\n",
    "df = df.drop('lender_id', 1)\n",
    "df = df.drop('loan_because', 1)\n",
    "df = df.drop('member_since', 1)\n",
    "df = df.drop('occupational_info', 1)\n",
    "df = df.drop('uid', 1)\n",
    "df = df.drop('member_start', 1)\n",
    "df = df.drop('join_year', 1)\n",
    "df = df.drop('personal_url', 1)\n",
    "df = df.drop('loan_count', 1)\n",
    "df = df.drop('name', 1)\n",
    "df = df.drop('occupation', 1)\n",
    "df = df.drop('whereabouts', 1)\n",
    "df = df.drop('years_active', 1)\n",
    "df = df.drop('country_code', 1)\n",
    "\n",
    "df.head()"
   ]
  },
  {
   "cell_type": "markdown",
   "metadata": {},
   "source": [
    "# 3. Carry out linear regression\n",
    "* Create an object\n",
    "* Fit the model\n",
    "* Predict"
   ]
  },
  {
   "cell_type": "code",
   "execution_count": 28,
   "metadata": {
    "collapsed": false
   },
   "outputs": [],
   "source": [
    "# Set y and random variable X\n",
    "y, X = dmatrices('loans_year ~ invites_year + lending_reason + gender + region + tech_science', data=df, return_type='dataframe')"
   ]
  },
  {
   "cell_type": "code",
   "execution_count": 29,
   "metadata": {
    "collapsed": false
   },
   "outputs": [
    {
     "data": {
      "text/html": [
       "<div>\n",
       "<table border=\"1\" class=\"dataframe\">\n",
       "  <thead>\n",
       "    <tr style=\"text-align: right;\">\n",
       "      <th></th>\n",
       "      <th>loans_year</th>\n",
       "    </tr>\n",
       "  </thead>\n",
       "  <tbody>\n",
       "    <tr>\n",
       "      <th>1</th>\n",
       "      <td>0.000000</td>\n",
       "    </tr>\n",
       "    <tr>\n",
       "      <th>13</th>\n",
       "      <td>3.786497</td>\n",
       "    </tr>\n",
       "    <tr>\n",
       "      <th>19</th>\n",
       "      <td>4.012564</td>\n",
       "    </tr>\n",
       "    <tr>\n",
       "      <th>29</th>\n",
       "      <td>3.898339</td>\n",
       "    </tr>\n",
       "    <tr>\n",
       "      <th>31</th>\n",
       "      <td>0.000000</td>\n",
       "    </tr>\n",
       "  </tbody>\n",
       "</table>\n",
       "</div>"
      ],
      "text/plain": [
       "    loans_year\n",
       "1     0.000000\n",
       "13    3.786497\n",
       "19    4.012564\n",
       "29    3.898339\n",
       "31    0.000000"
      ]
     },
     "execution_count": 29,
     "metadata": {},
     "output_type": "execute_result"
    }
   ],
   "source": [
    "# See if y is represented correctly\n",
    "y.head()"
   ]
  },
  {
   "cell_type": "code",
   "execution_count": 30,
   "metadata": {
    "collapsed": false
   },
   "outputs": [
    {
     "data": {
      "text/html": [
       "<div>\n",
       "<table border=\"1\" class=\"dataframe\">\n",
       "  <thead>\n",
       "    <tr style=\"text-align: right;\">\n",
       "      <th></th>\n",
       "      <th>Intercept</th>\n",
       "      <th>gender[T.male]</th>\n",
       "      <th>region[T.US &amp; Canada]</th>\n",
       "      <th>tech_science[T.yes]</th>\n",
       "      <th>invites_year</th>\n",
       "      <th>lending_reason</th>\n",
       "    </tr>\n",
       "  </thead>\n",
       "  <tbody>\n",
       "    <tr>\n",
       "      <th>1</th>\n",
       "      <td>1.0</td>\n",
       "      <td>1.0</td>\n",
       "      <td>1.0</td>\n",
       "      <td>0.0</td>\n",
       "      <td>0.161558</td>\n",
       "      <td>0.0</td>\n",
       "    </tr>\n",
       "    <tr>\n",
       "      <th>13</th>\n",
       "      <td>1.0</td>\n",
       "      <td>1.0</td>\n",
       "      <td>1.0</td>\n",
       "      <td>0.0</td>\n",
       "      <td>0.000000</td>\n",
       "      <td>0.0</td>\n",
       "    </tr>\n",
       "    <tr>\n",
       "      <th>19</th>\n",
       "      <td>1.0</td>\n",
       "      <td>1.0</td>\n",
       "      <td>1.0</td>\n",
       "      <td>0.0</td>\n",
       "      <td>0.143306</td>\n",
       "      <td>0.0</td>\n",
       "    </tr>\n",
       "    <tr>\n",
       "      <th>29</th>\n",
       "      <td>1.0</td>\n",
       "      <td>1.0</td>\n",
       "      <td>1.0</td>\n",
       "      <td>1.0</td>\n",
       "      <td>0.000000</td>\n",
       "      <td>0.0</td>\n",
       "    </tr>\n",
       "    <tr>\n",
       "      <th>31</th>\n",
       "      <td>1.0</td>\n",
       "      <td>1.0</td>\n",
       "      <td>1.0</td>\n",
       "      <td>1.0</td>\n",
       "      <td>0.000000</td>\n",
       "      <td>67.0</td>\n",
       "    </tr>\n",
       "  </tbody>\n",
       "</table>\n",
       "</div>"
      ],
      "text/plain": [
       "    Intercept  gender[T.male]  region[T.US & Canada]  tech_science[T.yes]  \\\n",
       "1         1.0             1.0                    1.0                  0.0   \n",
       "13        1.0             1.0                    1.0                  0.0   \n",
       "19        1.0             1.0                    1.0                  0.0   \n",
       "29        1.0             1.0                    1.0                  1.0   \n",
       "31        1.0             1.0                    1.0                  1.0   \n",
       "\n",
       "    invites_year  lending_reason  \n",
       "1       0.161558             0.0  \n",
       "13      0.000000             0.0  \n",
       "19      0.143306             0.0  \n",
       "29      0.000000             0.0  \n",
       "31      0.000000            67.0  "
      ]
     },
     "execution_count": 30,
     "metadata": {},
     "output_type": "execute_result"
    }
   ],
   "source": [
    "# See if X is represented correctly\n",
    "X.head()"
   ]
  },
  {
   "cell_type": "code",
   "execution_count": 31,
   "metadata": {
    "collapsed": true
   },
   "outputs": [],
   "source": [
    "import statsmodels.api as sm"
   ]
  },
  {
   "cell_type": "code",
   "execution_count": 32,
   "metadata": {
    "collapsed": true
   },
   "outputs": [],
   "source": [
    "model = sm.OLS(y, X)\n",
    "results = model.fit()"
   ]
  },
  {
   "cell_type": "code",
   "execution_count": 33,
   "metadata": {
    "collapsed": false
   },
   "outputs": [
    {
     "name": "stdout",
     "output_type": "stream",
     "text": [
      "type of model: <class 'statsmodels.regression.linear_model.OLS'>\n",
      "type of results: <class 'statsmodels.regression.linear_model.RegressionResultsWrapper'>\n"
     ]
    }
   ],
   "source": [
    "print 'type of model:', type(model)\n",
    "print 'type of results:', type(results)"
   ]
  },
  {
   "cell_type": "code",
   "execution_count": 34,
   "metadata": {
    "collapsed": false
   },
   "outputs": [
    {
     "data": {
      "text/html": [
       "<table class=\"simpletable\">\n",
       "<caption>OLS Regression Results</caption>\n",
       "<tr>\n",
       "  <th>Dep. Variable:</th>       <td>loans_year</td>    <th>  R-squared:         </th> <td>   0.044</td> \n",
       "</tr>\n",
       "<tr>\n",
       "  <th>Model:</th>                   <td>OLS</td>       <th>  Adj. R-squared:    </th> <td>   0.043</td> \n",
       "</tr>\n",
       "<tr>\n",
       "  <th>Method:</th>             <td>Least Squares</td>  <th>  F-statistic:       </th> <td>   38.22</td> \n",
       "</tr>\n",
       "<tr>\n",
       "  <th>Date:</th>             <td>Fri, 15 Apr 2016</td> <th>  Prob (F-statistic):</th> <td>1.79e-38</td> \n",
       "</tr>\n",
       "<tr>\n",
       "  <th>Time:</th>                 <td>13:30:34</td>     <th>  Log-Likelihood:    </th> <td> -16363.</td> \n",
       "</tr>\n",
       "<tr>\n",
       "  <th>No. Observations:</th>      <td>  4189</td>      <th>  AIC:               </th> <td>3.274e+04</td>\n",
       "</tr>\n",
       "<tr>\n",
       "  <th>Df Residuals:</th>          <td>  4183</td>      <th>  BIC:               </th> <td>3.278e+04</td>\n",
       "</tr>\n",
       "<tr>\n",
       "  <th>Df Model:</th>              <td>     5</td>      <th>                     </th>     <td> </td>    \n",
       "</tr>\n",
       "<tr>\n",
       "  <th>Covariance Type:</th>      <td>nonrobust</td>    <th>                     </th>     <td> </td>    \n",
       "</tr>\n",
       "</table>\n",
       "<table class=\"simpletable\">\n",
       "<tr>\n",
       "            <td></td>               <th>coef</th>     <th>std err</th>      <th>t</th>      <th>P>|t|</th> <th>[95.0% Conf. Int.]</th> \n",
       "</tr>\n",
       "<tr>\n",
       "  <th>Intercept</th>             <td>    3.7440</td> <td>    0.537</td> <td>    6.967</td> <td> 0.000</td> <td>    2.690     4.798</td>\n",
       "</tr>\n",
       "<tr>\n",
       "  <th>gender[T.male]</th>        <td>    0.9342</td> <td>    0.435</td> <td>    2.146</td> <td> 0.032</td> <td>    0.081     1.788</td>\n",
       "</tr>\n",
       "<tr>\n",
       "  <th>region[T.US & Canada]</th> <td>   -2.1337</td> <td>    0.454</td> <td>   -4.702</td> <td> 0.000</td> <td>   -3.023    -1.244</td>\n",
       "</tr>\n",
       "<tr>\n",
       "  <th>tech_science[T.yes]</th>   <td>    1.1940</td> <td>    0.474</td> <td>    2.517</td> <td> 0.012</td> <td>    0.264     2.124</td>\n",
       "</tr>\n",
       "<tr>\n",
       "  <th>invites_year</th>          <td>    6.7211</td> <td>    0.616</td> <td>   10.918</td> <td> 0.000</td> <td>    5.514     7.928</td>\n",
       "</tr>\n",
       "<tr>\n",
       "  <th>lending_reason</th>        <td>    0.0106</td> <td>    0.002</td> <td>    4.552</td> <td> 0.000</td> <td>    0.006     0.015</td>\n",
       "</tr>\n",
       "</table>\n",
       "<table class=\"simpletable\">\n",
       "<tr>\n",
       "  <th>Omnibus:</th>       <td>7698.495</td> <th>  Durbin-Watson:     </th>   <td>   1.888</td>  \n",
       "</tr>\n",
       "<tr>\n",
       "  <th>Prob(Omnibus):</th>  <td> 0.000</td>  <th>  Jarque-Bera (JB):  </th> <td>13984841.750</td>\n",
       "</tr>\n",
       "<tr>\n",
       "  <th>Skew:</th>           <td>13.438</td>  <th>  Prob(JB):          </th>   <td>    0.00</td>  \n",
       "</tr>\n",
       "<tr>\n",
       "  <th>Kurtosis:</th>       <td>284.782</td> <th>  Cond. No.          </th>   <td>    323.</td>  \n",
       "</tr>\n",
       "</table>"
      ],
      "text/plain": [
       "<class 'statsmodels.iolib.summary.Summary'>\n",
       "\"\"\"\n",
       "                            OLS Regression Results                            \n",
       "==============================================================================\n",
       "Dep. Variable:             loans_year   R-squared:                       0.044\n",
       "Model:                            OLS   Adj. R-squared:                  0.043\n",
       "Method:                 Least Squares   F-statistic:                     38.22\n",
       "Date:                Fri, 15 Apr 2016   Prob (F-statistic):           1.79e-38\n",
       "Time:                        13:30:34   Log-Likelihood:                -16363.\n",
       "No. Observations:                4189   AIC:                         3.274e+04\n",
       "Df Residuals:                    4183   BIC:                         3.278e+04\n",
       "Df Model:                           5                                         \n",
       "Covariance Type:            nonrobust                                         \n",
       "=========================================================================================\n",
       "                            coef    std err          t      P>|t|      [95.0% Conf. Int.]\n",
       "-----------------------------------------------------------------------------------------\n",
       "Intercept                 3.7440      0.537      6.967      0.000         2.690     4.798\n",
       "gender[T.male]            0.9342      0.435      2.146      0.032         0.081     1.788\n",
       "region[T.US & Canada]    -2.1337      0.454     -4.702      0.000        -3.023    -1.244\n",
       "tech_science[T.yes]       1.1940      0.474      2.517      0.012         0.264     2.124\n",
       "invites_year              6.7211      0.616     10.918      0.000         5.514     7.928\n",
       "lending_reason            0.0106      0.002      4.552      0.000         0.006     0.015\n",
       "==============================================================================\n",
       "Omnibus:                     7698.495   Durbin-Watson:                   1.888\n",
       "Prob(Omnibus):                  0.000   Jarque-Bera (JB):         13984841.750\n",
       "Skew:                          13.438   Prob(JB):                         0.00\n",
       "Kurtosis:                     284.782   Cond. No.                         323.\n",
       "==============================================================================\n",
       "\n",
       "Warnings:\n",
       "[1] Standard Errors assume that the covariance matrix of the errors is correctly specified.\n",
       "\"\"\""
      ]
     },
     "execution_count": 34,
     "metadata": {},
     "output_type": "execute_result"
    }
   ],
   "source": [
    "results.summary()"
   ]
  },
  {
   "cell_type": "code",
   "execution_count": 35,
   "metadata": {
    "collapsed": true
   },
   "outputs": [],
   "source": [
    "import seaborn as sns\n",
    "from scipy import stats, integrate"
   ]
  },
  {
   "cell_type": "code",
   "execution_count": 36,
   "metadata": {
    "collapsed": false
   },
   "outputs": [],
   "source": [
    "x = df['loans_year']\n",
    "x_list = x.values.tolist()"
   ]
  },
  {
   "cell_type": "code",
   "execution_count": 37,
   "metadata": {
    "collapsed": false
   },
   "outputs": [
    {
     "data": {
      "image/png": "[encoded data removed]",
      "text/plain": [
       "<matplotlib.figure.Figure at 0x115bb5350>"
      ]
     },
     "metadata": {},
     "output_type": "display_data"
    }
   ],
   "source": [
    "#plt.hist(x_list)\n",
    "plt.title('Histogram')\n",
    "plt.xlabel('Loans / Year')\n",
    "plt.ylabel('Frequency')\n",
    "plt.hist(x_list, bins=200, color='#7570b3')\n",
    "plt.axis(xmin=0, xmax=100, ymin=0)\n",
    "plt.rc('font', size='800')\n",
    "plt.xticks(np.arange(min(x), max(x)+1, 25))\n",
    "plt.show()"
   ]
  },
  {
   "cell_type": "code",
   "execution_count": 38,
   "metadata": {
    "collapsed": false
   },
   "outputs": [
    {
     "data": {
      "image/png": "[encoded data removed]",
      "text/plain": [
       "<matplotlib.figure.Figure at 0x118c92310>"
      ]
     },
     "metadata": {},
     "output_type": "display_data"
    }
   ],
   "source": [
    "#plt.hist(x_list)\n",
    "plt.title('Histogram')\n",
    "plt.xlabel('Loans / Year')\n",
    "plt.ylabel('Frequency')\n",
    "plt.hist(x_list, bins=200, color='#7570b3')\n",
    "plt.axis(xmin=0, xmax=200, ymin=0)\n",
    "\n",
    "plt.rc('font', size='800')\n",
    "plt.show()"
   ]
  },
  {
   "cell_type": "code",
   "execution_count": 39,
   "metadata": {
    "collapsed": false
   },
   "outputs": [],
   "source": [
    "def summary_stats(df, groupby_col, dummy_col):\n",
    "    s_group = df.groupby(groupby_col).count()[dummy_col]\n",
    "    s_pct = s_group / (s_group.sum())\n",
    "    new_df = pd.DataFrame(pd.concat([s_group, s_pct], axis=1))\n",
    "    new_df.columns = ['count', 'share']\n",
    "    return new_df"
   ]
  },
  {
   "cell_type": "code",
   "execution_count": 40,
   "metadata": {
    "collapsed": false
   },
   "outputs": [
    {
     "data": {
      "text/html": [
       "<div>\n",
       "<table border=\"1\" class=\"dataframe\">\n",
       "  <thead>\n",
       "    <tr style=\"text-align: right;\">\n",
       "      <th></th>\n",
       "      <th>count</th>\n",
       "      <th>share</th>\n",
       "    </tr>\n",
       "    <tr>\n",
       "      <th>gender</th>\n",
       "      <th></th>\n",
       "      <th></th>\n",
       "    </tr>\n",
       "  </thead>\n",
       "  <tbody>\n",
       "    <tr>\n",
       "      <th>female</th>\n",
       "      <td>1018</td>\n",
       "      <td>0.243017</td>\n",
       "    </tr>\n",
       "    <tr>\n",
       "      <th>male</th>\n",
       "      <td>3171</td>\n",
       "      <td>0.756983</td>\n",
       "    </tr>\n",
       "  </tbody>\n",
       "</table>\n",
       "</div>"
      ],
      "text/plain": [
       "        count     share\n",
       "gender                 \n",
       "female   1018  0.243017\n",
       "male     3171  0.756983"
      ]
     },
     "execution_count": 40,
     "metadata": {},
     "output_type": "execute_result"
    }
   ],
   "source": [
    "df_gender_grp = summary_stats(df, 'gender', 'loans_year')\n",
    "df_gender_grp"
   ]
  },
  {
   "cell_type": "code",
   "execution_count": 41,
   "metadata": {
    "collapsed": false
   },
   "outputs": [
    {
     "data": {
      "text/html": [
       "<div>\n",
       "<table border=\"1\" class=\"dataframe\">\n",
       "  <thead>\n",
       "    <tr style=\"text-align: right;\">\n",
       "      <th></th>\n",
       "      <th>count</th>\n",
       "      <th>share</th>\n",
       "    </tr>\n",
       "    <tr>\n",
       "      <th>tech_science</th>\n",
       "      <th></th>\n",
       "      <th></th>\n",
       "    </tr>\n",
       "  </thead>\n",
       "  <tbody>\n",
       "    <tr>\n",
       "      <th>no</th>\n",
       "      <td>3383</td>\n",
       "      <td>0.807591</td>\n",
       "    </tr>\n",
       "    <tr>\n",
       "      <th>yes</th>\n",
       "      <td>806</td>\n",
       "      <td>0.192409</td>\n",
       "    </tr>\n",
       "  </tbody>\n",
       "</table>\n",
       "</div>"
      ],
      "text/plain": [
       "              count     share\n",
       "tech_science                 \n",
       "no             3383  0.807591\n",
       "yes             806  0.192409"
      ]
     },
     "execution_count": 41,
     "metadata": {},
     "output_type": "execute_result"
    }
   ],
   "source": [
    "df_tech_grp = summary_stats(df, 'tech_science', 'loans_year')\n",
    "df_tech_grp"
   ]
  },
  {
   "cell_type": "code",
   "execution_count": 42,
   "metadata": {
    "collapsed": false
   },
   "outputs": [
    {
     "data": {
      "text/html": [
       "<div>\n",
       "<table border=\"1\" class=\"dataframe\">\n",
       "  <thead>\n",
       "    <tr style=\"text-align: right;\">\n",
       "      <th></th>\n",
       "      <th>count</th>\n",
       "      <th>share</th>\n",
       "    </tr>\n",
       "    <tr>\n",
       "      <th>region</th>\n",
       "      <th></th>\n",
       "      <th></th>\n",
       "    </tr>\n",
       "  </thead>\n",
       "  <tbody>\n",
       "    <tr>\n",
       "      <th>Rest of World</th>\n",
       "      <td>902</td>\n",
       "      <td>0.215326</td>\n",
       "    </tr>\n",
       "    <tr>\n",
       "      <th>US &amp; Canada</th>\n",
       "      <td>3287</td>\n",
       "      <td>0.784674</td>\n",
       "    </tr>\n",
       "  </tbody>\n",
       "</table>\n",
       "</div>"
      ],
      "text/plain": [
       "               count     share\n",
       "region                        \n",
       "Rest of World    902  0.215326\n",
       "US & Canada     3287  0.784674"
      ]
     },
     "execution_count": 42,
     "metadata": {},
     "output_type": "execute_result"
    }
   ],
   "source": [
    "df_region_grp = summary_stats(df, 'region', 'loans_year')\n",
    "df_region_grp"
   ]
  },
  {
   "cell_type": "code",
   "execution_count": 43,
   "metadata": {
    "collapsed": false
   },
   "outputs": [
    {
     "data": {
      "text/plain": [
       "<matplotlib.axes._subplots.AxesSubplot at 0x118c263d0>"
      ]
     },
     "execution_count": 43,
     "metadata": {},
     "output_type": "execute_result"
    },
    {
     "data": {
      "image/png": "[encoded data removed]",
      "text/plain": [
       "<matplotlib.figure.Figure at 0x118e1d3d0>"
      ]
     },
     "metadata": {},
     "output_type": "display_data"
    }
   ],
   "source": [
    "sns.swarmplot(x=\"region\", y=\"loans_year\", hue=\"gender\", data=df.head(500))"
   ]
  },
  {
   "cell_type": "code",
   "execution_count": 44,
   "metadata": {
    "collapsed": false
   },
   "outputs": [
    {
     "data": {
      "text/plain": [
       "<seaborn.axisgrid.PairGrid at 0x118f91750>"
      ]
     },
     "execution_count": 44,
     "metadata": {},
     "output_type": "execute_result"
    },
    {
     "data": {
      "image/png": "[encoded data removed]",
      "text/plain": [
       "<matplotlib.figure.Figure at 0x1196c48d0>"
      ]
     },
     "metadata": {},
     "output_type": "display_data"
    }
   ],
   "source": [
    "sns.set()\n",
    "\n",
    "sns.pairplot(df.head(800), hue=\"gender\")"
   ]
  },
  {
   "cell_type": "code",
   "execution_count": 45,
   "metadata": {
    "collapsed": false
   },
   "outputs": [
    {
     "data": {
      "text/plain": [
       "3.9606229460925753"
      ]
     },
     "execution_count": 45,
     "metadata": {},
     "output_type": "execute_result"
    }
   ],
   "source": [
    "df['loans_year'].mean()"
   ]
  },
  {
   "cell_type": "code",
   "execution_count": 46,
   "metadata": {
    "collapsed": false
   },
   "outputs": [
    {
     "data": {
      "text/plain": [
       "12.299843131619287"
      ]
     },
     "execution_count": 46,
     "metadata": {},
     "output_type": "execute_result"
    }
   ],
   "source": [
    "df['loans_year'].std()"
   ]
  },
  {
   "cell_type": "code",
   "execution_count": null,
   "metadata": {
    "collapsed": true
   },
   "outputs": [],
   "source": []
  }
 ],
 "metadata": {
  "kernelspec": {
   "display_name": "Python 2",
   "language": "python",
   "name": "python2"
  },
  "language_info": {
   "codemirror_mode": {
    "name": "ipython",
    "version": 2
   },
   "file_extension": ".py",
   "mimetype": "text/x-python",
   "name": "python",
   "nbconvert_exporter": "python",
   "pygments_lexer": "ipython2",
   "version": "2.7.11"
  }
 },
 "nbformat": 4,
 "nbformat_minor": 0
}
