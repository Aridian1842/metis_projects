{
 "cells": [
  {
   "cell_type": "code",
   "execution_count": 1,
   "metadata": {
    "collapsed": false
   },
   "outputs": [],
   "source": [
    "import os\n",
    "import geopandas as gpd\n",
    "from geopandas import GeoSeries\n",
    "import pandas as pd\n",
    "import pickle\n",
    "from fiona import collection"
   ]
  },
  {
   "cell_type": "code",
   "execution_count": 2,
   "metadata": {
    "collapsed": false
   },
   "outputs": [],
   "source": [
    "directory = 'analysis'\n",
    "if not os.path.exists(directory):\n",
    "    os.makedirs(directory)"
   ]
  },
  {
   "cell_type": "code",
   "execution_count": 3,
   "metadata": {
    "collapsed": false
   },
   "outputs": [],
   "source": [
    "directory = 'analysis/use_and_income'\n",
    "if not os.path.exists(directory):\n",
    "    os.makedirs(directory)"
   ]
  },
  {
   "cell_type": "code",
   "execution_count": 4,
   "metadata": {
    "collapsed": false
   },
   "outputs": [
    {
     "data": {
      "text/html": [
       "<div>\n",
       "<table border=\"1\" class=\"dataframe\">\n",
       "  <thead>\n",
       "    <tr style=\"text-align: right;\">\n",
       "      <th></th>\n",
       "      <th>state_puma</th>\n",
       "      <th>inc_percap</th>\n",
       "      <th>WGTP</th>\n",
       "      <th>price</th>\n",
       "      <th>w_use_percap</th>\n",
       "    </tr>\n",
       "  </thead>\n",
       "  <tbody>\n",
       "    <tr>\n",
       "      <th>0</th>\n",
       "      <td>1-1302</td>\n",
       "      <td>8850.0</td>\n",
       "      <td>121</td>\n",
       "      <td>0.007806</td>\n",
       "      <td>3843.115486</td>\n",
       "    </tr>\n",
       "    <tr>\n",
       "      <th>209</th>\n",
       "      <td>1-1302</td>\n",
       "      <td>36000.0</td>\n",
       "      <td>169</td>\n",
       "      <td>0.007806</td>\n",
       "      <td>96077.887141</td>\n",
       "    </tr>\n",
       "    <tr>\n",
       "      <th>208</th>\n",
       "      <td>1-1302</td>\n",
       "      <td>800.0</td>\n",
       "      <td>229</td>\n",
       "      <td>0.007806</td>\n",
       "      <td>23058.692914</td>\n",
       "    </tr>\n",
       "  </tbody>\n",
       "</table>\n",
       "</div>"
      ],
      "text/plain": [
       "    state_puma  inc_percap  WGTP     price  w_use_percap\n",
       "0       1-1302      8850.0   121  0.007806   3843.115486\n",
       "209     1-1302     36000.0   169  0.007806  96077.887141\n",
       "208     1-1302       800.0   229  0.007806  23058.692914"
      ]
     },
     "execution_count": 4,
     "metadata": {},
     "output_type": "execute_result"
    }
   ],
   "source": [
    "# import merged puma pums data\n",
    "df_pp = pd.read_pickle('data/puma_pums/merged.pickle')\n",
    "df_pp.sort_values(by='state_puma', inplace=True)\n",
    "\n",
    "df_pp_nogeo = df_pp.copy()\n",
    "df_pp_nogeo.drop('geometry', axis=1, inplace=True)\n",
    "df_pp_nogeo.head(3)"
   ]
  },
  {
   "cell_type": "code",
   "execution_count": 5,
   "metadata": {
    "collapsed": false
   },
   "outputs": [
    {
     "data": {
      "text/html": [
       "<div>\n",
       "<table border=\"1\" class=\"dataframe\">\n",
       "  <thead>\n",
       "    <tr style=\"text-align: right;\">\n",
       "      <th></th>\n",
       "      <th>state_puma</th>\n",
       "      <th>WGTP</th>\n",
       "      <th>inc_percap_wt</th>\n",
       "      <th>w_use_percap_wt</th>\n",
       "    </tr>\n",
       "  </thead>\n",
       "  <tbody>\n",
       "    <tr>\n",
       "      <th>0</th>\n",
       "      <td>1-1302</td>\n",
       "      <td>121</td>\n",
       "      <td>1070850.0</td>\n",
       "      <td>4.650170e+05</td>\n",
       "    </tr>\n",
       "    <tr>\n",
       "      <th>209</th>\n",
       "      <td>1-1302</td>\n",
       "      <td>169</td>\n",
       "      <td>6084000.0</td>\n",
       "      <td>1.623716e+07</td>\n",
       "    </tr>\n",
       "    <tr>\n",
       "      <th>208</th>\n",
       "      <td>1-1302</td>\n",
       "      <td>229</td>\n",
       "      <td>183200.0</td>\n",
       "      <td>5.280441e+06</td>\n",
       "    </tr>\n",
       "  </tbody>\n",
       "</table>\n",
       "</div>"
      ],
      "text/plain": [
       "    state_puma  WGTP  inc_percap_wt  w_use_percap_wt\n",
       "0       1-1302   121      1070850.0     4.650170e+05\n",
       "209     1-1302   169      6084000.0     1.623716e+07\n",
       "208     1-1302   229       183200.0     5.280441e+06"
      ]
     },
     "execution_count": 5,
     "metadata": {},
     "output_type": "execute_result"
    }
   ],
   "source": [
    "# get weighted per capita income and water usage\n",
    "df_pp_nogeo['inc_percap_wt'] = df_pp_nogeo['inc_percap'] * df_pp_nogeo['WGTP']\n",
    "df_pp_nogeo['w_use_percap_wt'] = df_pp_nogeo['w_use_percap'] * df_pp_nogeo['WGTP']\n",
    "df_pp_nogeo.drop(['price', 'inc_percap', 'w_use_percap'], axis=1, inplace=True)\n",
    "df_pp_nogeo.head(3)"
   ]
  },
  {
   "cell_type": "code",
   "execution_count": 6,
   "metadata": {
    "collapsed": false
   },
   "outputs": [
    {
     "data": {
      "text/plain": [
       "<pandas.core.groupby.DataFrameGroupBy object at 0x1118f7fd0>"
      ]
     },
     "execution_count": 6,
     "metadata": {},
     "output_type": "execute_result"
    }
   ],
   "source": [
    "# group by state_puma\n",
    "gp_pp_nogeo = df_pp_nogeo.groupby(by='state_puma')\n",
    "gp_pp_nogeo"
   ]
  },
  {
   "cell_type": "code",
   "execution_count": 7,
   "metadata": {
    "collapsed": false
   },
   "outputs": [
    {
     "data": {
      "text/html": [
       "<div>\n",
       "<table border=\"1\" class=\"dataframe\">\n",
       "  <thead>\n",
       "    <tr style=\"text-align: right;\">\n",
       "      <th></th>\n",
       "      <th>WGTP</th>\n",
       "      <th>inc_percap_wt</th>\n",
       "      <th>w_use_percap_wt</th>\n",
       "      <th>inc_avg</th>\n",
       "      <th>w_use_avg</th>\n",
       "    </tr>\n",
       "    <tr>\n",
       "      <th>state_puma</th>\n",
       "      <th></th>\n",
       "      <th></th>\n",
       "      <th></th>\n",
       "      <th></th>\n",
       "      <th></th>\n",
       "    </tr>\n",
       "  </thead>\n",
       "  <tbody>\n",
       "    <tr>\n",
       "      <th>1-1302</th>\n",
       "      <td>29541</td>\n",
       "      <td>8.372530e+08</td>\n",
       "      <td>1.583425e+09</td>\n",
       "      <td>28342.068364</td>\n",
       "      <td>53600.912649</td>\n",
       "    </tr>\n",
       "    <tr>\n",
       "      <th>1-1600</th>\n",
       "      <td>35144</td>\n",
       "      <td>1.076107e+09</td>\n",
       "      <td>2.010141e+09</td>\n",
       "      <td>30619.928816</td>\n",
       "      <td>57197.264959</td>\n",
       "    </tr>\n",
       "    <tr>\n",
       "      <th>1-200</th>\n",
       "      <td>58542</td>\n",
       "      <td>2.131697e+09</td>\n",
       "      <td>2.164087e+09</td>\n",
       "      <td>36413.117761</td>\n",
       "      <td>36966.402513</td>\n",
       "    </tr>\n",
       "  </tbody>\n",
       "</table>\n",
       "</div>"
      ],
      "text/plain": [
       "             WGTP  inc_percap_wt  w_use_percap_wt       inc_avg     w_use_avg\n",
       "state_puma                                                                   \n",
       "1-1302      29541   8.372530e+08     1.583425e+09  28342.068364  53600.912649\n",
       "1-1600      35144   1.076107e+09     2.010141e+09  30619.928816  57197.264959\n",
       "1-200       58542   2.131697e+09     2.164087e+09  36413.117761  36966.402513"
      ]
     },
     "execution_count": 7,
     "metadata": {},
     "output_type": "execute_result"
    }
   ],
   "source": [
    "# sum products\n",
    "gp_pp_nogeo_wt = gp_pp_nogeo.sum()\n",
    "gp_pp_nogeo_wt['inc_avg'] = gp_pp_nogeo_wt['inc_percap_wt'] / gp_pp_nogeo_wt['WGTP']\n",
    "gp_pp_nogeo_wt['w_use_avg'] = gp_pp_nogeo_wt['w_use_percap_wt'] / gp_pp_nogeo_wt['WGTP']\n",
    "\n",
    "gp_pp_nogeo_wt.head(3)"
   ]
  },
  {
   "cell_type": "code",
   "execution_count": 8,
   "metadata": {
    "collapsed": false
   },
   "outputs": [
    {
     "data": {
      "text/html": [
       "<div>\n",
       "<table border=\"1\" class=\"dataframe\">\n",
       "  <thead>\n",
       "    <tr style=\"text-align: right;\">\n",
       "      <th></th>\n",
       "      <th>inc_avg</th>\n",
       "      <th>w_use_avg</th>\n",
       "      <th>state_puma</th>\n",
       "      <th>geometry</th>\n",
       "      <th>price</th>\n",
       "    </tr>\n",
       "  </thead>\n",
       "  <tbody>\n",
       "    <tr>\n",
       "      <th>0</th>\n",
       "      <td>28342.068364</td>\n",
       "      <td>53600.912649</td>\n",
       "      <td>1-1302</td>\n",
       "      <td>POLYGON ((-86.85779499999998 33.53612699999999...</td>\n",
       "      <td>0.007806</td>\n",
       "    </tr>\n",
       "    <tr>\n",
       "      <th>308</th>\n",
       "      <td>30619.928816</td>\n",
       "      <td>57197.264959</td>\n",
       "      <td>1-1600</td>\n",
       "      <td>POLYGON ((-87.61014299999998 33.18157999999999...</td>\n",
       "      <td>0.004520</td>\n",
       "    </tr>\n",
       "    <tr>\n",
       "      <th>601</th>\n",
       "      <td>36413.117761</td>\n",
       "      <td>36966.402513</td>\n",
       "      <td>1-200</td>\n",
       "      <td>POLYGON ((-87.27848299999998 34.77764699999999...</td>\n",
       "      <td>0.005125</td>\n",
       "    </tr>\n",
       "  </tbody>\n",
       "</table>\n",
       "</div>"
      ],
      "text/plain": [
       "          inc_avg     w_use_avg state_puma  \\\n",
       "0    28342.068364  53600.912649     1-1302   \n",
       "308  30619.928816  57197.264959     1-1600   \n",
       "601  36413.117761  36966.402513      1-200   \n",
       "\n",
       "                                              geometry     price  \n",
       "0    POLYGON ((-86.85779499999998 33.53612699999999...  0.007806  \n",
       "308  POLYGON ((-87.61014299999998 33.18157999999999...  0.004520  \n",
       "601  POLYGON ((-87.27848299999998 34.77764699999999...  0.005125  "
      ]
     },
     "execution_count": 8,
     "metadata": {},
     "output_type": "execute_result"
    }
   ],
   "source": [
    "# join non geo dataframe back with geoframe col\n",
    "df_pp_avg = gp_pp_nogeo_wt.merge(df_pp, left_index=True, right_on='state_puma')\n",
    "df_pp_avg.reset_index(inplace=True)\n",
    "df_pp_avg.drop(['index','WGTP_x', 'inc_percap_wt', 'w_use_percap_wt', 'inc_percap', 'WGTP_y', 'w_use_percap'], axis=1, inplace=True)\n",
    "df_pp_avg.drop_duplicates(subset = 'state_puma', inplace=True)\n",
    "df_pp_avg.head(3)"
   ]
  },
  {
   "cell_type": "code",
   "execution_count": 9,
   "metadata": {
    "collapsed": false
   },
   "outputs": [],
   "source": [
    "# export as shapefile\n",
    "gdf_pp_avg = gpd.GeoDataFrame(df_pp_avg)\n",
    "gdf_pp_avg.to_file('analysis/use_and_income/use_and_income.shp')"
   ]
  }
 ],
 "metadata": {
  "kernelspec": {
   "display_name": "Python 2",
   "language": "python",
   "name": "python2"
  },
  "language_info": {
   "codemirror_mode": {
    "name": "ipython",
    "version": 2
   },
   "file_extension": ".py",
   "mimetype": "text/x-python",
   "name": "python",
   "nbconvert_exporter": "python",
   "pygments_lexer": "ipython2",
   "version": "2.7.11"
  }
 },
 "nbformat": 4,
 "nbformat_minor": 0
}
