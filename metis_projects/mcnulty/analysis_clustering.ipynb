{
 "cells": [
  {
   "cell_type": "code",
   "execution_count": 1,
   "metadata": {
    "collapsed": false
   },
   "outputs": [],
   "source": [
    "import os\n",
    "import pandas as pd\n",
    "import csv\n",
    "import json\n",
    "import numpy as np\n",
    "import re\n",
    "import bisect"
   ]
  },
  {
   "cell_type": "code",
   "execution_count": 2,
   "metadata": {
    "collapsed": true
   },
   "outputs": [],
   "source": [
    "directory = 'analysis'\n",
    "if not os.path.exists(directory):\n",
    "    os.makedirs(directory)"
   ]
  },
  {
   "cell_type": "code",
   "execution_count": 3,
   "metadata": {
    "collapsed": false
   },
   "outputs": [
    {
     "data": {
      "text/html": [
       "<div>\n",
       "<table border=\"1\" class=\"dataframe\">\n",
       "  <thead>\n",
       "    <tr style=\"text-align: right;\">\n",
       "      <th></th>\n",
       "      <th>state_puma</th>\n",
       "      <th>inc_percap</th>\n",
       "      <th>WGTP</th>\n",
       "      <th>geometry</th>\n",
       "      <th>price</th>\n",
       "      <th>w_use_percap</th>\n",
       "    </tr>\n",
       "  </thead>\n",
       "  <tbody>\n",
       "    <tr>\n",
       "      <th>0</th>\n",
       "      <td>1-1302</td>\n",
       "      <td>8850.000000</td>\n",
       "      <td>121</td>\n",
       "      <td>POLYGON ((-86.85779499999998 33.53612699999999...</td>\n",
       "      <td>0.007806</td>\n",
       "      <td>3843.115486</td>\n",
       "    </tr>\n",
       "    <tr>\n",
       "      <th>1</th>\n",
       "      <td>1-1302</td>\n",
       "      <td>9100.000000</td>\n",
       "      <td>62</td>\n",
       "      <td>POLYGON ((-86.85779499999998 33.53612699999999...</td>\n",
       "      <td>0.007806</td>\n",
       "      <td>89672.694664</td>\n",
       "    </tr>\n",
       "    <tr>\n",
       "      <th>2</th>\n",
       "      <td>1-1302</td>\n",
       "      <td>31933.333333</td>\n",
       "      <td>59</td>\n",
       "      <td>POLYGON ((-86.85779499999998 33.53612699999999...</td>\n",
       "      <td>0.007806</td>\n",
       "      <td>38431.154856</td>\n",
       "    </tr>\n",
       "  </tbody>\n",
       "</table>\n",
       "</div>"
      ],
      "text/plain": [
       "  state_puma    inc_percap  WGTP  \\\n",
       "0     1-1302   8850.000000   121   \n",
       "1     1-1302   9100.000000    62   \n",
       "2     1-1302  31933.333333    59   \n",
       "\n",
       "                                            geometry     price  w_use_percap  \n",
       "0  POLYGON ((-86.85779499999998 33.53612699999999...  0.007806   3843.115486  \n",
       "1  POLYGON ((-86.85779499999998 33.53612699999999...  0.007806  89672.694664  \n",
       "2  POLYGON ((-86.85779499999998 33.53612699999999...  0.007806  38431.154856  "
      ]
     },
     "execution_count": 3,
     "metadata": {},
     "output_type": "execute_result"
    }
   ],
   "source": [
    "# import pums-lite\n",
    "df = pd.read_pickle('data/puma_pums/merged.pickle')\n",
    "df.head(3)"
   ]
  },
  {
   "cell_type": "code",
   "execution_count": 4,
   "metadata": {
    "collapsed": false
   },
   "outputs": [
    {
     "data": {
      "text/plain": [
       "list"
      ]
     },
     "execution_count": 4,
     "metadata": {},
     "output_type": "execute_result"
    }
   ],
   "source": [
    "def get_usage(dataframe, col_wt, col_val):\n",
    "    usage = []\n",
    "    df_subset = df[[col_wt, col_val]]\n",
    "    tuples = df_subset.values.tolist()\n",
    "    for a_tuple in tuples:\n",
    "        for weight in range(int(a_tuple[0])):\n",
    "            usage.append(int(a_tuple[1]))\n",
    "    return usage\n",
    "water_usage = get_usage(df, 'WGTP', 'w_use_percap')\n",
    "type(water_usage)"
   ]
  },
  {
   "cell_type": "code",
   "execution_count": 5,
   "metadata": {
    "collapsed": false
   },
   "outputs": [
    {
     "data": {
      "text/plain": [
       "list"
      ]
     },
     "execution_count": 5,
     "metadata": {},
     "output_type": "execute_result"
    }
   ],
   "source": [
    "water_usage_slice = np.random.choice(water_usage, 100000)\n",
    "water_usage_slice = water_usage_slice.tolist()\n",
    "type(water_usage_slice)"
   ]
  },
  {
   "cell_type": "code",
   "execution_count": 6,
   "metadata": {
    "collapsed": false
   },
   "outputs": [],
   "source": [
    "with open('analysis/js/nums.json', 'w') as outfile:\n",
    "    json.dump({'numbers':water_usage_slice}, outfile, indent=0)"
   ]
  },
  {
   "cell_type": "code",
   "execution_count": 7,
   "metadata": {
    "collapsed": false
   },
   "outputs": [
    {
     "data": {
      "text/plain": [
       "'[18, 88349, 589738]\\n'"
      ]
     },
     "execution_count": 7,
     "metadata": {},
     "output_type": "execute_result"
    }
   ],
   "source": [
    "# computed jenks breaks in javascript\n",
    "# read in outputs\n",
    "with open('analysis/js/breaks', 'r') as f:\n",
    "    breaks = f.readlines()\n",
    "breaks[0]"
   ]
  },
  {
   "cell_type": "code",
   "execution_count": 8,
   "metadata": {
    "collapsed": false
   },
   "outputs": [
    {
     "data": {
      "text/plain": [
       "18"
      ]
     },
     "execution_count": 8,
     "metadata": {},
     "output_type": "execute_result"
    }
   ],
   "source": [
    "def clean_and_split(string_list):\n",
    "    num_list = []\n",
    "    for string in string_list:\n",
    "        string = string.replace('\\n', '')\n",
    "        string = re.sub(r'[^\\w]', ' ', string)\n",
    "        strings = re.sub(' +',' ', string).strip().split()\n",
    "        nums = map(int, strings)\n",
    "        num_list.append(nums)\n",
    "    return num_list\n",
    "\n",
    "lower_bounds = clean_and_split(breaks)\n",
    "len(lower_bounds)"
   ]
  },
  {
   "cell_type": "code",
   "execution_count": 9,
   "metadata": {
    "collapsed": false
   },
   "outputs": [
    {
     "data": {
      "text/plain": [
       "[201, 245, 325, 327, 335]"
      ]
     },
     "execution_count": 9,
     "metadata": {},
     "output_type": "execute_result"
    }
   ],
   "source": [
    "# sort sample list to use bisection algorithms\n",
    "# see http://www.ehdp.com/vitalnet/breaks-1-prn.htm\n",
    "sample = sorted(np.random.choice(water_usage,10000).tolist())\n",
    "sample[:5]"
   ]
  },
  {
   "cell_type": "code",
   "execution_count": 10,
   "metadata": {
    "collapsed": false
   },
   "outputs": [
    {
     "name": "stdout",
     "output_type": "stream",
     "text": [
      "input x ranges from 0 to 5\n",
      "indices range from 0 to 7\n",
      "tested x ranges from 0 to 5\n",
      "new sliced list is [0, 1, 2, 3, 4.1, 4.2, 4.3]\n"
     ]
    }
   ],
   "source": [
    "# define bounding functions\n",
    "def find_lb_idx(a, x):\n",
    "    'Find index corresponding to leftmost value greater than x'\n",
    "    i = bisect.bisect_left(a, x)\n",
    "    if i != len(a):\n",
    "        return i\n",
    "    else:\n",
    "        return 0\n",
    "\n",
    "def find_ub_idx(a, x):\n",
    "    'Find index corresponding to rightmost value less than or equal to x'\n",
    "    i = bisect.bisect_right(a, x)\n",
    "    if i:\n",
    "        return i-1\n",
    "    else:\n",
    "        return 0\n",
    "\n",
    "# test bounding functions\n",
    "lb_in = 0\n",
    "ub_in = 5\n",
    "a_list = [0, 1, 2, 3, 4.1, 4.2, 4.3, 5, 5.7, 6, 7, 8, 9, 10]\n",
    "lb_idx = find_lb_idx(a_list,lb_in) # index of lower bound\n",
    "ub_idx = find_ub_idx(a_list,ub_in) # index of higher bound\n",
    "lb = a_list[lb_idx]\n",
    "ub = a_list[ub_idx]\n",
    "a_slice = a_list[lb_idx:ub_idx]\n",
    "\n",
    "# print bounding outputs\n",
    "print 'input x ranges from %s to %s' % (lb_in, ub_in)\n",
    "print 'indices range from %s to %s' % (lb_idx, ub_idx)\n",
    "print 'tested x ranges from %s to %s' % (lb, ub)\n",
    "print 'new sliced list is %s'         % a_slice"
   ]
  },
  {
   "cell_type": "code",
   "execution_count": 11,
   "metadata": {
    "collapsed": false
   },
   "outputs": [
    {
     "name": "stdout",
     "output_type": "stream",
     "text": [
      "zipped lower & upper bounds [[(18, 88349), (88349, 589738), (589738, inf)], [(18, 42459), (42459, 130605), (130605, 589738), (589738, inf)]]\n"
     ]
    }
   ],
   "source": [
    "# function to build nice list of upper bounds\n",
    "def get_upper_bounds(lower_bounds):\n",
    "    upper_bounds = []\n",
    "    for row in lower_bounds:\n",
    "        upper_bounds_row = []\n",
    "        for idx, val in enumerate(row):\n",
    "            if idx < (len(row)-1):\n",
    "                upper_bounds_row.append(row[idx+1])\n",
    "            else:\n",
    "                upper_bounds_row.append(float('inf'))\n",
    "        upper_bounds.append(upper_bounds_row)\n",
    "    return upper_bounds\n",
    "\n",
    "upper_bounds = get_upper_bounds(lower_bounds)\n",
    "zipped_bounds = zip(lower_bounds, upper_bounds)\n",
    "bounds = []\n",
    "for row in zipped_bounds:\n",
    "    bounds.append(zip(row[0], row[1]))\n",
    "\n",
    "print 'zipped lower & upper bounds %s' % bounds[:2]"
   ]
  },
  {
   "cell_type": "code",
   "execution_count": 12,
   "metadata": {
    "collapsed": false
   },
   "outputs": [
    {
     "data": {
      "text/plain": [
       "[[(0, 7931), (7932, 9979), (9980, 9999)],\n",
       " [(0, 5026), (5027, 8957), (8957, 9979), (9980, 9999)]]"
      ]
     },
     "execution_count": 12,
     "metadata": {},
     "output_type": "execute_result"
    }
   ],
   "source": [
    "# build function to get slices of data list\n",
    "def get_indices(data, bounds):\n",
    "    indices = []\n",
    "    for li in bounds:\n",
    "        temp = []\n",
    "        for tu in li:\n",
    "            index_tuple = (find_lb_idx(sample, tu[0]), find_ub_idx(sample, tu[1]))\n",
    "            temp.append(index_tuple)\n",
    "        indices.append(temp)\n",
    "    return indices\n",
    "indices = get_indices(sample, bounds)\n",
    "indices[:2]"
   ]
  },
  {
   "cell_type": "code",
   "execution_count": 13,
   "metadata": {
    "collapsed": false
   },
   "outputs": [
    {
     "data": {
      "text/plain": [
       "[201, 245, 325, 327, 335, 391, 462, 463, 464, 485]"
      ]
     },
     "execution_count": 13,
     "metadata": {},
     "output_type": "execute_result"
    }
   ],
   "source": [
    "# build function to get data binned into lists\n",
    "def bin_data(data, indices):\n",
    "    sample_list=[]\n",
    "    for li in indices:\n",
    "        temp_list = []\n",
    "        for tu in li:\n",
    "            lower = tu[0]\n",
    "            upper = tu[1]\n",
    "            temp  = sample[tu[0]:tu[1]]\n",
    "            temp_list.append(temp)\n",
    "        sample_list.append(temp_list)\n",
    "    return sample_list\n",
    "\n",
    "sample_list = bin_data(sample, indices)\n",
    "\n",
    "sample_list[0][0][:10]"
   ]
  },
  {
   "cell_type": "code",
   "execution_count": 14,
   "metadata": {
    "collapsed": true
   },
   "outputs": [],
   "source": [
    "# compute global stats\n",
    "samp_mean = np.mean(sample)\n",
    "sdam = np.sum((sample[:]-samp_mean)**2)"
   ]
  },
  {
   "cell_type": "code",
   "execution_count": 15,
   "metadata": {
    "collapsed": false
   },
   "outputs": [
    {
     "data": {
      "text/plain": [
       "2.0"
      ]
     },
     "execution_count": 15,
     "metadata": {},
     "output_type": "execute_result"
    }
   ],
   "source": [
    "np.sum(np.subtract([1,2,3], np.mean([1,2,3]))**2)"
   ]
  },
  {
   "cell_type": "code",
   "execution_count": 16,
   "metadata": {
    "collapsed": false,
    "scrolled": true
   },
   "outputs": [
    {
     "data": {
      "text/plain": [
       "array([ 0.6958851 ,  0.82400687,  0.89156585,  0.91747381,  0.92753122,\n",
       "        0.94838306,  0.95355712,  0.95606449,  0.95861116,  0.96035283,\n",
       "        0.96123053,  0.9621615 ,  0.96275417,  0.96331449,  0.96365511,\n",
       "        0.96398704,  0.97448984,  0.97473725])"
      ]
     },
     "execution_count": 16,
     "metadata": {},
     "output_type": "execute_result"
    }
   ],
   "source": [
    "# compute class stats\n",
    "\n",
    "# compute cluster means\n",
    "\n",
    "def sse(data):\n",
    "    return np.sum((np.subtract(data, np.mean(data))**2))  \n",
    "\n",
    "def calc_scdm(sample_list):\n",
    "    foo = []\n",
    "    for li in sample_list:\n",
    "        bar = []\n",
    "        for cluster in li:\n",
    "            bar.append(sse(cluster))\n",
    "            baz = np.sum(bar)\n",
    "        foo.append(baz)\n",
    "    return foo\n",
    "\n",
    "def calc_gvf(sdam, scdm):\n",
    "    return (sdam-scdm)/sdam\n",
    "\n",
    "scdm = calc_scdm(sample_list)\n",
    "gvf = np.divide((np.subtract(sdam, scdm)),sdam)\n",
    "gvf\n",
    "#def calc_cluster_\n",
    "#list_sdcm = np.sum((data[:]-mean)**2)\n",
    "\n",
    "#cluster_means = calc_cluster_means(sample_list)\n",
    "#cluster_means"
   ]
  },
  {
   "cell_type": "code",
   "execution_count": 17,
   "metadata": {
    "collapsed": false
   },
   "outputs": [
    {
     "data": {
      "text/plain": [
       "[(18, 29527), (29527, 89073), (89073, 175182), (175182, 589738), (589738, inf)]"
      ]
     },
     "execution_count": 17,
     "metadata": {},
     "output_type": "execute_result"
    }
   ],
   "source": [
    "# select quintiles, which has gvf ~0.9\n",
    "jenks5 = bounds[2]\n",
    "jenks5"
   ]
  },
  {
   "cell_type": "code",
   "execution_count": 18,
   "metadata": {
    "collapsed": false
   },
   "outputs": [
    {
     "data": {
      "text/plain": [
       "[(201.0, 12694.600000000002),\n",
       " (12694.600000000002, 32195.0),\n",
       " (32195.0, 54390.999999999985),\n",
       " (54390.999999999985, 91114.600000000006),\n",
       " (91114.600000000006, inf)]"
      ]
     },
     "execution_count": 18,
     "metadata": {},
     "output_type": "execute_result"
    }
   ],
   "source": [
    "# calculate quintiles\n",
    "quintile_lb = np.percentile(sample, [0, 20, 40, 60, 80])\n",
    "quintile_ub = np.percentile(sample, [20, 40, 60, 80])\n",
    "quintile_ub = np.append(quintile_ub, float('inf'))\n",
    "quintile = zip(quintile_lb, quintile_ub)\n",
    "quintile"
   ]
  },
  {
   "cell_type": "code",
   "execution_count": 19,
   "metadata": {
    "collapsed": false
   },
   "outputs": [
    {
     "data": {
      "text/plain": [
       "[(201, 251116.0),\n",
       " (251116, 502031.0),\n",
       " (502031, 752946.0),\n",
       " (752946, 1003861.0),\n",
       " (1003861, 1254776.0),\n",
       " (1254776, inf)]"
      ]
     },
     "execution_count": 19,
     "metadata": {},
     "output_type": "execute_result"
    }
   ],
   "source": [
    "# calculate equal interval\n",
    "minimum = min(sample)\n",
    "maximum = max(sample)\n",
    "difference = maximum - minimum\n",
    "step = difference/5\n",
    "lb = np.arange(minimum, maximum, step)\n",
    "ub = np.append(lb[1:], float('inf'))\n",
    "equal_interval = zip(lb, ub)\n",
    "equal_interval"
   ]
  }
 ],
 "metadata": {
  "kernelspec": {
   "display_name": "Python 2",
   "language": "python",
   "name": "python2"
  },
  "language_info": {
   "codemirror_mode": {
    "name": "ipython",
    "version": 2
   },
   "file_extension": ".py",
   "mimetype": "text/x-python",
   "name": "python",
   "nbconvert_exporter": "python",
   "pygments_lexer": "ipython2",
   "version": "2.7.11"
  }
 },
 "nbformat": 4,
 "nbformat_minor": 0
}
