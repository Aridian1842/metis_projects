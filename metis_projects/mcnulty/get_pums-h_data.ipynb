{
 "cells": [
  {
   "cell_type": "code",
   "execution_count": 22,
   "metadata": {
    "collapsed": false
   },
   "outputs": [],
   "source": [
    "import csv\n",
    "import urllib\n",
    "import urllib2\n",
    "import os\n",
    "import pandas as pd\n",
    "import zipfile\n",
    "import fnmatch\n",
    "import shutil\n",
    "import glob"
   ]
  },
  {
   "cell_type": "code",
   "execution_count": 23,
   "metadata": {
    "collapsed": false
   },
   "outputs": [
    {
     "data": {
      "text/plain": [
       "[['01', 'AL', 'Alabama', '01779775'],\n",
       " ['02', 'AK', 'Alaska', '01785533'],\n",
       " ['04', 'AZ', 'Arizona', '01779777']]"
      ]
     },
     "execution_count": 23,
     "metadata": {},
     "output_type": "execute_result"
    }
   ],
   "source": [
    "states_url = 'http://www2.census.gov/geo/docs/reference/state.txt'\n",
    "response = urllib2.urlopen(states_url)\n",
    "cr = csv.reader(response)\n",
    "\n",
    "states_list_1 = []\n",
    "for row in cr:\n",
    "    states_list_1.append(row)\n",
    "states_list_1.pop(0)\n",
    "\n",
    "states_list_2 = []\n",
    "for element in states_list_1:\n",
    "    for string in element:\n",
    "        split_string = string.split(\"|\")\n",
    "        states_list_2.append(split_string)\n",
    "\n",
    "states_list_2[:3]"
   ]
  },
  {
   "cell_type": "code",
   "execution_count": 24,
   "metadata": {
    "collapsed": false
   },
   "outputs": [
    {
     "data": {
      "text/html": [
       "<div>\n",
       "<table border=\"1\" class=\"dataframe\">\n",
       "  <thead>\n",
       "    <tr style=\"text-align: right;\">\n",
       "      <th></th>\n",
       "      <th>id</th>\n",
       "      <th>abr</th>\n",
       "      <th>name</th>\n",
       "      <th>num</th>\n",
       "    </tr>\n",
       "  </thead>\n",
       "  <tbody>\n",
       "    <tr>\n",
       "      <th>0</th>\n",
       "      <td>01</td>\n",
       "      <td>al</td>\n",
       "      <td>Alabama</td>\n",
       "      <td>01779775</td>\n",
       "    </tr>\n",
       "    <tr>\n",
       "      <th>1</th>\n",
       "      <td>02</td>\n",
       "      <td>ak</td>\n",
       "      <td>Alaska</td>\n",
       "      <td>01785533</td>\n",
       "    </tr>\n",
       "    <tr>\n",
       "      <th>2</th>\n",
       "      <td>04</td>\n",
       "      <td>az</td>\n",
       "      <td>Arizona</td>\n",
       "      <td>01779777</td>\n",
       "    </tr>\n",
       "  </tbody>\n",
       "</table>\n",
       "</div>"
      ],
      "text/plain": [
       "   id abr     name       num\n",
       "0  01  al  Alabama  01779775\n",
       "1  02  ak   Alaska  01785533\n",
       "2  04  az  Arizona  01779777"
      ]
     },
     "execution_count": 24,
     "metadata": {},
     "output_type": "execute_result"
    }
   ],
   "source": [
    "df_states = pd.DataFrame(states_list_2)\n",
    "df_states.columns = ['id', 'abr', 'name', 'num']\n",
    "df_states['abr'] = df_states['abr'].str.lower()\n",
    "df_states.head(3)"
   ]
  },
  {
   "cell_type": "code",
   "execution_count": 25,
   "metadata": {
    "collapsed": false
   },
   "outputs": [],
   "source": [
    "# make directories\n",
    "\n",
    "data_dir = 'data'\n",
    "if not os.path.exists(data_dir):\n",
    "    os.makedirs(data_dir)\n",
    "    \n",
    "pums_dir = 'data/pums-h'\n",
    "if not os.path.exists(pums_dir):\n",
    "    os.makedirs(pums_dir)"
   ]
  },
  {
   "cell_type": "code",
   "execution_count": 26,
   "metadata": {
    "collapsed": false,
    "scrolled": true
   },
   "outputs": [
    {
     "data": {
      "text/html": [
       "<div>\n",
       "<table border=\"1\" class=\"dataframe\">\n",
       "  <thead>\n",
       "    <tr style=\"text-align: right;\">\n",
       "      <th></th>\n",
       "      <th>id</th>\n",
       "      <th>abr</th>\n",
       "      <th>name</th>\n",
       "      <th>num</th>\n",
       "      <th>url</th>\n",
       "    </tr>\n",
       "  </thead>\n",
       "  <tbody>\n",
       "    <tr>\n",
       "      <th>0</th>\n",
       "      <td>01</td>\n",
       "      <td>al</td>\n",
       "      <td>Alabama</td>\n",
       "      <td>01779775</td>\n",
       "      <td>http://www2.census.gov/programs-surveys/acs/da...</td>\n",
       "    </tr>\n",
       "    <tr>\n",
       "      <th>1</th>\n",
       "      <td>02</td>\n",
       "      <td>ak</td>\n",
       "      <td>Alaska</td>\n",
       "      <td>01785533</td>\n",
       "      <td>http://www2.census.gov/programs-surveys/acs/da...</td>\n",
       "    </tr>\n",
       "    <tr>\n",
       "      <th>2</th>\n",
       "      <td>04</td>\n",
       "      <td>az</td>\n",
       "      <td>Arizona</td>\n",
       "      <td>01779777</td>\n",
       "      <td>http://www2.census.gov/programs-surveys/acs/da...</td>\n",
       "    </tr>\n",
       "  </tbody>\n",
       "</table>\n",
       "</div>"
      ],
      "text/plain": [
       "   id abr     name       num  \\\n",
       "0  01  al  Alabama  01779775   \n",
       "1  02  ak   Alaska  01785533   \n",
       "2  04  az  Arizona  01779777   \n",
       "\n",
       "                                                 url  \n",
       "0  http://www2.census.gov/programs-surveys/acs/da...  \n",
       "1  http://www2.census.gov/programs-surveys/acs/da...  \n",
       "2  http://www2.census.gov/programs-surveys/acs/da...  "
      ]
     },
     "execution_count": 26,
     "metadata": {},
     "output_type": "execute_result"
    }
   ],
   "source": [
    "# construct the urls\n",
    "# example url: http://www2.census.gov/programs-surveys/acs/data/pums/2014/1-Year/\n",
    "# http://www2.census.gov/programs-surveys/acs/data/pums/2014/1-Year/csv_hak.zip\n",
    "base_url = 'http://www2.census.gov/programs-surveys/acs/data/pums/'\n",
    "year = '2014'\n",
    "middle_url = '/1-Year/csv_h'\n",
    "end_url = '.zip'\n",
    "df_states['url'] = base_url + year + middle_url + df_states['abr'] + end_url\n",
    "df_states.head(3)"
   ]
  },
  {
   "cell_type": "code",
   "execution_count": 27,
   "metadata": {
    "collapsed": false
   },
   "outputs": [
    {
     "data": {
      "text/html": [
       "<div>\n",
       "<table border=\"1\" class=\"dataframe\">\n",
       "  <thead>\n",
       "    <tr style=\"text-align: right;\">\n",
       "      <th></th>\n",
       "      <th>id</th>\n",
       "      <th>abr</th>\n",
       "      <th>name</th>\n",
       "      <th>num</th>\n",
       "      <th>url</th>\n",
       "      <th>path</th>\n",
       "    </tr>\n",
       "  </thead>\n",
       "  <tbody>\n",
       "    <tr>\n",
       "      <th>0</th>\n",
       "      <td>01</td>\n",
       "      <td>al</td>\n",
       "      <td>Alabama</td>\n",
       "      <td>01779775</td>\n",
       "      <td>http://www2.census.gov/programs-surveys/acs/da...</td>\n",
       "      <td>data/pums-h/al.zip</td>\n",
       "    </tr>\n",
       "    <tr>\n",
       "      <th>1</th>\n",
       "      <td>02</td>\n",
       "      <td>ak</td>\n",
       "      <td>Alaska</td>\n",
       "      <td>01785533</td>\n",
       "      <td>http://www2.census.gov/programs-surveys/acs/da...</td>\n",
       "      <td>data/pums-h/ak.zip</td>\n",
       "    </tr>\n",
       "    <tr>\n",
       "      <th>2</th>\n",
       "      <td>04</td>\n",
       "      <td>az</td>\n",
       "      <td>Arizona</td>\n",
       "      <td>01779777</td>\n",
       "      <td>http://www2.census.gov/programs-surveys/acs/da...</td>\n",
       "      <td>data/pums-h/az.zip</td>\n",
       "    </tr>\n",
       "  </tbody>\n",
       "</table>\n",
       "</div>"
      ],
      "text/plain": [
       "   id abr     name       num  \\\n",
       "0  01  al  Alabama  01779775   \n",
       "1  02  ak   Alaska  01785533   \n",
       "2  04  az  Arizona  01779777   \n",
       "\n",
       "                                                 url                path  \n",
       "0  http://www2.census.gov/programs-surveys/acs/da...  data/pums-h/al.zip  \n",
       "1  http://www2.census.gov/programs-surveys/acs/da...  data/pums-h/ak.zip  \n",
       "2  http://www2.census.gov/programs-surveys/acs/da...  data/pums-h/az.zip  "
      ]
     },
     "execution_count": 27,
     "metadata": {},
     "output_type": "execute_result"
    }
   ],
   "source": [
    "# construct the paths\n",
    "df_states['path'] = 'data/pums-h/' + df_states['abr'] + '.zip'\n",
    "df_states.head(3)"
   ]
  },
  {
   "cell_type": "code",
   "execution_count": 28,
   "metadata": {
    "collapsed": false
   },
   "outputs": [],
   "source": [
    "# download zipped files and save to pums directory\n",
    "for index, row in df_states.iterrows():\n",
    "    urllib.urlretrieve(row['url'], row['path'])"
   ]
  },
  {
   "cell_type": "code",
   "execution_count": 29,
   "metadata": {
    "collapsed": false
   },
   "outputs": [],
   "source": [
    "%%bash\n",
    "rm data/pums-h/as.zip\n",
    "rm data/pums-h/mp.zip\n",
    "rm data/pums-h/um.zip\n",
    "rm data/pums-h/gu.zip\n",
    "rm data/pums-h/vi.zip"
   ]
  },
  {
   "cell_type": "code",
   "execution_count": 30,
   "metadata": {
    "collapsed": false,
    "scrolled": true
   },
   "outputs": [],
   "source": [
    "# unzip files\n",
    "\n",
    "rootPath = r\"/Users/peter/Dropbox/ds/metis/notebooks/projects/mcnulty/data/pums-h\"\n",
    "pattern = '*.zip'\n",
    "\n",
    "for root, dirs, files in os.walk(rootPath):\n",
    "    for filename in fnmatch.filter(files, pattern):\n",
    "        #print(os.path.join(root, filename))\n",
    "        zipfile.ZipFile(os.path.join(root, filename)).extractall(os.path.join(root, os.path.splitext(filename)[0]))"
   ]
  },
  {
   "cell_type": "code",
   "execution_count": 31,
   "metadata": {
    "collapsed": false
   },
   "outputs": [
    {
     "data": {
      "text/plain": [
       "['data/pums-h/ak/ss14hak.csv',\n",
       " 'data/pums-h/al/ss14hal.csv',\n",
       " 'data/pums-h/ar/ss14har.csv',\n",
       " 'data/pums-h/az/ss14haz.csv',\n",
       " 'data/pums-h/ca/ss14hca.csv']"
      ]
     },
     "execution_count": 31,
     "metadata": {},
     "output_type": "execute_result"
    }
   ],
   "source": [
    "# make list of tuples of csvs\n",
    "\n",
    "base_path = 'data/pums-h/*/*.'\n",
    "csv_list = glob.glob(base_path + 'csv')\n",
    "\n",
    "csv_list[:5]"
   ]
  },
  {
   "cell_type": "code",
   "execution_count": 32,
   "metadata": {
    "collapsed": true
   },
   "outputs": [],
   "source": [
    "# make dataframe of all the csvs\n",
    "df = pd.DataFrame()\n",
    "temp_list = []\n",
    "\n",
    "for csv in csv_list:\n",
    "    dataframe = pd.read_csv(csv, index_col=None, header=0)\n",
    "    temp_list.append(dataframe)\n",
    "df = pd.concat(temp_list)"
   ]
  },
  {
   "cell_type": "code",
   "execution_count": 33,
   "metadata": {
    "collapsed": false
   },
   "outputs": [
    {
     "data": {
      "text/html": [
       "<div>\n",
       "<table border=\"1\" class=\"dataframe\">\n",
       "  <thead>\n",
       "    <tr style=\"text-align: right;\">\n",
       "      <th></th>\n",
       "      <th>RT</th>\n",
       "      <th>SERIALNO</th>\n",
       "      <th>DIVISION</th>\n",
       "      <th>PUMA</th>\n",
       "      <th>REGION</th>\n",
       "      <th>ST</th>\n",
       "      <th>ADJHSG</th>\n",
       "      <th>ADJINC</th>\n",
       "      <th>WGTP</th>\n",
       "      <th>NP</th>\n",
       "      <th>...</th>\n",
       "      <th>wgtp71</th>\n",
       "      <th>wgtp72</th>\n",
       "      <th>wgtp73</th>\n",
       "      <th>wgtp74</th>\n",
       "      <th>wgtp75</th>\n",
       "      <th>wgtp76</th>\n",
       "      <th>wgtp77</th>\n",
       "      <th>wgtp78</th>\n",
       "      <th>wgtp79</th>\n",
       "      <th>wgtp80</th>\n",
       "    </tr>\n",
       "  </thead>\n",
       "  <tbody>\n",
       "    <tr>\n",
       "      <th>0</th>\n",
       "      <td>H</td>\n",
       "      <td>77</td>\n",
       "      <td>9</td>\n",
       "      <td>400</td>\n",
       "      <td>4</td>\n",
       "      <td>2</td>\n",
       "      <td>1000000</td>\n",
       "      <td>1008425</td>\n",
       "      <td>22</td>\n",
       "      <td>0</td>\n",
       "      <td>...</td>\n",
       "      <td>24</td>\n",
       "      <td>36</td>\n",
       "      <td>24</td>\n",
       "      <td>36</td>\n",
       "      <td>6</td>\n",
       "      <td>6</td>\n",
       "      <td>20</td>\n",
       "      <td>22</td>\n",
       "      <td>22</td>\n",
       "      <td>38</td>\n",
       "    </tr>\n",
       "    <tr>\n",
       "      <th>1</th>\n",
       "      <td>H</td>\n",
       "      <td>315</td>\n",
       "      <td>9</td>\n",
       "      <td>200</td>\n",
       "      <td>4</td>\n",
       "      <td>2</td>\n",
       "      <td>1000000</td>\n",
       "      <td>1008425</td>\n",
       "      <td>161</td>\n",
       "      <td>5</td>\n",
       "      <td>...</td>\n",
       "      <td>165</td>\n",
       "      <td>156</td>\n",
       "      <td>44</td>\n",
       "      <td>43</td>\n",
       "      <td>244</td>\n",
       "      <td>212</td>\n",
       "      <td>56</td>\n",
       "      <td>137</td>\n",
       "      <td>244</td>\n",
       "      <td>164</td>\n",
       "    </tr>\n",
       "    <tr>\n",
       "      <th>2</th>\n",
       "      <td>H</td>\n",
       "      <td>807</td>\n",
       "      <td>9</td>\n",
       "      <td>300</td>\n",
       "      <td>4</td>\n",
       "      <td>2</td>\n",
       "      <td>1000000</td>\n",
       "      <td>1008425</td>\n",
       "      <td>1303</td>\n",
       "      <td>0</td>\n",
       "      <td>...</td>\n",
       "      <td>1909</td>\n",
       "      <td>2330</td>\n",
       "      <td>463</td>\n",
       "      <td>1339</td>\n",
       "      <td>1384</td>\n",
       "      <td>446</td>\n",
       "      <td>1416</td>\n",
       "      <td>381</td>\n",
       "      <td>1443</td>\n",
       "      <td>502</td>\n",
       "    </tr>\n",
       "    <tr>\n",
       "      <th>3</th>\n",
       "      <td>H</td>\n",
       "      <td>1408</td>\n",
       "      <td>9</td>\n",
       "      <td>200</td>\n",
       "      <td>4</td>\n",
       "      <td>2</td>\n",
       "      <td>1000000</td>\n",
       "      <td>1008425</td>\n",
       "      <td>50</td>\n",
       "      <td>3</td>\n",
       "      <td>...</td>\n",
       "      <td>62</td>\n",
       "      <td>79</td>\n",
       "      <td>92</td>\n",
       "      <td>55</td>\n",
       "      <td>45</td>\n",
       "      <td>51</td>\n",
       "      <td>49</td>\n",
       "      <td>91</td>\n",
       "      <td>56</td>\n",
       "      <td>41</td>\n",
       "    </tr>\n",
       "    <tr>\n",
       "      <th>4</th>\n",
       "      <td>H</td>\n",
       "      <td>1508</td>\n",
       "      <td>9</td>\n",
       "      <td>101</td>\n",
       "      <td>4</td>\n",
       "      <td>2</td>\n",
       "      <td>1000000</td>\n",
       "      <td>1008425</td>\n",
       "      <td>125</td>\n",
       "      <td>4</td>\n",
       "      <td>...</td>\n",
       "      <td>130</td>\n",
       "      <td>35</td>\n",
       "      <td>134</td>\n",
       "      <td>228</td>\n",
       "      <td>125</td>\n",
       "      <td>36</td>\n",
       "      <td>36</td>\n",
       "      <td>119</td>\n",
       "      <td>155</td>\n",
       "      <td>108</td>\n",
       "    </tr>\n",
       "  </tbody>\n",
       "</table>\n",
       "<p>5 rows × 235 columns</p>\n",
       "</div>"
      ],
      "text/plain": [
       "  RT  SERIALNO  DIVISION  PUMA  REGION  ST   ADJHSG   ADJINC  WGTP  NP  \\\n",
       "0  H        77         9   400       4   2  1000000  1008425    22   0   \n",
       "1  H       315         9   200       4   2  1000000  1008425   161   5   \n",
       "2  H       807         9   300       4   2  1000000  1008425  1303   0   \n",
       "3  H      1408         9   200       4   2  1000000  1008425    50   3   \n",
       "4  H      1508         9   101       4   2  1000000  1008425   125   4   \n",
       "\n",
       "    ...    wgtp71  wgtp72  wgtp73  wgtp74  wgtp75 wgtp76  wgtp77  wgtp78  \\\n",
       "0   ...        24      36      24      36       6      6      20      22   \n",
       "1   ...       165     156      44      43     244    212      56     137   \n",
       "2   ...      1909    2330     463    1339    1384    446    1416     381   \n",
       "3   ...        62      79      92      55      45     51      49      91   \n",
       "4   ...       130      35     134     228     125     36      36     119   \n",
       "\n",
       "   wgtp79  wgtp80  \n",
       "0      22      38  \n",
       "1     244     164  \n",
       "2    1443     502  \n",
       "3      56      41  \n",
       "4     155     108  \n",
       "\n",
       "[5 rows x 235 columns]"
      ]
     },
     "execution_count": 33,
     "metadata": {},
     "output_type": "execute_result"
    }
   ],
   "source": [
    "df.head()"
   ]
  },
  {
   "cell_type": "code",
   "execution_count": 34,
   "metadata": {
    "collapsed": false
   },
   "outputs": [],
   "source": [
    "# remove unnecessary files in pums folder\n",
    "shutil.rmtree('data/pums-h')"
   ]
  },
  {
   "cell_type": "code",
   "execution_count": 35,
   "metadata": {
    "collapsed": true
   },
   "outputs": [],
   "source": [
    "pums_dir = 'data/pums-h'\n",
    "if not os.path.exists(pums_dir):\n",
    "    os.makedirs(pums_dir)"
   ]
  },
  {
   "cell_type": "code",
   "execution_count": 53,
   "metadata": {
    "collapsed": false
   },
   "outputs": [],
   "source": [
    "# http://www2.census.gov/programs-surveys/acs/tech_docs/pums/data_dict/PUMSDataDict14.pdf\n",
    "\n",
    "cols_list = [\n",
    "     'RT' # record type, H indicates house\n",
    "    ,'SERIALNO' # housing unit / GQ person serial number...unique identifier\n",
    "    ,'DIVISION' # division code\n",
    "    ,'PUMA' # public use microdata area code, based on 2010 census defn, 100k people per puma\n",
    "    ,'REGION' # region code\n",
    "    ,'ST' # state code\n",
    "    ,'WGTP' # housing weight\n",
    "    ,'ADJINC' # adj for income & earnings to 2014 values, divide by 1 million to do conversion\n",
    "    ,'ADJHSG' # adj for housing dollar amounts, divide by 1 million to do conversion\n",
    "    ,'HINCP' # household income past 12 months\n",
    "    ,'FINCP' # family income past 12 months\n",
    "    ,'NOC' # number of own children in household (unweighted)\n",
    "    ,'NRC' # number of related children in household (unweighted)\n",
    "    ,'WORKSTAT' # work status\n",
    "    ,'WATP' # yearly water cost\n",
    "    ,'CONP' # condo fee / month\n",
    "    ,'ELEP' # electricity fee / month\n",
    "    ,'FULP' # fuel cost / year\n",
    "    ,'GASP' # gas cost / month\n",
    "    ,'GRNTP' # gross rent / month, use grntp to adjust to constant dollars\n",
    "    ,'GRPIP' # gross income as % of hh income past 12 months\n",
    "    ,'INSP' # fire/hazard/flood insurance amount / year\n",
    "    ,'MHP' # mobile home costs / year\n",
    "    ,'RNTP' # rent cost / month\n",
    "    ,'SMP' # total payment on all second and junior morgages and home equity loans / month\n",
    "    ,'SMOCP' # selected monthly owner costs, use adjhsg to adjust to constant dollars\n",
    "    ,'TAXP' # property taxes per year\n",
    "    ,'MRGP' # first mortgage payment / month\n",
    "    ,'FS' # yearly food stamp / snap recipiency\n",
    "    ,'TEN' # tenure: b n/a, 1 owned, 2 owned free & clear, 3 rented, 4 occupied w/out payment of rent\n",
    "    ,'TYPE' # type of unit: 1 housing unit, 2 institutional group quarters, 3 non-institutional group quarters\n",
    "    ,'BLD' # units in structure\n",
    "    ,'FPARC' # family presence and age of related children\n",
    "    ,'FES' # family type and employment status\n",
    "    ,'KIT' # complete kitchen facilities\n",
    "    ,'PLM' # complete plumbing facilities: b n/a, 1 yes, 2 no, 9 case from pr so plm n/a\n",
    "    ,'MV' # when moved into this house or apartment\n",
    "    ,'VEH' # number of vehicles available\n",
    "]"
   ]
  },
  {
   "cell_type": "code",
   "execution_count": 54,
   "metadata": {
    "collapsed": false
   },
   "outputs": [
    {
     "data": {
      "text/html": [
       "<div>\n",
       "<table border=\"1\" class=\"dataframe\">\n",
       "  <thead>\n",
       "    <tr style=\"text-align: right;\">\n",
       "      <th></th>\n",
       "      <th>RT</th>\n",
       "      <th>SERIALNO</th>\n",
       "      <th>DIVISION</th>\n",
       "      <th>PUMA</th>\n",
       "      <th>REGION</th>\n",
       "      <th>ST</th>\n",
       "      <th>WGTP</th>\n",
       "      <th>ADJINC</th>\n",
       "      <th>ADJHSG</th>\n",
       "      <th>HINCP</th>\n",
       "      <th>...</th>\n",
       "      <th>FS</th>\n",
       "      <th>TEN</th>\n",
       "      <th>TYPE</th>\n",
       "      <th>BLD</th>\n",
       "      <th>FPARC</th>\n",
       "      <th>FES</th>\n",
       "      <th>KIT</th>\n",
       "      <th>PLM</th>\n",
       "      <th>MV</th>\n",
       "      <th>VEH</th>\n",
       "    </tr>\n",
       "  </thead>\n",
       "  <tbody>\n",
       "    <tr>\n",
       "      <th>0</th>\n",
       "      <td>H</td>\n",
       "      <td>77</td>\n",
       "      <td>9</td>\n",
       "      <td>400</td>\n",
       "      <td>4</td>\n",
       "      <td>2</td>\n",
       "      <td>22</td>\n",
       "      <td>1008425</td>\n",
       "      <td>1000000</td>\n",
       "      <td></td>\n",
       "      <td>...</td>\n",
       "      <td>NaN</td>\n",
       "      <td>NaN</td>\n",
       "      <td>1</td>\n",
       "      <td>2.0</td>\n",
       "      <td>NaN</td>\n",
       "      <td>NaN</td>\n",
       "      <td>2.0</td>\n",
       "      <td>2.0</td>\n",
       "      <td>NaN</td>\n",
       "      <td>NaN</td>\n",
       "    </tr>\n",
       "    <tr>\n",
       "      <th>1</th>\n",
       "      <td>H</td>\n",
       "      <td>315</td>\n",
       "      <td>9</td>\n",
       "      <td>200</td>\n",
       "      <td>4</td>\n",
       "      <td>2</td>\n",
       "      <td>161</td>\n",
       "      <td>1008425</td>\n",
       "      <td>1000000</td>\n",
       "      <td>000050660</td>\n",
       "      <td>...</td>\n",
       "      <td>2.0</td>\n",
       "      <td>1.0</td>\n",
       "      <td>1</td>\n",
       "      <td>2.0</td>\n",
       "      <td>3.0</td>\n",
       "      <td>2.0</td>\n",
       "      <td>1.0</td>\n",
       "      <td>1.0</td>\n",
       "      <td>4.0</td>\n",
       "      <td>3.0</td>\n",
       "    </tr>\n",
       "    <tr>\n",
       "      <th>2</th>\n",
       "      <td>H</td>\n",
       "      <td>807</td>\n",
       "      <td>9</td>\n",
       "      <td>300</td>\n",
       "      <td>4</td>\n",
       "      <td>2</td>\n",
       "      <td>1303</td>\n",
       "      <td>1008425</td>\n",
       "      <td>1000000</td>\n",
       "      <td></td>\n",
       "      <td>...</td>\n",
       "      <td>NaN</td>\n",
       "      <td>NaN</td>\n",
       "      <td>1</td>\n",
       "      <td>3.0</td>\n",
       "      <td>NaN</td>\n",
       "      <td>NaN</td>\n",
       "      <td>1.0</td>\n",
       "      <td>1.0</td>\n",
       "      <td>NaN</td>\n",
       "      <td>NaN</td>\n",
       "    </tr>\n",
       "  </tbody>\n",
       "</table>\n",
       "<p>3 rows × 38 columns</p>\n",
       "</div>"
      ],
      "text/plain": [
       "  RT  SERIALNO  DIVISION  PUMA  REGION  ST  WGTP   ADJINC   ADJHSG      HINCP  \\\n",
       "0  H        77         9   400       4   2    22  1008425  1000000              \n",
       "1  H       315         9   200       4   2   161  1008425  1000000  000050660   \n",
       "2  H       807         9   300       4   2  1303  1008425  1000000              \n",
       "\n",
       "  ...    FS  TEN TYPE  BLD FPARC  FES  KIT  PLM   MV  VEH  \n",
       "0 ...   NaN  NaN    1  2.0   NaN  NaN  2.0  2.0  NaN  NaN  \n",
       "1 ...   2.0  1.0    1  2.0   3.0  2.0  1.0  1.0  4.0  3.0  \n",
       "2 ...   NaN  NaN    1  3.0   NaN  NaN  1.0  1.0  NaN  NaN  \n",
       "\n",
       "[3 rows x 38 columns]"
      ]
     },
     "execution_count": 54,
     "metadata": {},
     "output_type": "execute_result"
    }
   ],
   "source": [
    "# select desired columns\n",
    "df1 = df[cols_list]\n",
    "df1.head(3)"
   ]
  },
  {
   "cell_type": "code",
   "execution_count": 55,
   "metadata": {
    "collapsed": true
   },
   "outputs": [],
   "source": [
    "# pickle dataframe\n",
    "df1.to_pickle('data/pums-h/metadata.pickle')"
   ]
  }
 ],
 "metadata": {
  "kernelspec": {
   "display_name": "Python 2",
   "language": "python",
   "name": "python2"
  },
  "language_info": {
   "codemirror_mode": {
    "name": "ipython",
    "version": 2
   },
   "file_extension": ".py",
   "mimetype": "text/x-python",
   "name": "python",
   "nbconvert_exporter": "python",
   "pygments_lexer": "ipython2",
   "version": "2.7.11"
  }
 },
 "nbformat": 4,
 "nbformat_minor": 0
}
