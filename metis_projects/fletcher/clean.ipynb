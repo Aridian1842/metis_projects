{
 "cells": [
  {
   "cell_type": "code",
   "execution_count": 304,
   "metadata": {
    "collapsed": false
   },
   "outputs": [],
   "source": [
    "import pandas as pd\n",
    "import numpy as np\n",
    "from unicodedata import normalize\n",
    "from datetime import datetime\n",
    "\n",
    "from library.clean import ascii_a_col, ascii_cols, lower_case_columns, rid_punctuation, slice_and_dice_col, str_to_date"
   ]
  },
  {
   "cell_type": "code",
   "execution_count": 305,
   "metadata": {
    "collapsed": false
   },
   "outputs": [
    {
     "data": {
      "text/html": [
       "<div>\n",
       "<table border=\"1\" class=\"dataframe\">\n",
       "  <thead>\n",
       "    <tr style=\"text-align: right;\">\n",
       "      <th></th>\n",
       "      <th>org</th>\n",
       "      <th>nyt_id</th>\n",
       "      <th>hl</th>\n",
       "      <th>lead</th>\n",
       "      <th>date_pub</th>\n",
       "    </tr>\n",
       "  </thead>\n",
       "  <tbody>\n",
       "    <tr>\n",
       "      <th>1</th>\n",
       "      <td>none</td>\n",
       "      <td>4fc02b4a45c1498b0d19ce9d</td>\n",
       "      <td>american museum wing cady plans again to be co...</td>\n",
       "      <td>when the park commissioners met yesterday pres...</td>\n",
       "      <td>1893-03-16 00:00:00</td>\n",
       "    </tr>\n",
       "    <tr>\n",
       "      <th>3</th>\n",
       "      <td>none</td>\n",
       "      <td>4fc0a09745c1498b0d3ba216</td>\n",
       "      <td>marijuana smoking is reported safe hemp leaves...</td>\n",
       "      <td>panama nov 14  a panaman judge recently senten...</td>\n",
       "      <td>1926-11-21</td>\n",
       "    </tr>\n",
       "    <tr>\n",
       "      <th>4</th>\n",
       "      <td>none</td>\n",
       "      <td>4fc0cd2845c1498b0d489fbe</td>\n",
       "      <td>blames smuggling for narcotics grip new york c...</td>\n",
       "      <td>washington march 4ninety to 95 per cent of the...</td>\n",
       "      <td>1931-03-05</td>\n",
       "    </tr>\n",
       "  </tbody>\n",
       "</table>\n",
       "</div>"
      ],
      "text/plain": [
       "    org                    nyt_id  \\\n",
       "1  none  4fc02b4a45c1498b0d19ce9d   \n",
       "3  none  4fc0a09745c1498b0d3ba216   \n",
       "4  none  4fc0cd2845c1498b0d489fbe   \n",
       "\n",
       "                                                  hl  \\\n",
       "1  american museum wing cady plans again to be co...   \n",
       "3  marijuana smoking is reported safe hemp leaves...   \n",
       "4  blames smuggling for narcotics grip new york c...   \n",
       "\n",
       "                                                lead            date_pub  \n",
       "1  when the park commissioners met yesterday pres... 1893-03-16 00:00:00  \n",
       "3  panama nov 14  a panaman judge recently senten...          1926-11-21  \n",
       "4  washington march 4ninety to 95 per cent of the...          1931-03-05  "
      ]
     },
     "execution_count": 305,
     "metadata": {},
     "output_type": "execute_result"
    }
   ],
   "source": [
    "l = pd.read_pickle('data/marijuana_1852_to_20140923_flat.pickle')\n",
    "df = pd.DataFrame(l, columns=['nyt_id', 'date_pub', 'org', 'hl', 'lead'])\n",
    "df = df.fillna(u'none')\n",
    "df = ascii_cols(df, ['nyt_id', 'hl', 'lead', 'date_pub'])\n",
    "df = lower_case_columns(df)\n",
    "df = rid_punctuation(df)\n",
    "df = slice_and_dice_col(df, 'date_pub', 0, 8)\n",
    "pd.DataFrame.mask = mask\n",
    "df = df.mask(key='lead', value='none', operator='not_equals')\n",
    "df = str_to_date(df, 'date_pub')\n",
    "df.drop_duplicates(inplace=True)\n",
    "df.head(3)"
   ]
  }
 ],
 "metadata": {
  "kernelspec": {
   "display_name": "Python 2",
   "language": "python",
   "name": "python2"
  },
  "language_info": {
   "codemirror_mode": {
    "name": "ipython",
    "version": 2
   },
   "file_extension": ".py",
   "mimetype": "text/x-python",
   "name": "python",
   "nbconvert_exporter": "python",
   "pygments_lexer": "ipython2",
   "version": "2.7.11"
  }
 },
 "nbformat": 4,
 "nbformat_minor": 0
}
