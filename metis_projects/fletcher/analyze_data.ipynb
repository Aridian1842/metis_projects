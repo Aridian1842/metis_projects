{
 "cells": [
  {
   "cell_type": "code",
   "execution_count": 5,
   "metadata": {
    "collapsed": false
   },
   "outputs": [],
   "source": [
    "import pandas as pd\n",
    "\n",
    "from textblob import TextBlob"
   ]
  },
  {
   "cell_type": "code",
   "execution_count": 2,
   "metadata": {
    "collapsed": false
   },
   "outputs": [
    {
     "data": {
      "text/html": [
       "<div>\n",
       "<table border=\"1\" class=\"dataframe\">\n",
       "  <thead>\n",
       "    <tr style=\"text-align: right;\">\n",
       "      <th></th>\n",
       "      <th>org</th>\n",
       "      <th>nyt_id</th>\n",
       "      <th>hl</th>\n",
       "      <th>lead</th>\n",
       "      <th>date_pub</th>\n",
       "    </tr>\n",
       "  </thead>\n",
       "  <tbody>\n",
       "    <tr>\n",
       "      <th>1</th>\n",
       "      <td>none</td>\n",
       "      <td>4fc0a09745c1498b0d3ba216</td>\n",
       "      <td>marijuana smoking is reported safe hemp leaves...</td>\n",
       "      <td>panama nov 14  a panaman judge recently senten...</td>\n",
       "      <td>1926-11-21</td>\n",
       "    </tr>\n",
       "    <tr>\n",
       "      <th>3</th>\n",
       "      <td>none</td>\n",
       "      <td>4fc1d8e145c1498b0d4cc76e</td>\n",
       "      <td>his appetite betrayed kansas second messiah</td>\n",
       "      <td>frontenac kan march 15  arthur trott selfstyle...</td>\n",
       "      <td>1934-03-18</td>\n",
       "    </tr>\n",
       "    <tr>\n",
       "      <th>4</th>\n",
       "      <td>none</td>\n",
       "      <td>4fc1d8e445c1498b0d4ccd32</td>\n",
       "      <td>mexico bars action on johnson speech embassy i...</td>\n",
       "      <td>washington july 14 ap  the mexican embassy was...</td>\n",
       "      <td>1934-07-15</td>\n",
       "    </tr>\n",
       "  </tbody>\n",
       "</table>\n",
       "</div>"
      ],
      "text/plain": [
       "    org                    nyt_id  \\\n",
       "1  none  4fc0a09745c1498b0d3ba216   \n",
       "3  none  4fc1d8e145c1498b0d4cc76e   \n",
       "4  none  4fc1d8e445c1498b0d4ccd32   \n",
       "\n",
       "                                                  hl  \\\n",
       "1  marijuana smoking is reported safe hemp leaves...   \n",
       "3        his appetite betrayed kansas second messiah   \n",
       "4  mexico bars action on johnson speech embassy i...   \n",
       "\n",
       "                                                lead   date_pub  \n",
       "1  panama nov 14  a panaman judge recently senten... 1926-11-21  \n",
       "3  frontenac kan march 15  arthur trott selfstyle... 1934-03-18  \n",
       "4  washington july 14 ap  the mexican embassy was... 1934-07-15  "
      ]
     },
     "execution_count": 2,
     "metadata": {},
     "output_type": "execute_result"
    }
   ],
   "source": [
    "df = pd.read_pickle('data/cleaned/clean.pickle')\n",
    "df.head(3)"
   ]
  },
  {
   "cell_type": "code",
   "execution_count": 6,
   "metadata": {
    "collapsed": false
   },
   "outputs": [
    {
     "data": {
      "text/plain": [
       "Sentiment(polarity=1.0, subjectivity=1.0)"
      ]
     },
     "execution_count": 6,
     "metadata": {},
     "output_type": "execute_result"
    }
   ],
   "source": [
    "TextBlob('this is awesome').sentiment"
   ]
  },
  {
   "cell_type": "code",
   "execution_count": 7,
   "metadata": {
    "collapsed": false
   },
   "outputs": [
    {
     "data": {
      "text/plain": [
       "Sentiment(polarity=0.0, subjectivity=0.0)"
      ]
     },
     "execution_count": 7,
     "metadata": {},
     "output_type": "execute_result"
    }
   ],
   "source": [
    "TextBlob('the earth is a sphere').sentiment"
   ]
  },
  {
   "cell_type": "code",
   "execution_count": 8,
   "metadata": {
    "collapsed": false
   },
   "outputs": [
    {
     "data": {
      "text/plain": [
       "Sentiment(polarity=-1.0, subjectivity=1.0)"
      ]
     },
     "execution_count": 8,
     "metadata": {},
     "output_type": "execute_result"
    }
   ],
   "source": [
    "TextBlob('this is terrible').sentiment"
   ]
  },
  {
   "cell_type": "code",
   "execution_count": 11,
   "metadata": {
    "collapsed": false
   },
   "outputs": [
    {
     "data": {
      "text/plain": [
       "Sentiment(polarity=0.008333333333333331, subjectivity=0.29166666666666663)"
      ]
     },
     "execution_count": 11,
     "metadata": {},
     "output_type": "execute_result"
    }
   ],
   "source": [
    "TextBlob('a panaman judge recently sentenced an american seaman hamilton main to a year of penal confinement for smoking and having in his possession cigarettes made of the leaves of the cannabis indica known also as marijuana canjac and by various other names and often incorrectly referred to as hashish').sentiment"
   ]
  },
  {
   "cell_type": "code",
   "execution_count": 10,
   "metadata": {
    "collapsed": false
   },
   "outputs": [
    {
     "data": {
      "text/plain": [
       "'panama nov 14  a panaman judge recently sentenced an american seaman hamilton main to a year of penal confinement for smoking and having in his possession cigarettes made of the leaves of the cannabis indica known also as marijuana canjac and by various other names and often incorrectly referred to as hashish'"
      ]
     },
     "execution_count": 10,
     "metadata": {},
     "output_type": "execute_result"
    }
   ],
   "source": [
    "df.iloc[0][3]"
   ]
  },
  {
   "cell_type": "code",
   "execution_count": 12,
   "metadata": {
    "collapsed": false
   },
   "outputs": [
    {
     "data": {
      "text/plain": [
       "Sentiment(polarity=0.0, subjectivity=0.0)"
      ]
     },
     "execution_count": 12,
     "metadata": {},
     "output_type": "execute_result"
    }
   ],
   "source": [
    "TextBlob('cancer is increasing in the united states').sentiment"
   ]
  },
  {
   "cell_type": "code",
   "execution_count": null,
   "metadata": {
    "collapsed": true
   },
   "outputs": [],
   "source": []
  }
 ],
 "metadata": {
  "kernelspec": {
   "display_name": "Python 2",
   "language": "python",
   "name": "python2"
  },
  "language_info": {
   "codemirror_mode": {
    "name": "ipython",
    "version": 2
   },
   "file_extension": ".py",
   "mimetype": "text/x-python",
   "name": "python",
   "nbconvert_exporter": "python",
   "pygments_lexer": "ipython2",
   "version": "2.7.11"
  }
 },
 "nbformat": 4,
 "nbformat_minor": 0
}
