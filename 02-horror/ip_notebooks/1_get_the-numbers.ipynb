{
 "cells": [
  {
   "cell_type": "code",
   "execution_count": 88,
   "metadata": {
    "collapsed": false
   },
   "outputs": [],
   "source": [
    "from selenium import webdriver\n",
    "from selenium.webdriver.common.keys import Keys\n",
    "import urllib\n",
    "import pandas as pd\n",
    "import pickle\n",
    "import glob"
   ]
  },
  {
   "cell_type": "code",
   "execution_count": 40,
   "metadata": {
    "collapsed": false,
    "scrolled": true
   },
   "outputs": [],
   "source": [
    "def get_data(years,month_start, month_stop):\n",
    "    for year in years: \n",
    "    \n",
    "        # Fire up the web driver and navigate to starting webpage\n",
    "        firefox = webdriver.Firefox()\n",
    "        matrix_url = \"http://www.the-numbers.com/movies/report-builder\"\n",
    "        firefox.get(matrix_url)\n",
    "\n",
    "        # Report builder page\n",
    "\n",
    "        # Select the genre\n",
    "        genre_selector = '//select[@name=\"genre\"]/option[@value=\"Horror\"]'\n",
    "        firefox.find_element_by_xpath(genre_selector).click()\n",
    "\n",
    "        # Specify min year\n",
    "        elem = firefox.find_element_by_name(\"min-year\")\n",
    "        elem.send_keys(year)\n",
    "\n",
    "        # Specify max year\n",
    "        elem = firefox.find_element_by_name(\"max-year\")\n",
    "        elem.send_keys(year)\n",
    "\n",
    "        # Specify min month\n",
    "        elem = firefox.find_element_by_name(\"min-month\")\n",
    "        elem.send_keys(str(month_start))\n",
    "\n",
    "        # Specify max month\n",
    "        elem = firefox.find_element_by_name(\"max-month\")\n",
    "        elem.send_keys(str(month_stop))\n",
    "\n",
    "        # Build report\n",
    "        firefox.find_element_by_xpath(\"//input[@value='Build Report']\").click()\n",
    "\n",
    "        # Click link to go to navigate to full report webpage\n",
    "        link = firefox.find_element_by_link_text('Show and customize full report')\n",
    "        link.click()\n",
    "\n",
    "        # Movie report page\n",
    "\n",
    "        # Check show release year\n",
    "        firefox.find_element_by_name('show-release-year').click()\n",
    "\n",
    "        # Check show production budget\n",
    "        firefox.find_element_by_name('show-production-budget').click()\n",
    "\n",
    "        # Check show \n",
    "        firefox.find_element_by_name('show-inflation-adjusted-domestic-box-office').click()\n",
    "\n",
    "        # Select view order by\n",
    "        order_selector = '//select[@name=\"view-order-by\"]/option[@value=\"release-date\"]'\n",
    "        firefox.find_element_by_xpath(order_selector).click()\n",
    "\n",
    "        # Update report\n",
    "        firefox.find_element_by_xpath(\"//input[@value='Update Report']\").click()\n",
    "\n",
    "        # Get data\n",
    "        data = []\n",
    "        for tr in firefox.find_elements_by_xpath('//center/table/tbody/tr'):\n",
    "            tds=tr.find_elements_by_tag_name('td')\n",
    "            if tds: \n",
    "                data.append([td.text for td in tds])\n",
    "\n",
    "        # Put data into dataframe\n",
    "        df = pd.DataFrame(data)\n",
    "\n",
    "        # Pickle dataframe\n",
    "        with open(str(year) + '-' + str(month_start) + '-' + str(month_stop)+ '.pickle', 'wb') as f:\n",
    "            pickle.dump(df, f)\n",
    "\n",
    "        # Close Firefox window\n",
    "        firefox.close()"
   ]
  },
  {
   "cell_type": "code",
   "execution_count": 48,
   "metadata": {
    "collapsed": false
   },
   "outputs": [
    {
     "name": "stdout",
     "output_type": "stream",
     "text": [
      "[1970, 1971, 1972, 1973, 1974, 1975, 1976, 1977, 1978, 1979, 1980, 1981, 1982, 1983, 1984, 1985, 1986, 1987, 1988, 1989, 1990, 1991, 1992, 1993, 1994, 1995, 1996, 1997, 1998, 1999, 2000, 2001, 2002, 2003, 2004, 2005, 2006, 2007, 2008, 2009]\n"
     ]
    }
   ],
   "source": [
    "# get 1970 through 2010\n",
    "years = range(1970,2010)\n",
    "start_month = 1\n",
    "stop_month = 12\n",
    "get_data(years,start_month, stop_month)"
   ]
  },
  {
   "cell_type": "code",
   "execution_count": null,
   "metadata": {
    "collapsed": true
   },
   "outputs": [],
   "source": [
    "# get first half years and pickle data\n",
    "years = [2011, 2012, 2013, 2014, 2015]\n",
    "start_month = 1\n",
    "stop_month = 6\n",
    "get_data(years,start_month, stop_month)"
   ]
  },
  {
   "cell_type": "code",
   "execution_count": 45,
   "metadata": {
    "collapsed": false
   },
   "outputs": [],
   "source": [
    "# get first half years and pickle data\n",
    "years = [2011, 2012, 2013, 2014, 2015]\n",
    "start_month = 7\n",
    "stop_month = 12\n",
    "get_data(years,start_month, stop_month)"
   ]
  }
 ],
 "metadata": {
  "kernelspec": {
   "display_name": "Python 2",
   "language": "python",
   "name": "python2"
  },
  "language_info": {
   "codemirror_mode": {
    "name": "ipython",
    "version": 2
   },
   "file_extension": ".py",
   "mimetype": "text/x-python",
   "name": "python",
   "nbconvert_exporter": "python",
   "pygments_lexer": "ipython2",
   "version": "2.7.11"
  }
 },
 "nbformat": 4,
 "nbformat_minor": 0
}
