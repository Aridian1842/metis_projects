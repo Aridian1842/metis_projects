{
 "cells": [
  {
   "cell_type": "code",
   "execution_count": 1,
   "metadata": {
    "collapsed": false
   },
   "outputs": [],
   "source": [
    "import os\n",
    "import geopandas as gpd\n",
    "from geopandas import GeoSeries\n",
    "import pandas as pd\n",
    "import pickle\n",
    "from fiona import collection"
   ]
  },
  {
   "cell_type": "code",
   "execution_count": 2,
   "metadata": {
    "collapsed": false
   },
   "outputs": [],
   "source": [
    "directory = 'analysis'\n",
    "if not os.path.exists(directory):\n",
    "    os.makedirs(directory)"
   ]
  },
  {
   "cell_type": "code",
   "execution_count": 3,
   "metadata": {
    "collapsed": false
   },
   "outputs": [],
   "source": [
    "directory = 'analysis/use_and_income'\n",
    "if not os.path.exists(directory):\n",
    "    os.makedirs(directory)"
   ]
  },
  {
   "cell_type": "code",
   "execution_count": 4,
   "metadata": {
    "collapsed": false
   },
   "outputs": [
    {
     "data": {
      "text/html": [
       "<div>\n",
       "<table border=\"1\" class=\"dataframe\">\n",
       "  <thead>\n",
       "    <tr style=\"text-align: right;\">\n",
       "      <th></th>\n",
       "      <th>state_puma</th>\n",
       "      <th>inc_percap</th>\n",
       "      <th>WGTP</th>\n",
       "      <th>price</th>\n",
       "      <th>w_use_percap</th>\n",
       "    </tr>\n",
       "  </thead>\n",
       "  <tbody>\n",
       "    <tr>\n",
       "      <th>0</th>\n",
       "      <td>1-1302</td>\n",
       "      <td>17933.333333</td>\n",
       "      <td>166</td>\n",
       "      <td>0.007806</td>\n",
       "      <td>15372.461942</td>\n",
       "    </tr>\n",
       "    <tr>\n",
       "      <th>347</th>\n",
       "      <td>1-1302</td>\n",
       "      <td>9866.666667</td>\n",
       "      <td>59</td>\n",
       "      <td>0.007806</td>\n",
       "      <td>85.402566</td>\n",
       "    </tr>\n",
       "    <tr>\n",
       "      <th>346</th>\n",
       "      <td>1-1302</td>\n",
       "      <td>0.000000</td>\n",
       "      <td>0</td>\n",
       "      <td>0.007806</td>\n",
       "      <td>0.000000</td>\n",
       "    </tr>\n",
       "  </tbody>\n",
       "</table>\n",
       "</div>"
      ],
      "text/plain": [
       "    state_puma    inc_percap  WGTP     price  w_use_percap\n",
       "0       1-1302  17933.333333   166  0.007806  15372.461942\n",
       "347     1-1302   9866.666667    59  0.007806     85.402566\n",
       "346     1-1302      0.000000     0  0.007806      0.000000"
      ]
     },
     "execution_count": 4,
     "metadata": {},
     "output_type": "execute_result"
    }
   ],
   "source": [
    "# import merged puma pums data\n",
    "df_pp = pd.read_pickle('data/puma_pums/merged.pickle')\n",
    "df_pp.sort_values(by='state_puma', inplace=True)\n",
    "\n",
    "df_pp_nogeo = df_pp.copy()\n",
    "df_pp_nogeo.drop('geometry', axis=1, inplace=True)\n",
    "df_pp_nogeo.head(3)"
   ]
  },
  {
   "cell_type": "code",
   "execution_count": 5,
   "metadata": {
    "collapsed": false
   },
   "outputs": [
    {
     "data": {
      "text/html": [
       "<div>\n",
       "<table border=\"1\" class=\"dataframe\">\n",
       "  <thead>\n",
       "    <tr style=\"text-align: right;\">\n",
       "      <th></th>\n",
       "      <th>state_puma</th>\n",
       "      <th>WGTP</th>\n",
       "      <th>inc_percap_wt</th>\n",
       "      <th>w_use_percap_wt</th>\n",
       "    </tr>\n",
       "  </thead>\n",
       "  <tbody>\n",
       "    <tr>\n",
       "      <th>0</th>\n",
       "      <td>1-1302</td>\n",
       "      <td>166</td>\n",
       "      <td>2.976933e+06</td>\n",
       "      <td>2.551829e+06</td>\n",
       "    </tr>\n",
       "    <tr>\n",
       "      <th>347</th>\n",
       "      <td>1-1302</td>\n",
       "      <td>59</td>\n",
       "      <td>5.821333e+05</td>\n",
       "      <td>5.038751e+03</td>\n",
       "    </tr>\n",
       "    <tr>\n",
       "      <th>346</th>\n",
       "      <td>1-1302</td>\n",
       "      <td>0</td>\n",
       "      <td>0.000000e+00</td>\n",
       "      <td>0.000000e+00</td>\n",
       "    </tr>\n",
       "  </tbody>\n",
       "</table>\n",
       "</div>"
      ],
      "text/plain": [
       "    state_puma  WGTP  inc_percap_wt  w_use_percap_wt\n",
       "0       1-1302   166   2.976933e+06     2.551829e+06\n",
       "347     1-1302    59   5.821333e+05     5.038751e+03\n",
       "346     1-1302     0   0.000000e+00     0.000000e+00"
      ]
     },
     "execution_count": 5,
     "metadata": {},
     "output_type": "execute_result"
    }
   ],
   "source": [
    "# get weighted per capita income and water usage\n",
    "df_pp_nogeo['inc_percap_wt'] = df_pp_nogeo['inc_percap'] * df_pp_nogeo['WGTP']\n",
    "df_pp_nogeo['w_use_percap_wt'] = df_pp_nogeo['w_use_percap'] * df_pp_nogeo['WGTP']\n",
    "df_pp_nogeo.drop(['price', 'inc_percap', 'w_use_percap'], axis=1, inplace=True)\n",
    "df_pp_nogeo.head(3)"
   ]
  },
  {
   "cell_type": "code",
   "execution_count": 6,
   "metadata": {
    "collapsed": false
   },
   "outputs": [
    {
     "data": {
      "text/plain": [
       "<pandas.core.groupby.DataFrameGroupBy object at 0x111a0aa50>"
      ]
     },
     "execution_count": 6,
     "metadata": {},
     "output_type": "execute_result"
    }
   ],
   "source": [
    "# group by state_puma\n",
    "gp_pp_nogeo = df_pp_nogeo.groupby(by='state_puma')\n",
    "gp_pp_nogeo"
   ]
  },
  {
   "cell_type": "code",
   "execution_count": 7,
   "metadata": {
    "collapsed": false
   },
   "outputs": [
    {
     "data": {
      "text/html": [
       "<div>\n",
       "<table border=\"1\" class=\"dataframe\">\n",
       "  <thead>\n",
       "    <tr style=\"text-align: right;\">\n",
       "      <th></th>\n",
       "      <th>WGTP</th>\n",
       "      <th>inc_percap_wt</th>\n",
       "      <th>w_use_percap_wt</th>\n",
       "      <th>inc_avg</th>\n",
       "      <th>w_use_avg</th>\n",
       "    </tr>\n",
       "    <tr>\n",
       "      <th>state_puma</th>\n",
       "      <th></th>\n",
       "      <th></th>\n",
       "      <th></th>\n",
       "      <th></th>\n",
       "      <th></th>\n",
       "    </tr>\n",
       "  </thead>\n",
       "  <tbody>\n",
       "    <tr>\n",
       "      <th>1-1302</th>\n",
       "      <td>42407</td>\n",
       "      <td>1.126472e+09</td>\n",
       "      <td>1.584954e+09</td>\n",
       "      <td>26563.355732</td>\n",
       "      <td>37374.821526</td>\n",
       "    </tr>\n",
       "    <tr>\n",
       "      <th>1-1600</th>\n",
       "      <td>40172</td>\n",
       "      <td>1.171106e+09</td>\n",
       "      <td>2.011090e+09</td>\n",
       "      <td>29152.284966</td>\n",
       "      <td>50061.975515</td>\n",
       "    </tr>\n",
       "    <tr>\n",
       "      <th>1-200</th>\n",
       "      <td>67856</td>\n",
       "      <td>2.325482e+09</td>\n",
       "      <td>2.165485e+09</td>\n",
       "      <td>34270.837957</td>\n",
       "      <td>31912.943636</td>\n",
       "    </tr>\n",
       "  </tbody>\n",
       "</table>\n",
       "</div>"
      ],
      "text/plain": [
       "             WGTP  inc_percap_wt  w_use_percap_wt       inc_avg     w_use_avg\n",
       "state_puma                                                                   \n",
       "1-1302      42407   1.126472e+09     1.584954e+09  26563.355732  37374.821526\n",
       "1-1600      40172   1.171106e+09     2.011090e+09  29152.284966  50061.975515\n",
       "1-200       67856   2.325482e+09     2.165485e+09  34270.837957  31912.943636"
      ]
     },
     "execution_count": 7,
     "metadata": {},
     "output_type": "execute_result"
    }
   ],
   "source": [
    "# sum products\n",
    "gp_pp_nogeo_wt = gp_pp_nogeo.sum()\n",
    "gp_pp_nogeo_wt['inc_avg'] = gp_pp_nogeo_wt['inc_percap_wt'] / gp_pp_nogeo_wt['WGTP']\n",
    "gp_pp_nogeo_wt['w_use_avg'] = gp_pp_nogeo_wt['w_use_percap_wt'] / gp_pp_nogeo_wt['WGTP']\n",
    "\n",
    "gp_pp_nogeo_wt.head(3)"
   ]
  },
  {
   "cell_type": "code",
   "execution_count": 15,
   "metadata": {
    "collapsed": false
   },
   "outputs": [
    {
     "data": {
      "text/html": [
       "<div>\n",
       "<table border=\"1\" class=\"dataframe\">\n",
       "  <thead>\n",
       "    <tr style=\"text-align: right;\">\n",
       "      <th></th>\n",
       "      <th>inc_avg</th>\n",
       "      <th>w_use_avg</th>\n",
       "      <th>state_puma</th>\n",
       "      <th>geometry</th>\n",
       "      <th>price</th>\n",
       "    </tr>\n",
       "  </thead>\n",
       "  <tbody>\n",
       "    <tr>\n",
       "      <th>0</th>\n",
       "      <td>26563.355732</td>\n",
       "      <td>37374.821526</td>\n",
       "      <td>1-1302</td>\n",
       "      <td>POLYGON ((-86.85779499999998 33.53612699999999...</td>\n",
       "      <td>0.007806</td>\n",
       "    </tr>\n",
       "    <tr>\n",
       "      <th>509</th>\n",
       "      <td>29152.284966</td>\n",
       "      <td>50061.975515</td>\n",
       "      <td>1-1600</td>\n",
       "      <td>POLYGON ((-87.61014299999998 33.18157999999999...</td>\n",
       "      <td>0.004520</td>\n",
       "    </tr>\n",
       "    <tr>\n",
       "      <th>1001</th>\n",
       "      <td>34270.837957</td>\n",
       "      <td>31912.943636</td>\n",
       "      <td>1-200</td>\n",
       "      <td>POLYGON ((-87.27848299999998 34.77764699999999...</td>\n",
       "      <td>0.005125</td>\n",
       "    </tr>\n",
       "  </tbody>\n",
       "</table>\n",
       "</div>"
      ],
      "text/plain": [
       "           inc_avg     w_use_avg state_puma  \\\n",
       "0     26563.355732  37374.821526     1-1302   \n",
       "509   29152.284966  50061.975515     1-1600   \n",
       "1001  34270.837957  31912.943636      1-200   \n",
       "\n",
       "                                               geometry     price  \n",
       "0     POLYGON ((-86.85779499999998 33.53612699999999...  0.007806  \n",
       "509   POLYGON ((-87.61014299999998 33.18157999999999...  0.004520  \n",
       "1001  POLYGON ((-87.27848299999998 34.77764699999999...  0.005125  "
      ]
     },
     "execution_count": 15,
     "metadata": {},
     "output_type": "execute_result"
    }
   ],
   "source": [
    "# join non geo dataframe back with geoframe col\n",
    "df_pp_avg = gp_pp_nogeo_wt.merge(df_pp, left_index=True, right_on='state_puma')\n",
    "df_pp_avg.reset_index(inplace=True)\n",
    "df_pp_avg.drop(['index','WGTP_x', 'inc_percap_wt', 'w_use_percap_wt', 'inc_percap', 'WGTP_y', 'w_use_percap'], axis=1, inplace=True)\n",
    "df_pp_avg.drop_duplicates(subset = 'state_puma', inplace=True)\n",
    "df_pp_avg.head(3)"
   ]
  },
  {
   "cell_type": "code",
   "execution_count": 18,
   "metadata": {
    "collapsed": false
   },
   "outputs": [],
   "source": [
    "# export as shapefile\n",
    "gdf_pp_avg = gpd.GeoDataFrame(df_pp_avg)\n",
    "gdf_pp_avg.to_file('analysis/use_and_income/use_and_income.shp')"
   ]
  }
 ],
 "metadata": {
  "kernelspec": {
   "display_name": "Python 2",
   "language": "python",
   "name": "python2"
  },
  "language_info": {
   "codemirror_mode": {
    "name": "ipython",
    "version": 2
   },
   "file_extension": ".py",
   "mimetype": "text/x-python",
   "name": "python",
   "nbconvert_exporter": "python",
   "pygments_lexer": "ipython2",
   "version": "2.7.11"
  }
 },
 "nbformat": 4,
 "nbformat_minor": 0
}
